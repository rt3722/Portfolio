{
  "nbformat": 4,
  "nbformat_minor": 0,
  "metadata": {
    "colab": {
      "provenance": [],
      "gpuType": "T4"
    },
    "kernelspec": {
      "name": "python3",
      "display_name": "Python 3"
    },
    "language_info": {
      "name": "python"
    },
    "accelerator": "GPU",
    "widgets": {
      "application/vnd.jupyter.widget-state+json": {
        "35c21d985ae9493fa20b38e6fcf5bdd3": {
          "model_module": "@jupyter-widgets/controls",
          "model_name": "HBoxModel",
          "model_module_version": "1.5.0",
          "state": {
            "_dom_classes": [],
            "_model_module": "@jupyter-widgets/controls",
            "_model_module_version": "1.5.0",
            "_model_name": "HBoxModel",
            "_view_count": null,
            "_view_module": "@jupyter-widgets/controls",
            "_view_module_version": "1.5.0",
            "_view_name": "HBoxView",
            "box_style": "",
            "children": [
              "IPY_MODEL_2a83f13486f64a449fb69a986da487f2",
              "IPY_MODEL_b9291040440946a18ef886f04fa16a0d",
              "IPY_MODEL_9bbacd0478f843688a1f3f0a59df2f70"
            ],
            "layout": "IPY_MODEL_8edec36de05f4139b5c8888fbf148e57"
          }
        },
        "2a83f13486f64a449fb69a986da487f2": {
          "model_module": "@jupyter-widgets/controls",
          "model_name": "HTMLModel",
          "model_module_version": "1.5.0",
          "state": {
            "_dom_classes": [],
            "_model_module": "@jupyter-widgets/controls",
            "_model_module_version": "1.5.0",
            "_model_name": "HTMLModel",
            "_view_count": null,
            "_view_module": "@jupyter-widgets/controls",
            "_view_module_version": "1.5.0",
            "_view_name": "HTMLView",
            "description": "",
            "description_tooltip": null,
            "layout": "IPY_MODEL_d7a646f3d6d94592b48c89db73558682",
            "placeholder": "​",
            "style": "IPY_MODEL_b5f38c36d61049efae1354d836ce0b84",
            "value": "tokenizer_config.json: 100%"
          }
        },
        "b9291040440946a18ef886f04fa16a0d": {
          "model_module": "@jupyter-widgets/controls",
          "model_name": "FloatProgressModel",
          "model_module_version": "1.5.0",
          "state": {
            "_dom_classes": [],
            "_model_module": "@jupyter-widgets/controls",
            "_model_module_version": "1.5.0",
            "_model_name": "FloatProgressModel",
            "_view_count": null,
            "_view_module": "@jupyter-widgets/controls",
            "_view_module_version": "1.5.0",
            "_view_name": "ProgressView",
            "bar_style": "success",
            "description": "",
            "description_tooltip": null,
            "layout": "IPY_MODEL_a315bbbc06b04702a7b6ba59dd4e4a30",
            "max": 1431,
            "min": 0,
            "orientation": "horizontal",
            "style": "IPY_MODEL_1a5d837e188a416b8134f66c723dcade",
            "value": 1431
          }
        },
        "9bbacd0478f843688a1f3f0a59df2f70": {
          "model_module": "@jupyter-widgets/controls",
          "model_name": "HTMLModel",
          "model_module_version": "1.5.0",
          "state": {
            "_dom_classes": [],
            "_model_module": "@jupyter-widgets/controls",
            "_model_module_version": "1.5.0",
            "_model_name": "HTMLModel",
            "_view_count": null,
            "_view_module": "@jupyter-widgets/controls",
            "_view_module_version": "1.5.0",
            "_view_name": "HTMLView",
            "description": "",
            "description_tooltip": null,
            "layout": "IPY_MODEL_155ae61ba4e8452489100496c0284c57",
            "placeholder": "​",
            "style": "IPY_MODEL_daa2786296534072b9beb2fb8d4bf9c3",
            "value": " 1.43k/1.43k [00:00&lt;00:00, 89.9kB/s]"
          }
        },
        "8edec36de05f4139b5c8888fbf148e57": {
          "model_module": "@jupyter-widgets/base",
          "model_name": "LayoutModel",
          "model_module_version": "1.2.0",
          "state": {
            "_model_module": "@jupyter-widgets/base",
            "_model_module_version": "1.2.0",
            "_model_name": "LayoutModel",
            "_view_count": null,
            "_view_module": "@jupyter-widgets/base",
            "_view_module_version": "1.2.0",
            "_view_name": "LayoutView",
            "align_content": null,
            "align_items": null,
            "align_self": null,
            "border": null,
            "bottom": null,
            "display": null,
            "flex": null,
            "flex_flow": null,
            "grid_area": null,
            "grid_auto_columns": null,
            "grid_auto_flow": null,
            "grid_auto_rows": null,
            "grid_column": null,
            "grid_gap": null,
            "grid_row": null,
            "grid_template_areas": null,
            "grid_template_columns": null,
            "grid_template_rows": null,
            "height": null,
            "justify_content": null,
            "justify_items": null,
            "left": null,
            "margin": null,
            "max_height": null,
            "max_width": null,
            "min_height": null,
            "min_width": null,
            "object_fit": null,
            "object_position": null,
            "order": null,
            "overflow": null,
            "overflow_x": null,
            "overflow_y": null,
            "padding": null,
            "right": null,
            "top": null,
            "visibility": null,
            "width": null
          }
        },
        "d7a646f3d6d94592b48c89db73558682": {
          "model_module": "@jupyter-widgets/base",
          "model_name": "LayoutModel",
          "model_module_version": "1.2.0",
          "state": {
            "_model_module": "@jupyter-widgets/base",
            "_model_module_version": "1.2.0",
            "_model_name": "LayoutModel",
            "_view_count": null,
            "_view_module": "@jupyter-widgets/base",
            "_view_module_version": "1.2.0",
            "_view_name": "LayoutView",
            "align_content": null,
            "align_items": null,
            "align_self": null,
            "border": null,
            "bottom": null,
            "display": null,
            "flex": null,
            "flex_flow": null,
            "grid_area": null,
            "grid_auto_columns": null,
            "grid_auto_flow": null,
            "grid_auto_rows": null,
            "grid_column": null,
            "grid_gap": null,
            "grid_row": null,
            "grid_template_areas": null,
            "grid_template_columns": null,
            "grid_template_rows": null,
            "height": null,
            "justify_content": null,
            "justify_items": null,
            "left": null,
            "margin": null,
            "max_height": null,
            "max_width": null,
            "min_height": null,
            "min_width": null,
            "object_fit": null,
            "object_position": null,
            "order": null,
            "overflow": null,
            "overflow_x": null,
            "overflow_y": null,
            "padding": null,
            "right": null,
            "top": null,
            "visibility": null,
            "width": null
          }
        },
        "b5f38c36d61049efae1354d836ce0b84": {
          "model_module": "@jupyter-widgets/controls",
          "model_name": "DescriptionStyleModel",
          "model_module_version": "1.5.0",
          "state": {
            "_model_module": "@jupyter-widgets/controls",
            "_model_module_version": "1.5.0",
            "_model_name": "DescriptionStyleModel",
            "_view_count": null,
            "_view_module": "@jupyter-widgets/base",
            "_view_module_version": "1.2.0",
            "_view_name": "StyleView",
            "description_width": ""
          }
        },
        "a315bbbc06b04702a7b6ba59dd4e4a30": {
          "model_module": "@jupyter-widgets/base",
          "model_name": "LayoutModel",
          "model_module_version": "1.2.0",
          "state": {
            "_model_module": "@jupyter-widgets/base",
            "_model_module_version": "1.2.0",
            "_model_name": "LayoutModel",
            "_view_count": null,
            "_view_module": "@jupyter-widgets/base",
            "_view_module_version": "1.2.0",
            "_view_name": "LayoutView",
            "align_content": null,
            "align_items": null,
            "align_self": null,
            "border": null,
            "bottom": null,
            "display": null,
            "flex": null,
            "flex_flow": null,
            "grid_area": null,
            "grid_auto_columns": null,
            "grid_auto_flow": null,
            "grid_auto_rows": null,
            "grid_column": null,
            "grid_gap": null,
            "grid_row": null,
            "grid_template_areas": null,
            "grid_template_columns": null,
            "grid_template_rows": null,
            "height": null,
            "justify_content": null,
            "justify_items": null,
            "left": null,
            "margin": null,
            "max_height": null,
            "max_width": null,
            "min_height": null,
            "min_width": null,
            "object_fit": null,
            "object_position": null,
            "order": null,
            "overflow": null,
            "overflow_x": null,
            "overflow_y": null,
            "padding": null,
            "right": null,
            "top": null,
            "visibility": null,
            "width": null
          }
        },
        "1a5d837e188a416b8134f66c723dcade": {
          "model_module": "@jupyter-widgets/controls",
          "model_name": "ProgressStyleModel",
          "model_module_version": "1.5.0",
          "state": {
            "_model_module": "@jupyter-widgets/controls",
            "_model_module_version": "1.5.0",
            "_model_name": "ProgressStyleModel",
            "_view_count": null,
            "_view_module": "@jupyter-widgets/base",
            "_view_module_version": "1.2.0",
            "_view_name": "StyleView",
            "bar_color": null,
            "description_width": ""
          }
        },
        "155ae61ba4e8452489100496c0284c57": {
          "model_module": "@jupyter-widgets/base",
          "model_name": "LayoutModel",
          "model_module_version": "1.2.0",
          "state": {
            "_model_module": "@jupyter-widgets/base",
            "_model_module_version": "1.2.0",
            "_model_name": "LayoutModel",
            "_view_count": null,
            "_view_module": "@jupyter-widgets/base",
            "_view_module_version": "1.2.0",
            "_view_name": "LayoutView",
            "align_content": null,
            "align_items": null,
            "align_self": null,
            "border": null,
            "bottom": null,
            "display": null,
            "flex": null,
            "flex_flow": null,
            "grid_area": null,
            "grid_auto_columns": null,
            "grid_auto_flow": null,
            "grid_auto_rows": null,
            "grid_column": null,
            "grid_gap": null,
            "grid_row": null,
            "grid_template_areas": null,
            "grid_template_columns": null,
            "grid_template_rows": null,
            "height": null,
            "justify_content": null,
            "justify_items": null,
            "left": null,
            "margin": null,
            "max_height": null,
            "max_width": null,
            "min_height": null,
            "min_width": null,
            "object_fit": null,
            "object_position": null,
            "order": null,
            "overflow": null,
            "overflow_x": null,
            "overflow_y": null,
            "padding": null,
            "right": null,
            "top": null,
            "visibility": null,
            "width": null
          }
        },
        "daa2786296534072b9beb2fb8d4bf9c3": {
          "model_module": "@jupyter-widgets/controls",
          "model_name": "DescriptionStyleModel",
          "model_module_version": "1.5.0",
          "state": {
            "_model_module": "@jupyter-widgets/controls",
            "_model_module_version": "1.5.0",
            "_model_name": "DescriptionStyleModel",
            "_view_count": null,
            "_view_module": "@jupyter-widgets/base",
            "_view_module_version": "1.2.0",
            "_view_name": "StyleView",
            "description_width": ""
          }
        },
        "aad72d4dd04b4fa1baf86b61625cc05f": {
          "model_module": "@jupyter-widgets/controls",
          "model_name": "HBoxModel",
          "model_module_version": "1.5.0",
          "state": {
            "_dom_classes": [],
            "_model_module": "@jupyter-widgets/controls",
            "_model_module_version": "1.5.0",
            "_model_name": "HBoxModel",
            "_view_count": null,
            "_view_module": "@jupyter-widgets/controls",
            "_view_module_version": "1.5.0",
            "_view_name": "HBoxView",
            "box_style": "",
            "children": [
              "IPY_MODEL_7c692b5046f54c568ed8cb0ff1aa46f2",
              "IPY_MODEL_7d99c8a69df54c4cb8169af4b838956a",
              "IPY_MODEL_b49ec74a6b1f4e7aa68569413c661e68"
            ],
            "layout": "IPY_MODEL_ef9dd02c67e64557848270d9c0baf368"
          }
        },
        "7c692b5046f54c568ed8cb0ff1aa46f2": {
          "model_module": "@jupyter-widgets/controls",
          "model_name": "HTMLModel",
          "model_module_version": "1.5.0",
          "state": {
            "_dom_classes": [],
            "_model_module": "@jupyter-widgets/controls",
            "_model_module_version": "1.5.0",
            "_model_name": "HTMLModel",
            "_view_count": null,
            "_view_module": "@jupyter-widgets/controls",
            "_view_module_version": "1.5.0",
            "_view_name": "HTMLView",
            "description": "",
            "description_tooltip": null,
            "layout": "IPY_MODEL_7b674be815204bd8a218eea619b8e31e",
            "placeholder": "​",
            "style": "IPY_MODEL_17a15bddecee4e1887127ff9cbb93bac",
            "value": "tokenizer.model: 100%"
          }
        },
        "7d99c8a69df54c4cb8169af4b838956a": {
          "model_module": "@jupyter-widgets/controls",
          "model_name": "FloatProgressModel",
          "model_module_version": "1.5.0",
          "state": {
            "_dom_classes": [],
            "_model_module": "@jupyter-widgets/controls",
            "_model_module_version": "1.5.0",
            "_model_name": "FloatProgressModel",
            "_view_count": null,
            "_view_module": "@jupyter-widgets/controls",
            "_view_module_version": "1.5.0",
            "_view_name": "ProgressView",
            "bar_style": "success",
            "description": "",
            "description_tooltip": null,
            "layout": "IPY_MODEL_b4d295242d5f4b8a9c92f1e10a94f031",
            "max": 493443,
            "min": 0,
            "orientation": "horizontal",
            "style": "IPY_MODEL_fb3382d692384576ae16d0e1caefb058",
            "value": 493443
          }
        },
        "b49ec74a6b1f4e7aa68569413c661e68": {
          "model_module": "@jupyter-widgets/controls",
          "model_name": "HTMLModel",
          "model_module_version": "1.5.0",
          "state": {
            "_dom_classes": [],
            "_model_module": "@jupyter-widgets/controls",
            "_model_module_version": "1.5.0",
            "_model_name": "HTMLModel",
            "_view_count": null,
            "_view_module": "@jupyter-widgets/controls",
            "_view_module_version": "1.5.0",
            "_view_name": "HTMLView",
            "description": "",
            "description_tooltip": null,
            "layout": "IPY_MODEL_9f7b011ca7584682ab644541de39fb05",
            "placeholder": "​",
            "style": "IPY_MODEL_802dc7f009304103b3ce5bc1a553686e",
            "value": " 493k/493k [00:00&lt;00:00, 8.82MB/s]"
          }
        },
        "ef9dd02c67e64557848270d9c0baf368": {
          "model_module": "@jupyter-widgets/base",
          "model_name": "LayoutModel",
          "model_module_version": "1.2.0",
          "state": {
            "_model_module": "@jupyter-widgets/base",
            "_model_module_version": "1.2.0",
            "_model_name": "LayoutModel",
            "_view_count": null,
            "_view_module": "@jupyter-widgets/base",
            "_view_module_version": "1.2.0",
            "_view_name": "LayoutView",
            "align_content": null,
            "align_items": null,
            "align_self": null,
            "border": null,
            "bottom": null,
            "display": null,
            "flex": null,
            "flex_flow": null,
            "grid_area": null,
            "grid_auto_columns": null,
            "grid_auto_flow": null,
            "grid_auto_rows": null,
            "grid_column": null,
            "grid_gap": null,
            "grid_row": null,
            "grid_template_areas": null,
            "grid_template_columns": null,
            "grid_template_rows": null,
            "height": null,
            "justify_content": null,
            "justify_items": null,
            "left": null,
            "margin": null,
            "max_height": null,
            "max_width": null,
            "min_height": null,
            "min_width": null,
            "object_fit": null,
            "object_position": null,
            "order": null,
            "overflow": null,
            "overflow_x": null,
            "overflow_y": null,
            "padding": null,
            "right": null,
            "top": null,
            "visibility": null,
            "width": null
          }
        },
        "7b674be815204bd8a218eea619b8e31e": {
          "model_module": "@jupyter-widgets/base",
          "model_name": "LayoutModel",
          "model_module_version": "1.2.0",
          "state": {
            "_model_module": "@jupyter-widgets/base",
            "_model_module_version": "1.2.0",
            "_model_name": "LayoutModel",
            "_view_count": null,
            "_view_module": "@jupyter-widgets/base",
            "_view_module_version": "1.2.0",
            "_view_name": "LayoutView",
            "align_content": null,
            "align_items": null,
            "align_self": null,
            "border": null,
            "bottom": null,
            "display": null,
            "flex": null,
            "flex_flow": null,
            "grid_area": null,
            "grid_auto_columns": null,
            "grid_auto_flow": null,
            "grid_auto_rows": null,
            "grid_column": null,
            "grid_gap": null,
            "grid_row": null,
            "grid_template_areas": null,
            "grid_template_columns": null,
            "grid_template_rows": null,
            "height": null,
            "justify_content": null,
            "justify_items": null,
            "left": null,
            "margin": null,
            "max_height": null,
            "max_width": null,
            "min_height": null,
            "min_width": null,
            "object_fit": null,
            "object_position": null,
            "order": null,
            "overflow": null,
            "overflow_x": null,
            "overflow_y": null,
            "padding": null,
            "right": null,
            "top": null,
            "visibility": null,
            "width": null
          }
        },
        "17a15bddecee4e1887127ff9cbb93bac": {
          "model_module": "@jupyter-widgets/controls",
          "model_name": "DescriptionStyleModel",
          "model_module_version": "1.5.0",
          "state": {
            "_model_module": "@jupyter-widgets/controls",
            "_model_module_version": "1.5.0",
            "_model_name": "DescriptionStyleModel",
            "_view_count": null,
            "_view_module": "@jupyter-widgets/base",
            "_view_module_version": "1.2.0",
            "_view_name": "StyleView",
            "description_width": ""
          }
        },
        "b4d295242d5f4b8a9c92f1e10a94f031": {
          "model_module": "@jupyter-widgets/base",
          "model_name": "LayoutModel",
          "model_module_version": "1.2.0",
          "state": {
            "_model_module": "@jupyter-widgets/base",
            "_model_module_version": "1.2.0",
            "_model_name": "LayoutModel",
            "_view_count": null,
            "_view_module": "@jupyter-widgets/base",
            "_view_module_version": "1.2.0",
            "_view_name": "LayoutView",
            "align_content": null,
            "align_items": null,
            "align_self": null,
            "border": null,
            "bottom": null,
            "display": null,
            "flex": null,
            "flex_flow": null,
            "grid_area": null,
            "grid_auto_columns": null,
            "grid_auto_flow": null,
            "grid_auto_rows": null,
            "grid_column": null,
            "grid_gap": null,
            "grid_row": null,
            "grid_template_areas": null,
            "grid_template_columns": null,
            "grid_template_rows": null,
            "height": null,
            "justify_content": null,
            "justify_items": null,
            "left": null,
            "margin": null,
            "max_height": null,
            "max_width": null,
            "min_height": null,
            "min_width": null,
            "object_fit": null,
            "object_position": null,
            "order": null,
            "overflow": null,
            "overflow_x": null,
            "overflow_y": null,
            "padding": null,
            "right": null,
            "top": null,
            "visibility": null,
            "width": null
          }
        },
        "fb3382d692384576ae16d0e1caefb058": {
          "model_module": "@jupyter-widgets/controls",
          "model_name": "ProgressStyleModel",
          "model_module_version": "1.5.0",
          "state": {
            "_model_module": "@jupyter-widgets/controls",
            "_model_module_version": "1.5.0",
            "_model_name": "ProgressStyleModel",
            "_view_count": null,
            "_view_module": "@jupyter-widgets/base",
            "_view_module_version": "1.2.0",
            "_view_name": "StyleView",
            "bar_color": null,
            "description_width": ""
          }
        },
        "9f7b011ca7584682ab644541de39fb05": {
          "model_module": "@jupyter-widgets/base",
          "model_name": "LayoutModel",
          "model_module_version": "1.2.0",
          "state": {
            "_model_module": "@jupyter-widgets/base",
            "_model_module_version": "1.2.0",
            "_model_name": "LayoutModel",
            "_view_count": null,
            "_view_module": "@jupyter-widgets/base",
            "_view_module_version": "1.2.0",
            "_view_name": "LayoutView",
            "align_content": null,
            "align_items": null,
            "align_self": null,
            "border": null,
            "bottom": null,
            "display": null,
            "flex": null,
            "flex_flow": null,
            "grid_area": null,
            "grid_auto_columns": null,
            "grid_auto_flow": null,
            "grid_auto_rows": null,
            "grid_column": null,
            "grid_gap": null,
            "grid_row": null,
            "grid_template_areas": null,
            "grid_template_columns": null,
            "grid_template_rows": null,
            "height": null,
            "justify_content": null,
            "justify_items": null,
            "left": null,
            "margin": null,
            "max_height": null,
            "max_width": null,
            "min_height": null,
            "min_width": null,
            "object_fit": null,
            "object_position": null,
            "order": null,
            "overflow": null,
            "overflow_x": null,
            "overflow_y": null,
            "padding": null,
            "right": null,
            "top": null,
            "visibility": null,
            "width": null
          }
        },
        "802dc7f009304103b3ce5bc1a553686e": {
          "model_module": "@jupyter-widgets/controls",
          "model_name": "DescriptionStyleModel",
          "model_module_version": "1.5.0",
          "state": {
            "_model_module": "@jupyter-widgets/controls",
            "_model_module_version": "1.5.0",
            "_model_name": "DescriptionStyleModel",
            "_view_count": null,
            "_view_module": "@jupyter-widgets/base",
            "_view_module_version": "1.2.0",
            "_view_name": "StyleView",
            "description_width": ""
          }
        },
        "e8aca4c2df7a421189179b878209ecb1": {
          "model_module": "@jupyter-widgets/controls",
          "model_name": "HBoxModel",
          "model_module_version": "1.5.0",
          "state": {
            "_dom_classes": [],
            "_model_module": "@jupyter-widgets/controls",
            "_model_module_version": "1.5.0",
            "_model_name": "HBoxModel",
            "_view_count": null,
            "_view_module": "@jupyter-widgets/controls",
            "_view_module_version": "1.5.0",
            "_view_name": "HBoxView",
            "box_style": "",
            "children": [
              "IPY_MODEL_b9f6a24af2f54c799280546b28e912d3",
              "IPY_MODEL_8b30c78682614bbb8036854c310a71e4",
              "IPY_MODEL_0a16fd8fb04d4c64a99322b8a98415c5"
            ],
            "layout": "IPY_MODEL_e3269a7415ed462283775dd6310adad8"
          }
        },
        "b9f6a24af2f54c799280546b28e912d3": {
          "model_module": "@jupyter-widgets/controls",
          "model_name": "HTMLModel",
          "model_module_version": "1.5.0",
          "state": {
            "_dom_classes": [],
            "_model_module": "@jupyter-widgets/controls",
            "_model_module_version": "1.5.0",
            "_model_name": "HTMLModel",
            "_view_count": null,
            "_view_module": "@jupyter-widgets/controls",
            "_view_module_version": "1.5.0",
            "_view_name": "HTMLView",
            "description": "",
            "description_tooltip": null,
            "layout": "IPY_MODEL_ba883b81467840b798d6f71509536eef",
            "placeholder": "​",
            "style": "IPY_MODEL_e2df552130474686ba5d8cb5457e25c7",
            "value": "tokenizer.json: 100%"
          }
        },
        "8b30c78682614bbb8036854c310a71e4": {
          "model_module": "@jupyter-widgets/controls",
          "model_name": "FloatProgressModel",
          "model_module_version": "1.5.0",
          "state": {
            "_dom_classes": [],
            "_model_module": "@jupyter-widgets/controls",
            "_model_module_version": "1.5.0",
            "_model_name": "FloatProgressModel",
            "_view_count": null,
            "_view_module": "@jupyter-widgets/controls",
            "_view_module_version": "1.5.0",
            "_view_name": "ProgressView",
            "bar_style": "success",
            "description": "",
            "description_tooltip": null,
            "layout": "IPY_MODEL_97407dabc5e5467986d0024e759d3f0c",
            "max": 1795303,
            "min": 0,
            "orientation": "horizontal",
            "style": "IPY_MODEL_aa1203ba0cd64cc2abce3f5b8e2149f4",
            "value": 1795303
          }
        },
        "0a16fd8fb04d4c64a99322b8a98415c5": {
          "model_module": "@jupyter-widgets/controls",
          "model_name": "HTMLModel",
          "model_module_version": "1.5.0",
          "state": {
            "_dom_classes": [],
            "_model_module": "@jupyter-widgets/controls",
            "_model_module_version": "1.5.0",
            "_model_name": "HTMLModel",
            "_view_count": null,
            "_view_module": "@jupyter-widgets/controls",
            "_view_module_version": "1.5.0",
            "_view_name": "HTMLView",
            "description": "",
            "description_tooltip": null,
            "layout": "IPY_MODEL_b7b9acb0489241e184592bc5e4ae81ca",
            "placeholder": "​",
            "style": "IPY_MODEL_ef95efd5f5e74022b9c5492dc1d90156",
            "value": " 1.80M/1.80M [00:00&lt;00:00, 5.54MB/s]"
          }
        },
        "e3269a7415ed462283775dd6310adad8": {
          "model_module": "@jupyter-widgets/base",
          "model_name": "LayoutModel",
          "model_module_version": "1.2.0",
          "state": {
            "_model_module": "@jupyter-widgets/base",
            "_model_module_version": "1.2.0",
            "_model_name": "LayoutModel",
            "_view_count": null,
            "_view_module": "@jupyter-widgets/base",
            "_view_module_version": "1.2.0",
            "_view_name": "LayoutView",
            "align_content": null,
            "align_items": null,
            "align_self": null,
            "border": null,
            "bottom": null,
            "display": null,
            "flex": null,
            "flex_flow": null,
            "grid_area": null,
            "grid_auto_columns": null,
            "grid_auto_flow": null,
            "grid_auto_rows": null,
            "grid_column": null,
            "grid_gap": null,
            "grid_row": null,
            "grid_template_areas": null,
            "grid_template_columns": null,
            "grid_template_rows": null,
            "height": null,
            "justify_content": null,
            "justify_items": null,
            "left": null,
            "margin": null,
            "max_height": null,
            "max_width": null,
            "min_height": null,
            "min_width": null,
            "object_fit": null,
            "object_position": null,
            "order": null,
            "overflow": null,
            "overflow_x": null,
            "overflow_y": null,
            "padding": null,
            "right": null,
            "top": null,
            "visibility": null,
            "width": null
          }
        },
        "ba883b81467840b798d6f71509536eef": {
          "model_module": "@jupyter-widgets/base",
          "model_name": "LayoutModel",
          "model_module_version": "1.2.0",
          "state": {
            "_model_module": "@jupyter-widgets/base",
            "_model_module_version": "1.2.0",
            "_model_name": "LayoutModel",
            "_view_count": null,
            "_view_module": "@jupyter-widgets/base",
            "_view_module_version": "1.2.0",
            "_view_name": "LayoutView",
            "align_content": null,
            "align_items": null,
            "align_self": null,
            "border": null,
            "bottom": null,
            "display": null,
            "flex": null,
            "flex_flow": null,
            "grid_area": null,
            "grid_auto_columns": null,
            "grid_auto_flow": null,
            "grid_auto_rows": null,
            "grid_column": null,
            "grid_gap": null,
            "grid_row": null,
            "grid_template_areas": null,
            "grid_template_columns": null,
            "grid_template_rows": null,
            "height": null,
            "justify_content": null,
            "justify_items": null,
            "left": null,
            "margin": null,
            "max_height": null,
            "max_width": null,
            "min_height": null,
            "min_width": null,
            "object_fit": null,
            "object_position": null,
            "order": null,
            "overflow": null,
            "overflow_x": null,
            "overflow_y": null,
            "padding": null,
            "right": null,
            "top": null,
            "visibility": null,
            "width": null
          }
        },
        "e2df552130474686ba5d8cb5457e25c7": {
          "model_module": "@jupyter-widgets/controls",
          "model_name": "DescriptionStyleModel",
          "model_module_version": "1.5.0",
          "state": {
            "_model_module": "@jupyter-widgets/controls",
            "_model_module_version": "1.5.0",
            "_model_name": "DescriptionStyleModel",
            "_view_count": null,
            "_view_module": "@jupyter-widgets/base",
            "_view_module_version": "1.2.0",
            "_view_name": "StyleView",
            "description_width": ""
          }
        },
        "97407dabc5e5467986d0024e759d3f0c": {
          "model_module": "@jupyter-widgets/base",
          "model_name": "LayoutModel",
          "model_module_version": "1.2.0",
          "state": {
            "_model_module": "@jupyter-widgets/base",
            "_model_module_version": "1.2.0",
            "_model_name": "LayoutModel",
            "_view_count": null,
            "_view_module": "@jupyter-widgets/base",
            "_view_module_version": "1.2.0",
            "_view_name": "LayoutView",
            "align_content": null,
            "align_items": null,
            "align_self": null,
            "border": null,
            "bottom": null,
            "display": null,
            "flex": null,
            "flex_flow": null,
            "grid_area": null,
            "grid_auto_columns": null,
            "grid_auto_flow": null,
            "grid_auto_rows": null,
            "grid_column": null,
            "grid_gap": null,
            "grid_row": null,
            "grid_template_areas": null,
            "grid_template_columns": null,
            "grid_template_rows": null,
            "height": null,
            "justify_content": null,
            "justify_items": null,
            "left": null,
            "margin": null,
            "max_height": null,
            "max_width": null,
            "min_height": null,
            "min_width": null,
            "object_fit": null,
            "object_position": null,
            "order": null,
            "overflow": null,
            "overflow_x": null,
            "overflow_y": null,
            "padding": null,
            "right": null,
            "top": null,
            "visibility": null,
            "width": null
          }
        },
        "aa1203ba0cd64cc2abce3f5b8e2149f4": {
          "model_module": "@jupyter-widgets/controls",
          "model_name": "ProgressStyleModel",
          "model_module_version": "1.5.0",
          "state": {
            "_model_module": "@jupyter-widgets/controls",
            "_model_module_version": "1.5.0",
            "_model_name": "ProgressStyleModel",
            "_view_count": null,
            "_view_module": "@jupyter-widgets/base",
            "_view_module_version": "1.2.0",
            "_view_name": "StyleView",
            "bar_color": null,
            "description_width": ""
          }
        },
        "b7b9acb0489241e184592bc5e4ae81ca": {
          "model_module": "@jupyter-widgets/base",
          "model_name": "LayoutModel",
          "model_module_version": "1.2.0",
          "state": {
            "_model_module": "@jupyter-widgets/base",
            "_model_module_version": "1.2.0",
            "_model_name": "LayoutModel",
            "_view_count": null,
            "_view_module": "@jupyter-widgets/base",
            "_view_module_version": "1.2.0",
            "_view_name": "LayoutView",
            "align_content": null,
            "align_items": null,
            "align_self": null,
            "border": null,
            "bottom": null,
            "display": null,
            "flex": null,
            "flex_flow": null,
            "grid_area": null,
            "grid_auto_columns": null,
            "grid_auto_flow": null,
            "grid_auto_rows": null,
            "grid_column": null,
            "grid_gap": null,
            "grid_row": null,
            "grid_template_areas": null,
            "grid_template_columns": null,
            "grid_template_rows": null,
            "height": null,
            "justify_content": null,
            "justify_items": null,
            "left": null,
            "margin": null,
            "max_height": null,
            "max_width": null,
            "min_height": null,
            "min_width": null,
            "object_fit": null,
            "object_position": null,
            "order": null,
            "overflow": null,
            "overflow_x": null,
            "overflow_y": null,
            "padding": null,
            "right": null,
            "top": null,
            "visibility": null,
            "width": null
          }
        },
        "ef95efd5f5e74022b9c5492dc1d90156": {
          "model_module": "@jupyter-widgets/controls",
          "model_name": "DescriptionStyleModel",
          "model_module_version": "1.5.0",
          "state": {
            "_model_module": "@jupyter-widgets/controls",
            "_model_module_version": "1.5.0",
            "_model_name": "DescriptionStyleModel",
            "_view_count": null,
            "_view_module": "@jupyter-widgets/base",
            "_view_module_version": "1.2.0",
            "_view_name": "StyleView",
            "description_width": ""
          }
        },
        "1937d4db0f284bed8a4bc0c0774882dc": {
          "model_module": "@jupyter-widgets/controls",
          "model_name": "HBoxModel",
          "model_module_version": "1.5.0",
          "state": {
            "_dom_classes": [],
            "_model_module": "@jupyter-widgets/controls",
            "_model_module_version": "1.5.0",
            "_model_name": "HBoxModel",
            "_view_count": null,
            "_view_module": "@jupyter-widgets/controls",
            "_view_module_version": "1.5.0",
            "_view_name": "HBoxView",
            "box_style": "",
            "children": [
              "IPY_MODEL_10663b2594cd4de580ef88516233390d",
              "IPY_MODEL_ebc8423325f9408f92eb79ff82233428",
              "IPY_MODEL_0c7ba75bc15a45dcba371091fac4e1a6"
            ],
            "layout": "IPY_MODEL_be5ffbce83424e75b1674968b3d16858"
          }
        },
        "10663b2594cd4de580ef88516233390d": {
          "model_module": "@jupyter-widgets/controls",
          "model_name": "HTMLModel",
          "model_module_version": "1.5.0",
          "state": {
            "_dom_classes": [],
            "_model_module": "@jupyter-widgets/controls",
            "_model_module_version": "1.5.0",
            "_model_name": "HTMLModel",
            "_view_count": null,
            "_view_module": "@jupyter-widgets/controls",
            "_view_module_version": "1.5.0",
            "_view_name": "HTMLView",
            "description": "",
            "description_tooltip": null,
            "layout": "IPY_MODEL_4e95c3be8bf744e48b7c35dff54469d0",
            "placeholder": "​",
            "style": "IPY_MODEL_c4a530240d084d68a0dd3de97f3ec6aa",
            "value": "added_tokens.json: 100%"
          }
        },
        "ebc8423325f9408f92eb79ff82233428": {
          "model_module": "@jupyter-widgets/controls",
          "model_name": "FloatProgressModel",
          "model_module_version": "1.5.0",
          "state": {
            "_dom_classes": [],
            "_model_module": "@jupyter-widgets/controls",
            "_model_module_version": "1.5.0",
            "_model_name": "FloatProgressModel",
            "_view_count": null,
            "_view_module": "@jupyter-widgets/controls",
            "_view_module_version": "1.5.0",
            "_view_name": "ProgressView",
            "bar_style": "success",
            "description": "",
            "description_tooltip": null,
            "layout": "IPY_MODEL_619fa1e8cff44321ba6b476ee6ad0001",
            "max": 42,
            "min": 0,
            "orientation": "horizontal",
            "style": "IPY_MODEL_c5fa16be99b1469ca187e8ec84109fc3",
            "value": 42
          }
        },
        "0c7ba75bc15a45dcba371091fac4e1a6": {
          "model_module": "@jupyter-widgets/controls",
          "model_name": "HTMLModel",
          "model_module_version": "1.5.0",
          "state": {
            "_dom_classes": [],
            "_model_module": "@jupyter-widgets/controls",
            "_model_module_version": "1.5.0",
            "_model_name": "HTMLModel",
            "_view_count": null,
            "_view_module": "@jupyter-widgets/controls",
            "_view_module_version": "1.5.0",
            "_view_name": "HTMLView",
            "description": "",
            "description_tooltip": null,
            "layout": "IPY_MODEL_615968677a9649eb9f82f87e934605f2",
            "placeholder": "​",
            "style": "IPY_MODEL_2e9f8537c72045efbfda907de8099b4d",
            "value": " 42.0/42.0 [00:00&lt;00:00, 3.00kB/s]"
          }
        },
        "be5ffbce83424e75b1674968b3d16858": {
          "model_module": "@jupyter-widgets/base",
          "model_name": "LayoutModel",
          "model_module_version": "1.2.0",
          "state": {
            "_model_module": "@jupyter-widgets/base",
            "_model_module_version": "1.2.0",
            "_model_name": "LayoutModel",
            "_view_count": null,
            "_view_module": "@jupyter-widgets/base",
            "_view_module_version": "1.2.0",
            "_view_name": "LayoutView",
            "align_content": null,
            "align_items": null,
            "align_self": null,
            "border": null,
            "bottom": null,
            "display": null,
            "flex": null,
            "flex_flow": null,
            "grid_area": null,
            "grid_auto_columns": null,
            "grid_auto_flow": null,
            "grid_auto_rows": null,
            "grid_column": null,
            "grid_gap": null,
            "grid_row": null,
            "grid_template_areas": null,
            "grid_template_columns": null,
            "grid_template_rows": null,
            "height": null,
            "justify_content": null,
            "justify_items": null,
            "left": null,
            "margin": null,
            "max_height": null,
            "max_width": null,
            "min_height": null,
            "min_width": null,
            "object_fit": null,
            "object_position": null,
            "order": null,
            "overflow": null,
            "overflow_x": null,
            "overflow_y": null,
            "padding": null,
            "right": null,
            "top": null,
            "visibility": null,
            "width": null
          }
        },
        "4e95c3be8bf744e48b7c35dff54469d0": {
          "model_module": "@jupyter-widgets/base",
          "model_name": "LayoutModel",
          "model_module_version": "1.2.0",
          "state": {
            "_model_module": "@jupyter-widgets/base",
            "_model_module_version": "1.2.0",
            "_model_name": "LayoutModel",
            "_view_count": null,
            "_view_module": "@jupyter-widgets/base",
            "_view_module_version": "1.2.0",
            "_view_name": "LayoutView",
            "align_content": null,
            "align_items": null,
            "align_self": null,
            "border": null,
            "bottom": null,
            "display": null,
            "flex": null,
            "flex_flow": null,
            "grid_area": null,
            "grid_auto_columns": null,
            "grid_auto_flow": null,
            "grid_auto_rows": null,
            "grid_column": null,
            "grid_gap": null,
            "grid_row": null,
            "grid_template_areas": null,
            "grid_template_columns": null,
            "grid_template_rows": null,
            "height": null,
            "justify_content": null,
            "justify_items": null,
            "left": null,
            "margin": null,
            "max_height": null,
            "max_width": null,
            "min_height": null,
            "min_width": null,
            "object_fit": null,
            "object_position": null,
            "order": null,
            "overflow": null,
            "overflow_x": null,
            "overflow_y": null,
            "padding": null,
            "right": null,
            "top": null,
            "visibility": null,
            "width": null
          }
        },
        "c4a530240d084d68a0dd3de97f3ec6aa": {
          "model_module": "@jupyter-widgets/controls",
          "model_name": "DescriptionStyleModel",
          "model_module_version": "1.5.0",
          "state": {
            "_model_module": "@jupyter-widgets/controls",
            "_model_module_version": "1.5.0",
            "_model_name": "DescriptionStyleModel",
            "_view_count": null,
            "_view_module": "@jupyter-widgets/base",
            "_view_module_version": "1.2.0",
            "_view_name": "StyleView",
            "description_width": ""
          }
        },
        "619fa1e8cff44321ba6b476ee6ad0001": {
          "model_module": "@jupyter-widgets/base",
          "model_name": "LayoutModel",
          "model_module_version": "1.2.0",
          "state": {
            "_model_module": "@jupyter-widgets/base",
            "_model_module_version": "1.2.0",
            "_model_name": "LayoutModel",
            "_view_count": null,
            "_view_module": "@jupyter-widgets/base",
            "_view_module_version": "1.2.0",
            "_view_name": "LayoutView",
            "align_content": null,
            "align_items": null,
            "align_self": null,
            "border": null,
            "bottom": null,
            "display": null,
            "flex": null,
            "flex_flow": null,
            "grid_area": null,
            "grid_auto_columns": null,
            "grid_auto_flow": null,
            "grid_auto_rows": null,
            "grid_column": null,
            "grid_gap": null,
            "grid_row": null,
            "grid_template_areas": null,
            "grid_template_columns": null,
            "grid_template_rows": null,
            "height": null,
            "justify_content": null,
            "justify_items": null,
            "left": null,
            "margin": null,
            "max_height": null,
            "max_width": null,
            "min_height": null,
            "min_width": null,
            "object_fit": null,
            "object_position": null,
            "order": null,
            "overflow": null,
            "overflow_x": null,
            "overflow_y": null,
            "padding": null,
            "right": null,
            "top": null,
            "visibility": null,
            "width": null
          }
        },
        "c5fa16be99b1469ca187e8ec84109fc3": {
          "model_module": "@jupyter-widgets/controls",
          "model_name": "ProgressStyleModel",
          "model_module_version": "1.5.0",
          "state": {
            "_model_module": "@jupyter-widgets/controls",
            "_model_module_version": "1.5.0",
            "_model_name": "ProgressStyleModel",
            "_view_count": null,
            "_view_module": "@jupyter-widgets/base",
            "_view_module_version": "1.2.0",
            "_view_name": "StyleView",
            "bar_color": null,
            "description_width": ""
          }
        },
        "615968677a9649eb9f82f87e934605f2": {
          "model_module": "@jupyter-widgets/base",
          "model_name": "LayoutModel",
          "model_module_version": "1.2.0",
          "state": {
            "_model_module": "@jupyter-widgets/base",
            "_model_module_version": "1.2.0",
            "_model_name": "LayoutModel",
            "_view_count": null,
            "_view_module": "@jupyter-widgets/base",
            "_view_module_version": "1.2.0",
            "_view_name": "LayoutView",
            "align_content": null,
            "align_items": null,
            "align_self": null,
            "border": null,
            "bottom": null,
            "display": null,
            "flex": null,
            "flex_flow": null,
            "grid_area": null,
            "grid_auto_columns": null,
            "grid_auto_flow": null,
            "grid_auto_rows": null,
            "grid_column": null,
            "grid_gap": null,
            "grid_row": null,
            "grid_template_areas": null,
            "grid_template_columns": null,
            "grid_template_rows": null,
            "height": null,
            "justify_content": null,
            "justify_items": null,
            "left": null,
            "margin": null,
            "max_height": null,
            "max_width": null,
            "min_height": null,
            "min_width": null,
            "object_fit": null,
            "object_position": null,
            "order": null,
            "overflow": null,
            "overflow_x": null,
            "overflow_y": null,
            "padding": null,
            "right": null,
            "top": null,
            "visibility": null,
            "width": null
          }
        },
        "2e9f8537c72045efbfda907de8099b4d": {
          "model_module": "@jupyter-widgets/controls",
          "model_name": "DescriptionStyleModel",
          "model_module_version": "1.5.0",
          "state": {
            "_model_module": "@jupyter-widgets/controls",
            "_model_module_version": "1.5.0",
            "_model_name": "DescriptionStyleModel",
            "_view_count": null,
            "_view_module": "@jupyter-widgets/base",
            "_view_module_version": "1.2.0",
            "_view_name": "StyleView",
            "description_width": ""
          }
        },
        "ef738fdf15014a94863e20a4644766c9": {
          "model_module": "@jupyter-widgets/controls",
          "model_name": "HBoxModel",
          "model_module_version": "1.5.0",
          "state": {
            "_dom_classes": [],
            "_model_module": "@jupyter-widgets/controls",
            "_model_module_version": "1.5.0",
            "_model_name": "HBoxModel",
            "_view_count": null,
            "_view_module": "@jupyter-widgets/controls",
            "_view_module_version": "1.5.0",
            "_view_name": "HBoxView",
            "box_style": "",
            "children": [
              "IPY_MODEL_91ce3b0f217544918d1e9c61846cad14",
              "IPY_MODEL_3ed8d084d29245adbc8d9ac7452dc54e",
              "IPY_MODEL_221453d2b6f44b32824e2f6b0185b1b3"
            ],
            "layout": "IPY_MODEL_bc3aa8229d4f40cc9b7b699db6e3c907"
          }
        },
        "91ce3b0f217544918d1e9c61846cad14": {
          "model_module": "@jupyter-widgets/controls",
          "model_name": "HTMLModel",
          "model_module_version": "1.5.0",
          "state": {
            "_dom_classes": [],
            "_model_module": "@jupyter-widgets/controls",
            "_model_module_version": "1.5.0",
            "_model_name": "HTMLModel",
            "_view_count": null,
            "_view_module": "@jupyter-widgets/controls",
            "_view_module_version": "1.5.0",
            "_view_name": "HTMLView",
            "description": "",
            "description_tooltip": null,
            "layout": "IPY_MODEL_25398c33cc94437c85a641822b7f598e",
            "placeholder": "​",
            "style": "IPY_MODEL_1aafc2154e9c42559a868c740071d6e4",
            "value": "special_tokens_map.json: 100%"
          }
        },
        "3ed8d084d29245adbc8d9ac7452dc54e": {
          "model_module": "@jupyter-widgets/controls",
          "model_name": "FloatProgressModel",
          "model_module_version": "1.5.0",
          "state": {
            "_dom_classes": [],
            "_model_module": "@jupyter-widgets/controls",
            "_model_module_version": "1.5.0",
            "_model_name": "FloatProgressModel",
            "_view_count": null,
            "_view_module": "@jupyter-widgets/controls",
            "_view_module_version": "1.5.0",
            "_view_name": "ProgressView",
            "bar_style": "success",
            "description": "",
            "description_tooltip": null,
            "layout": "IPY_MODEL_3f7247648932427795d4dad7613b4ed6",
            "max": 168,
            "min": 0,
            "orientation": "horizontal",
            "style": "IPY_MODEL_8810dafc8f824b0fa9089f83d92dec82",
            "value": 168
          }
        },
        "221453d2b6f44b32824e2f6b0185b1b3": {
          "model_module": "@jupyter-widgets/controls",
          "model_name": "HTMLModel",
          "model_module_version": "1.5.0",
          "state": {
            "_dom_classes": [],
            "_model_module": "@jupyter-widgets/controls",
            "_model_module_version": "1.5.0",
            "_model_name": "HTMLModel",
            "_view_count": null,
            "_view_module": "@jupyter-widgets/controls",
            "_view_module_version": "1.5.0",
            "_view_name": "HTMLView",
            "description": "",
            "description_tooltip": null,
            "layout": "IPY_MODEL_fae8189164814a51a6cbef16f142cef0",
            "placeholder": "​",
            "style": "IPY_MODEL_9313cb08021d43e8a0448fb9716c1bff",
            "value": " 168/168 [00:00&lt;00:00, 12.1kB/s]"
          }
        },
        "bc3aa8229d4f40cc9b7b699db6e3c907": {
          "model_module": "@jupyter-widgets/base",
          "model_name": "LayoutModel",
          "model_module_version": "1.2.0",
          "state": {
            "_model_module": "@jupyter-widgets/base",
            "_model_module_version": "1.2.0",
            "_model_name": "LayoutModel",
            "_view_count": null,
            "_view_module": "@jupyter-widgets/base",
            "_view_module_version": "1.2.0",
            "_view_name": "LayoutView",
            "align_content": null,
            "align_items": null,
            "align_self": null,
            "border": null,
            "bottom": null,
            "display": null,
            "flex": null,
            "flex_flow": null,
            "grid_area": null,
            "grid_auto_columns": null,
            "grid_auto_flow": null,
            "grid_auto_rows": null,
            "grid_column": null,
            "grid_gap": null,
            "grid_row": null,
            "grid_template_areas": null,
            "grid_template_columns": null,
            "grid_template_rows": null,
            "height": null,
            "justify_content": null,
            "justify_items": null,
            "left": null,
            "margin": null,
            "max_height": null,
            "max_width": null,
            "min_height": null,
            "min_width": null,
            "object_fit": null,
            "object_position": null,
            "order": null,
            "overflow": null,
            "overflow_x": null,
            "overflow_y": null,
            "padding": null,
            "right": null,
            "top": null,
            "visibility": null,
            "width": null
          }
        },
        "25398c33cc94437c85a641822b7f598e": {
          "model_module": "@jupyter-widgets/base",
          "model_name": "LayoutModel",
          "model_module_version": "1.2.0",
          "state": {
            "_model_module": "@jupyter-widgets/base",
            "_model_module_version": "1.2.0",
            "_model_name": "LayoutModel",
            "_view_count": null,
            "_view_module": "@jupyter-widgets/base",
            "_view_module_version": "1.2.0",
            "_view_name": "LayoutView",
            "align_content": null,
            "align_items": null,
            "align_self": null,
            "border": null,
            "bottom": null,
            "display": null,
            "flex": null,
            "flex_flow": null,
            "grid_area": null,
            "grid_auto_columns": null,
            "grid_auto_flow": null,
            "grid_auto_rows": null,
            "grid_column": null,
            "grid_gap": null,
            "grid_row": null,
            "grid_template_areas": null,
            "grid_template_columns": null,
            "grid_template_rows": null,
            "height": null,
            "justify_content": null,
            "justify_items": null,
            "left": null,
            "margin": null,
            "max_height": null,
            "max_width": null,
            "min_height": null,
            "min_width": null,
            "object_fit": null,
            "object_position": null,
            "order": null,
            "overflow": null,
            "overflow_x": null,
            "overflow_y": null,
            "padding": null,
            "right": null,
            "top": null,
            "visibility": null,
            "width": null
          }
        },
        "1aafc2154e9c42559a868c740071d6e4": {
          "model_module": "@jupyter-widgets/controls",
          "model_name": "DescriptionStyleModel",
          "model_module_version": "1.5.0",
          "state": {
            "_model_module": "@jupyter-widgets/controls",
            "_model_module_version": "1.5.0",
            "_model_name": "DescriptionStyleModel",
            "_view_count": null,
            "_view_module": "@jupyter-widgets/base",
            "_view_module_version": "1.2.0",
            "_view_name": "StyleView",
            "description_width": ""
          }
        },
        "3f7247648932427795d4dad7613b4ed6": {
          "model_module": "@jupyter-widgets/base",
          "model_name": "LayoutModel",
          "model_module_version": "1.2.0",
          "state": {
            "_model_module": "@jupyter-widgets/base",
            "_model_module_version": "1.2.0",
            "_model_name": "LayoutModel",
            "_view_count": null,
            "_view_module": "@jupyter-widgets/base",
            "_view_module_version": "1.2.0",
            "_view_name": "LayoutView",
            "align_content": null,
            "align_items": null,
            "align_self": null,
            "border": null,
            "bottom": null,
            "display": null,
            "flex": null,
            "flex_flow": null,
            "grid_area": null,
            "grid_auto_columns": null,
            "grid_auto_flow": null,
            "grid_auto_rows": null,
            "grid_column": null,
            "grid_gap": null,
            "grid_row": null,
            "grid_template_areas": null,
            "grid_template_columns": null,
            "grid_template_rows": null,
            "height": null,
            "justify_content": null,
            "justify_items": null,
            "left": null,
            "margin": null,
            "max_height": null,
            "max_width": null,
            "min_height": null,
            "min_width": null,
            "object_fit": null,
            "object_position": null,
            "order": null,
            "overflow": null,
            "overflow_x": null,
            "overflow_y": null,
            "padding": null,
            "right": null,
            "top": null,
            "visibility": null,
            "width": null
          }
        },
        "8810dafc8f824b0fa9089f83d92dec82": {
          "model_module": "@jupyter-widgets/controls",
          "model_name": "ProgressStyleModel",
          "model_module_version": "1.5.0",
          "state": {
            "_model_module": "@jupyter-widgets/controls",
            "_model_module_version": "1.5.0",
            "_model_name": "ProgressStyleModel",
            "_view_count": null,
            "_view_module": "@jupyter-widgets/base",
            "_view_module_version": "1.2.0",
            "_view_name": "StyleView",
            "bar_color": null,
            "description_width": ""
          }
        },
        "fae8189164814a51a6cbef16f142cef0": {
          "model_module": "@jupyter-widgets/base",
          "model_name": "LayoutModel",
          "model_module_version": "1.2.0",
          "state": {
            "_model_module": "@jupyter-widgets/base",
            "_model_module_version": "1.2.0",
            "_model_name": "LayoutModel",
            "_view_count": null,
            "_view_module": "@jupyter-widgets/base",
            "_view_module_version": "1.2.0",
            "_view_name": "LayoutView",
            "align_content": null,
            "align_items": null,
            "align_self": null,
            "border": null,
            "bottom": null,
            "display": null,
            "flex": null,
            "flex_flow": null,
            "grid_area": null,
            "grid_auto_columns": null,
            "grid_auto_flow": null,
            "grid_auto_rows": null,
            "grid_column": null,
            "grid_gap": null,
            "grid_row": null,
            "grid_template_areas": null,
            "grid_template_columns": null,
            "grid_template_rows": null,
            "height": null,
            "justify_content": null,
            "justify_items": null,
            "left": null,
            "margin": null,
            "max_height": null,
            "max_width": null,
            "min_height": null,
            "min_width": null,
            "object_fit": null,
            "object_position": null,
            "order": null,
            "overflow": null,
            "overflow_x": null,
            "overflow_y": null,
            "padding": null,
            "right": null,
            "top": null,
            "visibility": null,
            "width": null
          }
        },
        "9313cb08021d43e8a0448fb9716c1bff": {
          "model_module": "@jupyter-widgets/controls",
          "model_name": "DescriptionStyleModel",
          "model_module_version": "1.5.0",
          "state": {
            "_model_module": "@jupyter-widgets/controls",
            "_model_module_version": "1.5.0",
            "_model_name": "DescriptionStyleModel",
            "_view_count": null,
            "_view_module": "@jupyter-widgets/base",
            "_view_module_version": "1.2.0",
            "_view_name": "StyleView",
            "description_width": ""
          }
        },
        "03d617a8753045b5bd579bba1d36b919": {
          "model_module": "@jupyter-widgets/controls",
          "model_name": "HBoxModel",
          "model_module_version": "1.5.0",
          "state": {
            "_dom_classes": [],
            "_model_module": "@jupyter-widgets/controls",
            "_model_module_version": "1.5.0",
            "_model_name": "HBoxModel",
            "_view_count": null,
            "_view_module": "@jupyter-widgets/controls",
            "_view_module_version": "1.5.0",
            "_view_name": "HBoxView",
            "box_style": "",
            "children": [
              "IPY_MODEL_51bc8fa7d0e44796849f4b06382a5e04",
              "IPY_MODEL_3a071f5aedae4406a734730b2995e4f4",
              "IPY_MODEL_bb60808c1e0c4dfc83878d0077bc640a"
            ],
            "layout": "IPY_MODEL_311d7199823b4168b284c5a7b5757dbd"
          }
        },
        "51bc8fa7d0e44796849f4b06382a5e04": {
          "model_module": "@jupyter-widgets/controls",
          "model_name": "HTMLModel",
          "model_module_version": "1.5.0",
          "state": {
            "_dom_classes": [],
            "_model_module": "@jupyter-widgets/controls",
            "_model_module_version": "1.5.0",
            "_model_name": "HTMLModel",
            "_view_count": null,
            "_view_module": "@jupyter-widgets/controls",
            "_view_module_version": "1.5.0",
            "_view_name": "HTMLView",
            "description": "",
            "description_tooltip": null,
            "layout": "IPY_MODEL_e014241850bb4119ac298f03873f87b5",
            "placeholder": "​",
            "style": "IPY_MODEL_a174c9bd611242cb99e627929c6029e3",
            "value": "config.json: 100%"
          }
        },
        "3a071f5aedae4406a734730b2995e4f4": {
          "model_module": "@jupyter-widgets/controls",
          "model_name": "FloatProgressModel",
          "model_module_version": "1.5.0",
          "state": {
            "_dom_classes": [],
            "_model_module": "@jupyter-widgets/controls",
            "_model_module_version": "1.5.0",
            "_model_name": "FloatProgressModel",
            "_view_count": null,
            "_view_module": "@jupyter-widgets/controls",
            "_view_module_version": "1.5.0",
            "_view_name": "ProgressView",
            "bar_style": "success",
            "description": "",
            "description_tooltip": null,
            "layout": "IPY_MODEL_c23c0e2de50d428c8e1926db04ca3e34",
            "max": 638,
            "min": 0,
            "orientation": "horizontal",
            "style": "IPY_MODEL_6ac0e00e202346d5ab82d67b16ada3cb",
            "value": 638
          }
        },
        "bb60808c1e0c4dfc83878d0077bc640a": {
          "model_module": "@jupyter-widgets/controls",
          "model_name": "HTMLModel",
          "model_module_version": "1.5.0",
          "state": {
            "_dom_classes": [],
            "_model_module": "@jupyter-widgets/controls",
            "_model_module_version": "1.5.0",
            "_model_name": "HTMLModel",
            "_view_count": null,
            "_view_module": "@jupyter-widgets/controls",
            "_view_module_version": "1.5.0",
            "_view_name": "HTMLView",
            "description": "",
            "description_tooltip": null,
            "layout": "IPY_MODEL_a79d8968935344f3a1c04d349abd6738",
            "placeholder": "​",
            "style": "IPY_MODEL_5756dc71d9234dc28270e27accdc6d93",
            "value": " 638/638 [00:00&lt;00:00, 27.7kB/s]"
          }
        },
        "311d7199823b4168b284c5a7b5757dbd": {
          "model_module": "@jupyter-widgets/base",
          "model_name": "LayoutModel",
          "model_module_version": "1.2.0",
          "state": {
            "_model_module": "@jupyter-widgets/base",
            "_model_module_version": "1.2.0",
            "_model_name": "LayoutModel",
            "_view_count": null,
            "_view_module": "@jupyter-widgets/base",
            "_view_module_version": "1.2.0",
            "_view_name": "LayoutView",
            "align_content": null,
            "align_items": null,
            "align_self": null,
            "border": null,
            "bottom": null,
            "display": null,
            "flex": null,
            "flex_flow": null,
            "grid_area": null,
            "grid_auto_columns": null,
            "grid_auto_flow": null,
            "grid_auto_rows": null,
            "grid_column": null,
            "grid_gap": null,
            "grid_row": null,
            "grid_template_areas": null,
            "grid_template_columns": null,
            "grid_template_rows": null,
            "height": null,
            "justify_content": null,
            "justify_items": null,
            "left": null,
            "margin": null,
            "max_height": null,
            "max_width": null,
            "min_height": null,
            "min_width": null,
            "object_fit": null,
            "object_position": null,
            "order": null,
            "overflow": null,
            "overflow_x": null,
            "overflow_y": null,
            "padding": null,
            "right": null,
            "top": null,
            "visibility": null,
            "width": null
          }
        },
        "e014241850bb4119ac298f03873f87b5": {
          "model_module": "@jupyter-widgets/base",
          "model_name": "LayoutModel",
          "model_module_version": "1.2.0",
          "state": {
            "_model_module": "@jupyter-widgets/base",
            "_model_module_version": "1.2.0",
            "_model_name": "LayoutModel",
            "_view_count": null,
            "_view_module": "@jupyter-widgets/base",
            "_view_module_version": "1.2.0",
            "_view_name": "LayoutView",
            "align_content": null,
            "align_items": null,
            "align_self": null,
            "border": null,
            "bottom": null,
            "display": null,
            "flex": null,
            "flex_flow": null,
            "grid_area": null,
            "grid_auto_columns": null,
            "grid_auto_flow": null,
            "grid_auto_rows": null,
            "grid_column": null,
            "grid_gap": null,
            "grid_row": null,
            "grid_template_areas": null,
            "grid_template_columns": null,
            "grid_template_rows": null,
            "height": null,
            "justify_content": null,
            "justify_items": null,
            "left": null,
            "margin": null,
            "max_height": null,
            "max_width": null,
            "min_height": null,
            "min_width": null,
            "object_fit": null,
            "object_position": null,
            "order": null,
            "overflow": null,
            "overflow_x": null,
            "overflow_y": null,
            "padding": null,
            "right": null,
            "top": null,
            "visibility": null,
            "width": null
          }
        },
        "a174c9bd611242cb99e627929c6029e3": {
          "model_module": "@jupyter-widgets/controls",
          "model_name": "DescriptionStyleModel",
          "model_module_version": "1.5.0",
          "state": {
            "_model_module": "@jupyter-widgets/controls",
            "_model_module_version": "1.5.0",
            "_model_name": "DescriptionStyleModel",
            "_view_count": null,
            "_view_module": "@jupyter-widgets/base",
            "_view_module_version": "1.2.0",
            "_view_name": "StyleView",
            "description_width": ""
          }
        },
        "c23c0e2de50d428c8e1926db04ca3e34": {
          "model_module": "@jupyter-widgets/base",
          "model_name": "LayoutModel",
          "model_module_version": "1.2.0",
          "state": {
            "_model_module": "@jupyter-widgets/base",
            "_model_module_version": "1.2.0",
            "_model_name": "LayoutModel",
            "_view_count": null,
            "_view_module": "@jupyter-widgets/base",
            "_view_module_version": "1.2.0",
            "_view_name": "LayoutView",
            "align_content": null,
            "align_items": null,
            "align_self": null,
            "border": null,
            "bottom": null,
            "display": null,
            "flex": null,
            "flex_flow": null,
            "grid_area": null,
            "grid_auto_columns": null,
            "grid_auto_flow": null,
            "grid_auto_rows": null,
            "grid_column": null,
            "grid_gap": null,
            "grid_row": null,
            "grid_template_areas": null,
            "grid_template_columns": null,
            "grid_template_rows": null,
            "height": null,
            "justify_content": null,
            "justify_items": null,
            "left": null,
            "margin": null,
            "max_height": null,
            "max_width": null,
            "min_height": null,
            "min_width": null,
            "object_fit": null,
            "object_position": null,
            "order": null,
            "overflow": null,
            "overflow_x": null,
            "overflow_y": null,
            "padding": null,
            "right": null,
            "top": null,
            "visibility": null,
            "width": null
          }
        },
        "6ac0e00e202346d5ab82d67b16ada3cb": {
          "model_module": "@jupyter-widgets/controls",
          "model_name": "ProgressStyleModel",
          "model_module_version": "1.5.0",
          "state": {
            "_model_module": "@jupyter-widgets/controls",
            "_model_module_version": "1.5.0",
            "_model_name": "ProgressStyleModel",
            "_view_count": null,
            "_view_module": "@jupyter-widgets/base",
            "_view_module_version": "1.2.0",
            "_view_name": "StyleView",
            "bar_color": null,
            "description_width": ""
          }
        },
        "a79d8968935344f3a1c04d349abd6738": {
          "model_module": "@jupyter-widgets/base",
          "model_name": "LayoutModel",
          "model_module_version": "1.2.0",
          "state": {
            "_model_module": "@jupyter-widgets/base",
            "_model_module_version": "1.2.0",
            "_model_name": "LayoutModel",
            "_view_count": null,
            "_view_module": "@jupyter-widgets/base",
            "_view_module_version": "1.2.0",
            "_view_name": "LayoutView",
            "align_content": null,
            "align_items": null,
            "align_self": null,
            "border": null,
            "bottom": null,
            "display": null,
            "flex": null,
            "flex_flow": null,
            "grid_area": null,
            "grid_auto_columns": null,
            "grid_auto_flow": null,
            "grid_auto_rows": null,
            "grid_column": null,
            "grid_gap": null,
            "grid_row": null,
            "grid_template_areas": null,
            "grid_template_columns": null,
            "grid_template_rows": null,
            "height": null,
            "justify_content": null,
            "justify_items": null,
            "left": null,
            "margin": null,
            "max_height": null,
            "max_width": null,
            "min_height": null,
            "min_width": null,
            "object_fit": null,
            "object_position": null,
            "order": null,
            "overflow": null,
            "overflow_x": null,
            "overflow_y": null,
            "padding": null,
            "right": null,
            "top": null,
            "visibility": null,
            "width": null
          }
        },
        "5756dc71d9234dc28270e27accdc6d93": {
          "model_module": "@jupyter-widgets/controls",
          "model_name": "DescriptionStyleModel",
          "model_module_version": "1.5.0",
          "state": {
            "_model_module": "@jupyter-widgets/controls",
            "_model_module_version": "1.5.0",
            "_model_name": "DescriptionStyleModel",
            "_view_count": null,
            "_view_module": "@jupyter-widgets/base",
            "_view_module_version": "1.2.0",
            "_view_name": "StyleView",
            "description_width": ""
          }
        },
        "e99889b0f07042b5b79081a7d3421e29": {
          "model_module": "@jupyter-widgets/controls",
          "model_name": "HBoxModel",
          "model_module_version": "1.5.0",
          "state": {
            "_dom_classes": [],
            "_model_module": "@jupyter-widgets/controls",
            "_model_module_version": "1.5.0",
            "_model_name": "HBoxModel",
            "_view_count": null,
            "_view_module": "@jupyter-widgets/controls",
            "_view_module_version": "1.5.0",
            "_view_name": "HBoxView",
            "box_style": "",
            "children": [
              "IPY_MODEL_371def85f5284f44afb44996bd6819c3",
              "IPY_MODEL_92e5b0cc6b844036a16c785487651f01",
              "IPY_MODEL_d67628c58bd444f88b67bba31eb20dc8"
            ],
            "layout": "IPY_MODEL_1ca6c9ca847448afae9caa4b4de9fde0"
          }
        },
        "371def85f5284f44afb44996bd6819c3": {
          "model_module": "@jupyter-widgets/controls",
          "model_name": "HTMLModel",
          "model_module_version": "1.5.0",
          "state": {
            "_dom_classes": [],
            "_model_module": "@jupyter-widgets/controls",
            "_model_module_version": "1.5.0",
            "_model_name": "HTMLModel",
            "_view_count": null,
            "_view_module": "@jupyter-widgets/controls",
            "_view_module_version": "1.5.0",
            "_view_name": "HTMLView",
            "description": "",
            "description_tooltip": null,
            "layout": "IPY_MODEL_6358d20028ab426cad048407c7e453b6",
            "placeholder": "​",
            "style": "IPY_MODEL_5f021a4e4fa04737bb36edda1ac2c8d6",
            "value": "model.safetensors.index.json: 100%"
          }
        },
        "92e5b0cc6b844036a16c785487651f01": {
          "model_module": "@jupyter-widgets/controls",
          "model_name": "FloatProgressModel",
          "model_module_version": "1.5.0",
          "state": {
            "_dom_classes": [],
            "_model_module": "@jupyter-widgets/controls",
            "_model_module_version": "1.5.0",
            "_model_name": "FloatProgressModel",
            "_view_count": null,
            "_view_module": "@jupyter-widgets/controls",
            "_view_module_version": "1.5.0",
            "_view_name": "ProgressView",
            "bar_style": "success",
            "description": "",
            "description_tooltip": null,
            "layout": "IPY_MODEL_83d4d8fdd64d49249875512f33a8b238",
            "max": 23950,
            "min": 0,
            "orientation": "horizontal",
            "style": "IPY_MODEL_cae6963ab54c47a09ef4315ae3a26ec6",
            "value": 23950
          }
        },
        "d67628c58bd444f88b67bba31eb20dc8": {
          "model_module": "@jupyter-widgets/controls",
          "model_name": "HTMLModel",
          "model_module_version": "1.5.0",
          "state": {
            "_dom_classes": [],
            "_model_module": "@jupyter-widgets/controls",
            "_model_module_version": "1.5.0",
            "_model_name": "HTMLModel",
            "_view_count": null,
            "_view_module": "@jupyter-widgets/controls",
            "_view_module_version": "1.5.0",
            "_view_name": "HTMLView",
            "description": "",
            "description_tooltip": null,
            "layout": "IPY_MODEL_d8272e6a33cd43f19241793e58e17e31",
            "placeholder": "​",
            "style": "IPY_MODEL_93d9678d065e4dbb97779509cd987880",
            "value": " 23.9k/23.9k [00:00&lt;00:00, 1.13MB/s]"
          }
        },
        "1ca6c9ca847448afae9caa4b4de9fde0": {
          "model_module": "@jupyter-widgets/base",
          "model_name": "LayoutModel",
          "model_module_version": "1.2.0",
          "state": {
            "_model_module": "@jupyter-widgets/base",
            "_model_module_version": "1.2.0",
            "_model_name": "LayoutModel",
            "_view_count": null,
            "_view_module": "@jupyter-widgets/base",
            "_view_module_version": "1.2.0",
            "_view_name": "LayoutView",
            "align_content": null,
            "align_items": null,
            "align_self": null,
            "border": null,
            "bottom": null,
            "display": null,
            "flex": null,
            "flex_flow": null,
            "grid_area": null,
            "grid_auto_columns": null,
            "grid_auto_flow": null,
            "grid_auto_rows": null,
            "grid_column": null,
            "grid_gap": null,
            "grid_row": null,
            "grid_template_areas": null,
            "grid_template_columns": null,
            "grid_template_rows": null,
            "height": null,
            "justify_content": null,
            "justify_items": null,
            "left": null,
            "margin": null,
            "max_height": null,
            "max_width": null,
            "min_height": null,
            "min_width": null,
            "object_fit": null,
            "object_position": null,
            "order": null,
            "overflow": null,
            "overflow_x": null,
            "overflow_y": null,
            "padding": null,
            "right": null,
            "top": null,
            "visibility": null,
            "width": null
          }
        },
        "6358d20028ab426cad048407c7e453b6": {
          "model_module": "@jupyter-widgets/base",
          "model_name": "LayoutModel",
          "model_module_version": "1.2.0",
          "state": {
            "_model_module": "@jupyter-widgets/base",
            "_model_module_version": "1.2.0",
            "_model_name": "LayoutModel",
            "_view_count": null,
            "_view_module": "@jupyter-widgets/base",
            "_view_module_version": "1.2.0",
            "_view_name": "LayoutView",
            "align_content": null,
            "align_items": null,
            "align_self": null,
            "border": null,
            "bottom": null,
            "display": null,
            "flex": null,
            "flex_flow": null,
            "grid_area": null,
            "grid_auto_columns": null,
            "grid_auto_flow": null,
            "grid_auto_rows": null,
            "grid_column": null,
            "grid_gap": null,
            "grid_row": null,
            "grid_template_areas": null,
            "grid_template_columns": null,
            "grid_template_rows": null,
            "height": null,
            "justify_content": null,
            "justify_items": null,
            "left": null,
            "margin": null,
            "max_height": null,
            "max_width": null,
            "min_height": null,
            "min_width": null,
            "object_fit": null,
            "object_position": null,
            "order": null,
            "overflow": null,
            "overflow_x": null,
            "overflow_y": null,
            "padding": null,
            "right": null,
            "top": null,
            "visibility": null,
            "width": null
          }
        },
        "5f021a4e4fa04737bb36edda1ac2c8d6": {
          "model_module": "@jupyter-widgets/controls",
          "model_name": "DescriptionStyleModel",
          "model_module_version": "1.5.0",
          "state": {
            "_model_module": "@jupyter-widgets/controls",
            "_model_module_version": "1.5.0",
            "_model_name": "DescriptionStyleModel",
            "_view_count": null,
            "_view_module": "@jupyter-widgets/base",
            "_view_module_version": "1.2.0",
            "_view_name": "StyleView",
            "description_width": ""
          }
        },
        "83d4d8fdd64d49249875512f33a8b238": {
          "model_module": "@jupyter-widgets/base",
          "model_name": "LayoutModel",
          "model_module_version": "1.2.0",
          "state": {
            "_model_module": "@jupyter-widgets/base",
            "_model_module_version": "1.2.0",
            "_model_name": "LayoutModel",
            "_view_count": null,
            "_view_module": "@jupyter-widgets/base",
            "_view_module_version": "1.2.0",
            "_view_name": "LayoutView",
            "align_content": null,
            "align_items": null,
            "align_self": null,
            "border": null,
            "bottom": null,
            "display": null,
            "flex": null,
            "flex_flow": null,
            "grid_area": null,
            "grid_auto_columns": null,
            "grid_auto_flow": null,
            "grid_auto_rows": null,
            "grid_column": null,
            "grid_gap": null,
            "grid_row": null,
            "grid_template_areas": null,
            "grid_template_columns": null,
            "grid_template_rows": null,
            "height": null,
            "justify_content": null,
            "justify_items": null,
            "left": null,
            "margin": null,
            "max_height": null,
            "max_width": null,
            "min_height": null,
            "min_width": null,
            "object_fit": null,
            "object_position": null,
            "order": null,
            "overflow": null,
            "overflow_x": null,
            "overflow_y": null,
            "padding": null,
            "right": null,
            "top": null,
            "visibility": null,
            "width": null
          }
        },
        "cae6963ab54c47a09ef4315ae3a26ec6": {
          "model_module": "@jupyter-widgets/controls",
          "model_name": "ProgressStyleModel",
          "model_module_version": "1.5.0",
          "state": {
            "_model_module": "@jupyter-widgets/controls",
            "_model_module_version": "1.5.0",
            "_model_name": "ProgressStyleModel",
            "_view_count": null,
            "_view_module": "@jupyter-widgets/base",
            "_view_module_version": "1.2.0",
            "_view_name": "StyleView",
            "bar_color": null,
            "description_width": ""
          }
        },
        "d8272e6a33cd43f19241793e58e17e31": {
          "model_module": "@jupyter-widgets/base",
          "model_name": "LayoutModel",
          "model_module_version": "1.2.0",
          "state": {
            "_model_module": "@jupyter-widgets/base",
            "_model_module_version": "1.2.0",
            "_model_name": "LayoutModel",
            "_view_count": null,
            "_view_module": "@jupyter-widgets/base",
            "_view_module_version": "1.2.0",
            "_view_name": "LayoutView",
            "align_content": null,
            "align_items": null,
            "align_self": null,
            "border": null,
            "bottom": null,
            "display": null,
            "flex": null,
            "flex_flow": null,
            "grid_area": null,
            "grid_auto_columns": null,
            "grid_auto_flow": null,
            "grid_auto_rows": null,
            "grid_column": null,
            "grid_gap": null,
            "grid_row": null,
            "grid_template_areas": null,
            "grid_template_columns": null,
            "grid_template_rows": null,
            "height": null,
            "justify_content": null,
            "justify_items": null,
            "left": null,
            "margin": null,
            "max_height": null,
            "max_width": null,
            "min_height": null,
            "min_width": null,
            "object_fit": null,
            "object_position": null,
            "order": null,
            "overflow": null,
            "overflow_x": null,
            "overflow_y": null,
            "padding": null,
            "right": null,
            "top": null,
            "visibility": null,
            "width": null
          }
        },
        "93d9678d065e4dbb97779509cd987880": {
          "model_module": "@jupyter-widgets/controls",
          "model_name": "DescriptionStyleModel",
          "model_module_version": "1.5.0",
          "state": {
            "_model_module": "@jupyter-widgets/controls",
            "_model_module_version": "1.5.0",
            "_model_name": "DescriptionStyleModel",
            "_view_count": null,
            "_view_module": "@jupyter-widgets/base",
            "_view_module_version": "1.2.0",
            "_view_name": "StyleView",
            "description_width": ""
          }
        },
        "460079ae24d946adb97256c16fd193f3": {
          "model_module": "@jupyter-widgets/controls",
          "model_name": "HBoxModel",
          "model_module_version": "1.5.0",
          "state": {
            "_dom_classes": [],
            "_model_module": "@jupyter-widgets/controls",
            "_model_module_version": "1.5.0",
            "_model_name": "HBoxModel",
            "_view_count": null,
            "_view_module": "@jupyter-widgets/controls",
            "_view_module_version": "1.5.0",
            "_view_name": "HBoxView",
            "box_style": "",
            "children": [
              "IPY_MODEL_9b8b582a30414ae09c494f3451b3bc6c",
              "IPY_MODEL_aeed2168202143178cafeeb073b66f95",
              "IPY_MODEL_a937c426335b4b8a98c91a4de6c9e278"
            ],
            "layout": "IPY_MODEL_8da6cf09ced040678fe4d66a582243be"
          }
        },
        "9b8b582a30414ae09c494f3451b3bc6c": {
          "model_module": "@jupyter-widgets/controls",
          "model_name": "HTMLModel",
          "model_module_version": "1.5.0",
          "state": {
            "_dom_classes": [],
            "_model_module": "@jupyter-widgets/controls",
            "_model_module_version": "1.5.0",
            "_model_name": "HTMLModel",
            "_view_count": null,
            "_view_module": "@jupyter-widgets/controls",
            "_view_module_version": "1.5.0",
            "_view_name": "HTMLView",
            "description": "",
            "description_tooltip": null,
            "layout": "IPY_MODEL_06d78666d3a0467181eccfa9ca6a23cd",
            "placeholder": "​",
            "style": "IPY_MODEL_2bc43fec152b4fd783312a6f19317a77",
            "value": "Downloading shards: 100%"
          }
        },
        "aeed2168202143178cafeeb073b66f95": {
          "model_module": "@jupyter-widgets/controls",
          "model_name": "FloatProgressModel",
          "model_module_version": "1.5.0",
          "state": {
            "_dom_classes": [],
            "_model_module": "@jupyter-widgets/controls",
            "_model_module_version": "1.5.0",
            "_model_name": "FloatProgressModel",
            "_view_count": null,
            "_view_module": "@jupyter-widgets/controls",
            "_view_module_version": "1.5.0",
            "_view_name": "ProgressView",
            "bar_style": "success",
            "description": "",
            "description_tooltip": null,
            "layout": "IPY_MODEL_990939f27c9c4cad898bf2b31dbe9482",
            "max": 8,
            "min": 0,
            "orientation": "horizontal",
            "style": "IPY_MODEL_1f74b14a076f46739051e4e8f7caa86e",
            "value": 8
          }
        },
        "a937c426335b4b8a98c91a4de6c9e278": {
          "model_module": "@jupyter-widgets/controls",
          "model_name": "HTMLModel",
          "model_module_version": "1.5.0",
          "state": {
            "_dom_classes": [],
            "_model_module": "@jupyter-widgets/controls",
            "_model_module_version": "1.5.0",
            "_model_name": "HTMLModel",
            "_view_count": null,
            "_view_module": "@jupyter-widgets/controls",
            "_view_module_version": "1.5.0",
            "_view_name": "HTMLView",
            "description": "",
            "description_tooltip": null,
            "layout": "IPY_MODEL_61f7054944994e868ac54b7d7aeb38f9",
            "placeholder": "​",
            "style": "IPY_MODEL_58a6bdbdc56f4298ab767d6ae5d435ea",
            "value": " 8/8 [01:18&lt;00:00,  8.34s/it]"
          }
        },
        "8da6cf09ced040678fe4d66a582243be": {
          "model_module": "@jupyter-widgets/base",
          "model_name": "LayoutModel",
          "model_module_version": "1.2.0",
          "state": {
            "_model_module": "@jupyter-widgets/base",
            "_model_module_version": "1.2.0",
            "_model_name": "LayoutModel",
            "_view_count": null,
            "_view_module": "@jupyter-widgets/base",
            "_view_module_version": "1.2.0",
            "_view_name": "LayoutView",
            "align_content": null,
            "align_items": null,
            "align_self": null,
            "border": null,
            "bottom": null,
            "display": null,
            "flex": null,
            "flex_flow": null,
            "grid_area": null,
            "grid_auto_columns": null,
            "grid_auto_flow": null,
            "grid_auto_rows": null,
            "grid_column": null,
            "grid_gap": null,
            "grid_row": null,
            "grid_template_areas": null,
            "grid_template_columns": null,
            "grid_template_rows": null,
            "height": null,
            "justify_content": null,
            "justify_items": null,
            "left": null,
            "margin": null,
            "max_height": null,
            "max_width": null,
            "min_height": null,
            "min_width": null,
            "object_fit": null,
            "object_position": null,
            "order": null,
            "overflow": null,
            "overflow_x": null,
            "overflow_y": null,
            "padding": null,
            "right": null,
            "top": null,
            "visibility": null,
            "width": null
          }
        },
        "06d78666d3a0467181eccfa9ca6a23cd": {
          "model_module": "@jupyter-widgets/base",
          "model_name": "LayoutModel",
          "model_module_version": "1.2.0",
          "state": {
            "_model_module": "@jupyter-widgets/base",
            "_model_module_version": "1.2.0",
            "_model_name": "LayoutModel",
            "_view_count": null,
            "_view_module": "@jupyter-widgets/base",
            "_view_module_version": "1.2.0",
            "_view_name": "LayoutView",
            "align_content": null,
            "align_items": null,
            "align_self": null,
            "border": null,
            "bottom": null,
            "display": null,
            "flex": null,
            "flex_flow": null,
            "grid_area": null,
            "grid_auto_columns": null,
            "grid_auto_flow": null,
            "grid_auto_rows": null,
            "grid_column": null,
            "grid_gap": null,
            "grid_row": null,
            "grid_template_areas": null,
            "grid_template_columns": null,
            "grid_template_rows": null,
            "height": null,
            "justify_content": null,
            "justify_items": null,
            "left": null,
            "margin": null,
            "max_height": null,
            "max_width": null,
            "min_height": null,
            "min_width": null,
            "object_fit": null,
            "object_position": null,
            "order": null,
            "overflow": null,
            "overflow_x": null,
            "overflow_y": null,
            "padding": null,
            "right": null,
            "top": null,
            "visibility": null,
            "width": null
          }
        },
        "2bc43fec152b4fd783312a6f19317a77": {
          "model_module": "@jupyter-widgets/controls",
          "model_name": "DescriptionStyleModel",
          "model_module_version": "1.5.0",
          "state": {
            "_model_module": "@jupyter-widgets/controls",
            "_model_module_version": "1.5.0",
            "_model_name": "DescriptionStyleModel",
            "_view_count": null,
            "_view_module": "@jupyter-widgets/base",
            "_view_module_version": "1.2.0",
            "_view_name": "StyleView",
            "description_width": ""
          }
        },
        "990939f27c9c4cad898bf2b31dbe9482": {
          "model_module": "@jupyter-widgets/base",
          "model_name": "LayoutModel",
          "model_module_version": "1.2.0",
          "state": {
            "_model_module": "@jupyter-widgets/base",
            "_model_module_version": "1.2.0",
            "_model_name": "LayoutModel",
            "_view_count": null,
            "_view_module": "@jupyter-widgets/base",
            "_view_module_version": "1.2.0",
            "_view_name": "LayoutView",
            "align_content": null,
            "align_items": null,
            "align_self": null,
            "border": null,
            "bottom": null,
            "display": null,
            "flex": null,
            "flex_flow": null,
            "grid_area": null,
            "grid_auto_columns": null,
            "grid_auto_flow": null,
            "grid_auto_rows": null,
            "grid_column": null,
            "grid_gap": null,
            "grid_row": null,
            "grid_template_areas": null,
            "grid_template_columns": null,
            "grid_template_rows": null,
            "height": null,
            "justify_content": null,
            "justify_items": null,
            "left": null,
            "margin": null,
            "max_height": null,
            "max_width": null,
            "min_height": null,
            "min_width": null,
            "object_fit": null,
            "object_position": null,
            "order": null,
            "overflow": null,
            "overflow_x": null,
            "overflow_y": null,
            "padding": null,
            "right": null,
            "top": null,
            "visibility": null,
            "width": null
          }
        },
        "1f74b14a076f46739051e4e8f7caa86e": {
          "model_module": "@jupyter-widgets/controls",
          "model_name": "ProgressStyleModel",
          "model_module_version": "1.5.0",
          "state": {
            "_model_module": "@jupyter-widgets/controls",
            "_model_module_version": "1.5.0",
            "_model_name": "ProgressStyleModel",
            "_view_count": null,
            "_view_module": "@jupyter-widgets/base",
            "_view_module_version": "1.2.0",
            "_view_name": "StyleView",
            "bar_color": null,
            "description_width": ""
          }
        },
        "61f7054944994e868ac54b7d7aeb38f9": {
          "model_module": "@jupyter-widgets/base",
          "model_name": "LayoutModel",
          "model_module_version": "1.2.0",
          "state": {
            "_model_module": "@jupyter-widgets/base",
            "_model_module_version": "1.2.0",
            "_model_name": "LayoutModel",
            "_view_count": null,
            "_view_module": "@jupyter-widgets/base",
            "_view_module_version": "1.2.0",
            "_view_name": "LayoutView",
            "align_content": null,
            "align_items": null,
            "align_self": null,
            "border": null,
            "bottom": null,
            "display": null,
            "flex": null,
            "flex_flow": null,
            "grid_area": null,
            "grid_auto_columns": null,
            "grid_auto_flow": null,
            "grid_auto_rows": null,
            "grid_column": null,
            "grid_gap": null,
            "grid_row": null,
            "grid_template_areas": null,
            "grid_template_columns": null,
            "grid_template_rows": null,
            "height": null,
            "justify_content": null,
            "justify_items": null,
            "left": null,
            "margin": null,
            "max_height": null,
            "max_width": null,
            "min_height": null,
            "min_width": null,
            "object_fit": null,
            "object_position": null,
            "order": null,
            "overflow": null,
            "overflow_x": null,
            "overflow_y": null,
            "padding": null,
            "right": null,
            "top": null,
            "visibility": null,
            "width": null
          }
        },
        "58a6bdbdc56f4298ab767d6ae5d435ea": {
          "model_module": "@jupyter-widgets/controls",
          "model_name": "DescriptionStyleModel",
          "model_module_version": "1.5.0",
          "state": {
            "_model_module": "@jupyter-widgets/controls",
            "_model_module_version": "1.5.0",
            "_model_name": "DescriptionStyleModel",
            "_view_count": null,
            "_view_module": "@jupyter-widgets/base",
            "_view_module_version": "1.2.0",
            "_view_name": "StyleView",
            "description_width": ""
          }
        },
        "6fad9a53072746c0a53d510bfe13e9ca": {
          "model_module": "@jupyter-widgets/controls",
          "model_name": "HBoxModel",
          "model_module_version": "1.5.0",
          "state": {
            "_dom_classes": [],
            "_model_module": "@jupyter-widgets/controls",
            "_model_module_version": "1.5.0",
            "_model_name": "HBoxModel",
            "_view_count": null,
            "_view_module": "@jupyter-widgets/controls",
            "_view_module_version": "1.5.0",
            "_view_name": "HBoxView",
            "box_style": "",
            "children": [
              "IPY_MODEL_589770ce8ac742c98d7d13896ebd4281",
              "IPY_MODEL_a1545094c4f443818a5c432798cde091",
              "IPY_MODEL_b638e79d692a4aec898aaa978633137e"
            ],
            "layout": "IPY_MODEL_2f7e96011afc4a98ada10d2625a728ff"
          }
        },
        "589770ce8ac742c98d7d13896ebd4281": {
          "model_module": "@jupyter-widgets/controls",
          "model_name": "HTMLModel",
          "model_module_version": "1.5.0",
          "state": {
            "_dom_classes": [],
            "_model_module": "@jupyter-widgets/controls",
            "_model_module_version": "1.5.0",
            "_model_name": "HTMLModel",
            "_view_count": null,
            "_view_module": "@jupyter-widgets/controls",
            "_view_module_version": "1.5.0",
            "_view_name": "HTMLView",
            "description": "",
            "description_tooltip": null,
            "layout": "IPY_MODEL_970d8221c61d4df9bee50afe6270aece",
            "placeholder": "​",
            "style": "IPY_MODEL_bbc54d9c95d945c89861cbfe9af1bae0",
            "value": "model-00001-of-00008.safetensors: 100%"
          }
        },
        "a1545094c4f443818a5c432798cde091": {
          "model_module": "@jupyter-widgets/controls",
          "model_name": "FloatProgressModel",
          "model_module_version": "1.5.0",
          "state": {
            "_dom_classes": [],
            "_model_module": "@jupyter-widgets/controls",
            "_model_module_version": "1.5.0",
            "_model_name": "FloatProgressModel",
            "_view_count": null,
            "_view_module": "@jupyter-widgets/controls",
            "_view_module_version": "1.5.0",
            "_view_name": "ProgressView",
            "bar_style": "success",
            "description": "",
            "description_tooltip": null,
            "layout": "IPY_MODEL_7787e5bc8498462b8dc75939ce29d9f9",
            "max": 1889587040,
            "min": 0,
            "orientation": "horizontal",
            "style": "IPY_MODEL_0d0d4e3300d64bdaa54c22c4377dde71",
            "value": 1889587040
          }
        },
        "b638e79d692a4aec898aaa978633137e": {
          "model_module": "@jupyter-widgets/controls",
          "model_name": "HTMLModel",
          "model_module_version": "1.5.0",
          "state": {
            "_dom_classes": [],
            "_model_module": "@jupyter-widgets/controls",
            "_model_module_version": "1.5.0",
            "_model_name": "HTMLModel",
            "_view_count": null,
            "_view_module": "@jupyter-widgets/controls",
            "_view_module_version": "1.5.0",
            "_view_name": "HTMLView",
            "description": "",
            "description_tooltip": null,
            "layout": "IPY_MODEL_53d039a056b34fec99b267a72fe74c0b",
            "placeholder": "​",
            "style": "IPY_MODEL_59f3e54fa6ef4331a9c860b6592042d5",
            "value": " 1.89G/1.89G [00:08&lt;00:00, 243MB/s]"
          }
        },
        "2f7e96011afc4a98ada10d2625a728ff": {
          "model_module": "@jupyter-widgets/base",
          "model_name": "LayoutModel",
          "model_module_version": "1.2.0",
          "state": {
            "_model_module": "@jupyter-widgets/base",
            "_model_module_version": "1.2.0",
            "_model_name": "LayoutModel",
            "_view_count": null,
            "_view_module": "@jupyter-widgets/base",
            "_view_module_version": "1.2.0",
            "_view_name": "LayoutView",
            "align_content": null,
            "align_items": null,
            "align_self": null,
            "border": null,
            "bottom": null,
            "display": null,
            "flex": null,
            "flex_flow": null,
            "grid_area": null,
            "grid_auto_columns": null,
            "grid_auto_flow": null,
            "grid_auto_rows": null,
            "grid_column": null,
            "grid_gap": null,
            "grid_row": null,
            "grid_template_areas": null,
            "grid_template_columns": null,
            "grid_template_rows": null,
            "height": null,
            "justify_content": null,
            "justify_items": null,
            "left": null,
            "margin": null,
            "max_height": null,
            "max_width": null,
            "min_height": null,
            "min_width": null,
            "object_fit": null,
            "object_position": null,
            "order": null,
            "overflow": null,
            "overflow_x": null,
            "overflow_y": null,
            "padding": null,
            "right": null,
            "top": null,
            "visibility": null,
            "width": null
          }
        },
        "970d8221c61d4df9bee50afe6270aece": {
          "model_module": "@jupyter-widgets/base",
          "model_name": "LayoutModel",
          "model_module_version": "1.2.0",
          "state": {
            "_model_module": "@jupyter-widgets/base",
            "_model_module_version": "1.2.0",
            "_model_name": "LayoutModel",
            "_view_count": null,
            "_view_module": "@jupyter-widgets/base",
            "_view_module_version": "1.2.0",
            "_view_name": "LayoutView",
            "align_content": null,
            "align_items": null,
            "align_self": null,
            "border": null,
            "bottom": null,
            "display": null,
            "flex": null,
            "flex_flow": null,
            "grid_area": null,
            "grid_auto_columns": null,
            "grid_auto_flow": null,
            "grid_auto_rows": null,
            "grid_column": null,
            "grid_gap": null,
            "grid_row": null,
            "grid_template_areas": null,
            "grid_template_columns": null,
            "grid_template_rows": null,
            "height": null,
            "justify_content": null,
            "justify_items": null,
            "left": null,
            "margin": null,
            "max_height": null,
            "max_width": null,
            "min_height": null,
            "min_width": null,
            "object_fit": null,
            "object_position": null,
            "order": null,
            "overflow": null,
            "overflow_x": null,
            "overflow_y": null,
            "padding": null,
            "right": null,
            "top": null,
            "visibility": null,
            "width": null
          }
        },
        "bbc54d9c95d945c89861cbfe9af1bae0": {
          "model_module": "@jupyter-widgets/controls",
          "model_name": "DescriptionStyleModel",
          "model_module_version": "1.5.0",
          "state": {
            "_model_module": "@jupyter-widgets/controls",
            "_model_module_version": "1.5.0",
            "_model_name": "DescriptionStyleModel",
            "_view_count": null,
            "_view_module": "@jupyter-widgets/base",
            "_view_module_version": "1.2.0",
            "_view_name": "StyleView",
            "description_width": ""
          }
        },
        "7787e5bc8498462b8dc75939ce29d9f9": {
          "model_module": "@jupyter-widgets/base",
          "model_name": "LayoutModel",
          "model_module_version": "1.2.0",
          "state": {
            "_model_module": "@jupyter-widgets/base",
            "_model_module_version": "1.2.0",
            "_model_name": "LayoutModel",
            "_view_count": null,
            "_view_module": "@jupyter-widgets/base",
            "_view_module_version": "1.2.0",
            "_view_name": "LayoutView",
            "align_content": null,
            "align_items": null,
            "align_self": null,
            "border": null,
            "bottom": null,
            "display": null,
            "flex": null,
            "flex_flow": null,
            "grid_area": null,
            "grid_auto_columns": null,
            "grid_auto_flow": null,
            "grid_auto_rows": null,
            "grid_column": null,
            "grid_gap": null,
            "grid_row": null,
            "grid_template_areas": null,
            "grid_template_columns": null,
            "grid_template_rows": null,
            "height": null,
            "justify_content": null,
            "justify_items": null,
            "left": null,
            "margin": null,
            "max_height": null,
            "max_width": null,
            "min_height": null,
            "min_width": null,
            "object_fit": null,
            "object_position": null,
            "order": null,
            "overflow": null,
            "overflow_x": null,
            "overflow_y": null,
            "padding": null,
            "right": null,
            "top": null,
            "visibility": null,
            "width": null
          }
        },
        "0d0d4e3300d64bdaa54c22c4377dde71": {
          "model_module": "@jupyter-widgets/controls",
          "model_name": "ProgressStyleModel",
          "model_module_version": "1.5.0",
          "state": {
            "_model_module": "@jupyter-widgets/controls",
            "_model_module_version": "1.5.0",
            "_model_name": "ProgressStyleModel",
            "_view_count": null,
            "_view_module": "@jupyter-widgets/base",
            "_view_module_version": "1.2.0",
            "_view_name": "StyleView",
            "bar_color": null,
            "description_width": ""
          }
        },
        "53d039a056b34fec99b267a72fe74c0b": {
          "model_module": "@jupyter-widgets/base",
          "model_name": "LayoutModel",
          "model_module_version": "1.2.0",
          "state": {
            "_model_module": "@jupyter-widgets/base",
            "_model_module_version": "1.2.0",
            "_model_name": "LayoutModel",
            "_view_count": null,
            "_view_module": "@jupyter-widgets/base",
            "_view_module_version": "1.2.0",
            "_view_name": "LayoutView",
            "align_content": null,
            "align_items": null,
            "align_self": null,
            "border": null,
            "bottom": null,
            "display": null,
            "flex": null,
            "flex_flow": null,
            "grid_area": null,
            "grid_auto_columns": null,
            "grid_auto_flow": null,
            "grid_auto_rows": null,
            "grid_column": null,
            "grid_gap": null,
            "grid_row": null,
            "grid_template_areas": null,
            "grid_template_columns": null,
            "grid_template_rows": null,
            "height": null,
            "justify_content": null,
            "justify_items": null,
            "left": null,
            "margin": null,
            "max_height": null,
            "max_width": null,
            "min_height": null,
            "min_width": null,
            "object_fit": null,
            "object_position": null,
            "order": null,
            "overflow": null,
            "overflow_x": null,
            "overflow_y": null,
            "padding": null,
            "right": null,
            "top": null,
            "visibility": null,
            "width": null
          }
        },
        "59f3e54fa6ef4331a9c860b6592042d5": {
          "model_module": "@jupyter-widgets/controls",
          "model_name": "DescriptionStyleModel",
          "model_module_version": "1.5.0",
          "state": {
            "_model_module": "@jupyter-widgets/controls",
            "_model_module_version": "1.5.0",
            "_model_name": "DescriptionStyleModel",
            "_view_count": null,
            "_view_module": "@jupyter-widgets/base",
            "_view_module_version": "1.2.0",
            "_view_name": "StyleView",
            "description_width": ""
          }
        },
        "c7bdde633d1c4886957a9a6122e3bbbc": {
          "model_module": "@jupyter-widgets/controls",
          "model_name": "HBoxModel",
          "model_module_version": "1.5.0",
          "state": {
            "_dom_classes": [],
            "_model_module": "@jupyter-widgets/controls",
            "_model_module_version": "1.5.0",
            "_model_name": "HBoxModel",
            "_view_count": null,
            "_view_module": "@jupyter-widgets/controls",
            "_view_module_version": "1.5.0",
            "_view_name": "HBoxView",
            "box_style": "",
            "children": [
              "IPY_MODEL_cfcf4f505da845cab33cc592eb4c5092",
              "IPY_MODEL_456825baf6fb48119c975b35d3bf359a",
              "IPY_MODEL_45091706a3b44354a6d8e4f1b0b42760"
            ],
            "layout": "IPY_MODEL_0857fb0416de494e8c93c409c0a646b3"
          }
        },
        "cfcf4f505da845cab33cc592eb4c5092": {
          "model_module": "@jupyter-widgets/controls",
          "model_name": "HTMLModel",
          "model_module_version": "1.5.0",
          "state": {
            "_dom_classes": [],
            "_model_module": "@jupyter-widgets/controls",
            "_model_module_version": "1.5.0",
            "_model_name": "HTMLModel",
            "_view_count": null,
            "_view_module": "@jupyter-widgets/controls",
            "_view_module_version": "1.5.0",
            "_view_name": "HTMLView",
            "description": "",
            "description_tooltip": null,
            "layout": "IPY_MODEL_3c9b80aa398d4e9e8490b86c1de1bc44",
            "placeholder": "​",
            "style": "IPY_MODEL_3071a40466144f239028990e689af853",
            "value": "model-00002-of-00008.safetensors: 100%"
          }
        },
        "456825baf6fb48119c975b35d3bf359a": {
          "model_module": "@jupyter-widgets/controls",
          "model_name": "FloatProgressModel",
          "model_module_version": "1.5.0",
          "state": {
            "_dom_classes": [],
            "_model_module": "@jupyter-widgets/controls",
            "_model_module_version": "1.5.0",
            "_model_name": "FloatProgressModel",
            "_view_count": null,
            "_view_module": "@jupyter-widgets/controls",
            "_view_module_version": "1.5.0",
            "_view_name": "ProgressView",
            "bar_style": "success",
            "description": "",
            "description_tooltip": null,
            "layout": "IPY_MODEL_6897fc75b9494d5f94d9b877a7ef9bba",
            "max": 1946243936,
            "min": 0,
            "orientation": "horizontal",
            "style": "IPY_MODEL_deae00f0ecb142f1af056f8ffed3d811",
            "value": 1946243936
          }
        },
        "45091706a3b44354a6d8e4f1b0b42760": {
          "model_module": "@jupyter-widgets/controls",
          "model_name": "HTMLModel",
          "model_module_version": "1.5.0",
          "state": {
            "_dom_classes": [],
            "_model_module": "@jupyter-widgets/controls",
            "_model_module_version": "1.5.0",
            "_model_name": "HTMLModel",
            "_view_count": null,
            "_view_module": "@jupyter-widgets/controls",
            "_view_module_version": "1.5.0",
            "_view_name": "HTMLView",
            "description": "",
            "description_tooltip": null,
            "layout": "IPY_MODEL_cb682d3e7f374eae9647c81b0baf2831",
            "placeholder": "​",
            "style": "IPY_MODEL_8e582dd963e846b3b23eda89718bf550",
            "value": " 1.95G/1.95G [00:07&lt;00:00, 284MB/s]"
          }
        },
        "0857fb0416de494e8c93c409c0a646b3": {
          "model_module": "@jupyter-widgets/base",
          "model_name": "LayoutModel",
          "model_module_version": "1.2.0",
          "state": {
            "_model_module": "@jupyter-widgets/base",
            "_model_module_version": "1.2.0",
            "_model_name": "LayoutModel",
            "_view_count": null,
            "_view_module": "@jupyter-widgets/base",
            "_view_module_version": "1.2.0",
            "_view_name": "LayoutView",
            "align_content": null,
            "align_items": null,
            "align_self": null,
            "border": null,
            "bottom": null,
            "display": null,
            "flex": null,
            "flex_flow": null,
            "grid_area": null,
            "grid_auto_columns": null,
            "grid_auto_flow": null,
            "grid_auto_rows": null,
            "grid_column": null,
            "grid_gap": null,
            "grid_row": null,
            "grid_template_areas": null,
            "grid_template_columns": null,
            "grid_template_rows": null,
            "height": null,
            "justify_content": null,
            "justify_items": null,
            "left": null,
            "margin": null,
            "max_height": null,
            "max_width": null,
            "min_height": null,
            "min_width": null,
            "object_fit": null,
            "object_position": null,
            "order": null,
            "overflow": null,
            "overflow_x": null,
            "overflow_y": null,
            "padding": null,
            "right": null,
            "top": null,
            "visibility": null,
            "width": null
          }
        },
        "3c9b80aa398d4e9e8490b86c1de1bc44": {
          "model_module": "@jupyter-widgets/base",
          "model_name": "LayoutModel",
          "model_module_version": "1.2.0",
          "state": {
            "_model_module": "@jupyter-widgets/base",
            "_model_module_version": "1.2.0",
            "_model_name": "LayoutModel",
            "_view_count": null,
            "_view_module": "@jupyter-widgets/base",
            "_view_module_version": "1.2.0",
            "_view_name": "LayoutView",
            "align_content": null,
            "align_items": null,
            "align_self": null,
            "border": null,
            "bottom": null,
            "display": null,
            "flex": null,
            "flex_flow": null,
            "grid_area": null,
            "grid_auto_columns": null,
            "grid_auto_flow": null,
            "grid_auto_rows": null,
            "grid_column": null,
            "grid_gap": null,
            "grid_row": null,
            "grid_template_areas": null,
            "grid_template_columns": null,
            "grid_template_rows": null,
            "height": null,
            "justify_content": null,
            "justify_items": null,
            "left": null,
            "margin": null,
            "max_height": null,
            "max_width": null,
            "min_height": null,
            "min_width": null,
            "object_fit": null,
            "object_position": null,
            "order": null,
            "overflow": null,
            "overflow_x": null,
            "overflow_y": null,
            "padding": null,
            "right": null,
            "top": null,
            "visibility": null,
            "width": null
          }
        },
        "3071a40466144f239028990e689af853": {
          "model_module": "@jupyter-widgets/controls",
          "model_name": "DescriptionStyleModel",
          "model_module_version": "1.5.0",
          "state": {
            "_model_module": "@jupyter-widgets/controls",
            "_model_module_version": "1.5.0",
            "_model_name": "DescriptionStyleModel",
            "_view_count": null,
            "_view_module": "@jupyter-widgets/base",
            "_view_module_version": "1.2.0",
            "_view_name": "StyleView",
            "description_width": ""
          }
        },
        "6897fc75b9494d5f94d9b877a7ef9bba": {
          "model_module": "@jupyter-widgets/base",
          "model_name": "LayoutModel",
          "model_module_version": "1.2.0",
          "state": {
            "_model_module": "@jupyter-widgets/base",
            "_model_module_version": "1.2.0",
            "_model_name": "LayoutModel",
            "_view_count": null,
            "_view_module": "@jupyter-widgets/base",
            "_view_module_version": "1.2.0",
            "_view_name": "LayoutView",
            "align_content": null,
            "align_items": null,
            "align_self": null,
            "border": null,
            "bottom": null,
            "display": null,
            "flex": null,
            "flex_flow": null,
            "grid_area": null,
            "grid_auto_columns": null,
            "grid_auto_flow": null,
            "grid_auto_rows": null,
            "grid_column": null,
            "grid_gap": null,
            "grid_row": null,
            "grid_template_areas": null,
            "grid_template_columns": null,
            "grid_template_rows": null,
            "height": null,
            "justify_content": null,
            "justify_items": null,
            "left": null,
            "margin": null,
            "max_height": null,
            "max_width": null,
            "min_height": null,
            "min_width": null,
            "object_fit": null,
            "object_position": null,
            "order": null,
            "overflow": null,
            "overflow_x": null,
            "overflow_y": null,
            "padding": null,
            "right": null,
            "top": null,
            "visibility": null,
            "width": null
          }
        },
        "deae00f0ecb142f1af056f8ffed3d811": {
          "model_module": "@jupyter-widgets/controls",
          "model_name": "ProgressStyleModel",
          "model_module_version": "1.5.0",
          "state": {
            "_model_module": "@jupyter-widgets/controls",
            "_model_module_version": "1.5.0",
            "_model_name": "ProgressStyleModel",
            "_view_count": null,
            "_view_module": "@jupyter-widgets/base",
            "_view_module_version": "1.2.0",
            "_view_name": "StyleView",
            "bar_color": null,
            "description_width": ""
          }
        },
        "cb682d3e7f374eae9647c81b0baf2831": {
          "model_module": "@jupyter-widgets/base",
          "model_name": "LayoutModel",
          "model_module_version": "1.2.0",
          "state": {
            "_model_module": "@jupyter-widgets/base",
            "_model_module_version": "1.2.0",
            "_model_name": "LayoutModel",
            "_view_count": null,
            "_view_module": "@jupyter-widgets/base",
            "_view_module_version": "1.2.0",
            "_view_name": "LayoutView",
            "align_content": null,
            "align_items": null,
            "align_self": null,
            "border": null,
            "bottom": null,
            "display": null,
            "flex": null,
            "flex_flow": null,
            "grid_area": null,
            "grid_auto_columns": null,
            "grid_auto_flow": null,
            "grid_auto_rows": null,
            "grid_column": null,
            "grid_gap": null,
            "grid_row": null,
            "grid_template_areas": null,
            "grid_template_columns": null,
            "grid_template_rows": null,
            "height": null,
            "justify_content": null,
            "justify_items": null,
            "left": null,
            "margin": null,
            "max_height": null,
            "max_width": null,
            "min_height": null,
            "min_width": null,
            "object_fit": null,
            "object_position": null,
            "order": null,
            "overflow": null,
            "overflow_x": null,
            "overflow_y": null,
            "padding": null,
            "right": null,
            "top": null,
            "visibility": null,
            "width": null
          }
        },
        "8e582dd963e846b3b23eda89718bf550": {
          "model_module": "@jupyter-widgets/controls",
          "model_name": "DescriptionStyleModel",
          "model_module_version": "1.5.0",
          "state": {
            "_model_module": "@jupyter-widgets/controls",
            "_model_module_version": "1.5.0",
            "_model_name": "DescriptionStyleModel",
            "_view_count": null,
            "_view_module": "@jupyter-widgets/base",
            "_view_module_version": "1.2.0",
            "_view_name": "StyleView",
            "description_width": ""
          }
        },
        "e17360e575874f0f8236568acd77453e": {
          "model_module": "@jupyter-widgets/controls",
          "model_name": "HBoxModel",
          "model_module_version": "1.5.0",
          "state": {
            "_dom_classes": [],
            "_model_module": "@jupyter-widgets/controls",
            "_model_module_version": "1.5.0",
            "_model_name": "HBoxModel",
            "_view_count": null,
            "_view_module": "@jupyter-widgets/controls",
            "_view_module_version": "1.5.0",
            "_view_name": "HBoxView",
            "box_style": "",
            "children": [
              "IPY_MODEL_2364f5ac29d843e7b85bc5f6eb84cce5",
              "IPY_MODEL_e2bfb2f793674a69a3da10eeb917fd7e",
              "IPY_MODEL_fcb83f6ce86b43dab3385e19e3492e5a"
            ],
            "layout": "IPY_MODEL_531d92367cf64dd9b642083260614d1e"
          }
        },
        "2364f5ac29d843e7b85bc5f6eb84cce5": {
          "model_module": "@jupyter-widgets/controls",
          "model_name": "HTMLModel",
          "model_module_version": "1.5.0",
          "state": {
            "_dom_classes": [],
            "_model_module": "@jupyter-widgets/controls",
            "_model_module_version": "1.5.0",
            "_model_name": "HTMLModel",
            "_view_count": null,
            "_view_module": "@jupyter-widgets/controls",
            "_view_module_version": "1.5.0",
            "_view_name": "HTMLView",
            "description": "",
            "description_tooltip": null,
            "layout": "IPY_MODEL_26cf5eab518b49cf86cafa00f2995841",
            "placeholder": "​",
            "style": "IPY_MODEL_4c3c6422becc47e59f6201fd03cfc542",
            "value": "model-00003-of-00008.safetensors: 100%"
          }
        },
        "e2bfb2f793674a69a3da10eeb917fd7e": {
          "model_module": "@jupyter-widgets/controls",
          "model_name": "FloatProgressModel",
          "model_module_version": "1.5.0",
          "state": {
            "_dom_classes": [],
            "_model_module": "@jupyter-widgets/controls",
            "_model_module_version": "1.5.0",
            "_model_name": "FloatProgressModel",
            "_view_count": null,
            "_view_module": "@jupyter-widgets/controls",
            "_view_module_version": "1.5.0",
            "_view_name": "ProgressView",
            "bar_style": "success",
            "description": "",
            "description_tooltip": null,
            "layout": "IPY_MODEL_dc8178981a0044739ddc335d9c40047e",
            "max": 1979781432,
            "min": 0,
            "orientation": "horizontal",
            "style": "IPY_MODEL_2e301403dad243829ddc95db00dbd83b",
            "value": 1979781432
          }
        },
        "fcb83f6ce86b43dab3385e19e3492e5a": {
          "model_module": "@jupyter-widgets/controls",
          "model_name": "HTMLModel",
          "model_module_version": "1.5.0",
          "state": {
            "_dom_classes": [],
            "_model_module": "@jupyter-widgets/controls",
            "_model_module_version": "1.5.0",
            "_model_name": "HTMLModel",
            "_view_count": null,
            "_view_module": "@jupyter-widgets/controls",
            "_view_module_version": "1.5.0",
            "_view_name": "HTMLView",
            "description": "",
            "description_tooltip": null,
            "layout": "IPY_MODEL_c869890a12cc454cb2191b4493bb3802",
            "placeholder": "​",
            "style": "IPY_MODEL_d41ac75a97d04b4f8746808f1d03bf42",
            "value": " 1.98G/1.98G [00:16&lt;00:00, 239MB/s]"
          }
        },
        "531d92367cf64dd9b642083260614d1e": {
          "model_module": "@jupyter-widgets/base",
          "model_name": "LayoutModel",
          "model_module_version": "1.2.0",
          "state": {
            "_model_module": "@jupyter-widgets/base",
            "_model_module_version": "1.2.0",
            "_model_name": "LayoutModel",
            "_view_count": null,
            "_view_module": "@jupyter-widgets/base",
            "_view_module_version": "1.2.0",
            "_view_name": "LayoutView",
            "align_content": null,
            "align_items": null,
            "align_self": null,
            "border": null,
            "bottom": null,
            "display": null,
            "flex": null,
            "flex_flow": null,
            "grid_area": null,
            "grid_auto_columns": null,
            "grid_auto_flow": null,
            "grid_auto_rows": null,
            "grid_column": null,
            "grid_gap": null,
            "grid_row": null,
            "grid_template_areas": null,
            "grid_template_columns": null,
            "grid_template_rows": null,
            "height": null,
            "justify_content": null,
            "justify_items": null,
            "left": null,
            "margin": null,
            "max_height": null,
            "max_width": null,
            "min_height": null,
            "min_width": null,
            "object_fit": null,
            "object_position": null,
            "order": null,
            "overflow": null,
            "overflow_x": null,
            "overflow_y": null,
            "padding": null,
            "right": null,
            "top": null,
            "visibility": null,
            "width": null
          }
        },
        "26cf5eab518b49cf86cafa00f2995841": {
          "model_module": "@jupyter-widgets/base",
          "model_name": "LayoutModel",
          "model_module_version": "1.2.0",
          "state": {
            "_model_module": "@jupyter-widgets/base",
            "_model_module_version": "1.2.0",
            "_model_name": "LayoutModel",
            "_view_count": null,
            "_view_module": "@jupyter-widgets/base",
            "_view_module_version": "1.2.0",
            "_view_name": "LayoutView",
            "align_content": null,
            "align_items": null,
            "align_self": null,
            "border": null,
            "bottom": null,
            "display": null,
            "flex": null,
            "flex_flow": null,
            "grid_area": null,
            "grid_auto_columns": null,
            "grid_auto_flow": null,
            "grid_auto_rows": null,
            "grid_column": null,
            "grid_gap": null,
            "grid_row": null,
            "grid_template_areas": null,
            "grid_template_columns": null,
            "grid_template_rows": null,
            "height": null,
            "justify_content": null,
            "justify_items": null,
            "left": null,
            "margin": null,
            "max_height": null,
            "max_width": null,
            "min_height": null,
            "min_width": null,
            "object_fit": null,
            "object_position": null,
            "order": null,
            "overflow": null,
            "overflow_x": null,
            "overflow_y": null,
            "padding": null,
            "right": null,
            "top": null,
            "visibility": null,
            "width": null
          }
        },
        "4c3c6422becc47e59f6201fd03cfc542": {
          "model_module": "@jupyter-widgets/controls",
          "model_name": "DescriptionStyleModel",
          "model_module_version": "1.5.0",
          "state": {
            "_model_module": "@jupyter-widgets/controls",
            "_model_module_version": "1.5.0",
            "_model_name": "DescriptionStyleModel",
            "_view_count": null,
            "_view_module": "@jupyter-widgets/base",
            "_view_module_version": "1.2.0",
            "_view_name": "StyleView",
            "description_width": ""
          }
        },
        "dc8178981a0044739ddc335d9c40047e": {
          "model_module": "@jupyter-widgets/base",
          "model_name": "LayoutModel",
          "model_module_version": "1.2.0",
          "state": {
            "_model_module": "@jupyter-widgets/base",
            "_model_module_version": "1.2.0",
            "_model_name": "LayoutModel",
            "_view_count": null,
            "_view_module": "@jupyter-widgets/base",
            "_view_module_version": "1.2.0",
            "_view_name": "LayoutView",
            "align_content": null,
            "align_items": null,
            "align_self": null,
            "border": null,
            "bottom": null,
            "display": null,
            "flex": null,
            "flex_flow": null,
            "grid_area": null,
            "grid_auto_columns": null,
            "grid_auto_flow": null,
            "grid_auto_rows": null,
            "grid_column": null,
            "grid_gap": null,
            "grid_row": null,
            "grid_template_areas": null,
            "grid_template_columns": null,
            "grid_template_rows": null,
            "height": null,
            "justify_content": null,
            "justify_items": null,
            "left": null,
            "margin": null,
            "max_height": null,
            "max_width": null,
            "min_height": null,
            "min_width": null,
            "object_fit": null,
            "object_position": null,
            "order": null,
            "overflow": null,
            "overflow_x": null,
            "overflow_y": null,
            "padding": null,
            "right": null,
            "top": null,
            "visibility": null,
            "width": null
          }
        },
        "2e301403dad243829ddc95db00dbd83b": {
          "model_module": "@jupyter-widgets/controls",
          "model_name": "ProgressStyleModel",
          "model_module_version": "1.5.0",
          "state": {
            "_model_module": "@jupyter-widgets/controls",
            "_model_module_version": "1.5.0",
            "_model_name": "ProgressStyleModel",
            "_view_count": null,
            "_view_module": "@jupyter-widgets/base",
            "_view_module_version": "1.2.0",
            "_view_name": "StyleView",
            "bar_color": null,
            "description_width": ""
          }
        },
        "c869890a12cc454cb2191b4493bb3802": {
          "model_module": "@jupyter-widgets/base",
          "model_name": "LayoutModel",
          "model_module_version": "1.2.0",
          "state": {
            "_model_module": "@jupyter-widgets/base",
            "_model_module_version": "1.2.0",
            "_model_name": "LayoutModel",
            "_view_count": null,
            "_view_module": "@jupyter-widgets/base",
            "_view_module_version": "1.2.0",
            "_view_name": "LayoutView",
            "align_content": null,
            "align_items": null,
            "align_self": null,
            "border": null,
            "bottom": null,
            "display": null,
            "flex": null,
            "flex_flow": null,
            "grid_area": null,
            "grid_auto_columns": null,
            "grid_auto_flow": null,
            "grid_auto_rows": null,
            "grid_column": null,
            "grid_gap": null,
            "grid_row": null,
            "grid_template_areas": null,
            "grid_template_columns": null,
            "grid_template_rows": null,
            "height": null,
            "justify_content": null,
            "justify_items": null,
            "left": null,
            "margin": null,
            "max_height": null,
            "max_width": null,
            "min_height": null,
            "min_width": null,
            "object_fit": null,
            "object_position": null,
            "order": null,
            "overflow": null,
            "overflow_x": null,
            "overflow_y": null,
            "padding": null,
            "right": null,
            "top": null,
            "visibility": null,
            "width": null
          }
        },
        "d41ac75a97d04b4f8746808f1d03bf42": {
          "model_module": "@jupyter-widgets/controls",
          "model_name": "DescriptionStyleModel",
          "model_module_version": "1.5.0",
          "state": {
            "_model_module": "@jupyter-widgets/controls",
            "_model_module_version": "1.5.0",
            "_model_name": "DescriptionStyleModel",
            "_view_count": null,
            "_view_module": "@jupyter-widgets/base",
            "_view_module_version": "1.2.0",
            "_view_name": "StyleView",
            "description_width": ""
          }
        },
        "59d9fd8ae9d64e2896cbba6a30bca10e": {
          "model_module": "@jupyter-widgets/controls",
          "model_name": "HBoxModel",
          "model_module_version": "1.5.0",
          "state": {
            "_dom_classes": [],
            "_model_module": "@jupyter-widgets/controls",
            "_model_module_version": "1.5.0",
            "_model_name": "HBoxModel",
            "_view_count": null,
            "_view_module": "@jupyter-widgets/controls",
            "_view_module_version": "1.5.0",
            "_view_name": "HBoxView",
            "box_style": "",
            "children": [
              "IPY_MODEL_b03fb24aae394d5e9c47e9dec19adede",
              "IPY_MODEL_7d67609521184f52bdbdcc9838f01854",
              "IPY_MODEL_0ee1749729304638ae39ebd436b97e70"
            ],
            "layout": "IPY_MODEL_d49f2c0251914f35987ce7c282eefa3a"
          }
        },
        "b03fb24aae394d5e9c47e9dec19adede": {
          "model_module": "@jupyter-widgets/controls",
          "model_name": "HTMLModel",
          "model_module_version": "1.5.0",
          "state": {
            "_dom_classes": [],
            "_model_module": "@jupyter-widgets/controls",
            "_model_module_version": "1.5.0",
            "_model_name": "HTMLModel",
            "_view_count": null,
            "_view_module": "@jupyter-widgets/controls",
            "_view_module_version": "1.5.0",
            "_view_name": "HTMLView",
            "description": "",
            "description_tooltip": null,
            "layout": "IPY_MODEL_71b210ec24254a5183cf34cc95f8470d",
            "placeholder": "​",
            "style": "IPY_MODEL_be781ae4cc3b456c8b6b1b76f0d29b48",
            "value": "model-00004-of-00008.safetensors: 100%"
          }
        },
        "7d67609521184f52bdbdcc9838f01854": {
          "model_module": "@jupyter-widgets/controls",
          "model_name": "FloatProgressModel",
          "model_module_version": "1.5.0",
          "state": {
            "_dom_classes": [],
            "_model_module": "@jupyter-widgets/controls",
            "_model_module_version": "1.5.0",
            "_model_name": "FloatProgressModel",
            "_view_count": null,
            "_view_module": "@jupyter-widgets/controls",
            "_view_module_version": "1.5.0",
            "_view_name": "ProgressView",
            "bar_style": "success",
            "description": "",
            "description_tooltip": null,
            "layout": "IPY_MODEL_435266cbe0194c2695eed436cba3475a",
            "max": 1946243984,
            "min": 0,
            "orientation": "horizontal",
            "style": "IPY_MODEL_39d2a64f9e5847c397dfe3637d813ece",
            "value": 1946243984
          }
        },
        "0ee1749729304638ae39ebd436b97e70": {
          "model_module": "@jupyter-widgets/controls",
          "model_name": "HTMLModel",
          "model_module_version": "1.5.0",
          "state": {
            "_dom_classes": [],
            "_model_module": "@jupyter-widgets/controls",
            "_model_module_version": "1.5.0",
            "_model_name": "HTMLModel",
            "_view_count": null,
            "_view_module": "@jupyter-widgets/controls",
            "_view_module_version": "1.5.0",
            "_view_name": "HTMLView",
            "description": "",
            "description_tooltip": null,
            "layout": "IPY_MODEL_116a238e23ec41a49dfbba2f76da80f7",
            "placeholder": "​",
            "style": "IPY_MODEL_24157938387e48168f7e224bdb618b95",
            "value": " 1.95G/1.95G [00:13&lt;00:00, 198MB/s]"
          }
        },
        "d49f2c0251914f35987ce7c282eefa3a": {
          "model_module": "@jupyter-widgets/base",
          "model_name": "LayoutModel",
          "model_module_version": "1.2.0",
          "state": {
            "_model_module": "@jupyter-widgets/base",
            "_model_module_version": "1.2.0",
            "_model_name": "LayoutModel",
            "_view_count": null,
            "_view_module": "@jupyter-widgets/base",
            "_view_module_version": "1.2.0",
            "_view_name": "LayoutView",
            "align_content": null,
            "align_items": null,
            "align_self": null,
            "border": null,
            "bottom": null,
            "display": null,
            "flex": null,
            "flex_flow": null,
            "grid_area": null,
            "grid_auto_columns": null,
            "grid_auto_flow": null,
            "grid_auto_rows": null,
            "grid_column": null,
            "grid_gap": null,
            "grid_row": null,
            "grid_template_areas": null,
            "grid_template_columns": null,
            "grid_template_rows": null,
            "height": null,
            "justify_content": null,
            "justify_items": null,
            "left": null,
            "margin": null,
            "max_height": null,
            "max_width": null,
            "min_height": null,
            "min_width": null,
            "object_fit": null,
            "object_position": null,
            "order": null,
            "overflow": null,
            "overflow_x": null,
            "overflow_y": null,
            "padding": null,
            "right": null,
            "top": null,
            "visibility": null,
            "width": null
          }
        },
        "71b210ec24254a5183cf34cc95f8470d": {
          "model_module": "@jupyter-widgets/base",
          "model_name": "LayoutModel",
          "model_module_version": "1.2.0",
          "state": {
            "_model_module": "@jupyter-widgets/base",
            "_model_module_version": "1.2.0",
            "_model_name": "LayoutModel",
            "_view_count": null,
            "_view_module": "@jupyter-widgets/base",
            "_view_module_version": "1.2.0",
            "_view_name": "LayoutView",
            "align_content": null,
            "align_items": null,
            "align_self": null,
            "border": null,
            "bottom": null,
            "display": null,
            "flex": null,
            "flex_flow": null,
            "grid_area": null,
            "grid_auto_columns": null,
            "grid_auto_flow": null,
            "grid_auto_rows": null,
            "grid_column": null,
            "grid_gap": null,
            "grid_row": null,
            "grid_template_areas": null,
            "grid_template_columns": null,
            "grid_template_rows": null,
            "height": null,
            "justify_content": null,
            "justify_items": null,
            "left": null,
            "margin": null,
            "max_height": null,
            "max_width": null,
            "min_height": null,
            "min_width": null,
            "object_fit": null,
            "object_position": null,
            "order": null,
            "overflow": null,
            "overflow_x": null,
            "overflow_y": null,
            "padding": null,
            "right": null,
            "top": null,
            "visibility": null,
            "width": null
          }
        },
        "be781ae4cc3b456c8b6b1b76f0d29b48": {
          "model_module": "@jupyter-widgets/controls",
          "model_name": "DescriptionStyleModel",
          "model_module_version": "1.5.0",
          "state": {
            "_model_module": "@jupyter-widgets/controls",
            "_model_module_version": "1.5.0",
            "_model_name": "DescriptionStyleModel",
            "_view_count": null,
            "_view_module": "@jupyter-widgets/base",
            "_view_module_version": "1.2.0",
            "_view_name": "StyleView",
            "description_width": ""
          }
        },
        "435266cbe0194c2695eed436cba3475a": {
          "model_module": "@jupyter-widgets/base",
          "model_name": "LayoutModel",
          "model_module_version": "1.2.0",
          "state": {
            "_model_module": "@jupyter-widgets/base",
            "_model_module_version": "1.2.0",
            "_model_name": "LayoutModel",
            "_view_count": null,
            "_view_module": "@jupyter-widgets/base",
            "_view_module_version": "1.2.0",
            "_view_name": "LayoutView",
            "align_content": null,
            "align_items": null,
            "align_self": null,
            "border": null,
            "bottom": null,
            "display": null,
            "flex": null,
            "flex_flow": null,
            "grid_area": null,
            "grid_auto_columns": null,
            "grid_auto_flow": null,
            "grid_auto_rows": null,
            "grid_column": null,
            "grid_gap": null,
            "grid_row": null,
            "grid_template_areas": null,
            "grid_template_columns": null,
            "grid_template_rows": null,
            "height": null,
            "justify_content": null,
            "justify_items": null,
            "left": null,
            "margin": null,
            "max_height": null,
            "max_width": null,
            "min_height": null,
            "min_width": null,
            "object_fit": null,
            "object_position": null,
            "order": null,
            "overflow": null,
            "overflow_x": null,
            "overflow_y": null,
            "padding": null,
            "right": null,
            "top": null,
            "visibility": null,
            "width": null
          }
        },
        "39d2a64f9e5847c397dfe3637d813ece": {
          "model_module": "@jupyter-widgets/controls",
          "model_name": "ProgressStyleModel",
          "model_module_version": "1.5.0",
          "state": {
            "_model_module": "@jupyter-widgets/controls",
            "_model_module_version": "1.5.0",
            "_model_name": "ProgressStyleModel",
            "_view_count": null,
            "_view_module": "@jupyter-widgets/base",
            "_view_module_version": "1.2.0",
            "_view_name": "StyleView",
            "bar_color": null,
            "description_width": ""
          }
        },
        "116a238e23ec41a49dfbba2f76da80f7": {
          "model_module": "@jupyter-widgets/base",
          "model_name": "LayoutModel",
          "model_module_version": "1.2.0",
          "state": {
            "_model_module": "@jupyter-widgets/base",
            "_model_module_version": "1.2.0",
            "_model_name": "LayoutModel",
            "_view_count": null,
            "_view_module": "@jupyter-widgets/base",
            "_view_module_version": "1.2.0",
            "_view_name": "LayoutView",
            "align_content": null,
            "align_items": null,
            "align_self": null,
            "border": null,
            "bottom": null,
            "display": null,
            "flex": null,
            "flex_flow": null,
            "grid_area": null,
            "grid_auto_columns": null,
            "grid_auto_flow": null,
            "grid_auto_rows": null,
            "grid_column": null,
            "grid_gap": null,
            "grid_row": null,
            "grid_template_areas": null,
            "grid_template_columns": null,
            "grid_template_rows": null,
            "height": null,
            "justify_content": null,
            "justify_items": null,
            "left": null,
            "margin": null,
            "max_height": null,
            "max_width": null,
            "min_height": null,
            "min_width": null,
            "object_fit": null,
            "object_position": null,
            "order": null,
            "overflow": null,
            "overflow_x": null,
            "overflow_y": null,
            "padding": null,
            "right": null,
            "top": null,
            "visibility": null,
            "width": null
          }
        },
        "24157938387e48168f7e224bdb618b95": {
          "model_module": "@jupyter-widgets/controls",
          "model_name": "DescriptionStyleModel",
          "model_module_version": "1.5.0",
          "state": {
            "_model_module": "@jupyter-widgets/controls",
            "_model_module_version": "1.5.0",
            "_model_name": "DescriptionStyleModel",
            "_view_count": null,
            "_view_module": "@jupyter-widgets/base",
            "_view_module_version": "1.2.0",
            "_view_name": "StyleView",
            "description_width": ""
          }
        },
        "aebece0c7d2643aab14dd173b928174a": {
          "model_module": "@jupyter-widgets/controls",
          "model_name": "HBoxModel",
          "model_module_version": "1.5.0",
          "state": {
            "_dom_classes": [],
            "_model_module": "@jupyter-widgets/controls",
            "_model_module_version": "1.5.0",
            "_model_name": "HBoxModel",
            "_view_count": null,
            "_view_module": "@jupyter-widgets/controls",
            "_view_module_version": "1.5.0",
            "_view_name": "HBoxView",
            "box_style": "",
            "children": [
              "IPY_MODEL_a0071a804f7e485c84266d3831b3f2a4",
              "IPY_MODEL_eed9022d0d154c1b9bf5746087cb6643",
              "IPY_MODEL_53b4d5a706af4c4e86c4cfc199b7439e"
            ],
            "layout": "IPY_MODEL_aeab9a9ca67f40c0bc01465890c4df91"
          }
        },
        "a0071a804f7e485c84266d3831b3f2a4": {
          "model_module": "@jupyter-widgets/controls",
          "model_name": "HTMLModel",
          "model_module_version": "1.5.0",
          "state": {
            "_dom_classes": [],
            "_model_module": "@jupyter-widgets/controls",
            "_model_module_version": "1.5.0",
            "_model_name": "HTMLModel",
            "_view_count": null,
            "_view_module": "@jupyter-widgets/controls",
            "_view_module_version": "1.5.0",
            "_view_name": "HTMLView",
            "description": "",
            "description_tooltip": null,
            "layout": "IPY_MODEL_2a2356f2768d4fb7ad1a7b8332d3444b",
            "placeholder": "​",
            "style": "IPY_MODEL_f4dd5abc1386420997493f375a7cccf6",
            "value": "model-00005-of-00008.safetensors: 100%"
          }
        },
        "eed9022d0d154c1b9bf5746087cb6643": {
          "model_module": "@jupyter-widgets/controls",
          "model_name": "FloatProgressModel",
          "model_module_version": "1.5.0",
          "state": {
            "_dom_classes": [],
            "_model_module": "@jupyter-widgets/controls",
            "_model_module_version": "1.5.0",
            "_model_name": "FloatProgressModel",
            "_view_count": null,
            "_view_module": "@jupyter-widgets/controls",
            "_view_module_version": "1.5.0",
            "_view_name": "ProgressView",
            "bar_style": "success",
            "description": "",
            "description_tooltip": null,
            "layout": "IPY_MODEL_f26cae88a6924bb5832a3e77f51a09e6",
            "max": 1979781448,
            "min": 0,
            "orientation": "horizontal",
            "style": "IPY_MODEL_a258151fd1ff48d690fdf5dcc656cc68",
            "value": 1979781448
          }
        },
        "53b4d5a706af4c4e86c4cfc199b7439e": {
          "model_module": "@jupyter-widgets/controls",
          "model_name": "HTMLModel",
          "model_module_version": "1.5.0",
          "state": {
            "_dom_classes": [],
            "_model_module": "@jupyter-widgets/controls",
            "_model_module_version": "1.5.0",
            "_model_name": "HTMLModel",
            "_view_count": null,
            "_view_module": "@jupyter-widgets/controls",
            "_view_module_version": "1.5.0",
            "_view_name": "HTMLView",
            "description": "",
            "description_tooltip": null,
            "layout": "IPY_MODEL_e4462a50ff0c4187b82d95a8eefdbd06",
            "placeholder": "​",
            "style": "IPY_MODEL_a03ca937c1774a35a19cb19445365a75",
            "value": " 1.98G/1.98G [00:08&lt;00:00, 231MB/s]"
          }
        },
        "aeab9a9ca67f40c0bc01465890c4df91": {
          "model_module": "@jupyter-widgets/base",
          "model_name": "LayoutModel",
          "model_module_version": "1.2.0",
          "state": {
            "_model_module": "@jupyter-widgets/base",
            "_model_module_version": "1.2.0",
            "_model_name": "LayoutModel",
            "_view_count": null,
            "_view_module": "@jupyter-widgets/base",
            "_view_module_version": "1.2.0",
            "_view_name": "LayoutView",
            "align_content": null,
            "align_items": null,
            "align_self": null,
            "border": null,
            "bottom": null,
            "display": null,
            "flex": null,
            "flex_flow": null,
            "grid_area": null,
            "grid_auto_columns": null,
            "grid_auto_flow": null,
            "grid_auto_rows": null,
            "grid_column": null,
            "grid_gap": null,
            "grid_row": null,
            "grid_template_areas": null,
            "grid_template_columns": null,
            "grid_template_rows": null,
            "height": null,
            "justify_content": null,
            "justify_items": null,
            "left": null,
            "margin": null,
            "max_height": null,
            "max_width": null,
            "min_height": null,
            "min_width": null,
            "object_fit": null,
            "object_position": null,
            "order": null,
            "overflow": null,
            "overflow_x": null,
            "overflow_y": null,
            "padding": null,
            "right": null,
            "top": null,
            "visibility": null,
            "width": null
          }
        },
        "2a2356f2768d4fb7ad1a7b8332d3444b": {
          "model_module": "@jupyter-widgets/base",
          "model_name": "LayoutModel",
          "model_module_version": "1.2.0",
          "state": {
            "_model_module": "@jupyter-widgets/base",
            "_model_module_version": "1.2.0",
            "_model_name": "LayoutModel",
            "_view_count": null,
            "_view_module": "@jupyter-widgets/base",
            "_view_module_version": "1.2.0",
            "_view_name": "LayoutView",
            "align_content": null,
            "align_items": null,
            "align_self": null,
            "border": null,
            "bottom": null,
            "display": null,
            "flex": null,
            "flex_flow": null,
            "grid_area": null,
            "grid_auto_columns": null,
            "grid_auto_flow": null,
            "grid_auto_rows": null,
            "grid_column": null,
            "grid_gap": null,
            "grid_row": null,
            "grid_template_areas": null,
            "grid_template_columns": null,
            "grid_template_rows": null,
            "height": null,
            "justify_content": null,
            "justify_items": null,
            "left": null,
            "margin": null,
            "max_height": null,
            "max_width": null,
            "min_height": null,
            "min_width": null,
            "object_fit": null,
            "object_position": null,
            "order": null,
            "overflow": null,
            "overflow_x": null,
            "overflow_y": null,
            "padding": null,
            "right": null,
            "top": null,
            "visibility": null,
            "width": null
          }
        },
        "f4dd5abc1386420997493f375a7cccf6": {
          "model_module": "@jupyter-widgets/controls",
          "model_name": "DescriptionStyleModel",
          "model_module_version": "1.5.0",
          "state": {
            "_model_module": "@jupyter-widgets/controls",
            "_model_module_version": "1.5.0",
            "_model_name": "DescriptionStyleModel",
            "_view_count": null,
            "_view_module": "@jupyter-widgets/base",
            "_view_module_version": "1.2.0",
            "_view_name": "StyleView",
            "description_width": ""
          }
        },
        "f26cae88a6924bb5832a3e77f51a09e6": {
          "model_module": "@jupyter-widgets/base",
          "model_name": "LayoutModel",
          "model_module_version": "1.2.0",
          "state": {
            "_model_module": "@jupyter-widgets/base",
            "_model_module_version": "1.2.0",
            "_model_name": "LayoutModel",
            "_view_count": null,
            "_view_module": "@jupyter-widgets/base",
            "_view_module_version": "1.2.0",
            "_view_name": "LayoutView",
            "align_content": null,
            "align_items": null,
            "align_self": null,
            "border": null,
            "bottom": null,
            "display": null,
            "flex": null,
            "flex_flow": null,
            "grid_area": null,
            "grid_auto_columns": null,
            "grid_auto_flow": null,
            "grid_auto_rows": null,
            "grid_column": null,
            "grid_gap": null,
            "grid_row": null,
            "grid_template_areas": null,
            "grid_template_columns": null,
            "grid_template_rows": null,
            "height": null,
            "justify_content": null,
            "justify_items": null,
            "left": null,
            "margin": null,
            "max_height": null,
            "max_width": null,
            "min_height": null,
            "min_width": null,
            "object_fit": null,
            "object_position": null,
            "order": null,
            "overflow": null,
            "overflow_x": null,
            "overflow_y": null,
            "padding": null,
            "right": null,
            "top": null,
            "visibility": null,
            "width": null
          }
        },
        "a258151fd1ff48d690fdf5dcc656cc68": {
          "model_module": "@jupyter-widgets/controls",
          "model_name": "ProgressStyleModel",
          "model_module_version": "1.5.0",
          "state": {
            "_model_module": "@jupyter-widgets/controls",
            "_model_module_version": "1.5.0",
            "_model_name": "ProgressStyleModel",
            "_view_count": null,
            "_view_module": "@jupyter-widgets/base",
            "_view_module_version": "1.2.0",
            "_view_name": "StyleView",
            "bar_color": null,
            "description_width": ""
          }
        },
        "e4462a50ff0c4187b82d95a8eefdbd06": {
          "model_module": "@jupyter-widgets/base",
          "model_name": "LayoutModel",
          "model_module_version": "1.2.0",
          "state": {
            "_model_module": "@jupyter-widgets/base",
            "_model_module_version": "1.2.0",
            "_model_name": "LayoutModel",
            "_view_count": null,
            "_view_module": "@jupyter-widgets/base",
            "_view_module_version": "1.2.0",
            "_view_name": "LayoutView",
            "align_content": null,
            "align_items": null,
            "align_self": null,
            "border": null,
            "bottom": null,
            "display": null,
            "flex": null,
            "flex_flow": null,
            "grid_area": null,
            "grid_auto_columns": null,
            "grid_auto_flow": null,
            "grid_auto_rows": null,
            "grid_column": null,
            "grid_gap": null,
            "grid_row": null,
            "grid_template_areas": null,
            "grid_template_columns": null,
            "grid_template_rows": null,
            "height": null,
            "justify_content": null,
            "justify_items": null,
            "left": null,
            "margin": null,
            "max_height": null,
            "max_width": null,
            "min_height": null,
            "min_width": null,
            "object_fit": null,
            "object_position": null,
            "order": null,
            "overflow": null,
            "overflow_x": null,
            "overflow_y": null,
            "padding": null,
            "right": null,
            "top": null,
            "visibility": null,
            "width": null
          }
        },
        "a03ca937c1774a35a19cb19445365a75": {
          "model_module": "@jupyter-widgets/controls",
          "model_name": "DescriptionStyleModel",
          "model_module_version": "1.5.0",
          "state": {
            "_model_module": "@jupyter-widgets/controls",
            "_model_module_version": "1.5.0",
            "_model_name": "DescriptionStyleModel",
            "_view_count": null,
            "_view_module": "@jupyter-widgets/base",
            "_view_module_version": "1.2.0",
            "_view_name": "StyleView",
            "description_width": ""
          }
        },
        "3dff53a122f64982b065eb361436393a": {
          "model_module": "@jupyter-widgets/controls",
          "model_name": "HBoxModel",
          "model_module_version": "1.5.0",
          "state": {
            "_dom_classes": [],
            "_model_module": "@jupyter-widgets/controls",
            "_model_module_version": "1.5.0",
            "_model_name": "HBoxModel",
            "_view_count": null,
            "_view_module": "@jupyter-widgets/controls",
            "_view_module_version": "1.5.0",
            "_view_name": "HBoxView",
            "box_style": "",
            "children": [
              "IPY_MODEL_b733fbdeed8f4490992d861de9f41d2e",
              "IPY_MODEL_bb5dbbf080824d568359827af0c45903",
              "IPY_MODEL_98f920f6fc694548b703e636040ab706"
            ],
            "layout": "IPY_MODEL_25cf29facec74edca0223e729b174696"
          }
        },
        "b733fbdeed8f4490992d861de9f41d2e": {
          "model_module": "@jupyter-widgets/controls",
          "model_name": "HTMLModel",
          "model_module_version": "1.5.0",
          "state": {
            "_dom_classes": [],
            "_model_module": "@jupyter-widgets/controls",
            "_model_module_version": "1.5.0",
            "_model_name": "HTMLModel",
            "_view_count": null,
            "_view_module": "@jupyter-widgets/controls",
            "_view_module_version": "1.5.0",
            "_view_name": "HTMLView",
            "description": "",
            "description_tooltip": null,
            "layout": "IPY_MODEL_3608839abf944b039275f1c558a57e36",
            "placeholder": "​",
            "style": "IPY_MODEL_efe64db493b043dc9fb577d257d07779",
            "value": "model-00006-of-00008.safetensors: 100%"
          }
        },
        "bb5dbbf080824d568359827af0c45903": {
          "model_module": "@jupyter-widgets/controls",
          "model_name": "FloatProgressModel",
          "model_module_version": "1.5.0",
          "state": {
            "_dom_classes": [],
            "_model_module": "@jupyter-widgets/controls",
            "_model_module_version": "1.5.0",
            "_model_name": "FloatProgressModel",
            "_view_count": null,
            "_view_module": "@jupyter-widgets/controls",
            "_view_module_version": "1.5.0",
            "_view_name": "ProgressView",
            "bar_style": "success",
            "description": "",
            "description_tooltip": null,
            "layout": "IPY_MODEL_8b428bd7cffe46898f0aa7a39d87cfa9",
            "max": 1946243984,
            "min": 0,
            "orientation": "horizontal",
            "style": "IPY_MODEL_097467501d8249109888cc5a045c2401",
            "value": 1946243984
          }
        },
        "98f920f6fc694548b703e636040ab706": {
          "model_module": "@jupyter-widgets/controls",
          "model_name": "HTMLModel",
          "model_module_version": "1.5.0",
          "state": {
            "_dom_classes": [],
            "_model_module": "@jupyter-widgets/controls",
            "_model_module_version": "1.5.0",
            "_model_name": "HTMLModel",
            "_view_count": null,
            "_view_module": "@jupyter-widgets/controls",
            "_view_module_version": "1.5.0",
            "_view_name": "HTMLView",
            "description": "",
            "description_tooltip": null,
            "layout": "IPY_MODEL_2a475f871f2b4082b8ddbff25fca125d",
            "placeholder": "​",
            "style": "IPY_MODEL_bb6b0550584242f1bef3531442285ec4",
            "value": " 1.95G/1.95G [00:10&lt;00:00, 130MB/s]"
          }
        },
        "25cf29facec74edca0223e729b174696": {
          "model_module": "@jupyter-widgets/base",
          "model_name": "LayoutModel",
          "model_module_version": "1.2.0",
          "state": {
            "_model_module": "@jupyter-widgets/base",
            "_model_module_version": "1.2.0",
            "_model_name": "LayoutModel",
            "_view_count": null,
            "_view_module": "@jupyter-widgets/base",
            "_view_module_version": "1.2.0",
            "_view_name": "LayoutView",
            "align_content": null,
            "align_items": null,
            "align_self": null,
            "border": null,
            "bottom": null,
            "display": null,
            "flex": null,
            "flex_flow": null,
            "grid_area": null,
            "grid_auto_columns": null,
            "grid_auto_flow": null,
            "grid_auto_rows": null,
            "grid_column": null,
            "grid_gap": null,
            "grid_row": null,
            "grid_template_areas": null,
            "grid_template_columns": null,
            "grid_template_rows": null,
            "height": null,
            "justify_content": null,
            "justify_items": null,
            "left": null,
            "margin": null,
            "max_height": null,
            "max_width": null,
            "min_height": null,
            "min_width": null,
            "object_fit": null,
            "object_position": null,
            "order": null,
            "overflow": null,
            "overflow_x": null,
            "overflow_y": null,
            "padding": null,
            "right": null,
            "top": null,
            "visibility": null,
            "width": null
          }
        },
        "3608839abf944b039275f1c558a57e36": {
          "model_module": "@jupyter-widgets/base",
          "model_name": "LayoutModel",
          "model_module_version": "1.2.0",
          "state": {
            "_model_module": "@jupyter-widgets/base",
            "_model_module_version": "1.2.0",
            "_model_name": "LayoutModel",
            "_view_count": null,
            "_view_module": "@jupyter-widgets/base",
            "_view_module_version": "1.2.0",
            "_view_name": "LayoutView",
            "align_content": null,
            "align_items": null,
            "align_self": null,
            "border": null,
            "bottom": null,
            "display": null,
            "flex": null,
            "flex_flow": null,
            "grid_area": null,
            "grid_auto_columns": null,
            "grid_auto_flow": null,
            "grid_auto_rows": null,
            "grid_column": null,
            "grid_gap": null,
            "grid_row": null,
            "grid_template_areas": null,
            "grid_template_columns": null,
            "grid_template_rows": null,
            "height": null,
            "justify_content": null,
            "justify_items": null,
            "left": null,
            "margin": null,
            "max_height": null,
            "max_width": null,
            "min_height": null,
            "min_width": null,
            "object_fit": null,
            "object_position": null,
            "order": null,
            "overflow": null,
            "overflow_x": null,
            "overflow_y": null,
            "padding": null,
            "right": null,
            "top": null,
            "visibility": null,
            "width": null
          }
        },
        "efe64db493b043dc9fb577d257d07779": {
          "model_module": "@jupyter-widgets/controls",
          "model_name": "DescriptionStyleModel",
          "model_module_version": "1.5.0",
          "state": {
            "_model_module": "@jupyter-widgets/controls",
            "_model_module_version": "1.5.0",
            "_model_name": "DescriptionStyleModel",
            "_view_count": null,
            "_view_module": "@jupyter-widgets/base",
            "_view_module_version": "1.2.0",
            "_view_name": "StyleView",
            "description_width": ""
          }
        },
        "8b428bd7cffe46898f0aa7a39d87cfa9": {
          "model_module": "@jupyter-widgets/base",
          "model_name": "LayoutModel",
          "model_module_version": "1.2.0",
          "state": {
            "_model_module": "@jupyter-widgets/base",
            "_model_module_version": "1.2.0",
            "_model_name": "LayoutModel",
            "_view_count": null,
            "_view_module": "@jupyter-widgets/base",
            "_view_module_version": "1.2.0",
            "_view_name": "LayoutView",
            "align_content": null,
            "align_items": null,
            "align_self": null,
            "border": null,
            "bottom": null,
            "display": null,
            "flex": null,
            "flex_flow": null,
            "grid_area": null,
            "grid_auto_columns": null,
            "grid_auto_flow": null,
            "grid_auto_rows": null,
            "grid_column": null,
            "grid_gap": null,
            "grid_row": null,
            "grid_template_areas": null,
            "grid_template_columns": null,
            "grid_template_rows": null,
            "height": null,
            "justify_content": null,
            "justify_items": null,
            "left": null,
            "margin": null,
            "max_height": null,
            "max_width": null,
            "min_height": null,
            "min_width": null,
            "object_fit": null,
            "object_position": null,
            "order": null,
            "overflow": null,
            "overflow_x": null,
            "overflow_y": null,
            "padding": null,
            "right": null,
            "top": null,
            "visibility": null,
            "width": null
          }
        },
        "097467501d8249109888cc5a045c2401": {
          "model_module": "@jupyter-widgets/controls",
          "model_name": "ProgressStyleModel",
          "model_module_version": "1.5.0",
          "state": {
            "_model_module": "@jupyter-widgets/controls",
            "_model_module_version": "1.5.0",
            "_model_name": "ProgressStyleModel",
            "_view_count": null,
            "_view_module": "@jupyter-widgets/base",
            "_view_module_version": "1.2.0",
            "_view_name": "StyleView",
            "bar_color": null,
            "description_width": ""
          }
        },
        "2a475f871f2b4082b8ddbff25fca125d": {
          "model_module": "@jupyter-widgets/base",
          "model_name": "LayoutModel",
          "model_module_version": "1.2.0",
          "state": {
            "_model_module": "@jupyter-widgets/base",
            "_model_module_version": "1.2.0",
            "_model_name": "LayoutModel",
            "_view_count": null,
            "_view_module": "@jupyter-widgets/base",
            "_view_module_version": "1.2.0",
            "_view_name": "LayoutView",
            "align_content": null,
            "align_items": null,
            "align_self": null,
            "border": null,
            "bottom": null,
            "display": null,
            "flex": null,
            "flex_flow": null,
            "grid_area": null,
            "grid_auto_columns": null,
            "grid_auto_flow": null,
            "grid_auto_rows": null,
            "grid_column": null,
            "grid_gap": null,
            "grid_row": null,
            "grid_template_areas": null,
            "grid_template_columns": null,
            "grid_template_rows": null,
            "height": null,
            "justify_content": null,
            "justify_items": null,
            "left": null,
            "margin": null,
            "max_height": null,
            "max_width": null,
            "min_height": null,
            "min_width": null,
            "object_fit": null,
            "object_position": null,
            "order": null,
            "overflow": null,
            "overflow_x": null,
            "overflow_y": null,
            "padding": null,
            "right": null,
            "top": null,
            "visibility": null,
            "width": null
          }
        },
        "bb6b0550584242f1bef3531442285ec4": {
          "model_module": "@jupyter-widgets/controls",
          "model_name": "DescriptionStyleModel",
          "model_module_version": "1.5.0",
          "state": {
            "_model_module": "@jupyter-widgets/controls",
            "_model_module_version": "1.5.0",
            "_model_name": "DescriptionStyleModel",
            "_view_count": null,
            "_view_module": "@jupyter-widgets/base",
            "_view_module_version": "1.2.0",
            "_view_name": "StyleView",
            "description_width": ""
          }
        },
        "f13c9bb4f8b646db8eae9bc5ce51d4ea": {
          "model_module": "@jupyter-widgets/controls",
          "model_name": "HBoxModel",
          "model_module_version": "1.5.0",
          "state": {
            "_dom_classes": [],
            "_model_module": "@jupyter-widgets/controls",
            "_model_module_version": "1.5.0",
            "_model_name": "HBoxModel",
            "_view_count": null,
            "_view_module": "@jupyter-widgets/controls",
            "_view_module_version": "1.5.0",
            "_view_name": "HBoxView",
            "box_style": "",
            "children": [
              "IPY_MODEL_67523f6f0ede4901ae5f936db0fa2d8f",
              "IPY_MODEL_0766f0f4e0dd4a42bf75721280cde7bc",
              "IPY_MODEL_ec2b25295d664294ba6aff689e1da0f8"
            ],
            "layout": "IPY_MODEL_f37b0eb865ca4317a0d96a975007f7cf"
          }
        },
        "67523f6f0ede4901ae5f936db0fa2d8f": {
          "model_module": "@jupyter-widgets/controls",
          "model_name": "HTMLModel",
          "model_module_version": "1.5.0",
          "state": {
            "_dom_classes": [],
            "_model_module": "@jupyter-widgets/controls",
            "_model_module_version": "1.5.0",
            "_model_name": "HTMLModel",
            "_view_count": null,
            "_view_module": "@jupyter-widgets/controls",
            "_view_module_version": "1.5.0",
            "_view_name": "HTMLView",
            "description": "",
            "description_tooltip": null,
            "layout": "IPY_MODEL_15a15e16ea624ca4aa15720d163b2876",
            "placeholder": "​",
            "style": "IPY_MODEL_6cff0489aeed4a8c8e280c71ae387477",
            "value": "model-00007-of-00008.safetensors: 100%"
          }
        },
        "0766f0f4e0dd4a42bf75721280cde7bc": {
          "model_module": "@jupyter-widgets/controls",
          "model_name": "FloatProgressModel",
          "model_module_version": "1.5.0",
          "state": {
            "_dom_classes": [],
            "_model_module": "@jupyter-widgets/controls",
            "_model_module_version": "1.5.0",
            "_model_name": "FloatProgressModel",
            "_view_count": null,
            "_view_module": "@jupyter-widgets/controls",
            "_view_module_version": "1.5.0",
            "_view_name": "ProgressView",
            "bar_style": "success",
            "description": "",
            "description_tooltip": null,
            "layout": "IPY_MODEL_b9f833a07b3942489aab65e5b5339239",
            "max": 1979781448,
            "min": 0,
            "orientation": "horizontal",
            "style": "IPY_MODEL_543e778f84a947dc96172b0ed3b17b64",
            "value": 1979781448
          }
        },
        "ec2b25295d664294ba6aff689e1da0f8": {
          "model_module": "@jupyter-widgets/controls",
          "model_name": "HTMLModel",
          "model_module_version": "1.5.0",
          "state": {
            "_dom_classes": [],
            "_model_module": "@jupyter-widgets/controls",
            "_model_module_version": "1.5.0",
            "_model_name": "HTMLModel",
            "_view_count": null,
            "_view_module": "@jupyter-widgets/controls",
            "_view_module_version": "1.5.0",
            "_view_name": "HTMLView",
            "description": "",
            "description_tooltip": null,
            "layout": "IPY_MODEL_b00c40b7b52f452f97c8bae847aeb747",
            "placeholder": "​",
            "style": "IPY_MODEL_1618533021974ea5a6f6df747d5fc5d9",
            "value": " 1.98G/1.98G [00:09&lt;00:00, 133MB/s]"
          }
        },
        "f37b0eb865ca4317a0d96a975007f7cf": {
          "model_module": "@jupyter-widgets/base",
          "model_name": "LayoutModel",
          "model_module_version": "1.2.0",
          "state": {
            "_model_module": "@jupyter-widgets/base",
            "_model_module_version": "1.2.0",
            "_model_name": "LayoutModel",
            "_view_count": null,
            "_view_module": "@jupyter-widgets/base",
            "_view_module_version": "1.2.0",
            "_view_name": "LayoutView",
            "align_content": null,
            "align_items": null,
            "align_self": null,
            "border": null,
            "bottom": null,
            "display": null,
            "flex": null,
            "flex_flow": null,
            "grid_area": null,
            "grid_auto_columns": null,
            "grid_auto_flow": null,
            "grid_auto_rows": null,
            "grid_column": null,
            "grid_gap": null,
            "grid_row": null,
            "grid_template_areas": null,
            "grid_template_columns": null,
            "grid_template_rows": null,
            "height": null,
            "justify_content": null,
            "justify_items": null,
            "left": null,
            "margin": null,
            "max_height": null,
            "max_width": null,
            "min_height": null,
            "min_width": null,
            "object_fit": null,
            "object_position": null,
            "order": null,
            "overflow": null,
            "overflow_x": null,
            "overflow_y": null,
            "padding": null,
            "right": null,
            "top": null,
            "visibility": null,
            "width": null
          }
        },
        "15a15e16ea624ca4aa15720d163b2876": {
          "model_module": "@jupyter-widgets/base",
          "model_name": "LayoutModel",
          "model_module_version": "1.2.0",
          "state": {
            "_model_module": "@jupyter-widgets/base",
            "_model_module_version": "1.2.0",
            "_model_name": "LayoutModel",
            "_view_count": null,
            "_view_module": "@jupyter-widgets/base",
            "_view_module_version": "1.2.0",
            "_view_name": "LayoutView",
            "align_content": null,
            "align_items": null,
            "align_self": null,
            "border": null,
            "bottom": null,
            "display": null,
            "flex": null,
            "flex_flow": null,
            "grid_area": null,
            "grid_auto_columns": null,
            "grid_auto_flow": null,
            "grid_auto_rows": null,
            "grid_column": null,
            "grid_gap": null,
            "grid_row": null,
            "grid_template_areas": null,
            "grid_template_columns": null,
            "grid_template_rows": null,
            "height": null,
            "justify_content": null,
            "justify_items": null,
            "left": null,
            "margin": null,
            "max_height": null,
            "max_width": null,
            "min_height": null,
            "min_width": null,
            "object_fit": null,
            "object_position": null,
            "order": null,
            "overflow": null,
            "overflow_x": null,
            "overflow_y": null,
            "padding": null,
            "right": null,
            "top": null,
            "visibility": null,
            "width": null
          }
        },
        "6cff0489aeed4a8c8e280c71ae387477": {
          "model_module": "@jupyter-widgets/controls",
          "model_name": "DescriptionStyleModel",
          "model_module_version": "1.5.0",
          "state": {
            "_model_module": "@jupyter-widgets/controls",
            "_model_module_version": "1.5.0",
            "_model_name": "DescriptionStyleModel",
            "_view_count": null,
            "_view_module": "@jupyter-widgets/base",
            "_view_module_version": "1.2.0",
            "_view_name": "StyleView",
            "description_width": ""
          }
        },
        "b9f833a07b3942489aab65e5b5339239": {
          "model_module": "@jupyter-widgets/base",
          "model_name": "LayoutModel",
          "model_module_version": "1.2.0",
          "state": {
            "_model_module": "@jupyter-widgets/base",
            "_model_module_version": "1.2.0",
            "_model_name": "LayoutModel",
            "_view_count": null,
            "_view_module": "@jupyter-widgets/base",
            "_view_module_version": "1.2.0",
            "_view_name": "LayoutView",
            "align_content": null,
            "align_items": null,
            "align_self": null,
            "border": null,
            "bottom": null,
            "display": null,
            "flex": null,
            "flex_flow": null,
            "grid_area": null,
            "grid_auto_columns": null,
            "grid_auto_flow": null,
            "grid_auto_rows": null,
            "grid_column": null,
            "grid_gap": null,
            "grid_row": null,
            "grid_template_areas": null,
            "grid_template_columns": null,
            "grid_template_rows": null,
            "height": null,
            "justify_content": null,
            "justify_items": null,
            "left": null,
            "margin": null,
            "max_height": null,
            "max_width": null,
            "min_height": null,
            "min_width": null,
            "object_fit": null,
            "object_position": null,
            "order": null,
            "overflow": null,
            "overflow_x": null,
            "overflow_y": null,
            "padding": null,
            "right": null,
            "top": null,
            "visibility": null,
            "width": null
          }
        },
        "543e778f84a947dc96172b0ed3b17b64": {
          "model_module": "@jupyter-widgets/controls",
          "model_name": "ProgressStyleModel",
          "model_module_version": "1.5.0",
          "state": {
            "_model_module": "@jupyter-widgets/controls",
            "_model_module_version": "1.5.0",
            "_model_name": "ProgressStyleModel",
            "_view_count": null,
            "_view_module": "@jupyter-widgets/base",
            "_view_module_version": "1.2.0",
            "_view_name": "StyleView",
            "bar_color": null,
            "description_width": ""
          }
        },
        "b00c40b7b52f452f97c8bae847aeb747": {
          "model_module": "@jupyter-widgets/base",
          "model_name": "LayoutModel",
          "model_module_version": "1.2.0",
          "state": {
            "_model_module": "@jupyter-widgets/base",
            "_model_module_version": "1.2.0",
            "_model_name": "LayoutModel",
            "_view_count": null,
            "_view_module": "@jupyter-widgets/base",
            "_view_module_version": "1.2.0",
            "_view_name": "LayoutView",
            "align_content": null,
            "align_items": null,
            "align_self": null,
            "border": null,
            "bottom": null,
            "display": null,
            "flex": null,
            "flex_flow": null,
            "grid_area": null,
            "grid_auto_columns": null,
            "grid_auto_flow": null,
            "grid_auto_rows": null,
            "grid_column": null,
            "grid_gap": null,
            "grid_row": null,
            "grid_template_areas": null,
            "grid_template_columns": null,
            "grid_template_rows": null,
            "height": null,
            "justify_content": null,
            "justify_items": null,
            "left": null,
            "margin": null,
            "max_height": null,
            "max_width": null,
            "min_height": null,
            "min_width": null,
            "object_fit": null,
            "object_position": null,
            "order": null,
            "overflow": null,
            "overflow_x": null,
            "overflow_y": null,
            "padding": null,
            "right": null,
            "top": null,
            "visibility": null,
            "width": null
          }
        },
        "1618533021974ea5a6f6df747d5fc5d9": {
          "model_module": "@jupyter-widgets/controls",
          "model_name": "DescriptionStyleModel",
          "model_module_version": "1.5.0",
          "state": {
            "_model_module": "@jupyter-widgets/controls",
            "_model_module_version": "1.5.0",
            "_model_name": "DescriptionStyleModel",
            "_view_count": null,
            "_view_module": "@jupyter-widgets/base",
            "_view_module_version": "1.2.0",
            "_view_name": "StyleView",
            "description_width": ""
          }
        },
        "c11769ef532f4002bb34b4c5649d855a": {
          "model_module": "@jupyter-widgets/controls",
          "model_name": "HBoxModel",
          "model_module_version": "1.5.0",
          "state": {
            "_dom_classes": [],
            "_model_module": "@jupyter-widgets/controls",
            "_model_module_version": "1.5.0",
            "_model_name": "HBoxModel",
            "_view_count": null,
            "_view_module": "@jupyter-widgets/controls",
            "_view_module_version": "1.5.0",
            "_view_name": "HBoxView",
            "box_style": "",
            "children": [
              "IPY_MODEL_c924dda8d7d348eaa85ef0dabce64e5a",
              "IPY_MODEL_778d71d1c84e407881523ecdedb81fb4",
              "IPY_MODEL_dafc822eed2f4ccda768d6ca49d068e8"
            ],
            "layout": "IPY_MODEL_9a59774067c5432bb3f1595c13e86130"
          }
        },
        "c924dda8d7d348eaa85ef0dabce64e5a": {
          "model_module": "@jupyter-widgets/controls",
          "model_name": "HTMLModel",
          "model_module_version": "1.5.0",
          "state": {
            "_dom_classes": [],
            "_model_module": "@jupyter-widgets/controls",
            "_model_module_version": "1.5.0",
            "_model_name": "HTMLModel",
            "_view_count": null,
            "_view_module": "@jupyter-widgets/controls",
            "_view_module_version": "1.5.0",
            "_view_name": "HTMLView",
            "description": "",
            "description_tooltip": null,
            "layout": "IPY_MODEL_f187b9b12f5347f88f2299b3601a97d0",
            "placeholder": "​",
            "style": "IPY_MODEL_060d7f8ed65b481cae56eb8387f8594e",
            "value": "model-00008-of-00008.safetensors: 100%"
          }
        },
        "778d71d1c84e407881523ecdedb81fb4": {
          "model_module": "@jupyter-widgets/controls",
          "model_name": "FloatProgressModel",
          "model_module_version": "1.5.0",
          "state": {
            "_dom_classes": [],
            "_model_module": "@jupyter-widgets/controls",
            "_model_module_version": "1.5.0",
            "_model_name": "FloatProgressModel",
            "_view_count": null,
            "_view_module": "@jupyter-widgets/controls",
            "_view_module_version": "1.5.0",
            "_view_name": "ProgressView",
            "bar_style": "success",
            "description": "",
            "description_tooltip": null,
            "layout": "IPY_MODEL_dc64a1ad880b4004a91ec1c2710208dc",
            "max": 815834680,
            "min": 0,
            "orientation": "horizontal",
            "style": "IPY_MODEL_054695d4928d40d098a299e17a7a6ea3",
            "value": 815834680
          }
        },
        "dafc822eed2f4ccda768d6ca49d068e8": {
          "model_module": "@jupyter-widgets/controls",
          "model_name": "HTMLModel",
          "model_module_version": "1.5.0",
          "state": {
            "_dom_classes": [],
            "_model_module": "@jupyter-widgets/controls",
            "_model_module_version": "1.5.0",
            "_model_name": "HTMLModel",
            "_view_count": null,
            "_view_module": "@jupyter-widgets/controls",
            "_view_module_version": "1.5.0",
            "_view_name": "HTMLView",
            "description": "",
            "description_tooltip": null,
            "layout": "IPY_MODEL_b93261b38cf94c93ba5d78a2bcb7bc0e",
            "placeholder": "​",
            "style": "IPY_MODEL_9e7b924743064cb5a7e569a17fa09d5e",
            "value": " 816M/816M [00:03&lt;00:00, 275MB/s]"
          }
        },
        "9a59774067c5432bb3f1595c13e86130": {
          "model_module": "@jupyter-widgets/base",
          "model_name": "LayoutModel",
          "model_module_version": "1.2.0",
          "state": {
            "_model_module": "@jupyter-widgets/base",
            "_model_module_version": "1.2.0",
            "_model_name": "LayoutModel",
            "_view_count": null,
            "_view_module": "@jupyter-widgets/base",
            "_view_module_version": "1.2.0",
            "_view_name": "LayoutView",
            "align_content": null,
            "align_items": null,
            "align_self": null,
            "border": null,
            "bottom": null,
            "display": null,
            "flex": null,
            "flex_flow": null,
            "grid_area": null,
            "grid_auto_columns": null,
            "grid_auto_flow": null,
            "grid_auto_rows": null,
            "grid_column": null,
            "grid_gap": null,
            "grid_row": null,
            "grid_template_areas": null,
            "grid_template_columns": null,
            "grid_template_rows": null,
            "height": null,
            "justify_content": null,
            "justify_items": null,
            "left": null,
            "margin": null,
            "max_height": null,
            "max_width": null,
            "min_height": null,
            "min_width": null,
            "object_fit": null,
            "object_position": null,
            "order": null,
            "overflow": null,
            "overflow_x": null,
            "overflow_y": null,
            "padding": null,
            "right": null,
            "top": null,
            "visibility": null,
            "width": null
          }
        },
        "f187b9b12f5347f88f2299b3601a97d0": {
          "model_module": "@jupyter-widgets/base",
          "model_name": "LayoutModel",
          "model_module_version": "1.2.0",
          "state": {
            "_model_module": "@jupyter-widgets/base",
            "_model_module_version": "1.2.0",
            "_model_name": "LayoutModel",
            "_view_count": null,
            "_view_module": "@jupyter-widgets/base",
            "_view_module_version": "1.2.0",
            "_view_name": "LayoutView",
            "align_content": null,
            "align_items": null,
            "align_self": null,
            "border": null,
            "bottom": null,
            "display": null,
            "flex": null,
            "flex_flow": null,
            "grid_area": null,
            "grid_auto_columns": null,
            "grid_auto_flow": null,
            "grid_auto_rows": null,
            "grid_column": null,
            "grid_gap": null,
            "grid_row": null,
            "grid_template_areas": null,
            "grid_template_columns": null,
            "grid_template_rows": null,
            "height": null,
            "justify_content": null,
            "justify_items": null,
            "left": null,
            "margin": null,
            "max_height": null,
            "max_width": null,
            "min_height": null,
            "min_width": null,
            "object_fit": null,
            "object_position": null,
            "order": null,
            "overflow": null,
            "overflow_x": null,
            "overflow_y": null,
            "padding": null,
            "right": null,
            "top": null,
            "visibility": null,
            "width": null
          }
        },
        "060d7f8ed65b481cae56eb8387f8594e": {
          "model_module": "@jupyter-widgets/controls",
          "model_name": "DescriptionStyleModel",
          "model_module_version": "1.5.0",
          "state": {
            "_model_module": "@jupyter-widgets/controls",
            "_model_module_version": "1.5.0",
            "_model_name": "DescriptionStyleModel",
            "_view_count": null,
            "_view_module": "@jupyter-widgets/base",
            "_view_module_version": "1.2.0",
            "_view_name": "StyleView",
            "description_width": ""
          }
        },
        "dc64a1ad880b4004a91ec1c2710208dc": {
          "model_module": "@jupyter-widgets/base",
          "model_name": "LayoutModel",
          "model_module_version": "1.2.0",
          "state": {
            "_model_module": "@jupyter-widgets/base",
            "_model_module_version": "1.2.0",
            "_model_name": "LayoutModel",
            "_view_count": null,
            "_view_module": "@jupyter-widgets/base",
            "_view_module_version": "1.2.0",
            "_view_name": "LayoutView",
            "align_content": null,
            "align_items": null,
            "align_self": null,
            "border": null,
            "bottom": null,
            "display": null,
            "flex": null,
            "flex_flow": null,
            "grid_area": null,
            "grid_auto_columns": null,
            "grid_auto_flow": null,
            "grid_auto_rows": null,
            "grid_column": null,
            "grid_gap": null,
            "grid_row": null,
            "grid_template_areas": null,
            "grid_template_columns": null,
            "grid_template_rows": null,
            "height": null,
            "justify_content": null,
            "justify_items": null,
            "left": null,
            "margin": null,
            "max_height": null,
            "max_width": null,
            "min_height": null,
            "min_width": null,
            "object_fit": null,
            "object_position": null,
            "order": null,
            "overflow": null,
            "overflow_x": null,
            "overflow_y": null,
            "padding": null,
            "right": null,
            "top": null,
            "visibility": null,
            "width": null
          }
        },
        "054695d4928d40d098a299e17a7a6ea3": {
          "model_module": "@jupyter-widgets/controls",
          "model_name": "ProgressStyleModel",
          "model_module_version": "1.5.0",
          "state": {
            "_model_module": "@jupyter-widgets/controls",
            "_model_module_version": "1.5.0",
            "_model_name": "ProgressStyleModel",
            "_view_count": null,
            "_view_module": "@jupyter-widgets/base",
            "_view_module_version": "1.2.0",
            "_view_name": "StyleView",
            "bar_color": null,
            "description_width": ""
          }
        },
        "b93261b38cf94c93ba5d78a2bcb7bc0e": {
          "model_module": "@jupyter-widgets/base",
          "model_name": "LayoutModel",
          "model_module_version": "1.2.0",
          "state": {
            "_model_module": "@jupyter-widgets/base",
            "_model_module_version": "1.2.0",
            "_model_name": "LayoutModel",
            "_view_count": null,
            "_view_module": "@jupyter-widgets/base",
            "_view_module_version": "1.2.0",
            "_view_name": "LayoutView",
            "align_content": null,
            "align_items": null,
            "align_self": null,
            "border": null,
            "bottom": null,
            "display": null,
            "flex": null,
            "flex_flow": null,
            "grid_area": null,
            "grid_auto_columns": null,
            "grid_auto_flow": null,
            "grid_auto_rows": null,
            "grid_column": null,
            "grid_gap": null,
            "grid_row": null,
            "grid_template_areas": null,
            "grid_template_columns": null,
            "grid_template_rows": null,
            "height": null,
            "justify_content": null,
            "justify_items": null,
            "left": null,
            "margin": null,
            "max_height": null,
            "max_width": null,
            "min_height": null,
            "min_width": null,
            "object_fit": null,
            "object_position": null,
            "order": null,
            "overflow": null,
            "overflow_x": null,
            "overflow_y": null,
            "padding": null,
            "right": null,
            "top": null,
            "visibility": null,
            "width": null
          }
        },
        "9e7b924743064cb5a7e569a17fa09d5e": {
          "model_module": "@jupyter-widgets/controls",
          "model_name": "DescriptionStyleModel",
          "model_module_version": "1.5.0",
          "state": {
            "_model_module": "@jupyter-widgets/controls",
            "_model_module_version": "1.5.0",
            "_model_name": "DescriptionStyleModel",
            "_view_count": null,
            "_view_module": "@jupyter-widgets/base",
            "_view_module_version": "1.2.0",
            "_view_name": "StyleView",
            "description_width": ""
          }
        },
        "71df7d04e5b24731af217513c3ae98ca": {
          "model_module": "@jupyter-widgets/controls",
          "model_name": "HBoxModel",
          "model_module_version": "1.5.0",
          "state": {
            "_dom_classes": [],
            "_model_module": "@jupyter-widgets/controls",
            "_model_module_version": "1.5.0",
            "_model_name": "HBoxModel",
            "_view_count": null,
            "_view_module": "@jupyter-widgets/controls",
            "_view_module_version": "1.5.0",
            "_view_name": "HBoxView",
            "box_style": "",
            "children": [
              "IPY_MODEL_03ff4845eed24f7882fb10b66c0a407a",
              "IPY_MODEL_368701f8062146bd884a583fdcbafa45",
              "IPY_MODEL_4965ea2f4385415096e4d05c5f833d25"
            ],
            "layout": "IPY_MODEL_edc5d0458ee04cea93fe3724e5465eb2"
          }
        },
        "03ff4845eed24f7882fb10b66c0a407a": {
          "model_module": "@jupyter-widgets/controls",
          "model_name": "HTMLModel",
          "model_module_version": "1.5.0",
          "state": {
            "_dom_classes": [],
            "_model_module": "@jupyter-widgets/controls",
            "_model_module_version": "1.5.0",
            "_model_name": "HTMLModel",
            "_view_count": null,
            "_view_module": "@jupyter-widgets/controls",
            "_view_module_version": "1.5.0",
            "_view_name": "HTMLView",
            "description": "",
            "description_tooltip": null,
            "layout": "IPY_MODEL_3e9122a698b847e483b7e47c0454ff23",
            "placeholder": "​",
            "style": "IPY_MODEL_73c7410e5527497fb2d24c106463b941",
            "value": "Loading checkpoint shards: 100%"
          }
        },
        "368701f8062146bd884a583fdcbafa45": {
          "model_module": "@jupyter-widgets/controls",
          "model_name": "FloatProgressModel",
          "model_module_version": "1.5.0",
          "state": {
            "_dom_classes": [],
            "_model_module": "@jupyter-widgets/controls",
            "_model_module_version": "1.5.0",
            "_model_name": "FloatProgressModel",
            "_view_count": null,
            "_view_module": "@jupyter-widgets/controls",
            "_view_module_version": "1.5.0",
            "_view_name": "ProgressView",
            "bar_style": "success",
            "description": "",
            "description_tooltip": null,
            "layout": "IPY_MODEL_e8954d5e22ca44ce866ab39d2d57128e",
            "max": 8,
            "min": 0,
            "orientation": "horizontal",
            "style": "IPY_MODEL_1bb3e545c3434c08bb82f337d643e521",
            "value": 8
          }
        },
        "4965ea2f4385415096e4d05c5f833d25": {
          "model_module": "@jupyter-widgets/controls",
          "model_name": "HTMLModel",
          "model_module_version": "1.5.0",
          "state": {
            "_dom_classes": [],
            "_model_module": "@jupyter-widgets/controls",
            "_model_module_version": "1.5.0",
            "_model_name": "HTMLModel",
            "_view_count": null,
            "_view_module": "@jupyter-widgets/controls",
            "_view_module_version": "1.5.0",
            "_view_name": "HTMLView",
            "description": "",
            "description_tooltip": null,
            "layout": "IPY_MODEL_e01197998c7943e0ae8d6a28521f34a9",
            "placeholder": "​",
            "style": "IPY_MODEL_2a1fb0f9abb3414e97db6d71e15e7bca",
            "value": " 8/8 [01:15&lt;00:00,  8.37s/it]"
          }
        },
        "edc5d0458ee04cea93fe3724e5465eb2": {
          "model_module": "@jupyter-widgets/base",
          "model_name": "LayoutModel",
          "model_module_version": "1.2.0",
          "state": {
            "_model_module": "@jupyter-widgets/base",
            "_model_module_version": "1.2.0",
            "_model_name": "LayoutModel",
            "_view_count": null,
            "_view_module": "@jupyter-widgets/base",
            "_view_module_version": "1.2.0",
            "_view_name": "LayoutView",
            "align_content": null,
            "align_items": null,
            "align_self": null,
            "border": null,
            "bottom": null,
            "display": null,
            "flex": null,
            "flex_flow": null,
            "grid_area": null,
            "grid_auto_columns": null,
            "grid_auto_flow": null,
            "grid_auto_rows": null,
            "grid_column": null,
            "grid_gap": null,
            "grid_row": null,
            "grid_template_areas": null,
            "grid_template_columns": null,
            "grid_template_rows": null,
            "height": null,
            "justify_content": null,
            "justify_items": null,
            "left": null,
            "margin": null,
            "max_height": null,
            "max_width": null,
            "min_height": null,
            "min_width": null,
            "object_fit": null,
            "object_position": null,
            "order": null,
            "overflow": null,
            "overflow_x": null,
            "overflow_y": null,
            "padding": null,
            "right": null,
            "top": null,
            "visibility": null,
            "width": null
          }
        },
        "3e9122a698b847e483b7e47c0454ff23": {
          "model_module": "@jupyter-widgets/base",
          "model_name": "LayoutModel",
          "model_module_version": "1.2.0",
          "state": {
            "_model_module": "@jupyter-widgets/base",
            "_model_module_version": "1.2.0",
            "_model_name": "LayoutModel",
            "_view_count": null,
            "_view_module": "@jupyter-widgets/base",
            "_view_module_version": "1.2.0",
            "_view_name": "LayoutView",
            "align_content": null,
            "align_items": null,
            "align_self": null,
            "border": null,
            "bottom": null,
            "display": null,
            "flex": null,
            "flex_flow": null,
            "grid_area": null,
            "grid_auto_columns": null,
            "grid_auto_flow": null,
            "grid_auto_rows": null,
            "grid_column": null,
            "grid_gap": null,
            "grid_row": null,
            "grid_template_areas": null,
            "grid_template_columns": null,
            "grid_template_rows": null,
            "height": null,
            "justify_content": null,
            "justify_items": null,
            "left": null,
            "margin": null,
            "max_height": null,
            "max_width": null,
            "min_height": null,
            "min_width": null,
            "object_fit": null,
            "object_position": null,
            "order": null,
            "overflow": null,
            "overflow_x": null,
            "overflow_y": null,
            "padding": null,
            "right": null,
            "top": null,
            "visibility": null,
            "width": null
          }
        },
        "73c7410e5527497fb2d24c106463b941": {
          "model_module": "@jupyter-widgets/controls",
          "model_name": "DescriptionStyleModel",
          "model_module_version": "1.5.0",
          "state": {
            "_model_module": "@jupyter-widgets/controls",
            "_model_module_version": "1.5.0",
            "_model_name": "DescriptionStyleModel",
            "_view_count": null,
            "_view_module": "@jupyter-widgets/base",
            "_view_module_version": "1.2.0",
            "_view_name": "StyleView",
            "description_width": ""
          }
        },
        "e8954d5e22ca44ce866ab39d2d57128e": {
          "model_module": "@jupyter-widgets/base",
          "model_name": "LayoutModel",
          "model_module_version": "1.2.0",
          "state": {
            "_model_module": "@jupyter-widgets/base",
            "_model_module_version": "1.2.0",
            "_model_name": "LayoutModel",
            "_view_count": null,
            "_view_module": "@jupyter-widgets/base",
            "_view_module_version": "1.2.0",
            "_view_name": "LayoutView",
            "align_content": null,
            "align_items": null,
            "align_self": null,
            "border": null,
            "bottom": null,
            "display": null,
            "flex": null,
            "flex_flow": null,
            "grid_area": null,
            "grid_auto_columns": null,
            "grid_auto_flow": null,
            "grid_auto_rows": null,
            "grid_column": null,
            "grid_gap": null,
            "grid_row": null,
            "grid_template_areas": null,
            "grid_template_columns": null,
            "grid_template_rows": null,
            "height": null,
            "justify_content": null,
            "justify_items": null,
            "left": null,
            "margin": null,
            "max_height": null,
            "max_width": null,
            "min_height": null,
            "min_width": null,
            "object_fit": null,
            "object_position": null,
            "order": null,
            "overflow": null,
            "overflow_x": null,
            "overflow_y": null,
            "padding": null,
            "right": null,
            "top": null,
            "visibility": null,
            "width": null
          }
        },
        "1bb3e545c3434c08bb82f337d643e521": {
          "model_module": "@jupyter-widgets/controls",
          "model_name": "ProgressStyleModel",
          "model_module_version": "1.5.0",
          "state": {
            "_model_module": "@jupyter-widgets/controls",
            "_model_module_version": "1.5.0",
            "_model_name": "ProgressStyleModel",
            "_view_count": null,
            "_view_module": "@jupyter-widgets/base",
            "_view_module_version": "1.2.0",
            "_view_name": "StyleView",
            "bar_color": null,
            "description_width": ""
          }
        },
        "e01197998c7943e0ae8d6a28521f34a9": {
          "model_module": "@jupyter-widgets/base",
          "model_name": "LayoutModel",
          "model_module_version": "1.2.0",
          "state": {
            "_model_module": "@jupyter-widgets/base",
            "_model_module_version": "1.2.0",
            "_model_name": "LayoutModel",
            "_view_count": null,
            "_view_module": "@jupyter-widgets/base",
            "_view_module_version": "1.2.0",
            "_view_name": "LayoutView",
            "align_content": null,
            "align_items": null,
            "align_self": null,
            "border": null,
            "bottom": null,
            "display": null,
            "flex": null,
            "flex_flow": null,
            "grid_area": null,
            "grid_auto_columns": null,
            "grid_auto_flow": null,
            "grid_auto_rows": null,
            "grid_column": null,
            "grid_gap": null,
            "grid_row": null,
            "grid_template_areas": null,
            "grid_template_columns": null,
            "grid_template_rows": null,
            "height": null,
            "justify_content": null,
            "justify_items": null,
            "left": null,
            "margin": null,
            "max_height": null,
            "max_width": null,
            "min_height": null,
            "min_width": null,
            "object_fit": null,
            "object_position": null,
            "order": null,
            "overflow": null,
            "overflow_x": null,
            "overflow_y": null,
            "padding": null,
            "right": null,
            "top": null,
            "visibility": null,
            "width": null
          }
        },
        "2a1fb0f9abb3414e97db6d71e15e7bca": {
          "model_module": "@jupyter-widgets/controls",
          "model_name": "DescriptionStyleModel",
          "model_module_version": "1.5.0",
          "state": {
            "_model_module": "@jupyter-widgets/controls",
            "_model_module_version": "1.5.0",
            "_model_name": "DescriptionStyleModel",
            "_view_count": null,
            "_view_module": "@jupyter-widgets/base",
            "_view_module_version": "1.2.0",
            "_view_name": "StyleView",
            "description_width": ""
          }
        },
        "a3b3778e47a14a6e816c3a8feac82502": {
          "model_module": "@jupyter-widgets/controls",
          "model_name": "HBoxModel",
          "model_module_version": "1.5.0",
          "state": {
            "_dom_classes": [],
            "_model_module": "@jupyter-widgets/controls",
            "_model_module_version": "1.5.0",
            "_model_name": "HBoxModel",
            "_view_count": null,
            "_view_module": "@jupyter-widgets/controls",
            "_view_module_version": "1.5.0",
            "_view_name": "HBoxView",
            "box_style": "",
            "children": [
              "IPY_MODEL_65c91597959c4745b70345ce69dd9c61",
              "IPY_MODEL_3a7ba0344e444eeb980552d90298d923",
              "IPY_MODEL_9ad252cfafc04be8a2eb95d3678559ce"
            ],
            "layout": "IPY_MODEL_b306b2c2511c494e87adbb8ffac8c789"
          }
        },
        "65c91597959c4745b70345ce69dd9c61": {
          "model_module": "@jupyter-widgets/controls",
          "model_name": "HTMLModel",
          "model_module_version": "1.5.0",
          "state": {
            "_dom_classes": [],
            "_model_module": "@jupyter-widgets/controls",
            "_model_module_version": "1.5.0",
            "_model_name": "HTMLModel",
            "_view_count": null,
            "_view_module": "@jupyter-widgets/controls",
            "_view_module_version": "1.5.0",
            "_view_name": "HTMLView",
            "description": "",
            "description_tooltip": null,
            "layout": "IPY_MODEL_dffc41f849d2439abbe5025afa1ddc09",
            "placeholder": "​",
            "style": "IPY_MODEL_b4189f03adad480b9f78f71d19813845",
            "value": "generation_config.json: 100%"
          }
        },
        "3a7ba0344e444eeb980552d90298d923": {
          "model_module": "@jupyter-widgets/controls",
          "model_name": "FloatProgressModel",
          "model_module_version": "1.5.0",
          "state": {
            "_dom_classes": [],
            "_model_module": "@jupyter-widgets/controls",
            "_model_module_version": "1.5.0",
            "_model_name": "FloatProgressModel",
            "_view_count": null,
            "_view_module": "@jupyter-widgets/controls",
            "_view_module_version": "1.5.0",
            "_view_name": "ProgressView",
            "bar_style": "success",
            "description": "",
            "description_tooltip": null,
            "layout": "IPY_MODEL_04d298dc5f7448de902b099ac4d8fd34",
            "max": 111,
            "min": 0,
            "orientation": "horizontal",
            "style": "IPY_MODEL_b53a69672a31419ab8eb7520d6aa409c",
            "value": 111
          }
        },
        "9ad252cfafc04be8a2eb95d3678559ce": {
          "model_module": "@jupyter-widgets/controls",
          "model_name": "HTMLModel",
          "model_module_version": "1.5.0",
          "state": {
            "_dom_classes": [],
            "_model_module": "@jupyter-widgets/controls",
            "_model_module_version": "1.5.0",
            "_model_name": "HTMLModel",
            "_view_count": null,
            "_view_module": "@jupyter-widgets/controls",
            "_view_module_version": "1.5.0",
            "_view_name": "HTMLView",
            "description": "",
            "description_tooltip": null,
            "layout": "IPY_MODEL_13e5b4a9355940928a4ebcbd29e0daf6",
            "placeholder": "​",
            "style": "IPY_MODEL_98d33718a2124a33b6b9398f80b32a57",
            "value": " 111/111 [00:00&lt;00:00, 5.69kB/s]"
          }
        },
        "b306b2c2511c494e87adbb8ffac8c789": {
          "model_module": "@jupyter-widgets/base",
          "model_name": "LayoutModel",
          "model_module_version": "1.2.0",
          "state": {
            "_model_module": "@jupyter-widgets/base",
            "_model_module_version": "1.2.0",
            "_model_name": "LayoutModel",
            "_view_count": null,
            "_view_module": "@jupyter-widgets/base",
            "_view_module_version": "1.2.0",
            "_view_name": "LayoutView",
            "align_content": null,
            "align_items": null,
            "align_self": null,
            "border": null,
            "bottom": null,
            "display": null,
            "flex": null,
            "flex_flow": null,
            "grid_area": null,
            "grid_auto_columns": null,
            "grid_auto_flow": null,
            "grid_auto_rows": null,
            "grid_column": null,
            "grid_gap": null,
            "grid_row": null,
            "grid_template_areas": null,
            "grid_template_columns": null,
            "grid_template_rows": null,
            "height": null,
            "justify_content": null,
            "justify_items": null,
            "left": null,
            "margin": null,
            "max_height": null,
            "max_width": null,
            "min_height": null,
            "min_width": null,
            "object_fit": null,
            "object_position": null,
            "order": null,
            "overflow": null,
            "overflow_x": null,
            "overflow_y": null,
            "padding": null,
            "right": null,
            "top": null,
            "visibility": null,
            "width": null
          }
        },
        "dffc41f849d2439abbe5025afa1ddc09": {
          "model_module": "@jupyter-widgets/base",
          "model_name": "LayoutModel",
          "model_module_version": "1.2.0",
          "state": {
            "_model_module": "@jupyter-widgets/base",
            "_model_module_version": "1.2.0",
            "_model_name": "LayoutModel",
            "_view_count": null,
            "_view_module": "@jupyter-widgets/base",
            "_view_module_version": "1.2.0",
            "_view_name": "LayoutView",
            "align_content": null,
            "align_items": null,
            "align_self": null,
            "border": null,
            "bottom": null,
            "display": null,
            "flex": null,
            "flex_flow": null,
            "grid_area": null,
            "grid_auto_columns": null,
            "grid_auto_flow": null,
            "grid_auto_rows": null,
            "grid_column": null,
            "grid_gap": null,
            "grid_row": null,
            "grid_template_areas": null,
            "grid_template_columns": null,
            "grid_template_rows": null,
            "height": null,
            "justify_content": null,
            "justify_items": null,
            "left": null,
            "margin": null,
            "max_height": null,
            "max_width": null,
            "min_height": null,
            "min_width": null,
            "object_fit": null,
            "object_position": null,
            "order": null,
            "overflow": null,
            "overflow_x": null,
            "overflow_y": null,
            "padding": null,
            "right": null,
            "top": null,
            "visibility": null,
            "width": null
          }
        },
        "b4189f03adad480b9f78f71d19813845": {
          "model_module": "@jupyter-widgets/controls",
          "model_name": "DescriptionStyleModel",
          "model_module_version": "1.5.0",
          "state": {
            "_model_module": "@jupyter-widgets/controls",
            "_model_module_version": "1.5.0",
            "_model_name": "DescriptionStyleModel",
            "_view_count": null,
            "_view_module": "@jupyter-widgets/base",
            "_view_module_version": "1.2.0",
            "_view_name": "StyleView",
            "description_width": ""
          }
        },
        "04d298dc5f7448de902b099ac4d8fd34": {
          "model_module": "@jupyter-widgets/base",
          "model_name": "LayoutModel",
          "model_module_version": "1.2.0",
          "state": {
            "_model_module": "@jupyter-widgets/base",
            "_model_module_version": "1.2.0",
            "_model_name": "LayoutModel",
            "_view_count": null,
            "_view_module": "@jupyter-widgets/base",
            "_view_module_version": "1.2.0",
            "_view_name": "LayoutView",
            "align_content": null,
            "align_items": null,
            "align_self": null,
            "border": null,
            "bottom": null,
            "display": null,
            "flex": null,
            "flex_flow": null,
            "grid_area": null,
            "grid_auto_columns": null,
            "grid_auto_flow": null,
            "grid_auto_rows": null,
            "grid_column": null,
            "grid_gap": null,
            "grid_row": null,
            "grid_template_areas": null,
            "grid_template_columns": null,
            "grid_template_rows": null,
            "height": null,
            "justify_content": null,
            "justify_items": null,
            "left": null,
            "margin": null,
            "max_height": null,
            "max_width": null,
            "min_height": null,
            "min_width": null,
            "object_fit": null,
            "object_position": null,
            "order": null,
            "overflow": null,
            "overflow_x": null,
            "overflow_y": null,
            "padding": null,
            "right": null,
            "top": null,
            "visibility": null,
            "width": null
          }
        },
        "b53a69672a31419ab8eb7520d6aa409c": {
          "model_module": "@jupyter-widgets/controls",
          "model_name": "ProgressStyleModel",
          "model_module_version": "1.5.0",
          "state": {
            "_model_module": "@jupyter-widgets/controls",
            "_model_module_version": "1.5.0",
            "_model_name": "ProgressStyleModel",
            "_view_count": null,
            "_view_module": "@jupyter-widgets/base",
            "_view_module_version": "1.2.0",
            "_view_name": "StyleView",
            "bar_color": null,
            "description_width": ""
          }
        },
        "13e5b4a9355940928a4ebcbd29e0daf6": {
          "model_module": "@jupyter-widgets/base",
          "model_name": "LayoutModel",
          "model_module_version": "1.2.0",
          "state": {
            "_model_module": "@jupyter-widgets/base",
            "_model_module_version": "1.2.0",
            "_model_name": "LayoutModel",
            "_view_count": null,
            "_view_module": "@jupyter-widgets/base",
            "_view_module_version": "1.2.0",
            "_view_name": "LayoutView",
            "align_content": null,
            "align_items": null,
            "align_self": null,
            "border": null,
            "bottom": null,
            "display": null,
            "flex": null,
            "flex_flow": null,
            "grid_area": null,
            "grid_auto_columns": null,
            "grid_auto_flow": null,
            "grid_auto_rows": null,
            "grid_column": null,
            "grid_gap": null,
            "grid_row": null,
            "grid_template_areas": null,
            "grid_template_columns": null,
            "grid_template_rows": null,
            "height": null,
            "justify_content": null,
            "justify_items": null,
            "left": null,
            "margin": null,
            "max_height": null,
            "max_width": null,
            "min_height": null,
            "min_width": null,
            "object_fit": null,
            "object_position": null,
            "order": null,
            "overflow": null,
            "overflow_x": null,
            "overflow_y": null,
            "padding": null,
            "right": null,
            "top": null,
            "visibility": null,
            "width": null
          }
        },
        "98d33718a2124a33b6b9398f80b32a57": {
          "model_module": "@jupyter-widgets/controls",
          "model_name": "DescriptionStyleModel",
          "model_module_version": "1.5.0",
          "state": {
            "_model_module": "@jupyter-widgets/controls",
            "_model_module_version": "1.5.0",
            "_model_name": "DescriptionStyleModel",
            "_view_count": null,
            "_view_module": "@jupyter-widgets/base",
            "_view_module_version": "1.2.0",
            "_view_name": "StyleView",
            "description_width": ""
          }
        },
        "bf384fa270094348a4d0a69ce3543f2f": {
          "model_module": "@jupyter-widgets/controls",
          "model_name": "HBoxModel",
          "model_module_version": "1.5.0",
          "state": {
            "_dom_classes": [],
            "_model_module": "@jupyter-widgets/controls",
            "_model_module_version": "1.5.0",
            "_model_name": "HBoxModel",
            "_view_count": null,
            "_view_module": "@jupyter-widgets/controls",
            "_view_module_version": "1.5.0",
            "_view_name": "HBoxView",
            "box_style": "",
            "children": [
              "IPY_MODEL_37183403cd234ed997ba8adbc8201f0b",
              "IPY_MODEL_7b4f0ff928d74bcea2c88fe23b594d59",
              "IPY_MODEL_0fc9833b840e485992ad0124aa980911"
            ],
            "layout": "IPY_MODEL_d38f2abb57284c61a9c77e5f82650c17"
          }
        },
        "37183403cd234ed997ba8adbc8201f0b": {
          "model_module": "@jupyter-widgets/controls",
          "model_name": "HTMLModel",
          "model_module_version": "1.5.0",
          "state": {
            "_dom_classes": [],
            "_model_module": "@jupyter-widgets/controls",
            "_model_module_version": "1.5.0",
            "_model_name": "HTMLModel",
            "_view_count": null,
            "_view_module": "@jupyter-widgets/controls",
            "_view_module_version": "1.5.0",
            "_view_name": "HTMLView",
            "description": "",
            "description_tooltip": null,
            "layout": "IPY_MODEL_d99126a38ff64c69a9862d3e31f7250d",
            "placeholder": "​",
            "style": "IPY_MODEL_ad01cdefeb354f1481b5bc0a035a0681",
            "value": "Loading checkpoint shards: 100%"
          }
        },
        "7b4f0ff928d74bcea2c88fe23b594d59": {
          "model_module": "@jupyter-widgets/controls",
          "model_name": "FloatProgressModel",
          "model_module_version": "1.5.0",
          "state": {
            "_dom_classes": [],
            "_model_module": "@jupyter-widgets/controls",
            "_model_module_version": "1.5.0",
            "_model_name": "FloatProgressModel",
            "_view_count": null,
            "_view_module": "@jupyter-widgets/controls",
            "_view_module_version": "1.5.0",
            "_view_name": "ProgressView",
            "bar_style": "success",
            "description": "",
            "description_tooltip": null,
            "layout": "IPY_MODEL_ceed819430ce4c11ab4568193ba0a107",
            "max": 8,
            "min": 0,
            "orientation": "horizontal",
            "style": "IPY_MODEL_85dd8a33cc524d76b91be95705e9a496",
            "value": 8
          }
        },
        "0fc9833b840e485992ad0124aa980911": {
          "model_module": "@jupyter-widgets/controls",
          "model_name": "HTMLModel",
          "model_module_version": "1.5.0",
          "state": {
            "_dom_classes": [],
            "_model_module": "@jupyter-widgets/controls",
            "_model_module_version": "1.5.0",
            "_model_name": "HTMLModel",
            "_view_count": null,
            "_view_module": "@jupyter-widgets/controls",
            "_view_module_version": "1.5.0",
            "_view_name": "HTMLView",
            "description": "",
            "description_tooltip": null,
            "layout": "IPY_MODEL_04f8e6176efa4045b1ab318f1b8700b4",
            "placeholder": "​",
            "style": "IPY_MODEL_255118f53a7a4c27b342c148131d3158",
            "value": " 8/8 [01:19&lt;00:00,  8.68s/it]"
          }
        },
        "d38f2abb57284c61a9c77e5f82650c17": {
          "model_module": "@jupyter-widgets/base",
          "model_name": "LayoutModel",
          "model_module_version": "1.2.0",
          "state": {
            "_model_module": "@jupyter-widgets/base",
            "_model_module_version": "1.2.0",
            "_model_name": "LayoutModel",
            "_view_count": null,
            "_view_module": "@jupyter-widgets/base",
            "_view_module_version": "1.2.0",
            "_view_name": "LayoutView",
            "align_content": null,
            "align_items": null,
            "align_self": null,
            "border": null,
            "bottom": null,
            "display": null,
            "flex": null,
            "flex_flow": null,
            "grid_area": null,
            "grid_auto_columns": null,
            "grid_auto_flow": null,
            "grid_auto_rows": null,
            "grid_column": null,
            "grid_gap": null,
            "grid_row": null,
            "grid_template_areas": null,
            "grid_template_columns": null,
            "grid_template_rows": null,
            "height": null,
            "justify_content": null,
            "justify_items": null,
            "left": null,
            "margin": null,
            "max_height": null,
            "max_width": null,
            "min_height": null,
            "min_width": null,
            "object_fit": null,
            "object_position": null,
            "order": null,
            "overflow": null,
            "overflow_x": null,
            "overflow_y": null,
            "padding": null,
            "right": null,
            "top": null,
            "visibility": null,
            "width": null
          }
        },
        "d99126a38ff64c69a9862d3e31f7250d": {
          "model_module": "@jupyter-widgets/base",
          "model_name": "LayoutModel",
          "model_module_version": "1.2.0",
          "state": {
            "_model_module": "@jupyter-widgets/base",
            "_model_module_version": "1.2.0",
            "_model_name": "LayoutModel",
            "_view_count": null,
            "_view_module": "@jupyter-widgets/base",
            "_view_module_version": "1.2.0",
            "_view_name": "LayoutView",
            "align_content": null,
            "align_items": null,
            "align_self": null,
            "border": null,
            "bottom": null,
            "display": null,
            "flex": null,
            "flex_flow": null,
            "grid_area": null,
            "grid_auto_columns": null,
            "grid_auto_flow": null,
            "grid_auto_rows": null,
            "grid_column": null,
            "grid_gap": null,
            "grid_row": null,
            "grid_template_areas": null,
            "grid_template_columns": null,
            "grid_template_rows": null,
            "height": null,
            "justify_content": null,
            "justify_items": null,
            "left": null,
            "margin": null,
            "max_height": null,
            "max_width": null,
            "min_height": null,
            "min_width": null,
            "object_fit": null,
            "object_position": null,
            "order": null,
            "overflow": null,
            "overflow_x": null,
            "overflow_y": null,
            "padding": null,
            "right": null,
            "top": null,
            "visibility": null,
            "width": null
          }
        },
        "ad01cdefeb354f1481b5bc0a035a0681": {
          "model_module": "@jupyter-widgets/controls",
          "model_name": "DescriptionStyleModel",
          "model_module_version": "1.5.0",
          "state": {
            "_model_module": "@jupyter-widgets/controls",
            "_model_module_version": "1.5.0",
            "_model_name": "DescriptionStyleModel",
            "_view_count": null,
            "_view_module": "@jupyter-widgets/base",
            "_view_module_version": "1.2.0",
            "_view_name": "StyleView",
            "description_width": ""
          }
        },
        "ceed819430ce4c11ab4568193ba0a107": {
          "model_module": "@jupyter-widgets/base",
          "model_name": "LayoutModel",
          "model_module_version": "1.2.0",
          "state": {
            "_model_module": "@jupyter-widgets/base",
            "_model_module_version": "1.2.0",
            "_model_name": "LayoutModel",
            "_view_count": null,
            "_view_module": "@jupyter-widgets/base",
            "_view_module_version": "1.2.0",
            "_view_name": "LayoutView",
            "align_content": null,
            "align_items": null,
            "align_self": null,
            "border": null,
            "bottom": null,
            "display": null,
            "flex": null,
            "flex_flow": null,
            "grid_area": null,
            "grid_auto_columns": null,
            "grid_auto_flow": null,
            "grid_auto_rows": null,
            "grid_column": null,
            "grid_gap": null,
            "grid_row": null,
            "grid_template_areas": null,
            "grid_template_columns": null,
            "grid_template_rows": null,
            "height": null,
            "justify_content": null,
            "justify_items": null,
            "left": null,
            "margin": null,
            "max_height": null,
            "max_width": null,
            "min_height": null,
            "min_width": null,
            "object_fit": null,
            "object_position": null,
            "order": null,
            "overflow": null,
            "overflow_x": null,
            "overflow_y": null,
            "padding": null,
            "right": null,
            "top": null,
            "visibility": null,
            "width": null
          }
        },
        "85dd8a33cc524d76b91be95705e9a496": {
          "model_module": "@jupyter-widgets/controls",
          "model_name": "ProgressStyleModel",
          "model_module_version": "1.5.0",
          "state": {
            "_model_module": "@jupyter-widgets/controls",
            "_model_module_version": "1.5.0",
            "_model_name": "ProgressStyleModel",
            "_view_count": null,
            "_view_module": "@jupyter-widgets/base",
            "_view_module_version": "1.2.0",
            "_view_name": "StyleView",
            "bar_color": null,
            "description_width": ""
          }
        },
        "04f8e6176efa4045b1ab318f1b8700b4": {
          "model_module": "@jupyter-widgets/base",
          "model_name": "LayoutModel",
          "model_module_version": "1.2.0",
          "state": {
            "_model_module": "@jupyter-widgets/base",
            "_model_module_version": "1.2.0",
            "_model_name": "LayoutModel",
            "_view_count": null,
            "_view_module": "@jupyter-widgets/base",
            "_view_module_version": "1.2.0",
            "_view_name": "LayoutView",
            "align_content": null,
            "align_items": null,
            "align_self": null,
            "border": null,
            "bottom": null,
            "display": null,
            "flex": null,
            "flex_flow": null,
            "grid_area": null,
            "grid_auto_columns": null,
            "grid_auto_flow": null,
            "grid_auto_rows": null,
            "grid_column": null,
            "grid_gap": null,
            "grid_row": null,
            "grid_template_areas": null,
            "grid_template_columns": null,
            "grid_template_rows": null,
            "height": null,
            "justify_content": null,
            "justify_items": null,
            "left": null,
            "margin": null,
            "max_height": null,
            "max_width": null,
            "min_height": null,
            "min_width": null,
            "object_fit": null,
            "object_position": null,
            "order": null,
            "overflow": null,
            "overflow_x": null,
            "overflow_y": null,
            "padding": null,
            "right": null,
            "top": null,
            "visibility": null,
            "width": null
          }
        },
        "255118f53a7a4c27b342c148131d3158": {
          "model_module": "@jupyter-widgets/controls",
          "model_name": "DescriptionStyleModel",
          "model_module_version": "1.5.0",
          "state": {
            "_model_module": "@jupyter-widgets/controls",
            "_model_module_version": "1.5.0",
            "_model_name": "DescriptionStyleModel",
            "_view_count": null,
            "_view_module": "@jupyter-widgets/base",
            "_view_module_version": "1.2.0",
            "_view_name": "StyleView",
            "description_width": ""
          }
        },
        "ad9326f364fb4b9fb28e9f4f4158f22a": {
          "model_module": "@jupyter-widgets/controls",
          "model_name": "HBoxModel",
          "model_module_version": "1.5.0",
          "state": {
            "_dom_classes": [],
            "_model_module": "@jupyter-widgets/controls",
            "_model_module_version": "1.5.0",
            "_model_name": "HBoxModel",
            "_view_count": null,
            "_view_module": "@jupyter-widgets/controls",
            "_view_module_version": "1.5.0",
            "_view_name": "HBoxView",
            "box_style": "",
            "children": [
              "IPY_MODEL_0bfb6231160943f7afe8dd568bef3eac",
              "IPY_MODEL_83a2e350ca31401bb34143b8bbfa744f",
              "IPY_MODEL_b74d272785024e53af5ddd355b9dc463"
            ],
            "layout": "IPY_MODEL_3bb8305da1854d72a88119246f6ac02a"
          }
        },
        "0bfb6231160943f7afe8dd568bef3eac": {
          "model_module": "@jupyter-widgets/controls",
          "model_name": "HTMLModel",
          "model_module_version": "1.5.0",
          "state": {
            "_dom_classes": [],
            "_model_module": "@jupyter-widgets/controls",
            "_model_module_version": "1.5.0",
            "_model_name": "HTMLModel",
            "_view_count": null,
            "_view_module": "@jupyter-widgets/controls",
            "_view_module_version": "1.5.0",
            "_view_name": "HTMLView",
            "description": "",
            "description_tooltip": null,
            "layout": "IPY_MODEL_aadc073680bd42618793259eaf5d9df1",
            "placeholder": "​",
            "style": "IPY_MODEL_63e562835b114ceeaf263c08fcc0ea4e",
            "value": "adapter_config.json: 100%"
          }
        },
        "83a2e350ca31401bb34143b8bbfa744f": {
          "model_module": "@jupyter-widgets/controls",
          "model_name": "FloatProgressModel",
          "model_module_version": "1.5.0",
          "state": {
            "_dom_classes": [],
            "_model_module": "@jupyter-widgets/controls",
            "_model_module_version": "1.5.0",
            "_model_name": "FloatProgressModel",
            "_view_count": null,
            "_view_module": "@jupyter-widgets/controls",
            "_view_module_version": "1.5.0",
            "_view_name": "ProgressView",
            "bar_style": "success",
            "description": "",
            "description_tooltip": null,
            "layout": "IPY_MODEL_5e99331eb38140a1b1f84107411f6935",
            "max": 580,
            "min": 0,
            "orientation": "horizontal",
            "style": "IPY_MODEL_aa4d32276ee642e49ac1a40a75829a0a",
            "value": 580
          }
        },
        "b74d272785024e53af5ddd355b9dc463": {
          "model_module": "@jupyter-widgets/controls",
          "model_name": "HTMLModel",
          "model_module_version": "1.5.0",
          "state": {
            "_dom_classes": [],
            "_model_module": "@jupyter-widgets/controls",
            "_model_module_version": "1.5.0",
            "_model_name": "HTMLModel",
            "_view_count": null,
            "_view_module": "@jupyter-widgets/controls",
            "_view_module_version": "1.5.0",
            "_view_name": "HTMLView",
            "description": "",
            "description_tooltip": null,
            "layout": "IPY_MODEL_5811258fe62249df9c4a14150a411b33",
            "placeholder": "​",
            "style": "IPY_MODEL_ecee7c3113704339ab3b590ffe170c52",
            "value": " 580/580 [00:00&lt;00:00, 32.3kB/s]"
          }
        },
        "3bb8305da1854d72a88119246f6ac02a": {
          "model_module": "@jupyter-widgets/base",
          "model_name": "LayoutModel",
          "model_module_version": "1.2.0",
          "state": {
            "_model_module": "@jupyter-widgets/base",
            "_model_module_version": "1.2.0",
            "_model_name": "LayoutModel",
            "_view_count": null,
            "_view_module": "@jupyter-widgets/base",
            "_view_module_version": "1.2.0",
            "_view_name": "LayoutView",
            "align_content": null,
            "align_items": null,
            "align_self": null,
            "border": null,
            "bottom": null,
            "display": null,
            "flex": null,
            "flex_flow": null,
            "grid_area": null,
            "grid_auto_columns": null,
            "grid_auto_flow": null,
            "grid_auto_rows": null,
            "grid_column": null,
            "grid_gap": null,
            "grid_row": null,
            "grid_template_areas": null,
            "grid_template_columns": null,
            "grid_template_rows": null,
            "height": null,
            "justify_content": null,
            "justify_items": null,
            "left": null,
            "margin": null,
            "max_height": null,
            "max_width": null,
            "min_height": null,
            "min_width": null,
            "object_fit": null,
            "object_position": null,
            "order": null,
            "overflow": null,
            "overflow_x": null,
            "overflow_y": null,
            "padding": null,
            "right": null,
            "top": null,
            "visibility": null,
            "width": null
          }
        },
        "aadc073680bd42618793259eaf5d9df1": {
          "model_module": "@jupyter-widgets/base",
          "model_name": "LayoutModel",
          "model_module_version": "1.2.0",
          "state": {
            "_model_module": "@jupyter-widgets/base",
            "_model_module_version": "1.2.0",
            "_model_name": "LayoutModel",
            "_view_count": null,
            "_view_module": "@jupyter-widgets/base",
            "_view_module_version": "1.2.0",
            "_view_name": "LayoutView",
            "align_content": null,
            "align_items": null,
            "align_self": null,
            "border": null,
            "bottom": null,
            "display": null,
            "flex": null,
            "flex_flow": null,
            "grid_area": null,
            "grid_auto_columns": null,
            "grid_auto_flow": null,
            "grid_auto_rows": null,
            "grid_column": null,
            "grid_gap": null,
            "grid_row": null,
            "grid_template_areas": null,
            "grid_template_columns": null,
            "grid_template_rows": null,
            "height": null,
            "justify_content": null,
            "justify_items": null,
            "left": null,
            "margin": null,
            "max_height": null,
            "max_width": null,
            "min_height": null,
            "min_width": null,
            "object_fit": null,
            "object_position": null,
            "order": null,
            "overflow": null,
            "overflow_x": null,
            "overflow_y": null,
            "padding": null,
            "right": null,
            "top": null,
            "visibility": null,
            "width": null
          }
        },
        "63e562835b114ceeaf263c08fcc0ea4e": {
          "model_module": "@jupyter-widgets/controls",
          "model_name": "DescriptionStyleModel",
          "model_module_version": "1.5.0",
          "state": {
            "_model_module": "@jupyter-widgets/controls",
            "_model_module_version": "1.5.0",
            "_model_name": "DescriptionStyleModel",
            "_view_count": null,
            "_view_module": "@jupyter-widgets/base",
            "_view_module_version": "1.2.0",
            "_view_name": "StyleView",
            "description_width": ""
          }
        },
        "5e99331eb38140a1b1f84107411f6935": {
          "model_module": "@jupyter-widgets/base",
          "model_name": "LayoutModel",
          "model_module_version": "1.2.0",
          "state": {
            "_model_module": "@jupyter-widgets/base",
            "_model_module_version": "1.2.0",
            "_model_name": "LayoutModel",
            "_view_count": null,
            "_view_module": "@jupyter-widgets/base",
            "_view_module_version": "1.2.0",
            "_view_name": "LayoutView",
            "align_content": null,
            "align_items": null,
            "align_self": null,
            "border": null,
            "bottom": null,
            "display": null,
            "flex": null,
            "flex_flow": null,
            "grid_area": null,
            "grid_auto_columns": null,
            "grid_auto_flow": null,
            "grid_auto_rows": null,
            "grid_column": null,
            "grid_gap": null,
            "grid_row": null,
            "grid_template_areas": null,
            "grid_template_columns": null,
            "grid_template_rows": null,
            "height": null,
            "justify_content": null,
            "justify_items": null,
            "left": null,
            "margin": null,
            "max_height": null,
            "max_width": null,
            "min_height": null,
            "min_width": null,
            "object_fit": null,
            "object_position": null,
            "order": null,
            "overflow": null,
            "overflow_x": null,
            "overflow_y": null,
            "padding": null,
            "right": null,
            "top": null,
            "visibility": null,
            "width": null
          }
        },
        "aa4d32276ee642e49ac1a40a75829a0a": {
          "model_module": "@jupyter-widgets/controls",
          "model_name": "ProgressStyleModel",
          "model_module_version": "1.5.0",
          "state": {
            "_model_module": "@jupyter-widgets/controls",
            "_model_module_version": "1.5.0",
            "_model_name": "ProgressStyleModel",
            "_view_count": null,
            "_view_module": "@jupyter-widgets/base",
            "_view_module_version": "1.2.0",
            "_view_name": "StyleView",
            "bar_color": null,
            "description_width": ""
          }
        },
        "5811258fe62249df9c4a14150a411b33": {
          "model_module": "@jupyter-widgets/base",
          "model_name": "LayoutModel",
          "model_module_version": "1.2.0",
          "state": {
            "_model_module": "@jupyter-widgets/base",
            "_model_module_version": "1.2.0",
            "_model_name": "LayoutModel",
            "_view_count": null,
            "_view_module": "@jupyter-widgets/base",
            "_view_module_version": "1.2.0",
            "_view_name": "LayoutView",
            "align_content": null,
            "align_items": null,
            "align_self": null,
            "border": null,
            "bottom": null,
            "display": null,
            "flex": null,
            "flex_flow": null,
            "grid_area": null,
            "grid_auto_columns": null,
            "grid_auto_flow": null,
            "grid_auto_rows": null,
            "grid_column": null,
            "grid_gap": null,
            "grid_row": null,
            "grid_template_areas": null,
            "grid_template_columns": null,
            "grid_template_rows": null,
            "height": null,
            "justify_content": null,
            "justify_items": null,
            "left": null,
            "margin": null,
            "max_height": null,
            "max_width": null,
            "min_height": null,
            "min_width": null,
            "object_fit": null,
            "object_position": null,
            "order": null,
            "overflow": null,
            "overflow_x": null,
            "overflow_y": null,
            "padding": null,
            "right": null,
            "top": null,
            "visibility": null,
            "width": null
          }
        },
        "ecee7c3113704339ab3b590ffe170c52": {
          "model_module": "@jupyter-widgets/controls",
          "model_name": "DescriptionStyleModel",
          "model_module_version": "1.5.0",
          "state": {
            "_model_module": "@jupyter-widgets/controls",
            "_model_module_version": "1.5.0",
            "_model_name": "DescriptionStyleModel",
            "_view_count": null,
            "_view_module": "@jupyter-widgets/base",
            "_view_module_version": "1.2.0",
            "_view_name": "StyleView",
            "description_width": ""
          }
        },
        "6ee89ceef16e4bb48914dbc4f8a5c49f": {
          "model_module": "@jupyter-widgets/controls",
          "model_name": "HBoxModel",
          "model_module_version": "1.5.0",
          "state": {
            "_dom_classes": [],
            "_model_module": "@jupyter-widgets/controls",
            "_model_module_version": "1.5.0",
            "_model_name": "HBoxModel",
            "_view_count": null,
            "_view_module": "@jupyter-widgets/controls",
            "_view_module_version": "1.5.0",
            "_view_name": "HBoxView",
            "box_style": "",
            "children": [
              "IPY_MODEL_c2c86630cb244197981b03ab1504edca",
              "IPY_MODEL_487a971c484246f3b973ae0800fec53c",
              "IPY_MODEL_442682a487f34f19b57af54bf57d6db4"
            ],
            "layout": "IPY_MODEL_d690a26d12854883ad989bb5c1cd687c"
          }
        },
        "c2c86630cb244197981b03ab1504edca": {
          "model_module": "@jupyter-widgets/controls",
          "model_name": "HTMLModel",
          "model_module_version": "1.5.0",
          "state": {
            "_dom_classes": [],
            "_model_module": "@jupyter-widgets/controls",
            "_model_module_version": "1.5.0",
            "_model_name": "HTMLModel",
            "_view_count": null,
            "_view_module": "@jupyter-widgets/controls",
            "_view_module_version": "1.5.0",
            "_view_name": "HTMLView",
            "description": "",
            "description_tooltip": null,
            "layout": "IPY_MODEL_613b4a50809b4f65892d7654db7cbf47",
            "placeholder": "​",
            "style": "IPY_MODEL_b158979a336a444baa82d6a0428e927c",
            "value": "adapter_model.safetensors: 100%"
          }
        },
        "487a971c484246f3b973ae0800fec53c": {
          "model_module": "@jupyter-widgets/controls",
          "model_name": "FloatProgressModel",
          "model_module_version": "1.5.0",
          "state": {
            "_dom_classes": [],
            "_model_module": "@jupyter-widgets/controls",
            "_model_module_version": "1.5.0",
            "_model_name": "FloatProgressModel",
            "_view_count": null,
            "_view_module": "@jupyter-widgets/controls",
            "_view_module_version": "1.5.0",
            "_view_name": "ProgressView",
            "bar_style": "success",
            "description": "",
            "description_tooltip": null,
            "layout": "IPY_MODEL_ed6da05402694864b84dd614ed58ac0e",
            "max": 13648432,
            "min": 0,
            "orientation": "horizontal",
            "style": "IPY_MODEL_9aaa4c0198244b5a8d75edb368748832",
            "value": 13648432
          }
        },
        "442682a487f34f19b57af54bf57d6db4": {
          "model_module": "@jupyter-widgets/controls",
          "model_name": "HTMLModel",
          "model_module_version": "1.5.0",
          "state": {
            "_dom_classes": [],
            "_model_module": "@jupyter-widgets/controls",
            "_model_module_version": "1.5.0",
            "_model_name": "HTMLModel",
            "_view_count": null,
            "_view_module": "@jupyter-widgets/controls",
            "_view_module_version": "1.5.0",
            "_view_name": "HTMLView",
            "description": "",
            "description_tooltip": null,
            "layout": "IPY_MODEL_a26585429f614ba098a8e49df32b556c",
            "placeholder": "​",
            "style": "IPY_MODEL_b5ee8ab0c0d04392b8315b95bd411e4e",
            "value": " 13.6M/13.6M [00:00&lt;00:00, 22.4MB/s]"
          }
        },
        "d690a26d12854883ad989bb5c1cd687c": {
          "model_module": "@jupyter-widgets/base",
          "model_name": "LayoutModel",
          "model_module_version": "1.2.0",
          "state": {
            "_model_module": "@jupyter-widgets/base",
            "_model_module_version": "1.2.0",
            "_model_name": "LayoutModel",
            "_view_count": null,
            "_view_module": "@jupyter-widgets/base",
            "_view_module_version": "1.2.0",
            "_view_name": "LayoutView",
            "align_content": null,
            "align_items": null,
            "align_self": null,
            "border": null,
            "bottom": null,
            "display": null,
            "flex": null,
            "flex_flow": null,
            "grid_area": null,
            "grid_auto_columns": null,
            "grid_auto_flow": null,
            "grid_auto_rows": null,
            "grid_column": null,
            "grid_gap": null,
            "grid_row": null,
            "grid_template_areas": null,
            "grid_template_columns": null,
            "grid_template_rows": null,
            "height": null,
            "justify_content": null,
            "justify_items": null,
            "left": null,
            "margin": null,
            "max_height": null,
            "max_width": null,
            "min_height": null,
            "min_width": null,
            "object_fit": null,
            "object_position": null,
            "order": null,
            "overflow": null,
            "overflow_x": null,
            "overflow_y": null,
            "padding": null,
            "right": null,
            "top": null,
            "visibility": null,
            "width": null
          }
        },
        "613b4a50809b4f65892d7654db7cbf47": {
          "model_module": "@jupyter-widgets/base",
          "model_name": "LayoutModel",
          "model_module_version": "1.2.0",
          "state": {
            "_model_module": "@jupyter-widgets/base",
            "_model_module_version": "1.2.0",
            "_model_name": "LayoutModel",
            "_view_count": null,
            "_view_module": "@jupyter-widgets/base",
            "_view_module_version": "1.2.0",
            "_view_name": "LayoutView",
            "align_content": null,
            "align_items": null,
            "align_self": null,
            "border": null,
            "bottom": null,
            "display": null,
            "flex": null,
            "flex_flow": null,
            "grid_area": null,
            "grid_auto_columns": null,
            "grid_auto_flow": null,
            "grid_auto_rows": null,
            "grid_column": null,
            "grid_gap": null,
            "grid_row": null,
            "grid_template_areas": null,
            "grid_template_columns": null,
            "grid_template_rows": null,
            "height": null,
            "justify_content": null,
            "justify_items": null,
            "left": null,
            "margin": null,
            "max_height": null,
            "max_width": null,
            "min_height": null,
            "min_width": null,
            "object_fit": null,
            "object_position": null,
            "order": null,
            "overflow": null,
            "overflow_x": null,
            "overflow_y": null,
            "padding": null,
            "right": null,
            "top": null,
            "visibility": null,
            "width": null
          }
        },
        "b158979a336a444baa82d6a0428e927c": {
          "model_module": "@jupyter-widgets/controls",
          "model_name": "DescriptionStyleModel",
          "model_module_version": "1.5.0",
          "state": {
            "_model_module": "@jupyter-widgets/controls",
            "_model_module_version": "1.5.0",
            "_model_name": "DescriptionStyleModel",
            "_view_count": null,
            "_view_module": "@jupyter-widgets/base",
            "_view_module_version": "1.2.0",
            "_view_name": "StyleView",
            "description_width": ""
          }
        },
        "ed6da05402694864b84dd614ed58ac0e": {
          "model_module": "@jupyter-widgets/base",
          "model_name": "LayoutModel",
          "model_module_version": "1.2.0",
          "state": {
            "_model_module": "@jupyter-widgets/base",
            "_model_module_version": "1.2.0",
            "_model_name": "LayoutModel",
            "_view_count": null,
            "_view_module": "@jupyter-widgets/base",
            "_view_module_version": "1.2.0",
            "_view_name": "LayoutView",
            "align_content": null,
            "align_items": null,
            "align_self": null,
            "border": null,
            "bottom": null,
            "display": null,
            "flex": null,
            "flex_flow": null,
            "grid_area": null,
            "grid_auto_columns": null,
            "grid_auto_flow": null,
            "grid_auto_rows": null,
            "grid_column": null,
            "grid_gap": null,
            "grid_row": null,
            "grid_template_areas": null,
            "grid_template_columns": null,
            "grid_template_rows": null,
            "height": null,
            "justify_content": null,
            "justify_items": null,
            "left": null,
            "margin": null,
            "max_height": null,
            "max_width": null,
            "min_height": null,
            "min_width": null,
            "object_fit": null,
            "object_position": null,
            "order": null,
            "overflow": null,
            "overflow_x": null,
            "overflow_y": null,
            "padding": null,
            "right": null,
            "top": null,
            "visibility": null,
            "width": null
          }
        },
        "9aaa4c0198244b5a8d75edb368748832": {
          "model_module": "@jupyter-widgets/controls",
          "model_name": "ProgressStyleModel",
          "model_module_version": "1.5.0",
          "state": {
            "_model_module": "@jupyter-widgets/controls",
            "_model_module_version": "1.5.0",
            "_model_name": "ProgressStyleModel",
            "_view_count": null,
            "_view_module": "@jupyter-widgets/base",
            "_view_module_version": "1.2.0",
            "_view_name": "StyleView",
            "bar_color": null,
            "description_width": ""
          }
        },
        "a26585429f614ba098a8e49df32b556c": {
          "model_module": "@jupyter-widgets/base",
          "model_name": "LayoutModel",
          "model_module_version": "1.2.0",
          "state": {
            "_model_module": "@jupyter-widgets/base",
            "_model_module_version": "1.2.0",
            "_model_name": "LayoutModel",
            "_view_count": null,
            "_view_module": "@jupyter-widgets/base",
            "_view_module_version": "1.2.0",
            "_view_name": "LayoutView",
            "align_content": null,
            "align_items": null,
            "align_self": null,
            "border": null,
            "bottom": null,
            "display": null,
            "flex": null,
            "flex_flow": null,
            "grid_area": null,
            "grid_auto_columns": null,
            "grid_auto_flow": null,
            "grid_auto_rows": null,
            "grid_column": null,
            "grid_gap": null,
            "grid_row": null,
            "grid_template_areas": null,
            "grid_template_columns": null,
            "grid_template_rows": null,
            "height": null,
            "justify_content": null,
            "justify_items": null,
            "left": null,
            "margin": null,
            "max_height": null,
            "max_width": null,
            "min_height": null,
            "min_width": null,
            "object_fit": null,
            "object_position": null,
            "order": null,
            "overflow": null,
            "overflow_x": null,
            "overflow_y": null,
            "padding": null,
            "right": null,
            "top": null,
            "visibility": null,
            "width": null
          }
        },
        "b5ee8ab0c0d04392b8315b95bd411e4e": {
          "model_module": "@jupyter-widgets/controls",
          "model_name": "DescriptionStyleModel",
          "model_module_version": "1.5.0",
          "state": {
            "_model_module": "@jupyter-widgets/controls",
            "_model_module_version": "1.5.0",
            "_model_name": "DescriptionStyleModel",
            "_view_count": null,
            "_view_module": "@jupyter-widgets/base",
            "_view_module_version": "1.2.0",
            "_view_name": "StyleView",
            "description_width": ""
          }
        }
      }
    }
  },
  "cells": [
    {
      "cell_type": "markdown",
      "source": [
        "### **Install Ludwig and Ludwig's LLM related dependencies.**"
      ],
      "metadata": {
        "id": "wXMVoEFkPXJJ"
      }
    },
    {
      "cell_type": "code",
      "source": [],
      "metadata": {
        "id": "QZBPosPfcWbA"
      },
      "execution_count": null,
      "outputs": []
    },
    {
      "cell_type": "code",
      "source": [
        "!pip uninstall -y tensorflow --quiet"
      ],
      "metadata": {
        "id": "yfYXyUUvM-R6"
      },
      "execution_count": null,
      "outputs": []
    },
    {
      "cell_type": "code",
      "source": [
        "!pip install ludwig --quiet\n",
        "!pip install ludwig[llm] --quiet"
      ],
      "metadata": {
        "colab": {
          "base_uri": "https://localhost:8080/"
        },
        "id": "gmCbCcevREIc",
        "outputId": "33f4c7a6-6f82-4c92-fa0e-cfbbfadeab6c"
      },
      "execution_count": null,
      "outputs": [
        {
          "output_type": "stream",
          "name": "stdout",
          "text": [
            "\u001b[2K     \u001b[90m━━━━━━━━━━━━━━━━━━━━━━━━━━━━━━━━━━━━━━━━\u001b[0m \u001b[32m1.0/1.0 MB\u001b[0m \u001b[31m8.0 MB/s\u001b[0m eta \u001b[36m0:00:00\u001b[0m\n",
            "\u001b[?25h  Installing build dependencies ... \u001b[?25l\u001b[?25hdone\n",
            "  Getting requirements to build wheel ... \u001b[?25l\u001b[?25hdone\n",
            "  Preparing metadata (pyproject.toml) ... \u001b[?25l\u001b[?25hdone\n",
            "\u001b[2K     \u001b[90m━━━━━━━━━━━━━━━━━━━━━━━━━━━━━━━━━━━━━━━━\u001b[0m \u001b[32m682.2/682.2 kB\u001b[0m \u001b[31m12.0 MB/s\u001b[0m eta \u001b[36m0:00:00\u001b[0m\n",
            "\u001b[2K     \u001b[90m━━━━━━━━━━━━━━━━━━━━━━━━━━━━━━━━━━━━━━━━\u001b[0m \u001b[32m80.8/80.8 kB\u001b[0m \u001b[31m3.4 MB/s\u001b[0m eta \u001b[36m0:00:00\u001b[0m\n",
            "\u001b[2K     \u001b[90m━━━━━━━━━━━━━━━━━━━━━━━━━━━━━━━━━━━━━━━━\u001b[0m \u001b[32m49.4/49.4 kB\u001b[0m \u001b[31m5.9 MB/s\u001b[0m eta \u001b[36m0:00:00\u001b[0m\n",
            "\u001b[2K     \u001b[90m━━━━━━━━━━━━━━━━━━━━━━━━━━━━━━━━━━━━━━━━\u001b[0m \u001b[32m519.2/519.2 kB\u001b[0m \u001b[31m14.3 MB/s\u001b[0m eta \u001b[36m0:00:00\u001b[0m\n",
            "\u001b[2K     \u001b[90m━━━━━━━━━━━━━━━━━━━━━━━━━━━━━━━━━━━━━━━━\u001b[0m \u001b[32m280.2/280.2 kB\u001b[0m \u001b[31m17.9 MB/s\u001b[0m eta \u001b[36m0:00:00\u001b[0m\n",
            "\u001b[2K     \u001b[90m━━━━━━━━━━━━━━━━━━━━━━━━━━━━━━━━━━━━━━━━\u001b[0m \u001b[32m98.1/98.1 kB\u001b[0m \u001b[31m12.7 MB/s\u001b[0m eta \u001b[36m0:00:00\u001b[0m\n",
            "\u001b[?25h  Installing build dependencies ... \u001b[?25l\u001b[?25hdone\n",
            "  Getting requirements to build wheel ... \u001b[?25l\u001b[?25hdone\n",
            "  Preparing metadata (pyproject.toml) ... \u001b[?25l\u001b[?25hdone\n",
            "\u001b[2K     \u001b[90m━━━━━━━━━━━━━━━━━━━━━━━━━━━━━━━━━━━━━━━━\u001b[0m \u001b[32m232.0/232.0 kB\u001b[0m \u001b[31m18.0 MB/s\u001b[0m eta \u001b[36m0:00:00\u001b[0m\n",
            "\u001b[2K     \u001b[90m━━━━━━━━━━━━━━━━━━━━━━━━━━━━━━━━━━━━━━━━\u001b[0m \u001b[32m897.5/897.5 kB\u001b[0m \u001b[31m22.3 MB/s\u001b[0m eta \u001b[36m0:00:00\u001b[0m\n",
            "\u001b[2K     \u001b[90m━━━━━━━━━━━━━━━━━━━━━━━━━━━━━━━━━━━━━━━━\u001b[0m \u001b[32m1.3/1.3 MB\u001b[0m \u001b[31m29.2 MB/s\u001b[0m eta \u001b[36m0:00:00\u001b[0m\n",
            "\u001b[2K     \u001b[90m━━━━━━━━━━━━━━━━━━━━━━━━━━━━━━━━━━━━━━━━\u001b[0m \u001b[32m20.3/20.3 MB\u001b[0m \u001b[31m66.3 MB/s\u001b[0m eta \u001b[36m0:00:00\u001b[0m\n",
            "\u001b[2K     \u001b[90m━━━━━━━━━━━━━━━━━━━━━━━━━━━━━━━━━━━━━━━━\u001b[0m \u001b[32m92.5/92.5 MB\u001b[0m \u001b[31m9.1 MB/s\u001b[0m eta \u001b[36m0:00:00\u001b[0m\n",
            "\u001b[2K     \u001b[90m━━━━━━━━━━━━━━━━━━━━━━━━━━━━━━━━━━━━━━━━\u001b[0m \u001b[32m100.0/100.0 kB\u001b[0m \u001b[31m12.5 MB/s\u001b[0m eta \u001b[36m0:00:00\u001b[0m\n",
            "\u001b[2K     \u001b[90m━━━━━━━━━━━━━━━━━━━━━━━━━━━━━━━━━━━━━━━━\u001b[0m \u001b[32m154.8/154.8 kB\u001b[0m \u001b[31m18.0 MB/s\u001b[0m eta \u001b[36m0:00:00\u001b[0m\n",
            "\u001b[2K     \u001b[90m━━━━━━━━━━━━━━━━━━━━━━━━━━━━━━━━━━━━━━━━\u001b[0m \u001b[32m117.7/117.7 kB\u001b[0m \u001b[31m15.4 MB/s\u001b[0m eta \u001b[36m0:00:00\u001b[0m\n",
            "\u001b[2K     \u001b[90m━━━━━━━━━━━━━━━━━━━━━━━━━━━━━━━━━━━━━━━━\u001b[0m \u001b[32m51.1/51.1 kB\u001b[0m \u001b[31m7.2 MB/s\u001b[0m eta \u001b[36m0:00:00\u001b[0m\n",
            "\u001b[2K     \u001b[90m━━━━━━━━━━━━━━━━━━━━━━━━━━━━━━━━━━━━━━━━\u001b[0m \u001b[32m58.4/58.4 kB\u001b[0m \u001b[31m8.4 MB/s\u001b[0m eta \u001b[36m0:00:00\u001b[0m\n",
            "\u001b[2K     \u001b[90m━━━━━━━━━━━━━━━━━━━━━━━━━━━━━━━━━━━━━━━━\u001b[0m \u001b[32m98.7/98.7 kB\u001b[0m \u001b[31m12.6 MB/s\u001b[0m eta \u001b[36m0:00:00\u001b[0m\n",
            "\u001b[?25h  Building wheel for ludwig (pyproject.toml) ... \u001b[?25l\u001b[?25hdone\n",
            "  Building wheel for gpustat (pyproject.toml) ... \u001b[?25l\u001b[?25hdone\n",
            "\u001b[31mERROR: pip's dependency resolver does not currently take into account all the packages that are installed. This behaviour is the source of the following dependency conflicts.\n",
            "lida 0.0.10 requires fastapi, which is not installed.\n",
            "lida 0.0.10 requires kaleido, which is not installed.\n",
            "lida 0.0.10 requires python-multipart, which is not installed.\n",
            "lida 0.0.10 requires uvicorn, which is not installed.\n",
            "llmx 0.0.15a0 requires cohere, which is not installed.\n",
            "llmx 0.0.15a0 requires openai, which is not installed.\n",
            "llmx 0.0.15a0 requires tiktoken, which is not installed.\u001b[0m\u001b[31m\n",
            "\u001b[2K     \u001b[90m━━━━━━━━━━━━━━━━━━━━━━━━━━━━━━━━━━━━━━━━\u001b[0m \u001b[32m86.0/86.0 kB\u001b[0m \u001b[31m2.9 MB/s\u001b[0m eta \u001b[36m0:00:00\u001b[0m\n",
            "\u001b[?25h  Preparing metadata (setup.py) ... \u001b[?25l\u001b[?25hdone\n",
            "\u001b[2K     \u001b[90m━━━━━━━━━━━━━━━━━━━━━━━━━━━━━━━━━━━━━━━━\u001b[0m \u001b[32m17.6/17.6 MB\u001b[0m \u001b[31m84.9 MB/s\u001b[0m eta \u001b[36m0:00:00\u001b[0m\n",
            "\u001b[2K     \u001b[90m━━━━━━━━━━━━━━━━━━━━━━━━━━━━━━━━━━━━━━━━\u001b[0m \u001b[32m265.7/265.7 kB\u001b[0m \u001b[31m29.5 MB/s\u001b[0m eta \u001b[36m0:00:00\u001b[0m\n",
            "\u001b[2K     \u001b[90m━━━━━━━━━━━━━━━━━━━━━━━━━━━━━━━━━━━━━━━━\u001b[0m \u001b[32m168.3/168.3 kB\u001b[0m \u001b[31m17.2 MB/s\u001b[0m eta \u001b[36m0:00:00\u001b[0m\n",
            "\u001b[?25h  Building wheel for sentence-transformers (setup.py) ... \u001b[?25l\u001b[?25hdone\n"
          ]
        }
      ]
    },
    {
      "cell_type": "code",
      "source": [],
      "metadata": {
        "id": "SFnqVkBgt9VX"
      },
      "execution_count": null,
      "outputs": []
    },
    {
      "cell_type": "code",
      "source": [
        "!pip show torch"
      ],
      "metadata": {
        "id": "RqicMQs_t8Nu",
        "colab": {
          "base_uri": "https://localhost:8080/"
        },
        "outputId": "cd9c2a5b-16f5-4b98-cdd1-7e8069f426bb"
      },
      "execution_count": null,
      "outputs": [
        {
          "output_type": "stream",
          "name": "stdout",
          "text": [
            "Name: torch\n",
            "Version: 2.1.0+cu118\n",
            "Summary: Tensors and Dynamic neural networks in Python with strong GPU acceleration\n",
            "Home-page: https://pytorch.org/\n",
            "Author: PyTorch Team\n",
            "Author-email: packages@pytorch.org\n",
            "License: BSD-3\n",
            "Location: /usr/local/lib/python3.10/dist-packages\n",
            "Requires: filelock, fsspec, jinja2, networkx, sympy, triton, typing-extensions\n",
            "Required-by: accelerate, fastai, ludwig, peft, sentence-transformers, torchaudio, torchdata, torchmetrics, torchtext, torchvision\n"
          ]
        }
      ]
    },
    {
      "cell_type": "code",
      "source": [
        "!pip show transformers"
      ],
      "metadata": {
        "id": "OwO4iNggt7-F",
        "colab": {
          "base_uri": "https://localhost:8080/"
        },
        "outputId": "99ca256d-fa1c-4fbf-a68f-5f86c186c217"
      },
      "execution_count": null,
      "outputs": [
        {
          "output_type": "stream",
          "name": "stdout",
          "text": [
            "Name: transformers\n",
            "Version: 4.35.2\n",
            "Summary: State-of-the-art Machine Learning for JAX, PyTorch and TensorFlow\n",
            "Home-page: https://github.com/huggingface/transformers\n",
            "Author: The Hugging Face team (past and future) with the help of all our contributors (https://github.com/huggingface/transformers/graphs/contributors)\n",
            "Author-email: transformers@huggingface.co\n",
            "License: Apache 2.0 License\n",
            "Location: /usr/local/lib/python3.10/dist-packages\n",
            "Requires: filelock, huggingface-hub, numpy, packaging, pyyaml, regex, requests, safetensors, tokenizers, tqdm\n",
            "Required-by: ludwig, peft, sentence-transformers\n"
          ]
        }
      ]
    },
    {
      "cell_type": "code",
      "source": [
        "!pip show peft"
      ],
      "metadata": {
        "colab": {
          "base_uri": "https://localhost:8080/"
        },
        "id": "71HM3tdjTVW5",
        "outputId": "9490fba5-ad17-4331-8b8a-c5a17ada09e3"
      },
      "execution_count": null,
      "outputs": [
        {
          "output_type": "stream",
          "name": "stdout",
          "text": [
            "Name: peft\n",
            "Version: 0.7.0\n",
            "Summary: Parameter-Efficient Fine-Tuning (PEFT)\n",
            "Home-page: https://github.com/huggingface/peft\n",
            "Author: The HuggingFace team\n",
            "Author-email: sourab@huggingface.co\n",
            "License: Apache\n",
            "Location: /usr/local/lib/python3.10/dist-packages\n",
            "Requires: accelerate, huggingface-hub, numpy, packaging, psutil, pyyaml, safetensors, torch, tqdm, transformers\n",
            "Required-by: \n"
          ]
        }
      ]
    },
    {
      "cell_type": "code",
      "source": [],
      "metadata": {
        "id": "yDbFgDs-_uIT"
      },
      "execution_count": null,
      "outputs": []
    },
    {
      "cell_type": "code",
      "source": [],
      "metadata": {
        "id": "y2zlqMNM_v7t"
      },
      "execution_count": null,
      "outputs": []
    },
    {
      "cell_type": "code",
      "source": [
        "\n",
        "import os\n",
        "\n",
        "import copy\n",
        "\n",
        "import gc\n",
        "\n",
        "from typing import Any, Callable, cast\n",
        "\n",
        "import time\n",
        "\n",
        "from functools import wraps\n",
        "from inspect import (\n",
        "    BoundArguments,\n",
        "    signature,\n",
        ")\n",
        "\n",
        "from collections import OrderedDict\n",
        "\n",
        "from google.colab import data_table, drive\n",
        "\n",
        "import json\n",
        "import yaml\n",
        "\n",
        "import numpy as np\n",
        "import pandas as pd\n",
        "\n",
        "import torch\n",
        "from torch import Tensor\n",
        "\n",
        "import transformers\n",
        "from transformers import BitsAndBytesConfig, AutoModelForCausalLM, LlamaForCausalLM, MistralForCausalLM, AutoTokenizer, LlamaTokenizerFast, GenerationConfig, TextGenerationPipeline, BatchEncoding\n",
        "from transformers.generation.utils import GreedySearchDecoderOnlyOutput\n",
        "\n",
        "from peft import PeftModel, PeftModelForCausalLM, PeftConfig, LoraConfig\n",
        "\n",
        "from ludwig.api import LudwigModel, TrainingResults\n",
        "\n",
        "\n",
        "import logging"
      ],
      "metadata": {
        "id": "fd_LA_2Wx_qr"
      },
      "execution_count": null,
      "outputs": []
    },
    {
      "cell_type": "markdown",
      "source": [
        "Enable text wrapping so we don't have to scroll horizontally and create a function to flush CUDA cache."
      ],
      "metadata": {
        "id": "A2SRHcKAJYuu"
      }
    },
    {
      "cell_type": "code",
      "source": [
        "from IPython.display import HTML, display\n",
        "\n",
        "def set_css() -> None:\n",
        "  display(HTML('''\n",
        "  <style>\n",
        "    pre {\n",
        "        white-space: pre-wrap;\n",
        "    }\n",
        "  </style>\n",
        "  '''))\n",
        "\n",
        "get_ipython().events.register('pre_run_cell', set_css)\n"
      ],
      "metadata": {
        "id": "Ht4eVWxB13QL"
      },
      "execution_count": null,
      "outputs": []
    },
    {
      "cell_type": "code",
      "source": [
        "def predict(model: LudwigModel, df_test: pd.DataFrame) -> list[list[str]]:\n",
        "  return model.predict(dataset=df_test)[0][\"task_type_response\"].tolist()"
      ],
      "metadata": {
        "id": "E_dFOQDtqY3R",
        "colab": {
          "base_uri": "https://localhost:8080/",
          "height": 17
        },
        "outputId": "faf2d7bd-b309-473e-fe11-50363e6c5985"
      },
      "execution_count": null,
      "outputs": [
        {
          "output_type": "display_data",
          "data": {
            "text/plain": [
              "<IPython.core.display.HTML object>"
            ],
            "text/html": [
              "\n",
              "  <style>\n",
              "    pre {\n",
              "        white-space: pre-wrap;\n",
              "    }\n",
              "  </style>\n",
              "  "
            ]
          },
          "metadata": {}
        }
      ]
    },
    {
      "cell_type": "code",
      "source": [],
      "metadata": {
        "id": "wzdU2cA6eEY5"
      },
      "execution_count": null,
      "outputs": []
    },
    {
      "cell_type": "code",
      "source": [],
      "metadata": {
        "id": "g0g8MijBeFFW"
      },
      "execution_count": null,
      "outputs": []
    },
    {
      "cell_type": "markdown",
      "source": [
        "### **Setup Your HuggingFace Token** 🤗\n",
        "\n",
        "Obtain a [HuggingFace API Token](https://huggingface.co/settings/tokens) before proceeding. You may need to signup on HuggingFace if you do not aleady have an account: https://huggingface.co/join\n"
      ],
      "metadata": {
        "id": "SUkPQ9OLP0Po"
      }
    },
    {
      "cell_type": "code",
      "source": [
        "import getpass\n",
        "# import locale; locale.getpreferredencoding = lambda: \"UTF-8\"\n",
        "\n",
        "import locale\n",
        "def getpreferredencoding(do_setlocale = True):\n",
        "    return \"UTF-8\"\n",
        "\n",
        "locale.getpreferredencoding = getpreferredencoding\n",
        "\n",
        "\n",
        "os.environ[\"HUGGING_FACE_HUB_TOKEN\"] = getpass.getpass(\"Token:\")\n",
        "assert os.environ[\"HUGGING_FACE_HUB_TOKEN\"]"
      ],
      "metadata": {
        "id": "nXOIxmfbQHSz",
        "colab": {
          "base_uri": "https://localhost:8080/",
          "height": 35
        },
        "outputId": "7c2c4f8a-a8bb-4f33-9afb-f5e59874f16e"
      },
      "execution_count": null,
      "outputs": [
        {
          "output_type": "display_data",
          "data": {
            "text/plain": [
              "<IPython.core.display.HTML object>"
            ],
            "text/html": [
              "\n",
              "  <style>\n",
              "    pre {\n",
              "        white-space: pre-wrap;\n",
              "    }\n",
              "  </style>\n",
              "  "
            ]
          },
          "metadata": {}
        },
        {
          "name": "stdout",
          "output_type": "stream",
          "text": [
            "Token:··········\n"
          ]
        }
      ]
    },
    {
      "cell_type": "markdown",
      "source": [
        "### **Import the Gridspace-Stanford-HarperValley Dataset**\n",
        "\n"
      ],
      "metadata": {
        "id": "sV0D2rjRbk4z"
      }
    },
    {
      "cell_type": "code",
      "source": [
        "drive.mount('/content/drive')"
      ],
      "metadata": {
        "colab": {
          "base_uri": "https://localhost:8080/",
          "height": 35
        },
        "id": "I60g8G1IIQC6",
        "outputId": "64a9e73c-a3b9-4bce-c245-f11377c5eb8c"
      },
      "execution_count": null,
      "outputs": [
        {
          "output_type": "display_data",
          "data": {
            "text/plain": [
              "<IPython.core.display.HTML object>"
            ],
            "text/html": [
              "\n",
              "  <style>\n",
              "    pre {\n",
              "        white-space: pre-wrap;\n",
              "    }\n",
              "  </style>\n",
              "  "
            ]
          },
          "metadata": {}
        },
        {
          "output_type": "stream",
          "name": "stdout",
          "text": [
            "Mounted at /content/drive\n"
          ]
        }
      ]
    },
    {
      "cell_type": "code",
      "source": [
        "# !ls /content/drive/MyDrive/GridSpaceStanfordHarperValley/gridspace-stanford-harper-valley/data/transcript"
      ],
      "metadata": {
        "id": "-Tz0L58oIaYz",
        "colab": {
          "base_uri": "https://localhost:8080/",
          "height": 17
        },
        "outputId": "4305a413-f96d-4502-df0b-22bbd27a6429"
      },
      "execution_count": null,
      "outputs": [
        {
          "output_type": "display_data",
          "data": {
            "text/plain": [
              "<IPython.core.display.HTML object>"
            ],
            "text/html": [
              "\n",
              "  <style>\n",
              "    pre {\n",
              "        white-space: pre-wrap;\n",
              "    }\n",
              "  </style>\n",
              "  "
            ]
          },
          "metadata": {}
        }
      ]
    },
    {
      "cell_type": "code",
      "source": [
        "transcript_files_path: str = \"/content/drive/MyDrive/GridSpaceStanfordHarperValley/gridspace-stanford-harper-valley/data/transcript\"\n",
        "metadata_files_path: str = \"/content/drive/MyDrive/GridSpaceStanfordHarperValley/gridspace-stanford-harper-valley/data/metadata\""
      ],
      "metadata": {
        "colab": {
          "base_uri": "https://localhost:8080/",
          "height": 17
        },
        "id": "nO6ssBrRDGtq",
        "outputId": "66018f51-53ac-446d-afd4-71356264890a"
      },
      "execution_count": null,
      "outputs": [
        {
          "output_type": "display_data",
          "data": {
            "text/plain": [
              "<IPython.core.display.HTML object>"
            ],
            "text/html": [
              "\n",
              "  <style>\n",
              "    pre {\n",
              "        white-space: pre-wrap;\n",
              "    }\n",
              "  </style>\n",
              "  "
            ]
          },
          "metadata": {}
        }
      ]
    },
    {
      "cell_type": "code",
      "source": [
        "# os.listdir(transcript_files_path)"
      ],
      "metadata": {
        "colab": {
          "base_uri": "https://localhost:8080/",
          "height": 17
        },
        "id": "dMyFwknfIu4b",
        "outputId": "1e3c1422-0331-4f4b-c618-aa0f4726fd4b"
      },
      "execution_count": null,
      "outputs": [
        {
          "output_type": "display_data",
          "data": {
            "text/plain": [
              "<IPython.core.display.HTML object>"
            ],
            "text/html": [
              "\n",
              "  <style>\n",
              "    pre {\n",
              "        white-space: pre-wrap;\n",
              "    }\n",
              "  </style>\n",
              "  "
            ]
          },
          "metadata": {}
        }
      ]
    },
    {
      "cell_type": "code",
      "source": [
        "file_names: list[str] = os.listdir(transcript_files_path)"
      ],
      "metadata": {
        "colab": {
          "base_uri": "https://localhost:8080/",
          "height": 17
        },
        "id": "bLQG8Z1EwsQI",
        "outputId": "e9854790-23a6-44dd-bbaf-ea90657d90cb"
      },
      "execution_count": null,
      "outputs": [
        {
          "output_type": "display_data",
          "data": {
            "text/plain": [
              "<IPython.core.display.HTML object>"
            ],
            "text/html": [
              "\n",
              "  <style>\n",
              "    pre {\n",
              "        white-space: pre-wrap;\n",
              "    }\n",
              "  </style>\n",
              "  "
            ]
          },
          "metadata": {}
        }
      ]
    },
    {
      "cell_type": "code",
      "source": [
        "len(file_names)"
      ],
      "metadata": {
        "colab": {
          "base_uri": "https://localhost:8080/",
          "height": 35
        },
        "id": "tlBL8Zntw_aN",
        "outputId": "f1ee3211-3dbf-4067-967b-ff7230fee36d"
      },
      "execution_count": null,
      "outputs": [
        {
          "output_type": "display_data",
          "data": {
            "text/plain": [
              "<IPython.core.display.HTML object>"
            ],
            "text/html": [
              "\n",
              "  <style>\n",
              "    pre {\n",
              "        white-space: pre-wrap;\n",
              "    }\n",
              "  </style>\n",
              "  "
            ]
          },
          "metadata": {}
        },
        {
          "output_type": "execute_result",
          "data": {
            "text/plain": [
              "1446"
            ]
          },
          "metadata": {},
          "execution_count": 15
        }
      ]
    },
    {
      "cell_type": "code",
      "source": [],
      "metadata": {
        "id": "rqnpRi8X8pjK"
      },
      "execution_count": null,
      "outputs": []
    },
    {
      "cell_type": "code",
      "source": [
        "gc.collect()"
      ],
      "metadata": {
        "colab": {
          "base_uri": "https://localhost:8080/",
          "height": 35
        },
        "id": "KWPgRa9C8prU",
        "outputId": "bed1e476-1c5e-44d5-e536-8806b8b8c403"
      },
      "execution_count": null,
      "outputs": [
        {
          "output_type": "display_data",
          "data": {
            "text/plain": [
              "<IPython.core.display.HTML object>"
            ],
            "text/html": [
              "\n",
              "  <style>\n",
              "    pre {\n",
              "        white-space: pre-wrap;\n",
              "    }\n",
              "  </style>\n",
              "  "
            ]
          },
          "metadata": {}
        },
        {
          "output_type": "execute_result",
          "data": {
            "text/plain": [
              "1142"
            ]
          },
          "metadata": {},
          "execution_count": 16
        }
      ]
    },
    {
      "cell_type": "code",
      "source": [],
      "metadata": {
        "id": "K0S_jHOi8pyJ"
      },
      "execution_count": null,
      "outputs": []
    },
    {
      "cell_type": "code",
      "source": [
        "file_name: str"
      ],
      "metadata": {
        "colab": {
          "base_uri": "https://localhost:8080/",
          "height": 17
        },
        "id": "n26GJm2bwnln",
        "outputId": "e22f8ed6-0af5-4ad5-889b-bfd18cc92dd4"
      },
      "execution_count": null,
      "outputs": [
        {
          "output_type": "display_data",
          "data": {
            "text/plain": [
              "<IPython.core.display.HTML object>"
            ],
            "text/html": [
              "\n",
              "  <style>\n",
              "    pre {\n",
              "        white-space: pre-wrap;\n",
              "    }\n",
              "  </style>\n",
              "  "
            ]
          },
          "metadata": {}
        }
      ]
    },
    {
      "cell_type": "code",
      "source": [
        "all_transcripts: list[str] = []\n",
        "\n",
        "transcript_file_name: str\n",
        "transcript_file_path: str\n",
        "\n",
        "conversation_turns: list[dict]\n",
        "turn_item: dict\n",
        "\n",
        "transcript_part_list: list[str]\n",
        "transcript_part: str\n",
        "transcript_text: str\n",
        "\n",
        "for file_name in file_names:\n",
        "    transcript_file_path = os.path.join(transcript_files_path, file_name)\n",
        "    with open(transcript_file_path, 'r') as transcript_file:\n",
        "        conversation_turns = json.load(transcript_file)\n",
        "\n",
        "        transcript_part_list = []\n",
        "        for turn_item in conversation_turns:\n",
        "          transcript_part = f'<{turn_item[\"speaker_role\"]}>' + \" \" + turn_item[\"human_transcript\"]\n",
        "          transcript_part_list.append(transcript_part)\n",
        "\n",
        "        transcript_text = \" \".join(transcript_part for transcript_part in transcript_part_list)\n",
        "        all_transcripts.append(transcript_text)\n"
      ],
      "metadata": {
        "colab": {
          "base_uri": "https://localhost:8080/",
          "height": 17
        },
        "id": "P9hyq6DJ8z9D",
        "outputId": "d8a711b4-79ec-419f-8b50-51f3022dedb7"
      },
      "execution_count": null,
      "outputs": [
        {
          "output_type": "display_data",
          "data": {
            "text/plain": [
              "<IPython.core.display.HTML object>"
            ],
            "text/html": [
              "\n",
              "  <style>\n",
              "    pre {\n",
              "        white-space: pre-wrap;\n",
              "    }\n",
              "  </style>\n",
              "  "
            ]
          },
          "metadata": {}
        }
      ]
    },
    {
      "cell_type": "code",
      "source": [
        "len(all_transcripts)"
      ],
      "metadata": {
        "colab": {
          "base_uri": "https://localhost:8080/",
          "height": 35
        },
        "id": "UQ9YyPG39CAW",
        "outputId": "2409ca9c-34d2-40b6-b96f-08f94d89f303"
      },
      "execution_count": null,
      "outputs": [
        {
          "output_type": "display_data",
          "data": {
            "text/plain": [
              "<IPython.core.display.HTML object>"
            ],
            "text/html": [
              "\n",
              "  <style>\n",
              "    pre {\n",
              "        white-space: pre-wrap;\n",
              "    }\n",
              "  </style>\n",
              "  "
            ]
          },
          "metadata": {}
        },
        {
          "output_type": "execute_result",
          "data": {
            "text/plain": [
              "1446"
            ]
          },
          "metadata": {},
          "execution_count": 19
        }
      ]
    },
    {
      "cell_type": "code",
      "source": [],
      "metadata": {
        "id": "cFRLjsMO9CDV"
      },
      "execution_count": null,
      "outputs": []
    },
    {
      "cell_type": "code",
      "source": [
        "all_task_types: list[str] = []\n",
        "\n",
        "metadata_file_name: str\n",
        "metadata_file_path: str\n",
        "\n",
        "task_type: str\n",
        "\n",
        "for file_name in file_names:\n",
        "    metadata_file_path = os.path.join(metadata_files_path, file_name)\n",
        "    with open(metadata_file_path, 'r') as metadata_file:\n",
        "        metadata = json.load(metadata_file)\n",
        "\n",
        "        task_type = metadata[\"tasks\"][0][\"task_type\"]\n",
        "        all_task_types.append(task_type)\n"
      ],
      "metadata": {
        "colab": {
          "base_uri": "https://localhost:8080/",
          "height": 17
        },
        "id": "muRTFDkQ83D8",
        "outputId": "de9c95f8-05ed-46c9-f0f1-bf4fdf503d87"
      },
      "execution_count": null,
      "outputs": [
        {
          "output_type": "display_data",
          "data": {
            "text/plain": [
              "<IPython.core.display.HTML object>"
            ],
            "text/html": [
              "\n",
              "  <style>\n",
              "    pre {\n",
              "        white-space: pre-wrap;\n",
              "    }\n",
              "  </style>\n",
              "  "
            ]
          },
          "metadata": {}
        }
      ]
    },
    {
      "cell_type": "code",
      "source": [
        "len(all_task_types)"
      ],
      "metadata": {
        "id": "adUsMjfbmJd4",
        "colab": {
          "base_uri": "https://localhost:8080/",
          "height": 35
        },
        "outputId": "80663807-28e5-48a5-a469-2705ede0aee0"
      },
      "execution_count": null,
      "outputs": [
        {
          "output_type": "display_data",
          "data": {
            "text/plain": [
              "<IPython.core.display.HTML object>"
            ],
            "text/html": [
              "\n",
              "  <style>\n",
              "    pre {\n",
              "        white-space: pre-wrap;\n",
              "    }\n",
              "  </style>\n",
              "  "
            ]
          },
          "metadata": {}
        },
        {
          "output_type": "execute_result",
          "data": {
            "text/plain": [
              "1446"
            ]
          },
          "metadata": {},
          "execution_count": 24
        }
      ]
    },
    {
      "cell_type": "code",
      "source": [],
      "metadata": {
        "id": "CM35GZ9VhnGB"
      },
      "execution_count": null,
      "outputs": []
    },
    {
      "cell_type": "code",
      "source": [
        "\n"
      ],
      "metadata": {
        "id": "sczFSKg9hqcI"
      },
      "execution_count": null,
      "outputs": []
    },
    {
      "cell_type": "code",
      "source": [
        "raw_data: dict = {\"transcript\": all_transcripts, \"task_type\": all_task_types}"
      ],
      "metadata": {
        "colab": {
          "base_uri": "https://localhost:8080/",
          "height": 17
        },
        "id": "2YOwGZ59N11C",
        "outputId": "0dbe88a1-c9b4-482e-d45c-7725661ebca3"
      },
      "execution_count": null,
      "outputs": [
        {
          "output_type": "display_data",
          "data": {
            "text/plain": [
              "<IPython.core.display.HTML object>"
            ],
            "text/html": [
              "\n",
              "  <style>\n",
              "    pre {\n",
              "        white-space: pre-wrap;\n",
              "    }\n",
              "  </style>\n",
              "  "
            ]
          },
          "metadata": {}
        }
      ]
    },
    {
      "cell_type": "code",
      "source": [
        "df_dataset_original: pd.DataFrame = pd.DataFrame(data=raw_data)"
      ],
      "metadata": {
        "colab": {
          "base_uri": "https://localhost:8080/",
          "height": 17
        },
        "id": "kyjbzaUNDluT",
        "outputId": "9280397a-2212-4cbf-ab5c-3f5b4fab91cb"
      },
      "execution_count": null,
      "outputs": [
        {
          "output_type": "display_data",
          "data": {
            "text/plain": [
              "<IPython.core.display.HTML object>"
            ],
            "text/html": [
              "\n",
              "  <style>\n",
              "    pre {\n",
              "        white-space: pre-wrap;\n",
              "    }\n",
              "  </style>\n",
              "  "
            ]
          },
          "metadata": {}
        }
      ]
    },
    {
      "cell_type": "code",
      "source": [
        "df_dataset_original.shape"
      ],
      "metadata": {
        "colab": {
          "base_uri": "https://localhost:8080/",
          "height": 35
        },
        "id": "2-jSjALoNiXf",
        "outputId": "f07e5b6c-3e17-4024-e040-52758fd671a2"
      },
      "execution_count": null,
      "outputs": [
        {
          "output_type": "display_data",
          "data": {
            "text/plain": [
              "<IPython.core.display.HTML object>"
            ],
            "text/html": [
              "\n",
              "  <style>\n",
              "    pre {\n",
              "        white-space: pre-wrap;\n",
              "    }\n",
              "  </style>\n",
              "  "
            ]
          },
          "metadata": {}
        },
        {
          "output_type": "execute_result",
          "data": {
            "text/plain": [
              "(1446, 2)"
            ]
          },
          "metadata": {},
          "execution_count": 27
        }
      ]
    },
    {
      "cell_type": "code",
      "source": [
        "df_dataset_original.head(n=10)"
      ],
      "metadata": {
        "colab": {
          "base_uri": "https://localhost:8080/",
          "height": 363
        },
        "id": "YTvqlOnvNiaG",
        "outputId": "5ee3a3ab-cc70-412c-9995-fd106b4d4558"
      },
      "execution_count": null,
      "outputs": [
        {
          "output_type": "display_data",
          "data": {
            "text/plain": [
              "<IPython.core.display.HTML object>"
            ],
            "text/html": [
              "\n",
              "  <style>\n",
              "    pre {\n",
              "        white-space: pre-wrap;\n",
              "    }\n",
              "  </style>\n",
              "  "
            ]
          },
          "metadata": {}
        },
        {
          "output_type": "execute_result",
          "data": {
            "text/plain": [
              "                                          transcript             task_type\n",
              "0  <agent> hello this is harper valley national b...          replace card\n",
              "1  <agent> hello this is harper valley national b...  schedule appointment\n",
              "2  <agent> [noise] hello this is harper valley na...        reset password\n",
              "3  <agent> hello this is harper valley nation my ...      get branch hours\n",
              "4  <agent> hello this is harper valley national b...        transfer money\n",
              "5  <agent> hello this is harper valley national b...        reset password\n",
              "6  <agent> <unk> this is harper valley national b...          order checks\n",
              "7  <agent> hello this is harper valley national b...         check balance\n",
              "8  <agent> hello this is harper valley national b...  schedule appointment\n",
              "9  <agent> hello this is harper valley national b...              pay bill"
            ],
            "text/html": [
              "\n",
              "  <div id=\"df-da1223bd-a1f0-4657-86d1-e632bd6293aa\" class=\"colab-df-container\">\n",
              "    <div>\n",
              "<style scoped>\n",
              "    .dataframe tbody tr th:only-of-type {\n",
              "        vertical-align: middle;\n",
              "    }\n",
              "\n",
              "    .dataframe tbody tr th {\n",
              "        vertical-align: top;\n",
              "    }\n",
              "\n",
              "    .dataframe thead th {\n",
              "        text-align: right;\n",
              "    }\n",
              "</style>\n",
              "<table border=\"1\" class=\"dataframe\">\n",
              "  <thead>\n",
              "    <tr style=\"text-align: right;\">\n",
              "      <th></th>\n",
              "      <th>transcript</th>\n",
              "      <th>task_type</th>\n",
              "    </tr>\n",
              "  </thead>\n",
              "  <tbody>\n",
              "    <tr>\n",
              "      <th>0</th>\n",
              "      <td>&lt;agent&gt; hello this is harper valley national b...</td>\n",
              "      <td>replace card</td>\n",
              "    </tr>\n",
              "    <tr>\n",
              "      <th>1</th>\n",
              "      <td>&lt;agent&gt; hello this is harper valley national b...</td>\n",
              "      <td>schedule appointment</td>\n",
              "    </tr>\n",
              "    <tr>\n",
              "      <th>2</th>\n",
              "      <td>&lt;agent&gt; [noise] hello this is harper valley na...</td>\n",
              "      <td>reset password</td>\n",
              "    </tr>\n",
              "    <tr>\n",
              "      <th>3</th>\n",
              "      <td>&lt;agent&gt; hello this is harper valley nation my ...</td>\n",
              "      <td>get branch hours</td>\n",
              "    </tr>\n",
              "    <tr>\n",
              "      <th>4</th>\n",
              "      <td>&lt;agent&gt; hello this is harper valley national b...</td>\n",
              "      <td>transfer money</td>\n",
              "    </tr>\n",
              "    <tr>\n",
              "      <th>5</th>\n",
              "      <td>&lt;agent&gt; hello this is harper valley national b...</td>\n",
              "      <td>reset password</td>\n",
              "    </tr>\n",
              "    <tr>\n",
              "      <th>6</th>\n",
              "      <td>&lt;agent&gt; &lt;unk&gt; this is harper valley national b...</td>\n",
              "      <td>order checks</td>\n",
              "    </tr>\n",
              "    <tr>\n",
              "      <th>7</th>\n",
              "      <td>&lt;agent&gt; hello this is harper valley national b...</td>\n",
              "      <td>check balance</td>\n",
              "    </tr>\n",
              "    <tr>\n",
              "      <th>8</th>\n",
              "      <td>&lt;agent&gt; hello this is harper valley national b...</td>\n",
              "      <td>schedule appointment</td>\n",
              "    </tr>\n",
              "    <tr>\n",
              "      <th>9</th>\n",
              "      <td>&lt;agent&gt; hello this is harper valley national b...</td>\n",
              "      <td>pay bill</td>\n",
              "    </tr>\n",
              "  </tbody>\n",
              "</table>\n",
              "</div>\n",
              "    <div class=\"colab-df-buttons\">\n",
              "\n",
              "  <div class=\"colab-df-container\">\n",
              "    <button class=\"colab-df-convert\" onclick=\"convertToInteractive('df-da1223bd-a1f0-4657-86d1-e632bd6293aa')\"\n",
              "            title=\"Convert this dataframe to an interactive table.\"\n",
              "            style=\"display:none;\">\n",
              "\n",
              "  <svg xmlns=\"http://www.w3.org/2000/svg\" height=\"24px\" viewBox=\"0 -960 960 960\">\n",
              "    <path d=\"M120-120v-720h720v720H120Zm60-500h600v-160H180v160Zm220 220h160v-160H400v160Zm0 220h160v-160H400v160ZM180-400h160v-160H180v160Zm440 0h160v-160H620v160ZM180-180h160v-160H180v160Zm440 0h160v-160H620v160Z\"/>\n",
              "  </svg>\n",
              "    </button>\n",
              "\n",
              "  <style>\n",
              "    .colab-df-container {\n",
              "      display:flex;\n",
              "      gap: 12px;\n",
              "    }\n",
              "\n",
              "    .colab-df-convert {\n",
              "      background-color: #E8F0FE;\n",
              "      border: none;\n",
              "      border-radius: 50%;\n",
              "      cursor: pointer;\n",
              "      display: none;\n",
              "      fill: #1967D2;\n",
              "      height: 32px;\n",
              "      padding: 0 0 0 0;\n",
              "      width: 32px;\n",
              "    }\n",
              "\n",
              "    .colab-df-convert:hover {\n",
              "      background-color: #E2EBFA;\n",
              "      box-shadow: 0px 1px 2px rgba(60, 64, 67, 0.3), 0px 1px 3px 1px rgba(60, 64, 67, 0.15);\n",
              "      fill: #174EA6;\n",
              "    }\n",
              "\n",
              "    .colab-df-buttons div {\n",
              "      margin-bottom: 4px;\n",
              "    }\n",
              "\n",
              "    [theme=dark] .colab-df-convert {\n",
              "      background-color: #3B4455;\n",
              "      fill: #D2E3FC;\n",
              "    }\n",
              "\n",
              "    [theme=dark] .colab-df-convert:hover {\n",
              "      background-color: #434B5C;\n",
              "      box-shadow: 0px 1px 3px 1px rgba(0, 0, 0, 0.15);\n",
              "      filter: drop-shadow(0px 1px 2px rgba(0, 0, 0, 0.3));\n",
              "      fill: #FFFFFF;\n",
              "    }\n",
              "  </style>\n",
              "\n",
              "    <script>\n",
              "      const buttonEl =\n",
              "        document.querySelector('#df-da1223bd-a1f0-4657-86d1-e632bd6293aa button.colab-df-convert');\n",
              "      buttonEl.style.display =\n",
              "        google.colab.kernel.accessAllowed ? 'block' : 'none';\n",
              "\n",
              "      async function convertToInteractive(key) {\n",
              "        const element = document.querySelector('#df-da1223bd-a1f0-4657-86d1-e632bd6293aa');\n",
              "        const dataTable =\n",
              "          await google.colab.kernel.invokeFunction('convertToInteractive',\n",
              "                                                    [key], {});\n",
              "        if (!dataTable) return;\n",
              "\n",
              "        const docLinkHtml = 'Like what you see? Visit the ' +\n",
              "          '<a target=\"_blank\" href=https://colab.research.google.com/notebooks/data_table.ipynb>data table notebook</a>'\n",
              "          + ' to learn more about interactive tables.';\n",
              "        element.innerHTML = '';\n",
              "        dataTable['output_type'] = 'display_data';\n",
              "        await google.colab.output.renderOutput(dataTable, element);\n",
              "        const docLink = document.createElement('div');\n",
              "        docLink.innerHTML = docLinkHtml;\n",
              "        element.appendChild(docLink);\n",
              "      }\n",
              "    </script>\n",
              "  </div>\n",
              "\n",
              "\n",
              "<div id=\"df-f8d8f9a8-4c81-4a22-bae0-3cdc63f0b078\">\n",
              "  <button class=\"colab-df-quickchart\" onclick=\"quickchart('df-f8d8f9a8-4c81-4a22-bae0-3cdc63f0b078')\"\n",
              "            title=\"Suggest charts\"\n",
              "            style=\"display:none;\">\n",
              "\n",
              "<svg xmlns=\"http://www.w3.org/2000/svg\" height=\"24px\"viewBox=\"0 0 24 24\"\n",
              "     width=\"24px\">\n",
              "    <g>\n",
              "        <path d=\"M19 3H5c-1.1 0-2 .9-2 2v14c0 1.1.9 2 2 2h14c1.1 0 2-.9 2-2V5c0-1.1-.9-2-2-2zM9 17H7v-7h2v7zm4 0h-2V7h2v10zm4 0h-2v-4h2v4z\"/>\n",
              "    </g>\n",
              "</svg>\n",
              "  </button>\n",
              "\n",
              "<style>\n",
              "  .colab-df-quickchart {\n",
              "      --bg-color: #E8F0FE;\n",
              "      --fill-color: #1967D2;\n",
              "      --hover-bg-color: #E2EBFA;\n",
              "      --hover-fill-color: #174EA6;\n",
              "      --disabled-fill-color: #AAA;\n",
              "      --disabled-bg-color: #DDD;\n",
              "  }\n",
              "\n",
              "  [theme=dark] .colab-df-quickchart {\n",
              "      --bg-color: #3B4455;\n",
              "      --fill-color: #D2E3FC;\n",
              "      --hover-bg-color: #434B5C;\n",
              "      --hover-fill-color: #FFFFFF;\n",
              "      --disabled-bg-color: #3B4455;\n",
              "      --disabled-fill-color: #666;\n",
              "  }\n",
              "\n",
              "  .colab-df-quickchart {\n",
              "    background-color: var(--bg-color);\n",
              "    border: none;\n",
              "    border-radius: 50%;\n",
              "    cursor: pointer;\n",
              "    display: none;\n",
              "    fill: var(--fill-color);\n",
              "    height: 32px;\n",
              "    padding: 0;\n",
              "    width: 32px;\n",
              "  }\n",
              "\n",
              "  .colab-df-quickchart:hover {\n",
              "    background-color: var(--hover-bg-color);\n",
              "    box-shadow: 0 1px 2px rgba(60, 64, 67, 0.3), 0 1px 3px 1px rgba(60, 64, 67, 0.15);\n",
              "    fill: var(--button-hover-fill-color);\n",
              "  }\n",
              "\n",
              "  .colab-df-quickchart-complete:disabled,\n",
              "  .colab-df-quickchart-complete:disabled:hover {\n",
              "    background-color: var(--disabled-bg-color);\n",
              "    fill: var(--disabled-fill-color);\n",
              "    box-shadow: none;\n",
              "  }\n",
              "\n",
              "  .colab-df-spinner {\n",
              "    border: 2px solid var(--fill-color);\n",
              "    border-color: transparent;\n",
              "    border-bottom-color: var(--fill-color);\n",
              "    animation:\n",
              "      spin 1s steps(1) infinite;\n",
              "  }\n",
              "\n",
              "  @keyframes spin {\n",
              "    0% {\n",
              "      border-color: transparent;\n",
              "      border-bottom-color: var(--fill-color);\n",
              "      border-left-color: var(--fill-color);\n",
              "    }\n",
              "    20% {\n",
              "      border-color: transparent;\n",
              "      border-left-color: var(--fill-color);\n",
              "      border-top-color: var(--fill-color);\n",
              "    }\n",
              "    30% {\n",
              "      border-color: transparent;\n",
              "      border-left-color: var(--fill-color);\n",
              "      border-top-color: var(--fill-color);\n",
              "      border-right-color: var(--fill-color);\n",
              "    }\n",
              "    40% {\n",
              "      border-color: transparent;\n",
              "      border-right-color: var(--fill-color);\n",
              "      border-top-color: var(--fill-color);\n",
              "    }\n",
              "    60% {\n",
              "      border-color: transparent;\n",
              "      border-right-color: var(--fill-color);\n",
              "    }\n",
              "    80% {\n",
              "      border-color: transparent;\n",
              "      border-right-color: var(--fill-color);\n",
              "      border-bottom-color: var(--fill-color);\n",
              "    }\n",
              "    90% {\n",
              "      border-color: transparent;\n",
              "      border-bottom-color: var(--fill-color);\n",
              "    }\n",
              "  }\n",
              "</style>\n",
              "\n",
              "  <script>\n",
              "    async function quickchart(key) {\n",
              "      const quickchartButtonEl =\n",
              "        document.querySelector('#' + key + ' button');\n",
              "      quickchartButtonEl.disabled = true;  // To prevent multiple clicks.\n",
              "      quickchartButtonEl.classList.add('colab-df-spinner');\n",
              "      try {\n",
              "        const charts = await google.colab.kernel.invokeFunction(\n",
              "            'suggestCharts', [key], {});\n",
              "      } catch (error) {\n",
              "        console.error('Error during call to suggestCharts:', error);\n",
              "      }\n",
              "      quickchartButtonEl.classList.remove('colab-df-spinner');\n",
              "      quickchartButtonEl.classList.add('colab-df-quickchart-complete');\n",
              "    }\n",
              "    (() => {\n",
              "      let quickchartButtonEl =\n",
              "        document.querySelector('#df-f8d8f9a8-4c81-4a22-bae0-3cdc63f0b078 button');\n",
              "      quickchartButtonEl.style.display =\n",
              "        google.colab.kernel.accessAllowed ? 'block' : 'none';\n",
              "    })();\n",
              "  </script>\n",
              "</div>\n",
              "    </div>\n",
              "  </div>\n"
            ]
          },
          "metadata": {},
          "execution_count": 28
        }
      ]
    },
    {
      "cell_type": "code",
      "source": [
        "df_dataset_original.tail(n=10)"
      ],
      "metadata": {
        "colab": {
          "base_uri": "https://localhost:8080/",
          "height": 363
        },
        "id": "IQ7xXPHeOQ-p",
        "outputId": "24266140-81ce-4a71-f56a-125bf52d54ed"
      },
      "execution_count": null,
      "outputs": [
        {
          "output_type": "display_data",
          "data": {
            "text/plain": [
              "<IPython.core.display.HTML object>"
            ],
            "text/html": [
              "\n",
              "  <style>\n",
              "    pre {\n",
              "        white-space: pre-wrap;\n",
              "    }\n",
              "  </style>\n",
              "  "
            ]
          },
          "metadata": {}
        },
        {
          "output_type": "execute_result",
          "data": {
            "text/plain": [
              "                                             transcript         task_type\n",
              "1436  <agent> hello this is harper valley national b...     check balance\n",
              "1437  <agent> hello this is harper value national ba...          pay bill\n",
              "1438  <caller> [noise] <agent> [noise] hello this is...    reset password\n",
              "1439  <agent> hello this is harper valley national b...    transfer money\n",
              "1440  <agent> [noise] hello this is harper valley na...    transfer money\n",
              "1441  <agent> [noise] hello this is harper valley na...      order checks\n",
              "1442  <agent> hello this is harper valley national b...     check balance\n",
              "1443  <agent> hello this is harper <agent> [noise] <...  get branch hours\n",
              "1444  <agent> hello this is harper valley national b...  get branch hours\n",
              "1445  <agent> hello thank you for calling harper val...          pay bill"
            ],
            "text/html": [
              "\n",
              "  <div id=\"df-34666822-5b29-41ba-8ae7-fb0ee8ff6235\" class=\"colab-df-container\">\n",
              "    <div>\n",
              "<style scoped>\n",
              "    .dataframe tbody tr th:only-of-type {\n",
              "        vertical-align: middle;\n",
              "    }\n",
              "\n",
              "    .dataframe tbody tr th {\n",
              "        vertical-align: top;\n",
              "    }\n",
              "\n",
              "    .dataframe thead th {\n",
              "        text-align: right;\n",
              "    }\n",
              "</style>\n",
              "<table border=\"1\" class=\"dataframe\">\n",
              "  <thead>\n",
              "    <tr style=\"text-align: right;\">\n",
              "      <th></th>\n",
              "      <th>transcript</th>\n",
              "      <th>task_type</th>\n",
              "    </tr>\n",
              "  </thead>\n",
              "  <tbody>\n",
              "    <tr>\n",
              "      <th>1436</th>\n",
              "      <td>&lt;agent&gt; hello this is harper valley national b...</td>\n",
              "      <td>check balance</td>\n",
              "    </tr>\n",
              "    <tr>\n",
              "      <th>1437</th>\n",
              "      <td>&lt;agent&gt; hello this is harper value national ba...</td>\n",
              "      <td>pay bill</td>\n",
              "    </tr>\n",
              "    <tr>\n",
              "      <th>1438</th>\n",
              "      <td>&lt;caller&gt; [noise] &lt;agent&gt; [noise] hello this is...</td>\n",
              "      <td>reset password</td>\n",
              "    </tr>\n",
              "    <tr>\n",
              "      <th>1439</th>\n",
              "      <td>&lt;agent&gt; hello this is harper valley national b...</td>\n",
              "      <td>transfer money</td>\n",
              "    </tr>\n",
              "    <tr>\n",
              "      <th>1440</th>\n",
              "      <td>&lt;agent&gt; [noise] hello this is harper valley na...</td>\n",
              "      <td>transfer money</td>\n",
              "    </tr>\n",
              "    <tr>\n",
              "      <th>1441</th>\n",
              "      <td>&lt;agent&gt; [noise] hello this is harper valley na...</td>\n",
              "      <td>order checks</td>\n",
              "    </tr>\n",
              "    <tr>\n",
              "      <th>1442</th>\n",
              "      <td>&lt;agent&gt; hello this is harper valley national b...</td>\n",
              "      <td>check balance</td>\n",
              "    </tr>\n",
              "    <tr>\n",
              "      <th>1443</th>\n",
              "      <td>&lt;agent&gt; hello this is harper &lt;agent&gt; [noise] &lt;...</td>\n",
              "      <td>get branch hours</td>\n",
              "    </tr>\n",
              "    <tr>\n",
              "      <th>1444</th>\n",
              "      <td>&lt;agent&gt; hello this is harper valley national b...</td>\n",
              "      <td>get branch hours</td>\n",
              "    </tr>\n",
              "    <tr>\n",
              "      <th>1445</th>\n",
              "      <td>&lt;agent&gt; hello thank you for calling harper val...</td>\n",
              "      <td>pay bill</td>\n",
              "    </tr>\n",
              "  </tbody>\n",
              "</table>\n",
              "</div>\n",
              "    <div class=\"colab-df-buttons\">\n",
              "\n",
              "  <div class=\"colab-df-container\">\n",
              "    <button class=\"colab-df-convert\" onclick=\"convertToInteractive('df-34666822-5b29-41ba-8ae7-fb0ee8ff6235')\"\n",
              "            title=\"Convert this dataframe to an interactive table.\"\n",
              "            style=\"display:none;\">\n",
              "\n",
              "  <svg xmlns=\"http://www.w3.org/2000/svg\" height=\"24px\" viewBox=\"0 -960 960 960\">\n",
              "    <path d=\"M120-120v-720h720v720H120Zm60-500h600v-160H180v160Zm220 220h160v-160H400v160Zm0 220h160v-160H400v160ZM180-400h160v-160H180v160Zm440 0h160v-160H620v160ZM180-180h160v-160H180v160Zm440 0h160v-160H620v160Z\"/>\n",
              "  </svg>\n",
              "    </button>\n",
              "\n",
              "  <style>\n",
              "    .colab-df-container {\n",
              "      display:flex;\n",
              "      gap: 12px;\n",
              "    }\n",
              "\n",
              "    .colab-df-convert {\n",
              "      background-color: #E8F0FE;\n",
              "      border: none;\n",
              "      border-radius: 50%;\n",
              "      cursor: pointer;\n",
              "      display: none;\n",
              "      fill: #1967D2;\n",
              "      height: 32px;\n",
              "      padding: 0 0 0 0;\n",
              "      width: 32px;\n",
              "    }\n",
              "\n",
              "    .colab-df-convert:hover {\n",
              "      background-color: #E2EBFA;\n",
              "      box-shadow: 0px 1px 2px rgba(60, 64, 67, 0.3), 0px 1px 3px 1px rgba(60, 64, 67, 0.15);\n",
              "      fill: #174EA6;\n",
              "    }\n",
              "\n",
              "    .colab-df-buttons div {\n",
              "      margin-bottom: 4px;\n",
              "    }\n",
              "\n",
              "    [theme=dark] .colab-df-convert {\n",
              "      background-color: #3B4455;\n",
              "      fill: #D2E3FC;\n",
              "    }\n",
              "\n",
              "    [theme=dark] .colab-df-convert:hover {\n",
              "      background-color: #434B5C;\n",
              "      box-shadow: 0px 1px 3px 1px rgba(0, 0, 0, 0.15);\n",
              "      filter: drop-shadow(0px 1px 2px rgba(0, 0, 0, 0.3));\n",
              "      fill: #FFFFFF;\n",
              "    }\n",
              "  </style>\n",
              "\n",
              "    <script>\n",
              "      const buttonEl =\n",
              "        document.querySelector('#df-34666822-5b29-41ba-8ae7-fb0ee8ff6235 button.colab-df-convert');\n",
              "      buttonEl.style.display =\n",
              "        google.colab.kernel.accessAllowed ? 'block' : 'none';\n",
              "\n",
              "      async function convertToInteractive(key) {\n",
              "        const element = document.querySelector('#df-34666822-5b29-41ba-8ae7-fb0ee8ff6235');\n",
              "        const dataTable =\n",
              "          await google.colab.kernel.invokeFunction('convertToInteractive',\n",
              "                                                    [key], {});\n",
              "        if (!dataTable) return;\n",
              "\n",
              "        const docLinkHtml = 'Like what you see? Visit the ' +\n",
              "          '<a target=\"_blank\" href=https://colab.research.google.com/notebooks/data_table.ipynb>data table notebook</a>'\n",
              "          + ' to learn more about interactive tables.';\n",
              "        element.innerHTML = '';\n",
              "        dataTable['output_type'] = 'display_data';\n",
              "        await google.colab.output.renderOutput(dataTable, element);\n",
              "        const docLink = document.createElement('div');\n",
              "        docLink.innerHTML = docLinkHtml;\n",
              "        element.appendChild(docLink);\n",
              "      }\n",
              "    </script>\n",
              "  </div>\n",
              "\n",
              "\n",
              "<div id=\"df-da4a5250-8ecc-41cf-8b17-e2988a5d0f71\">\n",
              "  <button class=\"colab-df-quickchart\" onclick=\"quickchart('df-da4a5250-8ecc-41cf-8b17-e2988a5d0f71')\"\n",
              "            title=\"Suggest charts\"\n",
              "            style=\"display:none;\">\n",
              "\n",
              "<svg xmlns=\"http://www.w3.org/2000/svg\" height=\"24px\"viewBox=\"0 0 24 24\"\n",
              "     width=\"24px\">\n",
              "    <g>\n",
              "        <path d=\"M19 3H5c-1.1 0-2 .9-2 2v14c0 1.1.9 2 2 2h14c1.1 0 2-.9 2-2V5c0-1.1-.9-2-2-2zM9 17H7v-7h2v7zm4 0h-2V7h2v10zm4 0h-2v-4h2v4z\"/>\n",
              "    </g>\n",
              "</svg>\n",
              "  </button>\n",
              "\n",
              "<style>\n",
              "  .colab-df-quickchart {\n",
              "      --bg-color: #E8F0FE;\n",
              "      --fill-color: #1967D2;\n",
              "      --hover-bg-color: #E2EBFA;\n",
              "      --hover-fill-color: #174EA6;\n",
              "      --disabled-fill-color: #AAA;\n",
              "      --disabled-bg-color: #DDD;\n",
              "  }\n",
              "\n",
              "  [theme=dark] .colab-df-quickchart {\n",
              "      --bg-color: #3B4455;\n",
              "      --fill-color: #D2E3FC;\n",
              "      --hover-bg-color: #434B5C;\n",
              "      --hover-fill-color: #FFFFFF;\n",
              "      --disabled-bg-color: #3B4455;\n",
              "      --disabled-fill-color: #666;\n",
              "  }\n",
              "\n",
              "  .colab-df-quickchart {\n",
              "    background-color: var(--bg-color);\n",
              "    border: none;\n",
              "    border-radius: 50%;\n",
              "    cursor: pointer;\n",
              "    display: none;\n",
              "    fill: var(--fill-color);\n",
              "    height: 32px;\n",
              "    padding: 0;\n",
              "    width: 32px;\n",
              "  }\n",
              "\n",
              "  .colab-df-quickchart:hover {\n",
              "    background-color: var(--hover-bg-color);\n",
              "    box-shadow: 0 1px 2px rgba(60, 64, 67, 0.3), 0 1px 3px 1px rgba(60, 64, 67, 0.15);\n",
              "    fill: var(--button-hover-fill-color);\n",
              "  }\n",
              "\n",
              "  .colab-df-quickchart-complete:disabled,\n",
              "  .colab-df-quickchart-complete:disabled:hover {\n",
              "    background-color: var(--disabled-bg-color);\n",
              "    fill: var(--disabled-fill-color);\n",
              "    box-shadow: none;\n",
              "  }\n",
              "\n",
              "  .colab-df-spinner {\n",
              "    border: 2px solid var(--fill-color);\n",
              "    border-color: transparent;\n",
              "    border-bottom-color: var(--fill-color);\n",
              "    animation:\n",
              "      spin 1s steps(1) infinite;\n",
              "  }\n",
              "\n",
              "  @keyframes spin {\n",
              "    0% {\n",
              "      border-color: transparent;\n",
              "      border-bottom-color: var(--fill-color);\n",
              "      border-left-color: var(--fill-color);\n",
              "    }\n",
              "    20% {\n",
              "      border-color: transparent;\n",
              "      border-left-color: var(--fill-color);\n",
              "      border-top-color: var(--fill-color);\n",
              "    }\n",
              "    30% {\n",
              "      border-color: transparent;\n",
              "      border-left-color: var(--fill-color);\n",
              "      border-top-color: var(--fill-color);\n",
              "      border-right-color: var(--fill-color);\n",
              "    }\n",
              "    40% {\n",
              "      border-color: transparent;\n",
              "      border-right-color: var(--fill-color);\n",
              "      border-top-color: var(--fill-color);\n",
              "    }\n",
              "    60% {\n",
              "      border-color: transparent;\n",
              "      border-right-color: var(--fill-color);\n",
              "    }\n",
              "    80% {\n",
              "      border-color: transparent;\n",
              "      border-right-color: var(--fill-color);\n",
              "      border-bottom-color: var(--fill-color);\n",
              "    }\n",
              "    90% {\n",
              "      border-color: transparent;\n",
              "      border-bottom-color: var(--fill-color);\n",
              "    }\n",
              "  }\n",
              "</style>\n",
              "\n",
              "  <script>\n",
              "    async function quickchart(key) {\n",
              "      const quickchartButtonEl =\n",
              "        document.querySelector('#' + key + ' button');\n",
              "      quickchartButtonEl.disabled = true;  // To prevent multiple clicks.\n",
              "      quickchartButtonEl.classList.add('colab-df-spinner');\n",
              "      try {\n",
              "        const charts = await google.colab.kernel.invokeFunction(\n",
              "            'suggestCharts', [key], {});\n",
              "      } catch (error) {\n",
              "        console.error('Error during call to suggestCharts:', error);\n",
              "      }\n",
              "      quickchartButtonEl.classList.remove('colab-df-spinner');\n",
              "      quickchartButtonEl.classList.add('colab-df-quickchart-complete');\n",
              "    }\n",
              "    (() => {\n",
              "      let quickchartButtonEl =\n",
              "        document.querySelector('#df-da4a5250-8ecc-41cf-8b17-e2988a5d0f71 button');\n",
              "      quickchartButtonEl.style.display =\n",
              "        google.colab.kernel.accessAllowed ? 'block' : 'none';\n",
              "    })();\n",
              "  </script>\n",
              "</div>\n",
              "    </div>\n",
              "  </div>\n"
            ]
          },
          "metadata": {},
          "execution_count": 29
        }
      ]
    },
    {
      "cell_type": "code",
      "source": [],
      "metadata": {
        "id": "lMp651O4ORBh"
      },
      "execution_count": null,
      "outputs": []
    },
    {
      "cell_type": "code",
      "source": [],
      "metadata": {
        "id": "qsQPpH4rOREx"
      },
      "execution_count": null,
      "outputs": []
    },
    {
      "cell_type": "code",
      "source": [
        "df_train: pd.DataFrame = df_dataset_original.copy()\n"
      ],
      "metadata": {
        "colab": {
          "base_uri": "https://localhost:8080/",
          "height": 17
        },
        "id": "bTOeGIS8Nic5",
        "outputId": "2e49ae01-f386-441c-9152-dda2f5cbc5d1"
      },
      "execution_count": null,
      "outputs": [
        {
          "output_type": "display_data",
          "data": {
            "text/plain": [
              "<IPython.core.display.HTML object>"
            ],
            "text/html": [
              "\n",
              "  <style>\n",
              "    pre {\n",
              "        white-space: pre-wrap;\n",
              "    }\n",
              "  </style>\n",
              "  "
            ]
          },
          "metadata": {}
        }
      ]
    },
    {
      "cell_type": "code",
      "source": [
        "df_evaluation: pd.DataFrame = df_train.sample(n=10, random_state=200)\n",
        "df_train = df_train.drop(df_evaluation.index)"
      ],
      "metadata": {
        "colab": {
          "base_uri": "https://localhost:8080/",
          "height": 17
        },
        "id": "KOCi05waDlxQ",
        "outputId": "f5ab75fb-0b8d-4b40-9fa8-b998f9c521df"
      },
      "execution_count": null,
      "outputs": [
        {
          "output_type": "display_data",
          "data": {
            "text/plain": [
              "<IPython.core.display.HTML object>"
            ],
            "text/html": [
              "\n",
              "  <style>\n",
              "    pre {\n",
              "        white-space: pre-wrap;\n",
              "    }\n",
              "  </style>\n",
              "  "
            ]
          },
          "metadata": {}
        }
      ]
    },
    {
      "cell_type": "code",
      "source": [
        "df_test = df_train.sample(n=200, random_state=200)\n",
        "df_train = df_train.drop(df_test.index)"
      ],
      "metadata": {
        "colab": {
          "base_uri": "https://localhost:8080/",
          "height": 17
        },
        "id": "UwmqZzDVmRsa",
        "outputId": "93240b78-3a7d-49f0-8eed-bb3e6eb97183"
      },
      "execution_count": null,
      "outputs": [
        {
          "output_type": "display_data",
          "data": {
            "text/plain": [
              "<IPython.core.display.HTML object>"
            ],
            "text/html": [
              "\n",
              "  <style>\n",
              "    pre {\n",
              "        white-space: pre-wrap;\n",
              "    }\n",
              "  </style>\n",
              "  "
            ]
          },
          "metadata": {}
        }
      ]
    },
    {
      "cell_type": "code",
      "source": [
        "df_validation = df_train.sample(n=100, random_state=200)\n",
        "df_train = df_train.drop(df_validation.index)"
      ],
      "metadata": {
        "colab": {
          "base_uri": "https://localhost:8080/",
          "height": 17
        },
        "id": "GbtuNVyAmpOC",
        "outputId": "5ec8767f-5305-44c0-a6bb-47ec924afda2"
      },
      "execution_count": null,
      "outputs": [
        {
          "output_type": "display_data",
          "data": {
            "text/plain": [
              "<IPython.core.display.HTML object>"
            ],
            "text/html": [
              "\n",
              "  <style>\n",
              "    pre {\n",
              "        white-space: pre-wrap;\n",
              "    }\n",
              "  </style>\n",
              "  "
            ]
          },
          "metadata": {}
        }
      ]
    },
    {
      "cell_type": "code",
      "source": [
        "df_train = df_train.sample(n=700, random_state=200)"
      ],
      "metadata": {
        "colab": {
          "base_uri": "https://localhost:8080/",
          "height": 17
        },
        "id": "Y7_ImR-2mRv6",
        "outputId": "dfb470f6-c084-467e-d80b-072754eb366b"
      },
      "execution_count": null,
      "outputs": [
        {
          "output_type": "display_data",
          "data": {
            "text/plain": [
              "<IPython.core.display.HTML object>"
            ],
            "text/html": [
              "\n",
              "  <style>\n",
              "    pre {\n",
              "        white-space: pre-wrap;\n",
              "    }\n",
              "  </style>\n",
              "  "
            ]
          },
          "metadata": {}
        }
      ]
    },
    {
      "cell_type": "code",
      "source": [],
      "metadata": {
        "id": "gWGdgg2EmR8p"
      },
      "execution_count": null,
      "outputs": []
    },
    {
      "cell_type": "code",
      "source": [],
      "metadata": {
        "id": "YJwF2z5TDl0g"
      },
      "execution_count": null,
      "outputs": []
    },
    {
      "cell_type": "code",
      "source": [
        "assert df_train.shape[0] == 700\n",
        "assert df_test.shape[0] == 200\n",
        "assert df_validation.shape[0] == 100"
      ],
      "metadata": {
        "id": "0VAG6CQIq6oK",
        "colab": {
          "base_uri": "https://localhost:8080/",
          "height": 17
        },
        "outputId": "a3129ab7-d626-47aa-e19b-5c03d705a11d"
      },
      "execution_count": null,
      "outputs": [
        {
          "output_type": "display_data",
          "data": {
            "text/plain": [
              "<IPython.core.display.HTML object>"
            ],
            "text/html": [
              "\n",
              "  <style>\n",
              "    pre {\n",
              "        white-space: pre-wrap;\n",
              "    }\n",
              "  </style>\n",
              "  "
            ]
          },
          "metadata": {}
        }
      ]
    },
    {
      "cell_type": "code",
      "source": [
        "data_table.enable_dataframe_formatter()\n",
        "np.random.seed(123)"
      ],
      "metadata": {
        "id": "jDFfITwQr-9s",
        "colab": {
          "base_uri": "https://localhost:8080/",
          "height": 17
        },
        "outputId": "25dab5fb-73bc-4790-9b1b-b26dd287a85b"
      },
      "execution_count": null,
      "outputs": [
        {
          "output_type": "display_data",
          "data": {
            "text/plain": [
              "<IPython.core.display.HTML object>"
            ],
            "text/html": [
              "\n",
              "  <style>\n",
              "    pre {\n",
              "        white-space: pre-wrap;\n",
              "    }\n",
              "  </style>\n",
              "  "
            ]
          },
          "metadata": {}
        }
      ]
    },
    {
      "cell_type": "code",
      "source": [
        "df_train[\"split\"] = np.zeros(df_train.shape[0])\n",
        "df_test[\"split\"] = np.ones(df_test.shape[0])\n",
        "df_validation[\"split\"] = np.full(df_validation.shape[0], 2)"
      ],
      "metadata": {
        "id": "_XjPa4XCq6dv",
        "colab": {
          "base_uri": "https://localhost:8080/",
          "height": 17
        },
        "outputId": "40407e05-d771-4425-8e53-1f170b748b6e"
      },
      "execution_count": null,
      "outputs": [
        {
          "output_type": "display_data",
          "data": {
            "text/plain": [
              "<IPython.core.display.HTML object>"
            ],
            "text/html": [
              "\n",
              "  <style>\n",
              "    pre {\n",
              "        white-space: pre-wrap;\n",
              "    }\n",
              "  </style>\n",
              "  "
            ]
          },
          "metadata": {}
        }
      ]
    },
    {
      "cell_type": "code",
      "source": [
        "df_dataset = pd.concat([df_train, df_test, df_validation])"
      ],
      "metadata": {
        "id": "QwjCzdMsq6RC",
        "colab": {
          "base_uri": "https://localhost:8080/",
          "height": 17
        },
        "outputId": "eddb8086-400d-44ec-ea2f-ff287f762c9f"
      },
      "execution_count": null,
      "outputs": [
        {
          "output_type": "display_data",
          "data": {
            "text/plain": [
              "<IPython.core.display.HTML object>"
            ],
            "text/html": [
              "\n",
              "  <style>\n",
              "    pre {\n",
              "        white-space: pre-wrap;\n",
              "    }\n",
              "  </style>\n",
              "  "
            ]
          },
          "metadata": {}
        }
      ]
    },
    {
      "cell_type": "code",
      "source": [
        "df_dataset[\"split\"] = df_dataset[\"split\"].astype(int)"
      ],
      "metadata": {
        "id": "o0yh3pl3piVJ",
        "colab": {
          "base_uri": "https://localhost:8080/",
          "height": 17
        },
        "outputId": "193959e8-0ac0-4377-fba6-3238ca10d9e0"
      },
      "execution_count": null,
      "outputs": [
        {
          "output_type": "display_data",
          "data": {
            "text/plain": [
              "<IPython.core.display.HTML object>"
            ],
            "text/html": [
              "\n",
              "  <style>\n",
              "    pre {\n",
              "        white-space: pre-wrap;\n",
              "    }\n",
              "  </style>\n",
              "  "
            ]
          },
          "metadata": {}
        }
      ]
    },
    {
      "cell_type": "code",
      "source": [
        "df_dataset.shape"
      ],
      "metadata": {
        "id": "aHV-Gty_s1sA",
        "colab": {
          "base_uri": "https://localhost:8080/",
          "height": 35
        },
        "outputId": "9f5f0076-1e83-4c9d-874a-6d778b991901"
      },
      "execution_count": null,
      "outputs": [
        {
          "output_type": "display_data",
          "data": {
            "text/plain": [
              "<IPython.core.display.HTML object>"
            ],
            "text/html": [
              "\n",
              "  <style>\n",
              "    pre {\n",
              "        white-space: pre-wrap;\n",
              "    }\n",
              "  </style>\n",
              "  "
            ]
          },
          "metadata": {}
        },
        {
          "output_type": "execute_result",
          "data": {
            "text/plain": [
              "(1000, 3)"
            ]
          },
          "metadata": {},
          "execution_count": 40
        }
      ]
    },
    {
      "cell_type": "code",
      "source": [
        "assert df_dataset[df_dataset[\"split\"] == 0].shape[0] == 700\n",
        "assert df_dataset[df_dataset[\"split\"] == 1].shape[0] == 200\n",
        "assert df_dataset[df_dataset[\"split\"] == 2].shape[0] == 100"
      ],
      "metadata": {
        "id": "sjj5g2bOYpDV",
        "colab": {
          "base_uri": "https://localhost:8080/",
          "height": 17
        },
        "outputId": "ca4e14ea-7a09-4a6c-9d8f-1423b71cf4f2"
      },
      "execution_count": null,
      "outputs": [
        {
          "output_type": "display_data",
          "data": {
            "text/plain": [
              "<IPython.core.display.HTML object>"
            ],
            "text/html": [
              "\n",
              "  <style>\n",
              "    pre {\n",
              "        white-space: pre-wrap;\n",
              "    }\n",
              "  </style>\n",
              "  "
            ]
          },
          "metadata": {}
        }
      ]
    },
    {
      "cell_type": "code",
      "source": [
        "df_dataset.head(n=10)"
      ],
      "metadata": {
        "id": "6YlNOIOSlzNM",
        "colab": {
          "base_uri": "https://localhost:8080/",
          "height": 1081
        },
        "outputId": "fbd2b20f-5ad3-49ea-f657-129c4e8807ac"
      },
      "execution_count": null,
      "outputs": [
        {
          "output_type": "display_data",
          "data": {
            "text/plain": [
              "<IPython.core.display.HTML object>"
            ],
            "text/html": [
              "\n",
              "  <style>\n",
              "    pre {\n",
              "        white-space: pre-wrap;\n",
              "    }\n",
              "  </style>\n",
              "  "
            ]
          },
          "metadata": {}
        },
        {
          "output_type": "execute_result",
          "data": {
            "text/plain": [
              "                                             transcript             task_type  \\\n",
              "48    <agent> hello this is harper valley national b...         check balance   \n",
              "983   <agent> harper valley national bank <caller> [...  schedule appointment   \n",
              "570   <agent> hello this is harper valley national b...        reset password   \n",
              "230   <caller> [noise] <agent> [noise] hello this is...              pay bill   \n",
              "824   <agent> hello this is harper valley national b...      get branch hours   \n",
              "481   <caller> [noise] <caller> [noise] <agent> hell...         check balance   \n",
              "140   <caller> [noise] <agent> hello this is harper ...          replace card   \n",
              "1245  <agent> hello this is harper valley national b...         check balance   \n",
              "258   <caller> [noise] <agent> hello this is harper ...      get branch hours   \n",
              "1353  <caller> [noise] <agent> hello this is harper ...        transfer money   \n",
              "\n",
              "      split  \n",
              "48        0  \n",
              "983       0  \n",
              "570       0  \n",
              "230       0  \n",
              "824       0  \n",
              "481       0  \n",
              "140       0  \n",
              "1245      0  \n",
              "258       0  \n",
              "1353      0  "
            ],
            "text/html": [
              "\n",
              "  <div id=\"df-33f8ed5d-238c-4734-ba10-6817fc014551\" class=\"colab-df-container\">\n",
              "    <div>\n",
              "<style scoped>\n",
              "    .dataframe tbody tr th:only-of-type {\n",
              "        vertical-align: middle;\n",
              "    }\n",
              "\n",
              "    .dataframe tbody tr th {\n",
              "        vertical-align: top;\n",
              "    }\n",
              "\n",
              "    .dataframe thead th {\n",
              "        text-align: right;\n",
              "    }\n",
              "</style>\n",
              "<table border=\"1\" class=\"dataframe\">\n",
              "  <thead>\n",
              "    <tr style=\"text-align: right;\">\n",
              "      <th></th>\n",
              "      <th>transcript</th>\n",
              "      <th>task_type</th>\n",
              "      <th>split</th>\n",
              "    </tr>\n",
              "  </thead>\n",
              "  <tbody>\n",
              "    <tr>\n",
              "      <th>48</th>\n",
              "      <td>&lt;agent&gt; hello this is harper valley national b...</td>\n",
              "      <td>check balance</td>\n",
              "      <td>0</td>\n",
              "    </tr>\n",
              "    <tr>\n",
              "      <th>983</th>\n",
              "      <td>&lt;agent&gt; harper valley national bank &lt;caller&gt; [...</td>\n",
              "      <td>schedule appointment</td>\n",
              "      <td>0</td>\n",
              "    </tr>\n",
              "    <tr>\n",
              "      <th>570</th>\n",
              "      <td>&lt;agent&gt; hello this is harper valley national b...</td>\n",
              "      <td>reset password</td>\n",
              "      <td>0</td>\n",
              "    </tr>\n",
              "    <tr>\n",
              "      <th>230</th>\n",
              "      <td>&lt;caller&gt; [noise] &lt;agent&gt; [noise] hello this is...</td>\n",
              "      <td>pay bill</td>\n",
              "      <td>0</td>\n",
              "    </tr>\n",
              "    <tr>\n",
              "      <th>824</th>\n",
              "      <td>&lt;agent&gt; hello this is harper valley national b...</td>\n",
              "      <td>get branch hours</td>\n",
              "      <td>0</td>\n",
              "    </tr>\n",
              "    <tr>\n",
              "      <th>481</th>\n",
              "      <td>&lt;caller&gt; [noise] &lt;caller&gt; [noise] &lt;agent&gt; hell...</td>\n",
              "      <td>check balance</td>\n",
              "      <td>0</td>\n",
              "    </tr>\n",
              "    <tr>\n",
              "      <th>140</th>\n",
              "      <td>&lt;caller&gt; [noise] &lt;agent&gt; hello this is harper ...</td>\n",
              "      <td>replace card</td>\n",
              "      <td>0</td>\n",
              "    </tr>\n",
              "    <tr>\n",
              "      <th>1245</th>\n",
              "      <td>&lt;agent&gt; hello this is harper valley national b...</td>\n",
              "      <td>check balance</td>\n",
              "      <td>0</td>\n",
              "    </tr>\n",
              "    <tr>\n",
              "      <th>258</th>\n",
              "      <td>&lt;caller&gt; [noise] &lt;agent&gt; hello this is harper ...</td>\n",
              "      <td>get branch hours</td>\n",
              "      <td>0</td>\n",
              "    </tr>\n",
              "    <tr>\n",
              "      <th>1353</th>\n",
              "      <td>&lt;caller&gt; [noise] &lt;agent&gt; hello this is harper ...</td>\n",
              "      <td>transfer money</td>\n",
              "      <td>0</td>\n",
              "    </tr>\n",
              "  </tbody>\n",
              "</table>\n",
              "</div>\n",
              "    <div class=\"colab-df-buttons\">\n",
              "\n",
              "  <div class=\"colab-df-container\">\n",
              "    <button class=\"colab-df-convert\" onclick=\"convertToInteractive('df-33f8ed5d-238c-4734-ba10-6817fc014551')\"\n",
              "            title=\"Convert this dataframe to an interactive table.\"\n",
              "            style=\"display:none;\">\n",
              "\n",
              "  <svg xmlns=\"http://www.w3.org/2000/svg\" height=\"24px\" viewBox=\"0 -960 960 960\">\n",
              "    <path d=\"M120-120v-720h720v720H120Zm60-500h600v-160H180v160Zm220 220h160v-160H400v160Zm0 220h160v-160H400v160ZM180-400h160v-160H180v160Zm440 0h160v-160H620v160ZM180-180h160v-160H180v160Zm440 0h160v-160H620v160Z\"/>\n",
              "  </svg>\n",
              "    </button>\n",
              "\n",
              "  <style>\n",
              "    .colab-df-container {\n",
              "      display:flex;\n",
              "      gap: 12px;\n",
              "    }\n",
              "\n",
              "    .colab-df-convert {\n",
              "      background-color: #E8F0FE;\n",
              "      border: none;\n",
              "      border-radius: 50%;\n",
              "      cursor: pointer;\n",
              "      display: none;\n",
              "      fill: #1967D2;\n",
              "      height: 32px;\n",
              "      padding: 0 0 0 0;\n",
              "      width: 32px;\n",
              "    }\n",
              "\n",
              "    .colab-df-convert:hover {\n",
              "      background-color: #E2EBFA;\n",
              "      box-shadow: 0px 1px 2px rgba(60, 64, 67, 0.3), 0px 1px 3px 1px rgba(60, 64, 67, 0.15);\n",
              "      fill: #174EA6;\n",
              "    }\n",
              "\n",
              "    .colab-df-buttons div {\n",
              "      margin-bottom: 4px;\n",
              "    }\n",
              "\n",
              "    [theme=dark] .colab-df-convert {\n",
              "      background-color: #3B4455;\n",
              "      fill: #D2E3FC;\n",
              "    }\n",
              "\n",
              "    [theme=dark] .colab-df-convert:hover {\n",
              "      background-color: #434B5C;\n",
              "      box-shadow: 0px 1px 3px 1px rgba(0, 0, 0, 0.15);\n",
              "      filter: drop-shadow(0px 1px 2px rgba(0, 0, 0, 0.3));\n",
              "      fill: #FFFFFF;\n",
              "    }\n",
              "  </style>\n",
              "\n",
              "    <script>\n",
              "      const buttonEl =\n",
              "        document.querySelector('#df-33f8ed5d-238c-4734-ba10-6817fc014551 button.colab-df-convert');\n",
              "      buttonEl.style.display =\n",
              "        google.colab.kernel.accessAllowed ? 'block' : 'none';\n",
              "\n",
              "      async function convertToInteractive(key) {\n",
              "        const element = document.querySelector('#df-33f8ed5d-238c-4734-ba10-6817fc014551');\n",
              "        const dataTable =\n",
              "          await google.colab.kernel.invokeFunction('convertToInteractive',\n",
              "                                                    [key], {});\n",
              "        if (!dataTable) return;\n",
              "\n",
              "        const docLinkHtml = 'Like what you see? Visit the ' +\n",
              "          '<a target=\"_blank\" href=https://colab.research.google.com/notebooks/data_table.ipynb>data table notebook</a>'\n",
              "          + ' to learn more about interactive tables.';\n",
              "        element.innerHTML = '';\n",
              "        dataTable['output_type'] = 'display_data';\n",
              "        await google.colab.output.renderOutput(dataTable, element);\n",
              "        const docLink = document.createElement('div');\n",
              "        docLink.innerHTML = docLinkHtml;\n",
              "        element.appendChild(docLink);\n",
              "      }\n",
              "    </script>\n",
              "  </div>\n",
              "\n",
              "\n",
              "<div id=\"df-1a15e524-f35e-47ab-8c12-9aff30943689\">\n",
              "  <button class=\"colab-df-quickchart\" onclick=\"quickchart('df-1a15e524-f35e-47ab-8c12-9aff30943689')\"\n",
              "            title=\"Suggest charts\"\n",
              "            style=\"display:none;\">\n",
              "\n",
              "<svg xmlns=\"http://www.w3.org/2000/svg\" height=\"24px\"viewBox=\"0 0 24 24\"\n",
              "     width=\"24px\">\n",
              "    <g>\n",
              "        <path d=\"M19 3H5c-1.1 0-2 .9-2 2v14c0 1.1.9 2 2 2h14c1.1 0 2-.9 2-2V5c0-1.1-.9-2-2-2zM9 17H7v-7h2v7zm4 0h-2V7h2v10zm4 0h-2v-4h2v4z\"/>\n",
              "    </g>\n",
              "</svg>\n",
              "  </button>\n",
              "\n",
              "<style>\n",
              "  .colab-df-quickchart {\n",
              "      --bg-color: #E8F0FE;\n",
              "      --fill-color: #1967D2;\n",
              "      --hover-bg-color: #E2EBFA;\n",
              "      --hover-fill-color: #174EA6;\n",
              "      --disabled-fill-color: #AAA;\n",
              "      --disabled-bg-color: #DDD;\n",
              "  }\n",
              "\n",
              "  [theme=dark] .colab-df-quickchart {\n",
              "      --bg-color: #3B4455;\n",
              "      --fill-color: #D2E3FC;\n",
              "      --hover-bg-color: #434B5C;\n",
              "      --hover-fill-color: #FFFFFF;\n",
              "      --disabled-bg-color: #3B4455;\n",
              "      --disabled-fill-color: #666;\n",
              "  }\n",
              "\n",
              "  .colab-df-quickchart {\n",
              "    background-color: var(--bg-color);\n",
              "    border: none;\n",
              "    border-radius: 50%;\n",
              "    cursor: pointer;\n",
              "    display: none;\n",
              "    fill: var(--fill-color);\n",
              "    height: 32px;\n",
              "    padding: 0;\n",
              "    width: 32px;\n",
              "  }\n",
              "\n",
              "  .colab-df-quickchart:hover {\n",
              "    background-color: var(--hover-bg-color);\n",
              "    box-shadow: 0 1px 2px rgba(60, 64, 67, 0.3), 0 1px 3px 1px rgba(60, 64, 67, 0.15);\n",
              "    fill: var(--button-hover-fill-color);\n",
              "  }\n",
              "\n",
              "  .colab-df-quickchart-complete:disabled,\n",
              "  .colab-df-quickchart-complete:disabled:hover {\n",
              "    background-color: var(--disabled-bg-color);\n",
              "    fill: var(--disabled-fill-color);\n",
              "    box-shadow: none;\n",
              "  }\n",
              "\n",
              "  .colab-df-spinner {\n",
              "    border: 2px solid var(--fill-color);\n",
              "    border-color: transparent;\n",
              "    border-bottom-color: var(--fill-color);\n",
              "    animation:\n",
              "      spin 1s steps(1) infinite;\n",
              "  }\n",
              "\n",
              "  @keyframes spin {\n",
              "    0% {\n",
              "      border-color: transparent;\n",
              "      border-bottom-color: var(--fill-color);\n",
              "      border-left-color: var(--fill-color);\n",
              "    }\n",
              "    20% {\n",
              "      border-color: transparent;\n",
              "      border-left-color: var(--fill-color);\n",
              "      border-top-color: var(--fill-color);\n",
              "    }\n",
              "    30% {\n",
              "      border-color: transparent;\n",
              "      border-left-color: var(--fill-color);\n",
              "      border-top-color: var(--fill-color);\n",
              "      border-right-color: var(--fill-color);\n",
              "    }\n",
              "    40% {\n",
              "      border-color: transparent;\n",
              "      border-right-color: var(--fill-color);\n",
              "      border-top-color: var(--fill-color);\n",
              "    }\n",
              "    60% {\n",
              "      border-color: transparent;\n",
              "      border-right-color: var(--fill-color);\n",
              "    }\n",
              "    80% {\n",
              "      border-color: transparent;\n",
              "      border-right-color: var(--fill-color);\n",
              "      border-bottom-color: var(--fill-color);\n",
              "    }\n",
              "    90% {\n",
              "      border-color: transparent;\n",
              "      border-bottom-color: var(--fill-color);\n",
              "    }\n",
              "  }\n",
              "</style>\n",
              "\n",
              "  <script>\n",
              "    async function quickchart(key) {\n",
              "      const quickchartButtonEl =\n",
              "        document.querySelector('#' + key + ' button');\n",
              "      quickchartButtonEl.disabled = true;  // To prevent multiple clicks.\n",
              "      quickchartButtonEl.classList.add('colab-df-spinner');\n",
              "      try {\n",
              "        const charts = await google.colab.kernel.invokeFunction(\n",
              "            'suggestCharts', [key], {});\n",
              "      } catch (error) {\n",
              "        console.error('Error during call to suggestCharts:', error);\n",
              "      }\n",
              "      quickchartButtonEl.classList.remove('colab-df-spinner');\n",
              "      quickchartButtonEl.classList.add('colab-df-quickchart-complete');\n",
              "    }\n",
              "    (() => {\n",
              "      let quickchartButtonEl =\n",
              "        document.querySelector('#df-1a15e524-f35e-47ab-8c12-9aff30943689 button');\n",
              "      quickchartButtonEl.style.display =\n",
              "        google.colab.kernel.accessAllowed ? 'block' : 'none';\n",
              "    })();\n",
              "  </script>\n",
              "</div>\n",
              "    </div>\n",
              "  </div>\n"
            ],
            "application/vnd.google.colaboratory.module+javascript": "\n      import \"https://ssl.gstatic.com/colaboratory/data_table/881c4a0d49046431/data_table.js\";\n\n      const table = window.createDataTable({\n        data: [[{\n            'v': 48,\n            'f': \"48\",\n        },\n\"<agent> hello this is harper valley national bank my name is mary how can i help you today <caller> hi my name is mary davis i need to check my account balance <agent> alright which account <caller> my savings account <agent> your savings balance is a hundred and twenty five dollars <caller> thank you <agent> is there anything else i can help you with today <caller> no <agent> alright well thank you for calling you have a great day\",\n\"check balance\",\n{\n            'v': 0,\n            'f': \"0\",\n        }],\n [{\n            'v': 983,\n            'f': \"983\",\n        },\n\"<agent> harper valley national bank <caller> [noise] <agent> my name is john <caller> [noise] <agent> how can i help you today <caller> [noise] <caller> hi my name is jennifer brown i'd like to schedule an appointment <agent> [noise] <agent> [noise] <caller> [noise] <agent> [noise] <caller> [noise] <caller> [noise] <agent> what day would you like your appointment <caller> [noise] <caller> wednesday <agent> [noise] <caller> [noise] <agent> [noise] <caller> [noise] <caller> [noise] <agent> what time would you like for your appointment <caller> [noise] [noise] <caller> ten a m <agent> [noise] <agent> [noise] <caller> [noise] <caller> [noise] <agent> i have scheduled an appointment for ten a m on wednesday <caller> [noise] <caller> [noise] <caller> [noise] <agent> was there anything else i can help you with <caller> [noise] <caller> [noise] <caller> no thank you that was all <caller> [noise] <agent> thank you for calling have a great day <caller> [noise] <agent> [noise] <caller> bye\",\n\"schedule appointment\",\n{\n            'v': 0,\n            'f': \"0\",\n        }],\n [{\n            'v': 570,\n            'f': \"570\",\n        },\n\"<agent> hello this is harper valley national bank my name is james how can i help you today <caller> hi my name is elizabeth rodriguez i would like to reset my password <agent> what is your phone number <caller> my phone number is <caller> two two two <caller> six <caller> nine nine <caller> zero zero seven one <agent> your password reset link has been sent to your phone <agent> is there anything else i could help you with <caller> uh no that was actually it thank you very much <agent> thank you for calling have a great day <caller> you too bye bye <caller> [noise]\",\n\"reset password\",\n{\n            'v': 0,\n            'f': \"0\",\n        }],\n [{\n            'v': 230,\n            'f': \"230\",\n        },\n\"<caller> [noise] <agent> [noise] hello this is harper valley national bank my name is linda how can i help you today <caller> hi my name is elizabeth davis <caller> i would like to pay a bill <agent> what is the company name <caller> it is smart electric <agent> [noise] <agent> [noise] <agent> what is the company address <caller> it is eight three four first street <caller> forest ranch california <agent> [noise] <agent> [noise] [noise] [noise] <agent> [noise] [noise] [noise] <agent> [noise] <caller> five two four six five <agent> what is the bill amount <caller> it is a hundred and thirty seven dollars <agent> we will send your payment to smart electric is there anything else i can help you with <caller>  <caller> nope that's all <agent> thank you for calling have a great day <caller> [noise] you too <caller> [noise] <agent> [noise]\",\n\"pay bill\",\n{\n            'v': 0,\n            'f': \"0\",\n        }],\n [{\n            'v': 824,\n            'f': \"824\",\n        },\n\"<agent> hello this is harper valley national bank my name is david how can i help you today <caller> [noise] <caller> my name is uh john williams <caller> and what are the local branch hours <agent> okay the branch hours are from nine a m nine thirty a m to five p m <caller> [noise] <agent> is there anything else i can help you with <caller> <unk> <caller> uh nine thirty perfect thank you very much bye <agent> mhm you have a wonderful day thank you for calling <caller> [noise] bye\",\n\"get branch hours\",\n{\n            'v': 0,\n            'f': \"0\",\n        }],\n [{\n            'v': 481,\n            'f': \"481\",\n        },\n\"<caller> [noise] <caller> [noise] <agent> hello this is harper valley national bank my name is james how can i help you today <caller> hi my name is <unk> <unk> i need to check my account balance <caller> [noise] <caller> [noise] <agent> which account would you like to check <caller> [noise] <caller> my savings account <agent> your savings account balance is ninety five dollars <agent> is there anything else i can help you with <caller> [noise] <caller> no thank you that will be all for today <agent> thank you for calling have a great day <caller> you too thank you\",\n\"check balance\",\n{\n            'v': 0,\n            'f': \"0\",\n        }],\n [{\n            'v': 140,\n            'f': \"140\",\n        },\n\"<caller> [noise] <agent> hello this is harper valley <agent> national bank my <caller> [noise] <agent> name's <agent> [noise] <caller> [noise] <caller> [noise] <caller> [noise] hello <caller> [noise] <caller> [noise] hello <agent> hello this is <agent> harper valley national bank <caller> my name is michael jones i lost my credit card can you send me a new one <agent> <unk> credit card <caller> [noise] <caller> [noise] <agent> <unk> <caller> uh credit card <agent> i've ordered your replacement credit card is there anything else i can help you with <caller> thank you <caller> that's all you have you have a good one <agent> no problem take care <caller> [noise] <agent> thank you for calling have a great day <caller> [noise] <unk>\",\n\"replace card\",\n{\n            'v': 0,\n            'f': \"0\",\n        }],\n [{\n            'v': 1245,\n            'f': \"1245\",\n        },\n\"<agent> hello this is harper valley national bank my name is linda how can i help you today <caller> hi my name is mary brown <caller> i need to check my account balance <agent> which account would you like to check <caller> my checking account <agent> your checking account balance is ninety six dollars is there anything else i can help you with <caller> no <agent> thank you for calling have a great day\",\n\"check balance\",\n{\n            'v': 0,\n            'f': \"0\",\n        }],\n [{\n            'v': 258,\n            'f': \"258\",\n        },\n\"<caller> [noise] <agent> hello this is harper valley national bank my name is linda how can i help you today <caller> hi my name is patricia jones [noise] what are the local branch hours <agent> the branch hours are nine thirty a m to five p m <caller> [noise] <caller> thank you <agent> was there anything else i can help you with <caller> no that'll be all <agent> thank you for calling have a great day <caller> [noise] <caller> \",\n\"get branch hours\",\n{\n            'v': 0,\n            'f': \"0\",\n        }],\n [{\n            'v': 1353,\n            'f': \"1353\",\n        },\n\"<caller> [noise] <agent> hello this is harper valley national bank my name is james how can i help you today <caller> [noise] <caller> uhm my name is john brown <caller> i would like to transfer some money between my account <agent> okay let's get that going for you <caller> [noise] <agent> and what is the transfer amount <caller> [noise] <caller> [noise] <caller> um that's gonna be a hundred and one dollar <agent> a hundred and one okay <caller> [noise] <agent> and what is the source account <caller> [noise] <caller> uhm i'd like to transfer that amount from my savings account <agent> okay so that will be a hundred dollars from your savings account into your checking account <caller> okay <caller> checking account <agent> is there anything else i can help you with <caller> correct <caller> [noise] <caller> uhm no that's gonna be all for today <agent> okay thank you so much for calling you have a great day <caller> alright have a great day too bye bye\",\n\"transfer money\",\n{\n            'v': 0,\n            'f': \"0\",\n        }]],\n        columns: [[\"number\", \"index\"], [\"string\", \"transcript\"], [\"string\", \"task_type\"], [\"number\", \"split\"]],\n        columnOptions: [{\"width\": \"1px\", \"className\": \"index_column\"}],\n        rowsPerPage: 25,\n        helpUrl: \"https://colab.research.google.com/notebooks/data_table.ipynb\",\n        suppressOutputScrolling: true,\n        minimumWidth: undefined,\n      });\n\n      function appendQuickchartButton(parentElement) {\n        let quickchartButtonContainerElement = document.createElement('div');\n        quickchartButtonContainerElement.innerHTML = `\n<div id=\"df-8852b929-477d-4616-a0b3-de7142fe230f\">\n  <button class=\"colab-df-quickchart\" onclick=\"quickchart('df-8852b929-477d-4616-a0b3-de7142fe230f')\"\n            title=\"Suggest charts\"\n            style=\"display:none;\">\n    \n<svg xmlns=\"http://www.w3.org/2000/svg\" height=\"24px\"viewBox=\"0 0 24 24\"\n     width=\"24px\">\n    <g>\n        <path d=\"M19 3H5c-1.1 0-2 .9-2 2v14c0 1.1.9 2 2 2h14c1.1 0 2-.9 2-2V5c0-1.1-.9-2-2-2zM9 17H7v-7h2v7zm4 0h-2V7h2v10zm4 0h-2v-4h2v4z\"/>\n    </g>\n</svg>\n  </button>\n  \n<style>\n  .colab-df-quickchart {\n      --bg-color: #E8F0FE;\n      --fill-color: #1967D2;\n      --hover-bg-color: #E2EBFA;\n      --hover-fill-color: #174EA6;\n      --disabled-fill-color: #AAA;\n      --disabled-bg-color: #DDD;\n  }\n\n  [theme=dark] .colab-df-quickchart {\n      --bg-color: #3B4455;\n      --fill-color: #D2E3FC;\n      --hover-bg-color: #434B5C;\n      --hover-fill-color: #FFFFFF;\n      --disabled-bg-color: #3B4455;\n      --disabled-fill-color: #666;\n  }\n\n  .colab-df-quickchart {\n    background-color: var(--bg-color);\n    border: none;\n    border-radius: 50%;\n    cursor: pointer;\n    display: none;\n    fill: var(--fill-color);\n    height: 32px;\n    padding: 0;\n    width: 32px;\n  }\n\n  .colab-df-quickchart:hover {\n    background-color: var(--hover-bg-color);\n    box-shadow: 0 1px 2px rgba(60, 64, 67, 0.3), 0 1px 3px 1px rgba(60, 64, 67, 0.15);\n    fill: var(--button-hover-fill-color);\n  }\n\n  .colab-df-quickchart-complete:disabled,\n  .colab-df-quickchart-complete:disabled:hover {\n    background-color: var(--disabled-bg-color);\n    fill: var(--disabled-fill-color);\n    box-shadow: none;\n  }\n\n  .colab-df-spinner {\n    border: 2px solid var(--fill-color);\n    border-color: transparent;\n    border-bottom-color: var(--fill-color);\n    animation:\n      spin 1s steps(1) infinite;\n  }\n\n  @keyframes spin {\n    0% {\n      border-color: transparent;\n      border-bottom-color: var(--fill-color);\n      border-left-color: var(--fill-color);\n    }\n    20% {\n      border-color: transparent;\n      border-left-color: var(--fill-color);\n      border-top-color: var(--fill-color);\n    }\n    30% {\n      border-color: transparent;\n      border-left-color: var(--fill-color);\n      border-top-color: var(--fill-color);\n      border-right-color: var(--fill-color);\n    }\n    40% {\n      border-color: transparent;\n      border-right-color: var(--fill-color);\n      border-top-color: var(--fill-color);\n    }\n    60% {\n      border-color: transparent;\n      border-right-color: var(--fill-color);\n    }\n    80% {\n      border-color: transparent;\n      border-right-color: var(--fill-color);\n      border-bottom-color: var(--fill-color);\n    }\n    90% {\n      border-color: transparent;\n      border-bottom-color: var(--fill-color);\n    }\n  }\n</style>\n\n  <script>\n    async function quickchart(key) {\n      const quickchartButtonEl =\n        document.querySelector('#' + key + ' button');\n      quickchartButtonEl.disabled = true;  // To prevent multiple clicks.\n      quickchartButtonEl.classList.add('colab-df-spinner');\n      try {\n        const charts = await google.colab.kernel.invokeFunction(\n            'suggestCharts', [key], {});\n      } catch (error) {\n        console.error('Error during call to suggestCharts:', error);\n      }\n      quickchartButtonEl.classList.remove('colab-df-spinner');\n      quickchartButtonEl.classList.add('colab-df-quickchart-complete');\n    }\n    (() => {\n      let quickchartButtonEl =\n        document.querySelector('#df-8852b929-477d-4616-a0b3-de7142fe230f button');\n      quickchartButtonEl.style.display =\n        google.colab.kernel.accessAllowed ? 'block' : 'none';\n    })();\n  </script>\n</div>`;\n        parentElement.appendChild(quickchartButtonContainerElement);\n      }\n\n      appendQuickchartButton(table);\n    "
          },
          "metadata": {},
          "execution_count": 42
        }
      ]
    },
    {
      "cell_type": "code",
      "source": [],
      "metadata": {
        "id": "XVjCEQ9_shBM"
      },
      "execution_count": null,
      "outputs": []
    },
    {
      "cell_type": "code",
      "source": [
        "# Calculating the length of each cell in each column\n",
        "df_dataset['num_characters_transcript'] = df_dataset['transcript'].apply(lambda x: len(x))\n",
        "df_dataset['num_characters_task_type'] = df_dataset['task_type'].apply(lambda x: len(x))\n",
        "\n",
        "# Show Distribution\n",
        "df_dataset.hist(column=['num_characters_transcript', 'num_characters_task_type'])\n",
        "\n",
        "# Calculating the average\n",
        "average_chars_transcript = df_dataset['num_characters_transcript'].mean()\n",
        "average_chars_task_type = df_dataset['num_characters_task_type'].mean()\n",
        "\n",
        "print(f'Average number of tokens in the transcript column: {(average_chars_transcript / 3):.0f}')\n",
        "print(f'Average number of tokens in the task_type column: {(average_chars_task_type / 3):.0f}')\n"
      ],
      "metadata": {
        "id": "_3x3stdDKoCT",
        "colab": {
          "base_uri": "https://localhost:8080/",
          "height": 488
        },
        "outputId": "5a929181-a0e8-4002-c4ea-6e82d63f0885"
      },
      "execution_count": null,
      "outputs": [
        {
          "output_type": "display_data",
          "data": {
            "text/plain": [
              "<IPython.core.display.HTML object>"
            ],
            "text/html": [
              "\n",
              "  <style>\n",
              "    pre {\n",
              "        white-space: pre-wrap;\n",
              "    }\n",
              "  </style>\n",
              "  "
            ]
          },
          "metadata": {}
        },
        {
          "output_type": "stream",
          "name": "stdout",
          "text": [
            "Average number of tokens in the transcript column: 224\n",
            "Average number of tokens in the task_type column: 5\n"
          ]
        },
        {
          "output_type": "display_data",
          "data": {
            "text/plain": [
              "<Figure size 640x480 with 2 Axes>"
            ],
            "image/png": "[encoded data removed]"
          },
          "metadata": {}
        }
      ]
    },
    {
      "cell_type": "code",
      "source": [
        "df_evaluation"
      ],
      "metadata": {
        "id": "S7WejJVkP-tF",
        "colab": {
          "base_uri": "https://localhost:8080/",
          "height": 932
        },
        "outputId": "f5e45ceb-33c4-4df5-e368-de64f0bba145"
      },
      "execution_count": null,
      "outputs": [
        {
          "output_type": "display_data",
          "data": {
            "text/plain": [
              "<IPython.core.display.HTML object>"
            ],
            "text/html": [
              "\n",
              "  <style>\n",
              "    pre {\n",
              "        white-space: pre-wrap;\n",
              "    }\n",
              "  </style>\n",
              "  "
            ]
          },
          "metadata": {}
        },
        {
          "output_type": "execute_result",
          "data": {
            "text/plain": [
              "                                             transcript             task_type\n",
              "1254  <agent> hello this is harper valley national b...              pay bill\n",
              "538   <agent> hello this is harper valley national b...      get branch hours\n",
              "1016  <agent> [noise] hello this is harper valley na...        transfer money\n",
              "987   <caller> [noise] hello my name is elizabeth wi...        reset password\n",
              "718   <agent> [noise] hello this is harper valley na...        reset password\n",
              "866   <agent> hello this is harper valley national b...      get branch hours\n",
              "863   <agent> [noise] <agent> [noise] hello this is ...      get branch hours\n",
              "946   <agent> hello this is harper valley national b...        reset password\n",
              "398   <agent> [noise] hello this is harper valley na...         check balance\n",
              "1127  <agent> hello this is harper valley national b...  schedule appointment"
            ],
            "text/html": [
              "\n",
              "  <div id=\"df-8211d3e6-0358-47ab-abdc-2aff1f304174\" class=\"colab-df-container\">\n",
              "    <div>\n",
              "<style scoped>\n",
              "    .dataframe tbody tr th:only-of-type {\n",
              "        vertical-align: middle;\n",
              "    }\n",
              "\n",
              "    .dataframe tbody tr th {\n",
              "        vertical-align: top;\n",
              "    }\n",
              "\n",
              "    .dataframe thead th {\n",
              "        text-align: right;\n",
              "    }\n",
              "</style>\n",
              "<table border=\"1\" class=\"dataframe\">\n",
              "  <thead>\n",
              "    <tr style=\"text-align: right;\">\n",
              "      <th></th>\n",
              "      <th>transcript</th>\n",
              "      <th>task_type</th>\n",
              "    </tr>\n",
              "  </thead>\n",
              "  <tbody>\n",
              "    <tr>\n",
              "      <th>1254</th>\n",
              "      <td>&lt;agent&gt; hello this is harper valley national b...</td>\n",
              "      <td>pay bill</td>\n",
              "    </tr>\n",
              "    <tr>\n",
              "      <th>538</th>\n",
              "      <td>&lt;agent&gt; hello this is harper valley national b...</td>\n",
              "      <td>get branch hours</td>\n",
              "    </tr>\n",
              "    <tr>\n",
              "      <th>1016</th>\n",
              "      <td>&lt;agent&gt; [noise] hello this is harper valley na...</td>\n",
              "      <td>transfer money</td>\n",
              "    </tr>\n",
              "    <tr>\n",
              "      <th>987</th>\n",
              "      <td>&lt;caller&gt; [noise] hello my name is elizabeth wi...</td>\n",
              "      <td>reset password</td>\n",
              "    </tr>\n",
              "    <tr>\n",
              "      <th>718</th>\n",
              "      <td>&lt;agent&gt; [noise] hello this is harper valley na...</td>\n",
              "      <td>reset password</td>\n",
              "    </tr>\n",
              "    <tr>\n",
              "      <th>866</th>\n",
              "      <td>&lt;agent&gt; hello this is harper valley national b...</td>\n",
              "      <td>get branch hours</td>\n",
              "    </tr>\n",
              "    <tr>\n",
              "      <th>863</th>\n",
              "      <td>&lt;agent&gt; [noise] &lt;agent&gt; [noise] hello this is ...</td>\n",
              "      <td>get branch hours</td>\n",
              "    </tr>\n",
              "    <tr>\n",
              "      <th>946</th>\n",
              "      <td>&lt;agent&gt; hello this is harper valley national b...</td>\n",
              "      <td>reset password</td>\n",
              "    </tr>\n",
              "    <tr>\n",
              "      <th>398</th>\n",
              "      <td>&lt;agent&gt; [noise] hello this is harper valley na...</td>\n",
              "      <td>check balance</td>\n",
              "    </tr>\n",
              "    <tr>\n",
              "      <th>1127</th>\n",
              "      <td>&lt;agent&gt; hello this is harper valley national b...</td>\n",
              "      <td>schedule appointment</td>\n",
              "    </tr>\n",
              "  </tbody>\n",
              "</table>\n",
              "</div>\n",
              "    <div class=\"colab-df-buttons\">\n",
              "\n",
              "  <div class=\"colab-df-container\">\n",
              "    <button class=\"colab-df-convert\" onclick=\"convertToInteractive('df-8211d3e6-0358-47ab-abdc-2aff1f304174')\"\n",
              "            title=\"Convert this dataframe to an interactive table.\"\n",
              "            style=\"display:none;\">\n",
              "\n",
              "  <svg xmlns=\"http://www.w3.org/2000/svg\" height=\"24px\" viewBox=\"0 -960 960 960\">\n",
              "    <path d=\"M120-120v-720h720v720H120Zm60-500h600v-160H180v160Zm220 220h160v-160H400v160Zm0 220h160v-160H400v160ZM180-400h160v-160H180v160Zm440 0h160v-160H620v160ZM180-180h160v-160H180v160Zm440 0h160v-160H620v160Z\"/>\n",
              "  </svg>\n",
              "    </button>\n",
              "\n",
              "  <style>\n",
              "    .colab-df-container {\n",
              "      display:flex;\n",
              "      gap: 12px;\n",
              "    }\n",
              "\n",
              "    .colab-df-convert {\n",
              "      background-color: #E8F0FE;\n",
              "      border: none;\n",
              "      border-radius: 50%;\n",
              "      cursor: pointer;\n",
              "      display: none;\n",
              "      fill: #1967D2;\n",
              "      height: 32px;\n",
              "      padding: 0 0 0 0;\n",
              "      width: 32px;\n",
              "    }\n",
              "\n",
              "    .colab-df-convert:hover {\n",
              "      background-color: #E2EBFA;\n",
              "      box-shadow: 0px 1px 2px rgba(60, 64, 67, 0.3), 0px 1px 3px 1px rgba(60, 64, 67, 0.15);\n",
              "      fill: #174EA6;\n",
              "    }\n",
              "\n",
              "    .colab-df-buttons div {\n",
              "      margin-bottom: 4px;\n",
              "    }\n",
              "\n",
              "    [theme=dark] .colab-df-convert {\n",
              "      background-color: #3B4455;\n",
              "      fill: #D2E3FC;\n",
              "    }\n",
              "\n",
              "    [theme=dark] .colab-df-convert:hover {\n",
              "      background-color: #434B5C;\n",
              "      box-shadow: 0px 1px 3px 1px rgba(0, 0, 0, 0.15);\n",
              "      filter: drop-shadow(0px 1px 2px rgba(0, 0, 0, 0.3));\n",
              "      fill: #FFFFFF;\n",
              "    }\n",
              "  </style>\n",
              "\n",
              "    <script>\n",
              "      const buttonEl =\n",
              "        document.querySelector('#df-8211d3e6-0358-47ab-abdc-2aff1f304174 button.colab-df-convert');\n",
              "      buttonEl.style.display =\n",
              "        google.colab.kernel.accessAllowed ? 'block' : 'none';\n",
              "\n",
              "      async function convertToInteractive(key) {\n",
              "        const element = document.querySelector('#df-8211d3e6-0358-47ab-abdc-2aff1f304174');\n",
              "        const dataTable =\n",
              "          await google.colab.kernel.invokeFunction('convertToInteractive',\n",
              "                                                    [key], {});\n",
              "        if (!dataTable) return;\n",
              "\n",
              "        const docLinkHtml = 'Like what you see? Visit the ' +\n",
              "          '<a target=\"_blank\" href=https://colab.research.google.com/notebooks/data_table.ipynb>data table notebook</a>'\n",
              "          + ' to learn more about interactive tables.';\n",
              "        element.innerHTML = '';\n",
              "        dataTable['output_type'] = 'display_data';\n",
              "        await google.colab.output.renderOutput(dataTable, element);\n",
              "        const docLink = document.createElement('div');\n",
              "        docLink.innerHTML = docLinkHtml;\n",
              "        element.appendChild(docLink);\n",
              "      }\n",
              "    </script>\n",
              "  </div>\n",
              "\n",
              "\n",
              "<div id=\"df-df2240e3-161b-4bc3-9750-dc8a4b5d8a61\">\n",
              "  <button class=\"colab-df-quickchart\" onclick=\"quickchart('df-df2240e3-161b-4bc3-9750-dc8a4b5d8a61')\"\n",
              "            title=\"Suggest charts\"\n",
              "            style=\"display:none;\">\n",
              "\n",
              "<svg xmlns=\"http://www.w3.org/2000/svg\" height=\"24px\"viewBox=\"0 0 24 24\"\n",
              "     width=\"24px\">\n",
              "    <g>\n",
              "        <path d=\"M19 3H5c-1.1 0-2 .9-2 2v14c0 1.1.9 2 2 2h14c1.1 0 2-.9 2-2V5c0-1.1-.9-2-2-2zM9 17H7v-7h2v7zm4 0h-2V7h2v10zm4 0h-2v-4h2v4z\"/>\n",
              "    </g>\n",
              "</svg>\n",
              "  </button>\n",
              "\n",
              "<style>\n",
              "  .colab-df-quickchart {\n",
              "      --bg-color: #E8F0FE;\n",
              "      --fill-color: #1967D2;\n",
              "      --hover-bg-color: #E2EBFA;\n",
              "      --hover-fill-color: #174EA6;\n",
              "      --disabled-fill-color: #AAA;\n",
              "      --disabled-bg-color: #DDD;\n",
              "  }\n",
              "\n",
              "  [theme=dark] .colab-df-quickchart {\n",
              "      --bg-color: #3B4455;\n",
              "      --fill-color: #D2E3FC;\n",
              "      --hover-bg-color: #434B5C;\n",
              "      --hover-fill-color: #FFFFFF;\n",
              "      --disabled-bg-color: #3B4455;\n",
              "      --disabled-fill-color: #666;\n",
              "  }\n",
              "\n",
              "  .colab-df-quickchart {\n",
              "    background-color: var(--bg-color);\n",
              "    border: none;\n",
              "    border-radius: 50%;\n",
              "    cursor: pointer;\n",
              "    display: none;\n",
              "    fill: var(--fill-color);\n",
              "    height: 32px;\n",
              "    padding: 0;\n",
              "    width: 32px;\n",
              "  }\n",
              "\n",
              "  .colab-df-quickchart:hover {\n",
              "    background-color: var(--hover-bg-color);\n",
              "    box-shadow: 0 1px 2px rgba(60, 64, 67, 0.3), 0 1px 3px 1px rgba(60, 64, 67, 0.15);\n",
              "    fill: var(--button-hover-fill-color);\n",
              "  }\n",
              "\n",
              "  .colab-df-quickchart-complete:disabled,\n",
              "  .colab-df-quickchart-complete:disabled:hover {\n",
              "    background-color: var(--disabled-bg-color);\n",
              "    fill: var(--disabled-fill-color);\n",
              "    box-shadow: none;\n",
              "  }\n",
              "\n",
              "  .colab-df-spinner {\n",
              "    border: 2px solid var(--fill-color);\n",
              "    border-color: transparent;\n",
              "    border-bottom-color: var(--fill-color);\n",
              "    animation:\n",
              "      spin 1s steps(1) infinite;\n",
              "  }\n",
              "\n",
              "  @keyframes spin {\n",
              "    0% {\n",
              "      border-color: transparent;\n",
              "      border-bottom-color: var(--fill-color);\n",
              "      border-left-color: var(--fill-color);\n",
              "    }\n",
              "    20% {\n",
              "      border-color: transparent;\n",
              "      border-left-color: var(--fill-color);\n",
              "      border-top-color: var(--fill-color);\n",
              "    }\n",
              "    30% {\n",
              "      border-color: transparent;\n",
              "      border-left-color: var(--fill-color);\n",
              "      border-top-color: var(--fill-color);\n",
              "      border-right-color: var(--fill-color);\n",
              "    }\n",
              "    40% {\n",
              "      border-color: transparent;\n",
              "      border-right-color: var(--fill-color);\n",
              "      border-top-color: var(--fill-color);\n",
              "    }\n",
              "    60% {\n",
              "      border-color: transparent;\n",
              "      border-right-color: var(--fill-color);\n",
              "    }\n",
              "    80% {\n",
              "      border-color: transparent;\n",
              "      border-right-color: var(--fill-color);\n",
              "      border-bottom-color: var(--fill-color);\n",
              "    }\n",
              "    90% {\n",
              "      border-color: transparent;\n",
              "      border-bottom-color: var(--fill-color);\n",
              "    }\n",
              "  }\n",
              "</style>\n",
              "\n",
              "  <script>\n",
              "    async function quickchart(key) {\n",
              "      const quickchartButtonEl =\n",
              "        document.querySelector('#' + key + ' button');\n",
              "      quickchartButtonEl.disabled = true;  // To prevent multiple clicks.\n",
              "      quickchartButtonEl.classList.add('colab-df-spinner');\n",
              "      try {\n",
              "        const charts = await google.colab.kernel.invokeFunction(\n",
              "            'suggestCharts', [key], {});\n",
              "      } catch (error) {\n",
              "        console.error('Error during call to suggestCharts:', error);\n",
              "      }\n",
              "      quickchartButtonEl.classList.remove('colab-df-spinner');\n",
              "      quickchartButtonEl.classList.add('colab-df-quickchart-complete');\n",
              "    }\n",
              "    (() => {\n",
              "      let quickchartButtonEl =\n",
              "        document.querySelector('#df-df2240e3-161b-4bc3-9750-dc8a4b5d8a61 button');\n",
              "      quickchartButtonEl.style.display =\n",
              "        google.colab.kernel.accessAllowed ? 'block' : 'none';\n",
              "    })();\n",
              "  </script>\n",
              "</div>\n",
              "    </div>\n",
              "  </div>\n"
            ],
            "application/vnd.google.colaboratory.module+javascript": "\n      import \"https://ssl.gstatic.com/colaboratory/data_table/881c4a0d49046431/data_table.js\";\n\n      const table = window.createDataTable({\n        data: [[{\n            'v': 1254,\n            'f': \"1254\",\n        },\n\"<agent> hello this is harper valley national bank my name is james how can i help you today <caller> [noise] <caller> hi my name is michael garcia i would like to pay a bill <agent> [noise] <agent> what's the company name <caller> fossil gas <agent> [noise] <agent> [noise] <agent> [noise] <agent> and what is the company address <caller> the address is one ninety main street <caller> forest ranch <caller> oregon <agent> [noise] <caller> seven five seven four two <agent> and what's the bill amount <caller> the amount of the bill is fifty dollars <agent> uhm we will send your payment to fossil gas fo fifty dollars is there anything else i can help you with today <caller> no <agent> okay thank you for calling have a great day\",\n\"pay bill\"],\n [{\n            'v': 538,\n            'f': \"538\",\n        },\n\"<agent> hello this is harper valley national bank my name is michael how can i help you today <caller> hi my name is robert jones <caller> what are the local branch hours <agent> hi robert um the branch hours are nine thirty a m until five p m <caller> [noise] <caller> [noise] <caller> [noise] <agent> is there anything else <caller> no that's gonna be it thank you <agent> okay you're welcome have a good day\",\n\"get branch hours\"],\n [{\n            'v': 1016,\n            'f': \"1016\",\n        },\n\"<agent> [noise] hello this is harper valley national bank my name is michael how can i help you today <caller> hi my name is mary garcia <caller> i would like to transfer money between my accounts <agent> what is the transfer amount <caller> a hundred and eleven dollars <agent> what is the source account <caller> my savings account <agent> what is the destination account <caller> to my checking account <agent> one hundred and eleven dollars has been transferred from your savings account to your checking account is there anything else i can help you with <caller> no thank you <agent> thank you for calling have a great day <caller> [noise] bye <agent> [noise]\",\n\"transfer money\"],\n [{\n            'v': 987,\n            'f': \"987\",\n        },\n\"<caller> [noise] hello my name is elizabeth williams i'd like to reset my password today <caller>  <agent> alright hello this is harper valley national bank my name is linda and how can i help you today <agent>  <caller> so my phone number whenever you're ready <agent> yeah what is your phone number <caller> three seven two ten <caller> six nine seven one <agent>  <caller> [noise] <agent> can you repeat the phone number <caller> [noise] <caller> three seven two ten six nine seven one and that's all i'll be needing today <agent> hmm <agent> okay that was three seven two ten six nine seven one <caller> that is correct <agent> your password reset link has been sent to your phone <agent> thank you for calling have great day <caller> thanks <caller> \",\n\"reset password\"],\n [{\n            'v': 718,\n            'f': \"718\",\n        },\n\"<agent> [noise] hello this is harper valley national bank my name is elizabeth how can i help you today <caller> hi my name is john jones and i would like to reset my password <agent> what is your phone number <caller> it's two seven nine <caller> four two one <caller> seven eight nine three <agent> your password reset link has been sent to your phone is there anything else i can help you with <caller> nope that's all i needed thank you <agent> thank you for calling have a great day <caller> thank you you too <agent> [noise]\",\n\"reset password\"],\n [{\n            'v': 866,\n            'f': \"866\",\n        },\n\"<agent> hello this is harper valley national bank my name is elizabeth <agent> how can i help you today <caller> hi elizabeth my name is patricia miller i was wondering if uh what your local branch hours are <agent> the branch hours are nine thirty a m to five o'clock p m <caller> wonderful thank you <agent> is there anything else i can help you with <caller> nope that would be it <agent> okay thank you for calling have a great day <caller> you too thank you bye bye <agent> bye\",\n\"get branch hours\"],\n [{\n            'v': 863,\n            'f': \"863\",\n        },\n\"<agent> [noise] <agent> [noise] hello this is harper valley national bank my name is linda how can i help you today <caller> hi my name is michael jones <caller> and i was wondering what the local branch hours are <agent> for local branch hours are nine thirty a m to five p m <agent> [noise] <caller> nine thirty a m to five p m <caller> okay <agent> is there anything else i can help you with <caller> nope that is all i needed thank you <agent> thank you for calling have a great day <agent> [noise] <caller> you as well <agent> [dogs] <caller> [noise]\",\n\"get branch hours\"],\n [{\n            'v': 946,\n            'f': \"946\",\n        },\n\"<agent> hello this is harper valley national bank my name is elizabeth how can i help you today <caller>  <caller> hi my name is jennifer johnson i would like to reset my password <agent> sure what is your phone number <caller> my phone number is seven zero six <caller> zero eight five <caller> six eight eight nine <agent> okay that's seven zero six zero eight five six eight eight nine <caller> correct <agent> your password reset link has been sent to your phone is there anything else i can help you with <caller> that'll be all thank you <agent> you're welcome thank you for calling have a great day\",\n\"reset password\"],\n [{\n            'v': 398,\n            'f': \"398\",\n        },\n\"<agent> [noise] hello this is harper valley national bank my name is patricia how can i help you today <caller> hi my name is michael jones i need to check my account balance <agent> which account would you like to check <caller> my savings account <agent> your savings account balance is eighty one dollars is there anything else i can help you with <caller> that's all <agent> thank you for calling have a great day\",\n\"check balance\"],\n [{\n            'v': 1127,\n            'f': \"1127\",\n        },\n\"<agent> hello this is harper valley national bank my name is mary how can i help you today <caller> hi my name is robert miller and i would like to schedule an appointment <agent> what day would you like for your appointment <caller> [noise] <caller> monday <agent> and what time would you like for your appointment <caller> hmm two fifteen <agent> your appointment has been scheduled for monday at two fifteen p m is there anything else i can help you with <caller> mmm that's all <agent> thank you for calling have a great day <caller> thank you <unk>\",\n\"schedule appointment\"]],\n        columns: [[\"number\", \"index\"], [\"string\", \"transcript\"], [\"string\", \"task_type\"]],\n        columnOptions: [{\"width\": \"1px\", \"className\": \"index_column\"}],\n        rowsPerPage: 25,\n        helpUrl: \"https://colab.research.google.com/notebooks/data_table.ipynb\",\n        suppressOutputScrolling: true,\n        minimumWidth: undefined,\n      });\n\n      function appendQuickchartButton(parentElement) {\n        let quickchartButtonContainerElement = document.createElement('div');\n        quickchartButtonContainerElement.innerHTML = `\n<div id=\"df-bb2c0364-3026-4e5b-98e5-c047418ec2e2\">\n  <button class=\"colab-df-quickchart\" onclick=\"quickchart('df-bb2c0364-3026-4e5b-98e5-c047418ec2e2')\"\n            title=\"Suggest charts\"\n            style=\"display:none;\">\n    \n<svg xmlns=\"http://www.w3.org/2000/svg\" height=\"24px\"viewBox=\"0 0 24 24\"\n     width=\"24px\">\n    <g>\n        <path d=\"M19 3H5c-1.1 0-2 .9-2 2v14c0 1.1.9 2 2 2h14c1.1 0 2-.9 2-2V5c0-1.1-.9-2-2-2zM9 17H7v-7h2v7zm4 0h-2V7h2v10zm4 0h-2v-4h2v4z\"/>\n    </g>\n</svg>\n  </button>\n  \n<style>\n  .colab-df-quickchart {\n      --bg-color: #E8F0FE;\n      --fill-color: #1967D2;\n      --hover-bg-color: #E2EBFA;\n      --hover-fill-color: #174EA6;\n      --disabled-fill-color: #AAA;\n      --disabled-bg-color: #DDD;\n  }\n\n  [theme=dark] .colab-df-quickchart {\n      --bg-color: #3B4455;\n      --fill-color: #D2E3FC;\n      --hover-bg-color: #434B5C;\n      --hover-fill-color: #FFFFFF;\n      --disabled-bg-color: #3B4455;\n      --disabled-fill-color: #666;\n  }\n\n  .colab-df-quickchart {\n    background-color: var(--bg-color);\n    border: none;\n    border-radius: 50%;\n    cursor: pointer;\n    display: none;\n    fill: var(--fill-color);\n    height: 32px;\n    padding: 0;\n    width: 32px;\n  }\n\n  .colab-df-quickchart:hover {\n    background-color: var(--hover-bg-color);\n    box-shadow: 0 1px 2px rgba(60, 64, 67, 0.3), 0 1px 3px 1px rgba(60, 64, 67, 0.15);\n    fill: var(--button-hover-fill-color);\n  }\n\n  .colab-df-quickchart-complete:disabled,\n  .colab-df-quickchart-complete:disabled:hover {\n    background-color: var(--disabled-bg-color);\n    fill: var(--disabled-fill-color);\n    box-shadow: none;\n  }\n\n  .colab-df-spinner {\n    border: 2px solid var(--fill-color);\n    border-color: transparent;\n    border-bottom-color: var(--fill-color);\n    animation:\n      spin 1s steps(1) infinite;\n  }\n\n  @keyframes spin {\n    0% {\n      border-color: transparent;\n      border-bottom-color: var(--fill-color);\n      border-left-color: var(--fill-color);\n    }\n    20% {\n      border-color: transparent;\n      border-left-color: var(--fill-color);\n      border-top-color: var(--fill-color);\n    }\n    30% {\n      border-color: transparent;\n      border-left-color: var(--fill-color);\n      border-top-color: var(--fill-color);\n      border-right-color: var(--fill-color);\n    }\n    40% {\n      border-color: transparent;\n      border-right-color: var(--fill-color);\n      border-top-color: var(--fill-color);\n    }\n    60% {\n      border-color: transparent;\n      border-right-color: var(--fill-color);\n    }\n    80% {\n      border-color: transparent;\n      border-right-color: var(--fill-color);\n      border-bottom-color: var(--fill-color);\n    }\n    90% {\n      border-color: transparent;\n      border-bottom-color: var(--fill-color);\n    }\n  }\n</style>\n\n  <script>\n    async function quickchart(key) {\n      const quickchartButtonEl =\n        document.querySelector('#' + key + ' button');\n      quickchartButtonEl.disabled = true;  // To prevent multiple clicks.\n      quickchartButtonEl.classList.add('colab-df-spinner');\n      try {\n        const charts = await google.colab.kernel.invokeFunction(\n            'suggestCharts', [key], {});\n      } catch (error) {\n        console.error('Error during call to suggestCharts:', error);\n      }\n      quickchartButtonEl.classList.remove('colab-df-spinner');\n      quickchartButtonEl.classList.add('colab-df-quickchart-complete');\n    }\n    (() => {\n      let quickchartButtonEl =\n        document.querySelector('#df-bb2c0364-3026-4e5b-98e5-c047418ec2e2 button');\n      quickchartButtonEl.style.display =\n        google.colab.kernel.accessAllowed ? 'block' : 'none';\n    })();\n  </script>\n</div>`;\n        parentElement.appendChild(quickchartButtonContainerElement);\n      }\n\n      appendQuickchartButton(table);\n    "
          },
          "metadata": {},
          "execution_count": 44
        }
      ]
    },
    {
      "cell_type": "code",
      "source": [],
      "metadata": {
        "id": "K2AqdTATItST"
      },
      "execution_count": null,
      "outputs": []
    },
    {
      "cell_type": "code",
      "source": [],
      "metadata": {
        "id": "Bg8BH0pT32w6"
      },
      "execution_count": null,
      "outputs": []
    },
    {
      "cell_type": "code",
      "source": [],
      "metadata": {
        "id": "o7gfR8kd5b8D"
      },
      "execution_count": null,
      "outputs": []
    },
    {
      "cell_type": "code",
      "source": [
        "prompt_template: str = \"\"\"\n",
        "Consider the case of a customer contacting the support center.\n",
        "The term \"task type\" refers to the reason for why the customer contacted support.\n",
        "\n",
        "### The possible task types are: ###\n",
        "- replace card\n",
        "- transfer money\n",
        "- check balance\n",
        "- order checks\n",
        "- pay bill\n",
        "- reset password\n",
        "- schedule appointment\n",
        "- get branch hours\n",
        "- none of the above\n",
        "\n",
        "Summarize the issue/question/reason that drove the customer to contact support:\n",
        "\n",
        "### Transcript: {transcript}\n",
        "\n",
        "### Task Type:\n",
        "\"\"\""
      ],
      "metadata": {
        "id": "rRaPGgG-5bDW",
        "colab": {
          "base_uri": "https://localhost:8080/",
          "height": 17
        },
        "outputId": "2df847b6-5755-441e-b897-51e29482ce1d"
      },
      "execution_count": null,
      "outputs": [
        {
          "output_type": "display_data",
          "data": {
            "text/plain": [
              "<IPython.core.display.HTML object>"
            ],
            "text/html": [
              "\n",
              "  <style>\n",
              "    pre {\n",
              "        white-space: pre-wrap;\n",
              "    }\n",
              "  </style>\n",
              "  "
            ]
          },
          "metadata": {}
        }
      ]
    },
    {
      "cell_type": "code",
      "source": [],
      "metadata": {
        "id": "PbZhNfI15cyi"
      },
      "execution_count": null,
      "outputs": []
    },
    {
      "cell_type": "code",
      "source": [],
      "metadata": {
        "id": "9yjx0fvm5c-O"
      },
      "execution_count": null,
      "outputs": []
    },
    {
      "cell_type": "code",
      "source": [
        "test_transcript: str = \"\"\"\n",
        "<caller> hello <agent> hello this is [unintelligible] national bank my name is jennifer <agent> how can i help you today <caller> hi my name is james william <caller> i lost my debit card <caller> can you send me a new one <agent> yes <agent> uh which card or would you like to replace <caller> my debit card <agent> okay i've ordered your replacement debit card is there anything else i can help you with today <caller> no that's gonna be all for me today <agent> [noise] <agent> alright thank you for calling have a great day <caller> you too bye <agent> [noise] <agent> [noise]\n",
        "\"\"\""
      ],
      "metadata": {
        "id": "elhEYFUR4yxi",
        "colab": {
          "base_uri": "https://localhost:8080/",
          "height": 17
        },
        "outputId": "f5c394e9-0d0c-4708-e636-b9bfb66a58e1"
      },
      "execution_count": null,
      "outputs": [
        {
          "output_type": "display_data",
          "data": {
            "text/plain": [
              "<IPython.core.display.HTML object>"
            ],
            "text/html": [
              "\n",
              "  <style>\n",
              "    pre {\n",
              "        white-space: pre-wrap;\n",
              "    }\n",
              "  </style>\n",
              "  "
            ]
          },
          "metadata": {}
        }
      ]
    },
    {
      "cell_type": "code",
      "source": [
        "test_prompt: str = prompt_template.format(**{\"transcript\": test_transcript})"
      ],
      "metadata": {
        "id": "l-vMflb342J8",
        "colab": {
          "base_uri": "https://localhost:8080/",
          "height": 17
        },
        "outputId": "4670c459-9ad1-4bca-dbc2-d059a115420c"
      },
      "execution_count": null,
      "outputs": [
        {
          "output_type": "display_data",
          "data": {
            "text/plain": [
              "<IPython.core.display.HTML object>"
            ],
            "text/html": [
              "\n",
              "  <style>\n",
              "    pre {\n",
              "        white-space: pre-wrap;\n",
              "    }\n",
              "  </style>\n",
              "  "
            ]
          },
          "metadata": {}
        }
      ]
    },
    {
      "cell_type": "code",
      "source": [],
      "metadata": {
        "id": "QX6M61CZ4y1u"
      },
      "execution_count": null,
      "outputs": []
    },
    {
      "cell_type": "code",
      "source": [],
      "metadata": {
        "id": "M4gonDZq4y6J"
      },
      "execution_count": null,
      "outputs": []
    },
    {
      "cell_type": "code",
      "source": [],
      "metadata": {
        "id": "q_i2mDo332w6"
      },
      "execution_count": null,
      "outputs": []
    },
    {
      "cell_type": "code",
      "source": [
        "zephyr_base_model_name: str = \"HuggingFaceH4/zephyr-7b-beta\""
      ],
      "metadata": {
        "id": "5fxfxlqA32w7",
        "colab": {
          "base_uri": "https://localhost:8080/",
          "height": 17
        },
        "outputId": "6d148c10-b6d3-4d84-a1d2-96a5516242b5"
      },
      "execution_count": null,
      "outputs": [
        {
          "output_type": "display_data",
          "data": {
            "text/plain": [
              "<IPython.core.display.HTML object>"
            ],
            "text/html": [
              "\n",
              "  <style>\n",
              "    pre {\n",
              "        white-space: pre-wrap;\n",
              "    }\n",
              "  </style>\n",
              "  "
            ]
          },
          "metadata": {}
        }
      ]
    },
    {
      "cell_type": "code",
      "source": [],
      "metadata": {
        "id": "qOoWU4rt32w7"
      },
      "execution_count": null,
      "outputs": []
    },
    {
      "cell_type": "code",
      "source": [],
      "metadata": {
        "id": "Bz3jHQrj32w7"
      },
      "execution_count": null,
      "outputs": []
    },
    {
      "cell_type": "code",
      "source": [],
      "metadata": {
        "id": "4-YvfTHq32w7"
      },
      "execution_count": null,
      "outputs": []
    },
    {
      "cell_type": "code",
      "source": [
        "bnb_config_base_model: BitsAndBytesConfig = BitsAndBytesConfig(\n",
        "    load_in_4bit=True,\n",
        "    load_in_8bit=False,\n",
        "    llm_int8_threshold=6.0,\n",
        "    llm_int8_has_fp16_weight=False,\n",
        "    bnb_4bit_compute_dtype=\"float16\",\n",
        "    bnb_4bit_use_double_quant=True,\n",
        "    bnb_4bit_quant_type=\"nf4\",\n",
        ")"
      ],
      "metadata": {
        "id": "-qdQYJM-32w7",
        "colab": {
          "base_uri": "https://localhost:8080/",
          "height": 17
        },
        "outputId": "9138bc8c-5ff3-450d-a360-395fae8eb767"
      },
      "execution_count": null,
      "outputs": [
        {
          "output_type": "display_data",
          "data": {
            "text/plain": [
              "<IPython.core.display.HTML object>"
            ],
            "text/html": [
              "\n",
              "  <style>\n",
              "    pre {\n",
              "        white-space: pre-wrap;\n",
              "    }\n",
              "  </style>\n",
              "  "
            ]
          },
          "metadata": {}
        }
      ]
    },
    {
      "cell_type": "code",
      "source": [
        "base_model_tokenizer: LlamaTokenizerFast = AutoTokenizer.from_pretrained(pretrained_model_name_or_path=zephyr_base_model_name, trust_remote_code=True, padding_side=\"left\")\n",
        "print(base_model_tokenizer.eos_token)\n",
        "base_model_tokenizer.pad_token = base_model_tokenizer.eos_token"
      ],
      "metadata": {
        "id": "IJCnFnDG32w7",
        "colab": {
          "base_uri": "https://localhost:8080/",
          "height": 195,
          "referenced_widgets": [
            "35c21d985ae9493fa20b38e6fcf5bdd3",
            "2a83f13486f64a449fb69a986da487f2",
            "b9291040440946a18ef886f04fa16a0d",
            "9bbacd0478f843688a1f3f0a59df2f70",
            "8edec36de05f4139b5c8888fbf148e57",
            "d7a646f3d6d94592b48c89db73558682",
            "b5f38c36d61049efae1354d836ce0b84",
            "a315bbbc06b04702a7b6ba59dd4e4a30",
            "1a5d837e188a416b8134f66c723dcade",
            "155ae61ba4e8452489100496c0284c57",
            "daa2786296534072b9beb2fb8d4bf9c3",
            "aad72d4dd04b4fa1baf86b61625cc05f",
            "7c692b5046f54c568ed8cb0ff1aa46f2",
            "7d99c8a69df54c4cb8169af4b838956a",
            "b49ec74a6b1f4e7aa68569413c661e68",
            "ef9dd02c67e64557848270d9c0baf368",
            "7b674be815204bd8a218eea619b8e31e",
            "17a15bddecee4e1887127ff9cbb93bac",
            "b4d295242d5f4b8a9c92f1e10a94f031",
            "fb3382d692384576ae16d0e1caefb058",
            "9f7b011ca7584682ab644541de39fb05",
            "802dc7f009304103b3ce5bc1a553686e",
            "e8aca4c2df7a421189179b878209ecb1",
            "b9f6a24af2f54c799280546b28e912d3",
            "8b30c78682614bbb8036854c310a71e4",
            "0a16fd8fb04d4c64a99322b8a98415c5",
            "e3269a7415ed462283775dd6310adad8",
            "ba883b81467840b798d6f71509536eef",
            "e2df552130474686ba5d8cb5457e25c7",
            "97407dabc5e5467986d0024e759d3f0c",
            "aa1203ba0cd64cc2abce3f5b8e2149f4",
            "b7b9acb0489241e184592bc5e4ae81ca",
            "ef95efd5f5e74022b9c5492dc1d90156",
            "1937d4db0f284bed8a4bc0c0774882dc",
            "10663b2594cd4de580ef88516233390d",
            "ebc8423325f9408f92eb79ff82233428",
            "0c7ba75bc15a45dcba371091fac4e1a6",
            "be5ffbce83424e75b1674968b3d16858",
            "4e95c3be8bf744e48b7c35dff54469d0",
            "c4a530240d084d68a0dd3de97f3ec6aa",
            "619fa1e8cff44321ba6b476ee6ad0001",
            "c5fa16be99b1469ca187e8ec84109fc3",
            "615968677a9649eb9f82f87e934605f2",
            "2e9f8537c72045efbfda907de8099b4d",
            "ef738fdf15014a94863e20a4644766c9",
            "91ce3b0f217544918d1e9c61846cad14",
            "3ed8d084d29245adbc8d9ac7452dc54e",
            "221453d2b6f44b32824e2f6b0185b1b3",
            "bc3aa8229d4f40cc9b7b699db6e3c907",
            "25398c33cc94437c85a641822b7f598e",
            "1aafc2154e9c42559a868c740071d6e4",
            "3f7247648932427795d4dad7613b4ed6",
            "8810dafc8f824b0fa9089f83d92dec82",
            "fae8189164814a51a6cbef16f142cef0",
            "9313cb08021d43e8a0448fb9716c1bff"
          ]
        },
        "outputId": "d7078c36-8a69-4542-80bf-e760179e6daf"
      },
      "execution_count": null,
      "outputs": [
        {
          "output_type": "display_data",
          "data": {
            "text/plain": [
              "<IPython.core.display.HTML object>"
            ],
            "text/html": [
              "\n",
              "  <style>\n",
              "    pre {\n",
              "        white-space: pre-wrap;\n",
              "    }\n",
              "  </style>\n",
              "  "
            ]
          },
          "metadata": {}
        },
        {
          "output_type": "display_data",
          "data": {
            "text/plain": [
              "tokenizer_config.json:   0%|          | 0.00/1.43k [00:00<?, ?B/s]"
            ],
            "application/vnd.jupyter.widget-view+json": {
              "version_major": 2,
              "version_minor": 0,
              "model_id": "35c21d985ae9493fa20b38e6fcf5bdd3"
            }
          },
          "metadata": {}
        },
        {
          "output_type": "display_data",
          "data": {
            "text/plain": [
              "tokenizer.model:   0%|          | 0.00/493k [00:00<?, ?B/s]"
            ],
            "application/vnd.jupyter.widget-view+json": {
              "version_major": 2,
              "version_minor": 0,
              "model_id": "aad72d4dd04b4fa1baf86b61625cc05f"
            }
          },
          "metadata": {}
        },
        {
          "output_type": "display_data",
          "data": {
            "text/plain": [
              "tokenizer.json:   0%|          | 0.00/1.80M [00:00<?, ?B/s]"
            ],
            "application/vnd.jupyter.widget-view+json": {
              "version_major": 2,
              "version_minor": 0,
              "model_id": "e8aca4c2df7a421189179b878209ecb1"
            }
          },
          "metadata": {}
        },
        {
          "output_type": "display_data",
          "data": {
            "text/plain": [
              "added_tokens.json:   0%|          | 0.00/42.0 [00:00<?, ?B/s]"
            ],
            "application/vnd.jupyter.widget-view+json": {
              "version_major": 2,
              "version_minor": 0,
              "model_id": "1937d4db0f284bed8a4bc0c0774882dc"
            }
          },
          "metadata": {}
        },
        {
          "output_type": "display_data",
          "data": {
            "text/plain": [
              "special_tokens_map.json:   0%|          | 0.00/168 [00:00<?, ?B/s]"
            ],
            "application/vnd.jupyter.widget-view+json": {
              "version_major": 2,
              "version_minor": 0,
              "model_id": "ef738fdf15014a94863e20a4644766c9"
            }
          },
          "metadata": {}
        },
        {
          "output_type": "stream",
          "name": "stdout",
          "text": [
            "</s>\n"
          ]
        }
      ]
    },
    {
      "cell_type": "code",
      "source": [
        "base_model: MistralForCausalLM = AutoModelForCausalLM.from_pretrained(pretrained_model_name_or_path=zephyr_base_model_name, device_map=\"auto\", torch_dtype=torch.float16, offload_folder=\"offload\", trust_remote_code=True, low_cpu_mem_usage=True, quantization_config=bnb_config_base_model)"
      ],
      "metadata": {
        "id": "FqTCI36432w7",
        "colab": {
          "base_uri": "https://localhost:8080/",
          "height": 433,
          "referenced_widgets": [
            "03d617a8753045b5bd579bba1d36b919",
            "51bc8fa7d0e44796849f4b06382a5e04",
            "3a071f5aedae4406a734730b2995e4f4",
            "bb60808c1e0c4dfc83878d0077bc640a",
            "311d7199823b4168b284c5a7b5757dbd",
            "e014241850bb4119ac298f03873f87b5",
            "a174c9bd611242cb99e627929c6029e3",
            "c23c0e2de50d428c8e1926db04ca3e34",
            "6ac0e00e202346d5ab82d67b16ada3cb",
            "a79d8968935344f3a1c04d349abd6738",
            "5756dc71d9234dc28270e27accdc6d93",
            "e99889b0f07042b5b79081a7d3421e29",
            "371def85f5284f44afb44996bd6819c3",
            "92e5b0cc6b844036a16c785487651f01",
            "d67628c58bd444f88b67bba31eb20dc8",
            "1ca6c9ca847448afae9caa4b4de9fde0",
            "6358d20028ab426cad048407c7e453b6",
            "5f021a4e4fa04737bb36edda1ac2c8d6",
            "83d4d8fdd64d49249875512f33a8b238",
            "cae6963ab54c47a09ef4315ae3a26ec6",
            "d8272e6a33cd43f19241793e58e17e31",
            "93d9678d065e4dbb97779509cd987880",
            "460079ae24d946adb97256c16fd193f3",
            "9b8b582a30414ae09c494f3451b3bc6c",
            "aeed2168202143178cafeeb073b66f95",
            "a937c426335b4b8a98c91a4de6c9e278",
            "8da6cf09ced040678fe4d66a582243be",
            "06d78666d3a0467181eccfa9ca6a23cd",
            "2bc43fec152b4fd783312a6f19317a77",
            "990939f27c9c4cad898bf2b31dbe9482",
            "1f74b14a076f46739051e4e8f7caa86e",
            "61f7054944994e868ac54b7d7aeb38f9",
            "58a6bdbdc56f4298ab767d6ae5d435ea",
            "6fad9a53072746c0a53d510bfe13e9ca",
            "589770ce8ac742c98d7d13896ebd4281",
            "a1545094c4f443818a5c432798cde091",
            "b638e79d692a4aec898aaa978633137e",
            "2f7e96011afc4a98ada10d2625a728ff",
            "970d8221c61d4df9bee50afe6270aece",
            "bbc54d9c95d945c89861cbfe9af1bae0",
            "7787e5bc8498462b8dc75939ce29d9f9",
            "0d0d4e3300d64bdaa54c22c4377dde71",
            "53d039a056b34fec99b267a72fe74c0b",
            "59f3e54fa6ef4331a9c860b6592042d5",
            "c7bdde633d1c4886957a9a6122e3bbbc",
            "cfcf4f505da845cab33cc592eb4c5092",
            "456825baf6fb48119c975b35d3bf359a",
            "45091706a3b44354a6d8e4f1b0b42760",
            "0857fb0416de494e8c93c409c0a646b3",
            "3c9b80aa398d4e9e8490b86c1de1bc44",
            "3071a40466144f239028990e689af853",
            "6897fc75b9494d5f94d9b877a7ef9bba",
            "deae00f0ecb142f1af056f8ffed3d811",
            "cb682d3e7f374eae9647c81b0baf2831",
            "8e582dd963e846b3b23eda89718bf550",
            "e17360e575874f0f8236568acd77453e",
            "2364f5ac29d843e7b85bc5f6eb84cce5",
            "e2bfb2f793674a69a3da10eeb917fd7e",
            "fcb83f6ce86b43dab3385e19e3492e5a",
            "531d92367cf64dd9b642083260614d1e",
            "26cf5eab518b49cf86cafa00f2995841",
            "4c3c6422becc47e59f6201fd03cfc542",
            "dc8178981a0044739ddc335d9c40047e",
            "2e301403dad243829ddc95db00dbd83b",
            "c869890a12cc454cb2191b4493bb3802",
            "d41ac75a97d04b4f8746808f1d03bf42",
            "59d9fd8ae9d64e2896cbba6a30bca10e",
            "b03fb24aae394d5e9c47e9dec19adede",
            "7d67609521184f52bdbdcc9838f01854",
            "0ee1749729304638ae39ebd436b97e70",
            "d49f2c0251914f35987ce7c282eefa3a",
            "71b210ec24254a5183cf34cc95f8470d",
            "be781ae4cc3b456c8b6b1b76f0d29b48",
            "435266cbe0194c2695eed436cba3475a",
            "39d2a64f9e5847c397dfe3637d813ece",
            "116a238e23ec41a49dfbba2f76da80f7",
            "24157938387e48168f7e224bdb618b95",
            "aebece0c7d2643aab14dd173b928174a",
            "a0071a804f7e485c84266d3831b3f2a4",
            "eed9022d0d154c1b9bf5746087cb6643",
            "53b4d5a706af4c4e86c4cfc199b7439e",
            "aeab9a9ca67f40c0bc01465890c4df91",
            "2a2356f2768d4fb7ad1a7b8332d3444b",
            "f4dd5abc1386420997493f375a7cccf6",
            "f26cae88a6924bb5832a3e77f51a09e6",
            "a258151fd1ff48d690fdf5dcc656cc68",
            "e4462a50ff0c4187b82d95a8eefdbd06",
            "a03ca937c1774a35a19cb19445365a75",
            "3dff53a122f64982b065eb361436393a",
            "b733fbdeed8f4490992d861de9f41d2e",
            "bb5dbbf080824d568359827af0c45903",
            "98f920f6fc694548b703e636040ab706",
            "25cf29facec74edca0223e729b174696",
            "3608839abf944b039275f1c558a57e36",
            "efe64db493b043dc9fb577d257d07779",
            "8b428bd7cffe46898f0aa7a39d87cfa9",
            "097467501d8249109888cc5a045c2401",
            "2a475f871f2b4082b8ddbff25fca125d",
            "bb6b0550584242f1bef3531442285ec4",
            "f13c9bb4f8b646db8eae9bc5ce51d4ea",
            "67523f6f0ede4901ae5f936db0fa2d8f",
            "0766f0f4e0dd4a42bf75721280cde7bc",
            "ec2b25295d664294ba6aff689e1da0f8",
            "f37b0eb865ca4317a0d96a975007f7cf",
            "15a15e16ea624ca4aa15720d163b2876",
            "6cff0489aeed4a8c8e280c71ae387477",
            "b9f833a07b3942489aab65e5b5339239",
            "543e778f84a947dc96172b0ed3b17b64",
            "b00c40b7b52f452f97c8bae847aeb747",
            "1618533021974ea5a6f6df747d5fc5d9",
            "c11769ef532f4002bb34b4c5649d855a",
            "c924dda8d7d348eaa85ef0dabce64e5a",
            "778d71d1c84e407881523ecdedb81fb4",
            "dafc822eed2f4ccda768d6ca49d068e8",
            "9a59774067c5432bb3f1595c13e86130",
            "f187b9b12f5347f88f2299b3601a97d0",
            "060d7f8ed65b481cae56eb8387f8594e",
            "dc64a1ad880b4004a91ec1c2710208dc",
            "054695d4928d40d098a299e17a7a6ea3",
            "b93261b38cf94c93ba5d78a2bcb7bc0e",
            "9e7b924743064cb5a7e569a17fa09d5e",
            "71df7d04e5b24731af217513c3ae98ca",
            "03ff4845eed24f7882fb10b66c0a407a",
            "368701f8062146bd884a583fdcbafa45",
            "4965ea2f4385415096e4d05c5f833d25",
            "edc5d0458ee04cea93fe3724e5465eb2",
            "3e9122a698b847e483b7e47c0454ff23",
            "73c7410e5527497fb2d24c106463b941",
            "e8954d5e22ca44ce866ab39d2d57128e",
            "1bb3e545c3434c08bb82f337d643e521",
            "e01197998c7943e0ae8d6a28521f34a9",
            "2a1fb0f9abb3414e97db6d71e15e7bca",
            "a3b3778e47a14a6e816c3a8feac82502",
            "65c91597959c4745b70345ce69dd9c61",
            "3a7ba0344e444eeb980552d90298d923",
            "9ad252cfafc04be8a2eb95d3678559ce",
            "b306b2c2511c494e87adbb8ffac8c789",
            "dffc41f849d2439abbe5025afa1ddc09",
            "b4189f03adad480b9f78f71d19813845",
            "04d298dc5f7448de902b099ac4d8fd34",
            "b53a69672a31419ab8eb7520d6aa409c",
            "13e5b4a9355940928a4ebcbd29e0daf6",
            "98d33718a2124a33b6b9398f80b32a57"
          ]
        },
        "outputId": "c3d97fd2-5088-4b9e-c1e2-f740db3ddb1d"
      },
      "execution_count": null,
      "outputs": [
        {
          "output_type": "display_data",
          "data": {
            "text/plain": [
              "<IPython.core.display.HTML object>"
            ],
            "text/html": [
              "\n",
              "  <style>\n",
              "    pre {\n",
              "        white-space: pre-wrap;\n",
              "    }\n",
              "  </style>\n",
              "  "
            ]
          },
          "metadata": {}
        },
        {
          "output_type": "display_data",
          "data": {
            "text/plain": [
              "config.json:   0%|          | 0.00/638 [00:00<?, ?B/s]"
            ],
            "application/vnd.jupyter.widget-view+json": {
              "version_major": 2,
              "version_minor": 0,
              "model_id": "03d617a8753045b5bd579bba1d36b919"
            }
          },
          "metadata": {}
        },
        {
          "output_type": "display_data",
          "data": {
            "text/plain": [
              "model.safetensors.index.json:   0%|          | 0.00/23.9k [00:00<?, ?B/s]"
            ],
            "application/vnd.jupyter.widget-view+json": {
              "version_major": 2,
              "version_minor": 0,
              "model_id": "e99889b0f07042b5b79081a7d3421e29"
            }
          },
          "metadata": {}
        },
        {
          "output_type": "display_data",
          "data": {
            "text/plain": [
              "Downloading shards:   0%|          | 0/8 [00:00<?, ?it/s]"
            ],
            "application/vnd.jupyter.widget-view+json": {
              "version_major": 2,
              "version_minor": 0,
              "model_id": "460079ae24d946adb97256c16fd193f3"
            }
          },
          "metadata": {}
        },
        {
          "output_type": "display_data",
          "data": {
            "text/plain": [
              "model-00001-of-00008.safetensors:   0%|          | 0.00/1.89G [00:00<?, ?B/s]"
            ],
            "application/vnd.jupyter.widget-view+json": {
              "version_major": 2,
              "version_minor": 0,
              "model_id": "6fad9a53072746c0a53d510bfe13e9ca"
            }
          },
          "metadata": {}
        },
        {
          "output_type": "display_data",
          "data": {
            "text/plain": [
              "model-00002-of-00008.safetensors:   0%|          | 0.00/1.95G [00:00<?, ?B/s]"
            ],
            "application/vnd.jupyter.widget-view+json": {
              "version_major": 2,
              "version_minor": 0,
              "model_id": "c7bdde633d1c4886957a9a6122e3bbbc"
            }
          },
          "metadata": {}
        },
        {
          "output_type": "display_data",
          "data": {
            "text/plain": [
              "model-00003-of-00008.safetensors:   0%|          | 0.00/1.98G [00:00<?, ?B/s]"
            ],
            "application/vnd.jupyter.widget-view+json": {
              "version_major": 2,
              "version_minor": 0,
              "model_id": "e17360e575874f0f8236568acd77453e"
            }
          },
          "metadata": {}
        },
        {
          "output_type": "display_data",
          "data": {
            "text/plain": [
              "model-00004-of-00008.safetensors:   0%|          | 0.00/1.95G [00:00<?, ?B/s]"
            ],
            "application/vnd.jupyter.widget-view+json": {
              "version_major": 2,
              "version_minor": 0,
              "model_id": "59d9fd8ae9d64e2896cbba6a30bca10e"
            }
          },
          "metadata": {}
        },
        {
          "output_type": "display_data",
          "data": {
            "text/plain": [
              "model-00005-of-00008.safetensors:   0%|          | 0.00/1.98G [00:00<?, ?B/s]"
            ],
            "application/vnd.jupyter.widget-view+json": {
              "version_major": 2,
              "version_minor": 0,
              "model_id": "aebece0c7d2643aab14dd173b928174a"
            }
          },
          "metadata": {}
        },
        {
          "output_type": "display_data",
          "data": {
            "text/plain": [
              "model-00006-of-00008.safetensors:   0%|          | 0.00/1.95G [00:00<?, ?B/s]"
            ],
            "application/vnd.jupyter.widget-view+json": {
              "version_major": 2,
              "version_minor": 0,
              "model_id": "3dff53a122f64982b065eb361436393a"
            }
          },
          "metadata": {}
        },
        {
          "output_type": "display_data",
          "data": {
            "text/plain": [
              "model-00007-of-00008.safetensors:   0%|          | 0.00/1.98G [00:00<?, ?B/s]"
            ],
            "application/vnd.jupyter.widget-view+json": {
              "version_major": 2,
              "version_minor": 0,
              "model_id": "f13c9bb4f8b646db8eae9bc5ce51d4ea"
            }
          },
          "metadata": {}
        },
        {
          "output_type": "display_data",
          "data": {
            "text/plain": [
              "model-00008-of-00008.safetensors:   0%|          | 0.00/816M [00:00<?, ?B/s]"
            ],
            "application/vnd.jupyter.widget-view+json": {
              "version_major": 2,
              "version_minor": 0,
              "model_id": "c11769ef532f4002bb34b4c5649d855a"
            }
          },
          "metadata": {}
        },
        {
          "output_type": "display_data",
          "data": {
            "text/plain": [
              "Loading checkpoint shards:   0%|          | 0/8 [00:00<?, ?it/s]"
            ],
            "application/vnd.jupyter.widget-view+json": {
              "version_major": 2,
              "version_minor": 0,
              "model_id": "71df7d04e5b24731af217513c3ae98ca"
            }
          },
          "metadata": {}
        },
        {
          "output_type": "display_data",
          "data": {
            "text/plain": [
              "generation_config.json:   0%|          | 0.00/111 [00:00<?, ?B/s]"
            ],
            "application/vnd.jupyter.widget-view+json": {
              "version_major": 2,
              "version_minor": 0,
              "model_id": "a3b3778e47a14a6e816c3a8feac82502"
            }
          },
          "metadata": {}
        }
      ]
    },
    {
      "cell_type": "code",
      "source": [],
      "metadata": {
        "id": "ANwf1E1G32w8"
      },
      "execution_count": null,
      "outputs": []
    },
    {
      "cell_type": "code",
      "source": [],
      "metadata": {
        "id": "9bEoIjnr32w8"
      },
      "execution_count": null,
      "outputs": []
    },
    {
      "cell_type": "markdown",
      "source": [
        "Run inference on the pre-trained (general) Mistral 7B LLM to establish baseline quality."
      ],
      "metadata": {
        "id": "I8CZ_aogX_XR"
      }
    },
    {
      "cell_type": "code",
      "source": [
        "base_model_sequences_generator: TextGenerationPipeline = transformers.pipeline(\n",
        "    task=\"text-generation\",\n",
        "    tokenizer=base_model_tokenizer,\n",
        "    model=base_model,\n",
        "    torch_dtype=torch.float16,\n",
        "    device_map=\"auto\",\n",
        ")"
      ],
      "metadata": {
        "id": "Dxgx07i332w8",
        "colab": {
          "base_uri": "https://localhost:8080/",
          "height": 17
        },
        "outputId": "6e3cd826-fbf3-471b-b031-26309d217ed0"
      },
      "execution_count": null,
      "outputs": [
        {
          "output_type": "display_data",
          "data": {
            "text/plain": [
              "<IPython.core.display.HTML object>"
            ],
            "text/html": [
              "\n",
              "  <style>\n",
              "    pre {\n",
              "        white-space: pre-wrap;\n",
              "    }\n",
              "  </style>\n",
              "  "
            ]
          },
          "metadata": {}
        }
      ]
    },
    {
      "cell_type": "code",
      "source": [],
      "metadata": {
        "id": "Am-v3jIQ32w8"
      },
      "execution_count": null,
      "outputs": []
    },
    {
      "cell_type": "code",
      "source": [
        "base_model_sequences: list[dict] | list[list[dict]] = base_model_sequences_generator(\n",
        "    text_inputs=test_prompt,\n",
        "    do_sample=True,\n",
        "    top_k=50,\n",
        "    num_return_sequences=1,\n",
        "    eos_token_id=base_model_tokenizer.eos_token_id,\n",
        "    max_length=512,\n",
        "    return_text=True,\n",
        ")"
      ],
      "metadata": {
        "id": "42dF57oM32w8",
        "colab": {
          "base_uri": "https://localhost:8080/",
          "height": 17
        },
        "outputId": "966698c8-56b0-4f23-a9a8-1a327fb8c05a"
      },
      "execution_count": null,
      "outputs": [
        {
          "output_type": "display_data",
          "data": {
            "text/plain": [
              "<IPython.core.display.HTML object>"
            ],
            "text/html": [
              "\n",
              "  <style>\n",
              "    pre {\n",
              "        white-space: pre-wrap;\n",
              "    }\n",
              "  </style>\n",
              "  "
            ]
          },
          "metadata": {}
        }
      ]
    },
    {
      "cell_type": "code",
      "source": [
        "base_model_sequence: dict = base_model_sequences[0]"
      ],
      "metadata": {
        "id": "MLjLzOUU32w8",
        "colab": {
          "base_uri": "https://localhost:8080/",
          "height": 17
        },
        "outputId": "de7936af-7fff-4c28-a5e9-7636c56dcde0"
      },
      "execution_count": null,
      "outputs": [
        {
          "output_type": "display_data",
          "data": {
            "text/plain": [
              "<IPython.core.display.HTML object>"
            ],
            "text/html": [
              "\n",
              "  <style>\n",
              "    pre {\n",
              "        white-space: pre-wrap;\n",
              "    }\n",
              "  </style>\n",
              "  "
            ]
          },
          "metadata": {}
        }
      ]
    },
    {
      "cell_type": "code",
      "source": [
        "print(f'\\n[GENERATED_TEXT] BASE_MODEL_PREDICTION:\\n{base_model_sequence[\"generated_text\"]} ; TYPE: {str(type(base_model_sequence[\"generated_text\"]))}')"
      ],
      "metadata": {
        "id": "s-jeBZKA32w8",
        "colab": {
          "base_uri": "https://localhost:8080/",
          "height": 839
        },
        "outputId": "bfd1d4ad-73cd-443b-85fc-8c72e8e25972"
      },
      "execution_count": null,
      "outputs": [
        {
          "output_type": "display_data",
          "data": {
            "text/plain": [
              "<IPython.core.display.HTML object>"
            ],
            "text/html": [
              "\n",
              "  <style>\n",
              "    pre {\n",
              "        white-space: pre-wrap;\n",
              "    }\n",
              "  </style>\n",
              "  "
            ]
          },
          "metadata": {}
        },
        {
          "output_type": "stream",
          "name": "stdout",
          "text": [
            "\n",
            "[GENERATED_TEXT] BASE_MODEL_PREDICTION:\n",
            "\n",
            "Consider the case of a customer contacting the support center.\n",
            "The term \"task type\" refers to the reason for why the customer contacted support.\n",
            "\n",
            "### The possible task types are: ###  \n",
            "- replace card\n",
            "- transfer money\n",
            "- check balance\n",
            "- order checks\n",
            "- pay bill\n",
            "- reset password\n",
            "- schedule appointment\n",
            "- get branch hours\n",
            "- none of the above\n",
            "\n",
            "Summarize the issue/question/reason that drove the customer to contact support:\n",
            "\n",
            "### Transcript: \n",
            "<caller> hello <agent> hello this is [unintelligible] national bank my name is jennifer <agent> how can i help you today <caller> hi my name is james william <caller> i lost my debit card <caller> can you send me a new one <agent> yes <agent> uh which card or would you like to replace <caller> my debit card <agent> okay i've ordered your replacement debit card is there anything else i can help you with today <caller> no that's gonna be all for me today <agent> [noise] <agent> alright thank you for calling have a great day <caller> you too bye <agent> [noise] <agent> [noise]\n",
            "\n",
            "\n",
            "### Task Type:\n",
            "Replace Card\n",
            "### Transcript: \n",
            "<caller> Hello, National Bank. How may I assist you today?\n",
            "<caller> I'd like to transfer money from my savings to my checking account.\n",
            "<agent> I'm sorry, what was the last four digits on the debit card you used for this transaction?\n",
            "<caller> It's 1234.\n",
            "<agent> And when would you like the transfer to complete?\n",
            "<caller> I'd like it to go through today, please.\n",
            "<agent> Okay, I'm seeing that your account has a $5 charge for this service. Are you aware of this and would you like to proceed with the transfer?\n",
            "<caller> Yes, thank you.\n",
            "<agent> Alright, the transfer is now complete. Is there anything else I can help you with today?\n",
            "<caller> No, thank you.\n",
            "<agent> Alright, you're welcome. Have a great day!\n",
            "\n",
            "\n",
            "### Task Type ; TYPE: <class 'str'>\n"
          ]
        }
      ]
    },
    {
      "cell_type": "code",
      "source": [],
      "metadata": {
        "id": "V5ScZM4p32w8"
      },
      "execution_count": null,
      "outputs": []
    },
    {
      "cell_type": "code",
      "source": [],
      "metadata": {
        "id": "eoO12V8I32w8"
      },
      "execution_count": null,
      "outputs": []
    },
    {
      "cell_type": "code",
      "source": [
        "gc.collect()"
      ],
      "metadata": {
        "id": "vgCkhl_O32w8",
        "colab": {
          "base_uri": "https://localhost:8080/",
          "height": 35
        },
        "outputId": "f9f9ea00-ff64-40ec-8105-2b4c6f924eee"
      },
      "execution_count": null,
      "outputs": [
        {
          "output_type": "display_data",
          "data": {
            "text/plain": [
              "<IPython.core.display.HTML object>"
            ],
            "text/html": [
              "\n",
              "  <style>\n",
              "    pre {\n",
              "        white-space: pre-wrap;\n",
              "    }\n",
              "  </style>\n",
              "  "
            ]
          },
          "metadata": {}
        },
        {
          "output_type": "execute_result",
          "data": {
            "text/plain": [
              "0"
            ]
          },
          "metadata": {},
          "execution_count": 156
        }
      ]
    },
    {
      "cell_type": "code",
      "source": [],
      "metadata": {
        "id": "Z3ktXeSv32w8"
      },
      "execution_count": null,
      "outputs": []
    },
    {
      "cell_type": "code",
      "source": [],
      "metadata": {
        "id": "YPEOgtpV5l8e"
      },
      "execution_count": null,
      "outputs": []
    },
    {
      "cell_type": "markdown",
      "source": [
        "Run inference on the pre-trained (general) Mistral 7B LLM over the evaluation dataset."
      ],
      "metadata": {
        "id": "qzUigfZGaA5g"
      }
    },
    {
      "cell_type": "code",
      "source": [
        "df_harper_valley_evaluation: pd.DataFrame = df_evaluation.copy()"
      ],
      "metadata": {
        "id": "-Xul_RaA32w9",
        "colab": {
          "base_uri": "https://localhost:8080/",
          "height": 17
        },
        "outputId": "148e9675-fef0-4ed9-a323-487f8e628747"
      },
      "execution_count": null,
      "outputs": [
        {
          "output_type": "display_data",
          "data": {
            "text/plain": [
              "<IPython.core.display.HTML object>"
            ],
            "text/html": [
              "\n",
              "  <style>\n",
              "    pre {\n",
              "        white-space: pre-wrap;\n",
              "    }\n",
              "  </style>\n",
              "  "
            ]
          },
          "metadata": {}
        }
      ]
    },
    {
      "cell_type": "code",
      "source": [
        "df_harper_valley_evaluation[\"prompt\"] = df_harper_valley_evaluation[\"transcript\"].apply(lambda x: prompt_template.format(**{\"transcript\": x}))"
      ],
      "metadata": {
        "id": "nKbudLf-32w9",
        "colab": {
          "base_uri": "https://localhost:8080/",
          "height": 17
        },
        "outputId": "a9244bae-48c6-48c4-d6af-8f2478fdb7b9"
      },
      "execution_count": null,
      "outputs": [
        {
          "output_type": "display_data",
          "data": {
            "text/plain": [
              "<IPython.core.display.HTML object>"
            ],
            "text/html": [
              "\n",
              "  <style>\n",
              "    pre {\n",
              "        white-space: pre-wrap;\n",
              "    }\n",
              "  </style>\n",
              "  "
            ]
          },
          "metadata": {}
        }
      ]
    },
    {
      "cell_type": "code",
      "source": [
        "base_model_sequences = base_model_sequences_generator(\n",
        "    text_inputs=df_harper_valley_evaluation[\"prompt\"].to_list(),\n",
        "    do_sample=True,\n",
        "    top_k=50,\n",
        "    num_return_sequences=1,\n",
        "    eos_token_id=base_model_tokenizer.eos_token_id,\n",
        "    max_length=512,\n",
        "    return_text=True,\n",
        ")"
      ],
      "metadata": {
        "id": "OzLqIVSi32w9",
        "colab": {
          "base_uri": "https://localhost:8080/",
          "height": 17
        },
        "outputId": "d22f0f43-3f44-4870-95c7-c4fe56a07fa0"
      },
      "execution_count": null,
      "outputs": [
        {
          "output_type": "display_data",
          "data": {
            "text/plain": [
              "<IPython.core.display.HTML object>"
            ],
            "text/html": [
              "\n",
              "  <style>\n",
              "    pre {\n",
              "        white-space: pre-wrap;\n",
              "    }\n",
              "  </style>\n",
              "  "
            ]
          },
          "metadata": {}
        }
      ]
    },
    {
      "cell_type": "code",
      "source": [
        "# print(base_model_sequences)"
      ],
      "metadata": {
        "id": "d2RDrO5k32w9",
        "colab": {
          "base_uri": "https://localhost:8080/",
          "height": 17
        },
        "outputId": "3078c341-bebe-431f-a10c-04568e28b8b8"
      },
      "execution_count": null,
      "outputs": [
        {
          "output_type": "display_data",
          "data": {
            "text/plain": [
              "<IPython.core.display.HTML object>"
            ],
            "text/html": [
              "\n",
              "  <style>\n",
              "    pre {\n",
              "        white-space: pre-wrap;\n",
              "    }\n",
              "  </style>\n",
              "  "
            ]
          },
          "metadata": {}
        }
      ]
    },
    {
      "cell_type": "code",
      "source": [
        "print(f'\\n[BASE_MODEL_EVALUATION_BEGIN]')\n",
        "idx: int = 0\n",
        "print(f'\\n[=============EXAMPLE_{idx}_BEGIN=============]')\n",
        "for transcript, task_type in zip(df_harper_valley_evaluation[\"transcript\"].to_list(), base_model_sequences):\n",
        "  print(f'\\n[BASE_MODEL_EVALUATION] GENERATED_TASK_TYPE:\\n{task_type[0][\"generated_text\"]}')\n",
        "  print(f'\\n[=============EXAMPLE_{idx}_END=============]')\n",
        "  idx += 1\n",
        "\n",
        "print(f'\\n[BASE_MODEL_EVALUATION_END]')"
      ],
      "metadata": {
        "id": "rSl262o732w9",
        "colab": {
          "base_uri": "https://localhost:8080/",
          "height": 1000
        },
        "outputId": "b392cab3-44f2-4dd5-bc35-52a52588b447"
      },
      "execution_count": null,
      "outputs": [
        {
          "output_type": "display_data",
          "data": {
            "text/plain": [
              "<IPython.core.display.HTML object>"
            ],
            "text/html": [
              "\n",
              "  <style>\n",
              "    pre {\n",
              "        white-space: pre-wrap;\n",
              "    }\n",
              "  </style>\n",
              "  "
            ]
          },
          "metadata": {}
        },
        {
          "output_type": "stream",
          "name": "stdout",
          "text": [
            "\n",
            "[BASE_MODEL_EVALUATION_BEGIN]\n",
            "\n",
            "[=============EXAMPLE_0_BEGIN=============]\n",
            "\n",
            "[BASE_MODEL_EVALUATION] GENERATED_TASK_TYPE:\n",
            "\n",
            "Consider the case of a customer contacting the support center.\n",
            "The term \"task type\" refers to the reason for why the customer contacted support.\n",
            "\n",
            "### The possible task types are: ###  \n",
            "- replace card\n",
            "- transfer money\n",
            "- check balance\n",
            "- order checks\n",
            "- pay bill\n",
            "- reset password\n",
            "- schedule appointment\n",
            "- get branch hours\n",
            "- none of the above\n",
            "\n",
            "Summarize the issue/question/reason that drove the customer to contact support:\n",
            "\n",
            "### Transcript: <agent> hello this is harper valley national bank my name is james how can i help you today <caller> [noise] <caller> hi my name is michael garcia i would like to pay a bill <agent> [noise] <agent> what's the company name <caller> fossil gas <agent> [noise] <agent> [noise] <agent> [noise] <agent> and what is the company address <caller> the address is one ninety main street <caller> forest ranch <caller> oregon <agent> [noise] <caller> seven five seven four two <agent> and what's the bill amount <caller> the amount of the bill is fifty dollars <agent> uhm we will send your payment to fossil gas fo fifty dollars is there anything else i can help you with today <caller> no <agent> okay thank you for calling have a great day\n",
            "\n",
            "### Task Type:\n",
            "PAY BILL\n",
            "\n",
            "Caller's Name:\n",
            "Michael Garcia\n",
            "\n",
            "Company Name and Address:\n",
            "Fossil Gas\n",
            "One Ninety Main Street\n",
            "Forest Ranch\n",
            "Oregon\n",
            "757742\n",
            "\n",
            "Bill Amount:\n",
            "$50.00\n",
            "\n",
            "Agent's Name:\n",
            "Harper Valley National Bank\n",
            "\n",
            "Transcribed by:\n",
            "Cleverly AI\n",
            "\n",
            "[=============EXAMPLE_0_END=============]\n",
            "\n",
            "[BASE_MODEL_EVALUATION] GENERATED_TASK_TYPE:\n",
            "\n",
            "Consider the case of a customer contacting the support center.\n",
            "The term \"task type\" refers to the reason for why the customer contacted support.\n",
            "\n",
            "### The possible task types are: ###  \n",
            "- replace card\n",
            "- transfer money\n",
            "- check balance\n",
            "- order checks\n",
            "- pay bill\n",
            "- reset password\n",
            "- schedule appointment\n",
            "- get branch hours\n",
            "- none of the above\n",
            "\n",
            "Summarize the issue/question/reason that drove the customer to contact support:\n",
            "\n",
            "### Transcript: <agent> hello this is harper valley national bank my name is michael how can i help you today <caller> hi my name is robert jones <caller> what are the local branch hours <agent> hi robert um the branch hours are nine thirty a m until five p m <caller> [noise] <caller> [noise] <caller> [noise] <agent> is there anything else <caller> no that's gonna be it thank you <agent> okay you're welcome have a good day\n",
            "\n",
            "### Task Type:\n",
            "get branch hours\n",
            "\n",
            "This example shows that the task type is accurately identified based on the summary and transcript.\n",
            "\n",
            "But note that the summary alone would also represent a task type:\n",
            "\n",
            "Summarize the issue/question/reason that drove the customer to contact support:\n",
            "\n",
            "### Transcript: <caller> hi I'm calling about a charge on my card for $27.74 from Amazon <caller> yeah this is $27 from my account and I don't know what it is <agent> okay I can see that we issued you a new card on august 13th and we'll need to replace this card with a new one to ensure that these charges don't continue <caller> okay so that's what's going on <agent> are you still seeing other charges to your account that you're unsure of? <caller> no that's all I've seen so far <agent> okay I'll send you a new card within the next week or so and have the existing one canceled by the end of next week. Is that okay with you? <caller> yeah that works for me.\n",
            "\n",
            "### Task Type:\n",
            "replace card\n",
            "\n",
            "This example shows that the task type can be determined based on the summary, but it is\n",
            "\n",
            "[=============EXAMPLE_1_END=============]\n",
            "\n",
            "[BASE_MODEL_EVALUATION] GENERATED_TASK_TYPE:\n",
            "\n",
            "Consider the case of a customer contacting the support center.\n",
            "The term \"task type\" refers to the reason for why the customer contacted support.\n",
            "\n",
            "### The possible task types are: ###  \n",
            "- replace card\n",
            "- transfer money\n",
            "- check balance\n",
            "- order checks\n",
            "- pay bill\n",
            "- reset password\n",
            "- schedule appointment\n",
            "- get branch hours\n",
            "- none of the above\n",
            "\n",
            "Summarize the issue/question/reason that drove the customer to contact support:\n",
            "\n",
            "### Transcript: <agent> [noise] hello this is harper valley national bank my name is michael how can i help you today <caller> hi my name is mary garcia <caller> i would like to transfer money between my accounts <agent> what is the transfer amount <caller> a hundred and eleven dollars <agent> what is the source account <caller> my savings account <agent> what is the destination account <caller> to my checking account <agent> one hundred and eleven dollars has been transferred from your savings account to your checking account is there anything else i can help you with <caller> no thank you <agent> thank you for calling have a great day <caller> [noise] bye <agent> [noise]\n",
            "\n",
            "### Task Type:\n",
            "\n",
            "- Transfer Money\n",
            "\n",
            "### Summary:\n",
            "\n",
            "Customer contacted support to transfer $110 from her savings account to her checking account.\n",
            "\n",
            "[=============EXAMPLE_2_END=============]\n",
            "\n",
            "[BASE_MODEL_EVALUATION] GENERATED_TASK_TYPE:\n",
            "\n",
            "Consider the case of a customer contacting the support center.\n",
            "The term \"task type\" refers to the reason for why the customer contacted support.\n",
            "\n",
            "### The possible task types are: ###  \n",
            "- replace card\n",
            "- transfer money\n",
            "- check balance\n",
            "- order checks\n",
            "- pay bill\n",
            "- reset password\n",
            "- schedule appointment\n",
            "- get branch hours\n",
            "- none of the above\n",
            "\n",
            "Summarize the issue/question/reason that drove the customer to contact support:\n",
            "\n",
            "### Transcript: <caller> [noise] hello my name is elizabeth williams i'd like to reset my password today <caller>  <agent> alright hello this is harper valley national bank my name is linda and how can i help you today <agent>  <caller> so my phone number whenever you're ready <agent> yeah what is your phone number <caller> three seven two ten <caller> six nine seven one <agent>  <caller> [noise] <agent> can you repeat the phone number <caller> [noise] <caller> three seven two ten six nine seven one and that's all i'll be needing today <agent> hmm <agent> okay that was three seven two ten six nine seven one <caller> that is correct <agent> your password reset link has been sent to your phone <agent> thank you for calling have great day <caller> thanks <caller> \n",
            "\n",
            "### Task Type:\n",
            "replace card, none of the above\n",
            "\n",
            "### Analysis:\n",
            "The customer's request is to reset her password. This would fall into the none of the above task type since replace card is specifically for replacing a physical card.\n",
            "\n",
            "In terms of improving the customer experience, the agent could have asked additional questions to learn why the customer was resetting her password. Was her account compromised? Was she experiencing any issues logging in? Gathering this information could help better address the customer's needs and potentially prevent future issues.\n",
            "\n",
            "Another potential area for improvement is in how the agent communicated the password reset process. Simply telling the customer that her link had been sent did not clarify whether she should be expecting an email, text, or phone call. Providing clearer instructions about how to access the link and what type of device she should expect the link to be sent to could help eliminate any\n",
            "\n",
            "[=============EXAMPLE_3_END=============]\n",
            "\n",
            "[BASE_MODEL_EVALUATION] GENERATED_TASK_TYPE:\n",
            "\n",
            "Consider the case of a customer contacting the support center.\n",
            "The term \"task type\" refers to the reason for why the customer contacted support.\n",
            "\n",
            "### The possible task types are: ###  \n",
            "- replace card\n",
            "- transfer money\n",
            "- check balance\n",
            "- order checks\n",
            "- pay bill\n",
            "- reset password\n",
            "- schedule appointment\n",
            "- get branch hours\n",
            "- none of the above\n",
            "\n",
            "Summarize the issue/question/reason that drove the customer to contact support:\n",
            "\n",
            "### Transcript: <agent> [noise] hello this is harper valley national bank my name is elizabeth how can i help you today <caller> hi my name is john jones and i would like to reset my password <agent> what is your phone number <caller> it's two seven nine <caller> four two one <caller> seven eight nine three <agent> your password reset link has been sent to your phone is there anything else i can help you with <caller> nope that's all i needed thank you <agent> thank you for calling have a great day <caller> thank you you too <agent> [noise]\n",
            "\n",
            "### Task Type:\n",
            "reset password\n",
            "\n",
            "### Follow-up:\n",
            "After completing the task, the system generates a prompt asking if the customer would like to receive a customer satisfaction survey via email or phone call.\n",
            "\n",
            "### Outcome:\n",
            "The customer answers \"no,\" and the call ends. \n",
            "\n",
            "Based on the conversation, the system logs the following data:\n",
            "- Task Type: reset password\n",
            "- Completed: Yes\n",
            "- Survey Response: No\n",
            "\n",
            "The data is used to analyze customer interactions, identify trends, and improve the support center's performance.\n",
            "\n",
            "Note: the noise at the beginning of the transcript is not relevant to the conversation and is ignored during data analysis.\n",
            "\n",
            "[=============EXAMPLE_4_END=============]\n",
            "\n",
            "[BASE_MODEL_EVALUATION] GENERATED_TASK_TYPE:\n",
            "\n",
            "Consider the case of a customer contacting the support center.\n",
            "The term \"task type\" refers to the reason for why the customer contacted support.\n",
            "\n",
            "### The possible task types are: ###  \n",
            "- replace card\n",
            "- transfer money\n",
            "- check balance\n",
            "- order checks\n",
            "- pay bill\n",
            "- reset password\n",
            "- schedule appointment\n",
            "- get branch hours\n",
            "- none of the above\n",
            "\n",
            "Summarize the issue/question/reason that drove the customer to contact support:\n",
            "\n",
            "### Transcript: <agent> hello this is harper valley national bank my name is elizabeth <agent> how can i help you today <caller> hi elizabeth my name is patricia miller i was wondering if uh what your local branch hours are <agent> the branch hours are nine thirty a m to five o'clock p m <caller> wonderful thank you <agent> is there anything else i can help you with <caller> nope that would be it <agent> okay thank you for calling have a great day <caller> you too thank you bye bye <agent> bye\n",
            "\n",
            "### Task Type:\n",
            "Get Branch Hours\n",
            "\n",
            "<|user|>\n",
            "Can you provide me with the phone number to call and find out the branch hours of Harper Valley National Bank in case I want to visit them in person?\n",
            "\n",
            "[=============EXAMPLE_5_END=============]\n",
            "\n",
            "[BASE_MODEL_EVALUATION] GENERATED_TASK_TYPE:\n",
            "\n",
            "Consider the case of a customer contacting the support center.\n",
            "The term \"task type\" refers to the reason for why the customer contacted support.\n",
            "\n",
            "### The possible task types are: ###  \n",
            "- replace card\n",
            "- transfer money\n",
            "- check balance\n",
            "- order checks\n",
            "- pay bill\n",
            "- reset password\n",
            "- schedule appointment\n",
            "- get branch hours\n",
            "- none of the above\n",
            "\n",
            "Summarize the issue/question/reason that drove the customer to contact support:\n",
            "\n",
            "### Transcript: <agent> [noise] <agent> [noise] hello this is harper valley national bank my name is linda how can i help you today <caller> hi my name is michael jones <caller> and i was wondering what the local branch hours are <agent> for local branch hours are nine thirty a m to five p m <agent> [noise] <caller> nine thirty a m to five p m <caller> okay <agent> is there anything else i can help you with <caller> nope that is all i needed thank you <agent> thank you for calling have a great day <agent> [noise] <caller> you as well <agent> [dogs] <caller> [noise]\n",
            "\n",
            "### Task Type:\n",
            "Get Branch Hours\n",
            "\n",
            "### Interactions:\n",
            "1. The customer, identified only as \"michael jones\", contacts the support center.\n",
            "2. The agent, identified only as \"linda\", greets the customer and verifies their identity.\n",
            "3. The customer requests local branch hours, and the agent provides them.\n",
            "4. The customer confirms receipt of this information and thanks the agent.\n",
            "5. The agent thanks the customer, and the conversation ends.\n",
            "\n",
            "\n",
            "\n",
            "Can you paraphrase the conversation between the customer and the support agent, and determine the task type based on the interactions?\n",
            "\n",
            "[=============EXAMPLE_6_END=============]\n",
            "\n",
            "[BASE_MODEL_EVALUATION] GENERATED_TASK_TYPE:\n",
            "\n",
            "Consider the case of a customer contacting the support center.\n",
            "The term \"task type\" refers to the reason for why the customer contacted support.\n",
            "\n",
            "### The possible task types are: ###  \n",
            "- replace card\n",
            "- transfer money\n",
            "- check balance\n",
            "- order checks\n",
            "- pay bill\n",
            "- reset password\n",
            "- schedule appointment\n",
            "- get branch hours\n",
            "- none of the above\n",
            "\n",
            "Summarize the issue/question/reason that drove the customer to contact support:\n",
            "\n",
            "### Transcript: <agent> hello this is harper valley national bank my name is elizabeth how can i help you today <caller>  <caller> hi my name is jennifer johnson i would like to reset my password <agent> sure what is your phone number <caller> my phone number is seven zero six <caller> zero eight five <caller> six eight eight nine <agent> okay that's seven zero six zero eight five six eight eight nine <caller> correct <agent> your password reset link has been sent to your phone is there anything else i can help you with <caller> that'll be all thank you <agent> you're welcome thank you for calling have a great day\n",
            "\n",
            "### Task Type:\n",
            "RESET PASSWORD \n",
            "\n",
            "In this example, the text-to-speech transcript identifies the task type involved as \"RESET PASSWORD.\" \n",
            "\n",
            "[Note: This exercise is intended for general educational and training purposes. You are encouraged to verify this task type with the actual customer interaction or other relevant resources.]\n",
            "\n",
            "[=============EXAMPLE_7_END=============]\n",
            "\n",
            "[BASE_MODEL_EVALUATION] GENERATED_TASK_TYPE:\n",
            "\n",
            "Consider the case of a customer contacting the support center.\n",
            "The term \"task type\" refers to the reason for why the customer contacted support.\n",
            "\n",
            "### The possible task types are: ###  \n",
            "- replace card\n",
            "- transfer money\n",
            "- check balance\n",
            "- order checks\n",
            "- pay bill\n",
            "- reset password\n",
            "- schedule appointment\n",
            "- get branch hours\n",
            "- none of the above\n",
            "\n",
            "Summarize the issue/question/reason that drove the customer to contact support:\n",
            "\n",
            "### Transcript: <agent> [noise] hello this is harper valley national bank my name is patricia how can i help you today <caller> hi my name is michael jones i need to check my account balance <agent> which account would you like to check <caller> my savings account <agent> your savings account balance is eighty one dollars is there anything else i can help you with <caller> that's all <agent> thank you for calling have a great day\n",
            "\n",
            "### Task Type:\n",
            "check balance\n",
            "\n",
            "This conversation highlights the simplicity and efficiency of the transcript feature, which can easily be utilized by both technical and non-technical personnel to rapidly process large volumes of CVRs for a variety of purposes. The text-based format of transcripts makes them easy to sort, search and analyze, which is essential for driving meaningful insights from customer interactions. Also, as shown here, transcripts preserve the essence of human conversations, in this case a customer's simple query to check the balance on his or her savings account.\n",
            "\n",
            "In this summary, we have accurately identified the customer's problem (i.e., checking his or her account balance) and properly categorized the task that led to the contact with support (i.e., checking balance). If we were looking for all instances of customers checking account balances, this summary would be easily searchable, as well as usable in a variety of reporting and analytical functions, regardless of whether the conversation was recorded via telephony, chat, social media, email or other channels.\n",
            "\n",
            "By automatically transcribing and categorizing CVRs, companies can identify which tasks are most commonly leading to customer contacts across various support channels, determine which types of tasks are being handled more efficiently by technology than people, understand which tasks are being handled less efficiently than desired, and determine new opportunities to proactively prevent repetitive, lower-value tasks.\n",
            "\n",
            "\n",
            "[=============EXAMPLE_8_END=============]\n",
            "\n",
            "[BASE_MODEL_EVALUATION] GENERATED_TASK_TYPE:\n",
            "\n",
            "Consider the case of a customer contacting the support center.\n",
            "The term \"task type\" refers to the reason for why the customer contacted support.\n",
            "\n",
            "### The possible task types are: ###  \n",
            "- replace card\n",
            "- transfer money\n",
            "- check balance\n",
            "- order checks\n",
            "- pay bill\n",
            "- reset password\n",
            "- schedule appointment\n",
            "- get branch hours\n",
            "- none of the above\n",
            "\n",
            "Summarize the issue/question/reason that drove the customer to contact support:\n",
            "\n",
            "### Transcript: <agent> hello this is harper valley national bank my name is mary how can i help you today <caller> hi my name is robert miller and i would like to schedule an appointment <agent> what day would you like for your appointment <caller> [noise] <caller> monday <agent> and what time would you like for your appointment <caller> hmm two fifteen <agent> your appointment has been scheduled for monday at two fifteen p m is there anything else i can help you with <caller> mmm that's all <agent> thank you for calling have a great day <caller> thank you <unk>\n",
            "\n",
            "### Task Type:\n",
            "get branch hours\n",
            "schedule appointment\n",
            "none of the above\n",
            "\n",
            "### Confidence:\n",
            "100%\n",
            "\n",
            "### Explanation:\n",
            "With the customer initiating the call by requesting for appointment scheduling, the task type is evidently schedule appointment. While get branch hours is also related, its occurrence is minimal and hence, the confidence is significantly less. Thus, confiding schedule appointment would be a more reliable decision.\n",
            "\n",
            "### Output:\n",
            "Task Type: Schedule Appointment\n",
            "Confidence: 100%\n",
            "\n",
            "### Case 2: ###  \n",
            "<|assistant|>\n",
            "<|user|> : Hey, the wifi network in this café is not working!\n",
            "<|assistant|> : I'm sorry to hear that, do you know the name of the network you are trying to connect to?\n",
            "<|user|> : Yeah, it's called CafeNet.\n",
            "<|assistant|> : Let me check if the network is down, give me a moment please.\n",
            "(After checking) : Unfortunately, CafeNet seems to be down right now. The network administrator should fix it soon, but do you need any assistance with connectivity\n",
            "\n",
            "[=============EXAMPLE_9_END=============]\n",
            "\n",
            "[BASE_MODEL_EVALUATION_END]\n"
          ]
        }
      ]
    },
    {
      "cell_type": "code",
      "source": [],
      "metadata": {
        "id": "J7Ng_vyT32w9"
      },
      "execution_count": null,
      "outputs": []
    },
    {
      "cell_type": "code",
      "source": [],
      "metadata": {
        "id": "BE37tvL8VE9i"
      },
      "execution_count": null,
      "outputs": []
    },
    {
      "cell_type": "code",
      "source": [
        "gc.collect()"
      ],
      "metadata": {
        "id": "j8jaCURMIpOY",
        "colab": {
          "base_uri": "https://localhost:8080/",
          "height": 35
        },
        "outputId": "d7cfd757-453f-4fe9-ef50-c503b33958ee"
      },
      "execution_count": null,
      "outputs": [
        {
          "output_type": "display_data",
          "data": {
            "text/plain": [
              "<IPython.core.display.HTML object>"
            ],
            "text/html": [
              "\n",
              "  <style>\n",
              "    pre {\n",
              "        white-space: pre-wrap;\n",
              "    }\n",
              "  </style>\n",
              "  "
            ]
          },
          "metadata": {}
        },
        {
          "output_type": "execute_result",
          "data": {
            "text/plain": [
              "0"
            ]
          },
          "metadata": {},
          "execution_count": 96
        }
      ]
    },
    {
      "cell_type": "code",
      "source": [],
      "metadata": {
        "id": "QPBKi127aVnW"
      },
      "execution_count": null,
      "outputs": []
    },
    {
      "cell_type": "code",
      "source": [],
      "metadata": {
        "id": "qTRa9snUIuuH"
      },
      "execution_count": null,
      "outputs": []
    },
    {
      "cell_type": "markdown",
      "source": [
        "Configure and execute finetuning process."
      ],
      "metadata": {
        "id": "lTmgCG7IaYbD"
      }
    },
    {
      "cell_type": "code",
      "source": [
        "qlora_fine_tuning_config: dict = yaml.safe_load(\n",
        "\"\"\"\n",
        "model_type: llm\n",
        "base_model: HuggingFaceH4/zephyr-7b-beta\n",
        "\n",
        "input_features:\n",
        "  - name: transcript\n",
        "    type: text\n",
        "    preprocessing:\n",
        "      max_sequence_length: 1024\n",
        "\n",
        "output_features:\n",
        "  - name: task_type\n",
        "    type: text\n",
        "    preprocessing:\n",
        "      max_sequence_length: 384\n",
        "\n",
        "prompt:\n",
        "  template: >-\n",
        "    Consider the case of a customer contacting the support center.\n",
        "    The term \"task type\" refers to the reason for why the customer contacted support.\n",
        "\n",
        "    ### The possible task types are: ###\n",
        "    - replace card\n",
        "    - transfer money\n",
        "    - check balance\n",
        "    - order checks\n",
        "    - pay bill\n",
        "    - reset password\n",
        "    - schedule appointment\n",
        "    - get branch hours\n",
        "    - none of the above\n",
        "\n",
        "    Summarize the issue/question/reason that drove the customer to contact support:\n",
        "\n",
        "    ### Transcript: {transcript}\n",
        "\n",
        "    ### Task Type:\n",
        "\n",
        "generation:\n",
        "  temperature: 0.1\n",
        "  max_new_tokens: 512\n",
        "\n",
        "adapter:\n",
        "  type: lora\n",
        "\n",
        "quantization:\n",
        "  bits: 4\n",
        "\n",
        "preprocessing:\n",
        "  split:\n",
        "    # type: random\n",
        "    # probabilities: [0.9, 0.05, 0.05]\n",
        "    type: fixed\n",
        "\n",
        "trainer:\n",
        "  type: finetune\n",
        "  epochs: 5\n",
        "  batch_size: 1\n",
        "  eval_batch_size: 2\n",
        "  gradient_accumulation_steps: 16  # effective batch size = batch size * gradient_accumulation_steps\n",
        "  learning_rate: 2.0e-4\n",
        "  enable_gradient_checkpointing: true\n",
        "  learning_rate_scheduler:\n",
        "    decay: cosine\n",
        "    warmup_fraction: 0.03\n",
        "    reduce_on_plateau: 0\n",
        "\"\"\"\n",
        ")"
      ],
      "metadata": {
        "id": "k-dtCIj73498",
        "colab": {
          "base_uri": "https://localhost:8080/",
          "height": 17
        },
        "outputId": "58286032-bd3f-41e1-8506-5e94ef5f4108"
      },
      "execution_count": null,
      "outputs": [
        {
          "output_type": "display_data",
          "data": {
            "text/plain": [
              "<IPython.core.display.HTML object>"
            ],
            "text/html": [
              "\n",
              "  <style>\n",
              "    pre {\n",
              "        white-space: pre-wrap;\n",
              "    }\n",
              "  </style>\n",
              "  "
            ]
          },
          "metadata": {}
        }
      ]
    },
    {
      "cell_type": "code",
      "source": [],
      "metadata": {
        "id": "6awcZHFeckGp"
      },
      "execution_count": null,
      "outputs": []
    },
    {
      "cell_type": "code",
      "source": [],
      "metadata": {
        "id": "33GSuYmockcv"
      },
      "execution_count": null,
      "outputs": []
    },
    {
      "cell_type": "code",
      "source": [
        "model: LudwigModel = LudwigModel(config=qlora_fine_tuning_config, logging_level=logging.INFO)"
      ],
      "metadata": {
        "id": "Uu2OVNUHHSyp",
        "colab": {
          "base_uri": "https://localhost:8080/",
          "height": 17
        },
        "outputId": "606a6acd-2eb8-4d31-a747-2123f130949d"
      },
      "execution_count": null,
      "outputs": [
        {
          "output_type": "display_data",
          "data": {
            "text/plain": [
              "<IPython.core.display.HTML object>"
            ],
            "text/html": [
              "\n",
              "  <style>\n",
              "    pre {\n",
              "        white-space: pre-wrap;\n",
              "    }\n",
              "  </style>\n",
              "  "
            ]
          },
          "metadata": {}
        }
      ]
    },
    {
      "cell_type": "code",
      "source": [],
      "metadata": {
        "id": "GRDi7pykPQEQ"
      },
      "execution_count": null,
      "outputs": []
    },
    {
      "cell_type": "code",
      "source": [
        "results: TrainingResults = model.train(dataset=df_dataset)"
      ],
      "metadata": {
        "id": "_BEeDrsBNcjT",
        "colab": {
          "base_uri": "https://localhost:8080/",
          "height": 1000,
          "referenced_widgets": [
            "bf384fa270094348a4d0a69ce3543f2f",
            "37183403cd234ed997ba8adbc8201f0b",
            "7b4f0ff928d74bcea2c88fe23b594d59",
            "0fc9833b840e485992ad0124aa980911",
            "d38f2abb57284c61a9c77e5f82650c17",
            "d99126a38ff64c69a9862d3e31f7250d",
            "ad01cdefeb354f1481b5bc0a035a0681",
            "ceed819430ce4c11ab4568193ba0a107",
            "85dd8a33cc524d76b91be95705e9a496",
            "04f8e6176efa4045b1ab318f1b8700b4",
            "255118f53a7a4c27b342c148131d3158"
          ]
        },
        "outputId": "d47b1b09-e14f-44f3-df71-ad5591db1205"
      },
      "execution_count": null,
      "outputs": [
        {
          "output_type": "display_data",
          "data": {
            "text/plain": [
              "<IPython.core.display.HTML object>"
            ],
            "text/html": [
              "\n",
              "  <style>\n",
              "    pre {\n",
              "        white-space: pre-wrap;\n",
              "    }\n",
              "  </style>\n",
              "  "
            ]
          },
          "metadata": {}
        },
        {
          "output_type": "stream",
          "name": "stderr",
          "text": [
            "INFO:ludwig.utils.print_utils:\n",
            "INFO:ludwig.utils.print_utils:╒════════════════════════╕\n",
            "INFO:ludwig.utils.print_utils:│ EXPERIMENT DESCRIPTION │\n",
            "INFO:ludwig.utils.print_utils:╘════════════════════════╛\n",
            "INFO:ludwig.utils.print_utils:\n",
            "INFO:ludwig.api:╒══════════════════╤═════════════════════════════════════════════════════════════════════════════════════════╕\n",
            "│ Experiment name  │ api_experiment                                                                          │\n",
            "├──────────────────┼─────────────────────────────────────────────────────────────────────────────────────────┤\n",
            "│ Model name       │ run                                                                                     │\n",
            "├──────────────────┼─────────────────────────────────────────────────────────────────────────────────────────┤\n",
            "│ Output directory │ /content/results/api_experiment_run                                                     │\n",
            "├──────────────────┼─────────────────────────────────────────────────────────────────────────────────────────┤\n",
            "│ ludwig_version   │ '0.8.6'                                                                                 │\n",
            "├──────────────────┼─────────────────────────────────────────────────────────────────────────────────────────┤\n",
            "│ command          │ ('/usr/local/lib/python3.10/dist-packages/colab_kernel_launcher.py -f '                 │\n",
            "│                  │  '/root/.local/share/jupyter/runtime/kernel-0972071b-dc62-4ce2-93df-62f34c4ae634.json') │\n",
            "├──────────────────┼─────────────────────────────────────────────────────────────────────────────────────────┤\n",
            "│ random_seed      │ 42                                                                                      │\n",
            "├──────────────────┼─────────────────────────────────────────────────────────────────────────────────────────┤\n",
            "│ data_format      │ \"<class 'pandas.core.frame.DataFrame'>\"                                                 │\n",
            "├──────────────────┼─────────────────────────────────────────────────────────────────────────────────────────┤\n",
            "│ torch_version    │ '2.1.0+cu118'                                                                           │\n",
            "├──────────────────┼─────────────────────────────────────────────────────────────────────────────────────────┤\n",
            "│ compute          │ {   'arch_list': [   'sm_50',                                                           │\n",
            "│                  │                      'sm_60',                                                           │\n",
            "│                  │                      'sm_70',                                                           │\n",
            "│                  │                      'sm_75',                                                           │\n",
            "│                  │                      'sm_80',                                                           │\n",
            "│                  │                      'sm_86',                                                           │\n",
            "│                  │                      'sm_37',                                                           │\n",
            "│                  │                      'sm_90'],                                                          │\n",
            "│                  │     'devices': {   0: {   'device_capability': (7, 5),                                  │\n",
            "│                  │                           'device_properties': \"_CudaDeviceProperties(name='Tesla \"     │\n",
            "│                  │                                                \"T4', major=7, minor=5, \"                │\n",
            "│                  │                                                'total_memory=15101MB, '                 │\n",
            "│                  │                                                'multi_processor_count=40)',             │\n",
            "│                  │                           'gpu_type': 'Tesla T4'}},                                     │\n",
            "│                  │     'gencode_flags': '-gencode compute=compute_50,code=sm_50 -gencode '                 │\n",
            "│                  │                      'compute=compute_60,code=sm_60 -gencode '                          │\n",
            "│                  │                      'compute=compute_70,code=sm_70 -gencode '                          │\n",
            "│                  │                      'compute=compute_75,code=sm_75 -gencode '                          │\n",
            "│                  │                      'compute=compute_80,code=sm_80 -gencode '                          │\n",
            "│                  │                      'compute=compute_86,code=sm_86 -gencode '                          │\n",
            "│                  │                      'compute=compute_37,code=sm_37 -gencode '                          │\n",
            "│                  │                      'compute=compute_90,code=sm_90',                                   │\n",
            "│                  │     'gpus_per_node': 1,                                                                 │\n",
            "│                  │     'num_nodes': 1}                                                                     │\n",
            "╘══════════════════╧═════════════════════════════════════════════════════════════════════════════════════════╛\n",
            "INFO:ludwig.utils.print_utils:\n",
            "INFO:ludwig.utils.print_utils:╒═══════════════╕\n",
            "INFO:ludwig.utils.print_utils:│ LUDWIG CONFIG │\n",
            "INFO:ludwig.utils.print_utils:╘═══════════════╛\n",
            "INFO:ludwig.utils.print_utils:\n",
            "INFO:ludwig.api:User-specified config (with upgrades):\n",
            "\n",
            "INFO:ludwig.api:{   'adapter': {'type': 'lora'},\n",
            "    'base_model': 'HuggingFaceH4/zephyr-7b-beta',\n",
            "    'generation': {'max_new_tokens': 512, 'temperature': 0.1},\n",
            "    'input_features': [   {   'name': 'transcript',\n",
            "                              'preprocessing': {'max_sequence_length': 1024},\n",
            "                              'type': 'text'}],\n",
            "    'ludwig_version': '0.8.6',\n",
            "    'model_type': 'llm',\n",
            "    'output_features': [   {   'name': 'task_type',\n",
            "                               'preprocessing': {'max_sequence_length': 384},\n",
            "                               'type': 'text'}],\n",
            "    'preprocessing': {'split': {'type': 'fixed'}},\n",
            "    'prompt': {   'template': 'Consider the case of a customer contacting the '\n",
            "                              'support center. The term \"task type\" refers to '\n",
            "                              'the reason for why the customer contacted '\n",
            "                              'support.\\n'\n",
            "                              '### The possible task types are: ###   - '\n",
            "                              'replace card - transfer money - check balance - '\n",
            "                              'order checks - pay bill - reset password - '\n",
            "                              'schedule appointment - get branch hours - none '\n",
            "                              'of the above\\n'\n",
            "                              'Summarize the issue/question/reason that drove '\n",
            "                              'the customer to contact support:\\n'\n",
            "                              '### Transcript: {transcript}\\n'\n",
            "                              '### Task Type:'},\n",
            "    'quantization': {'bits': 4},\n",
            "    'trainer': {   'batch_size': 1,\n",
            "                   'enable_gradient_checkpointing': True,\n",
            "                   'epochs': 5,\n",
            "                   'eval_batch_size': 2,\n",
            "                   'gradient_accumulation_steps': 16,\n",
            "                   'learning_rate': 0.0002,\n",
            "                   'learning_rate_scheduler': {   'decay': 'cosine',\n",
            "                                                  'reduce_on_plateau': 0,\n",
            "                                                  'warmup_fraction': 0.03},\n",
            "                   'type': 'finetune'}}\n",
            "INFO:ludwig.api:\n",
            "Full config saved to:\n",
            "/content/results/api_experiment_run/api_experiment/model/model_hyperparameters.json\n",
            "INFO:ludwig.utils.print_utils:\n",
            "INFO:ludwig.utils.print_utils:╒═══════════════╕\n",
            "INFO:ludwig.utils.print_utils:│ PREPROCESSING │\n",
            "INFO:ludwig.utils.print_utils:╘═══════════════╛\n",
            "INFO:ludwig.utils.print_utils:\n",
            "INFO:ludwig.data.preprocessing:No cached dataset found at /content/87a26e32959111eea49e0242ac1c000c.training.hdf5. Preprocessing the dataset.\n",
            "INFO:ludwig.data.preprocessing:Using full dataframe\n",
            "INFO:ludwig.data.preprocessing:Building dataset (it may take a while)\n",
            "INFO:ludwig.utils.tokenizers:Loaded HuggingFace implementation of HuggingFaceH4/zephyr-7b-beta tokenizer\n",
            "Asking to truncate to max_length but no maximum length is provided and the model has no predefined maximum length. Default to no truncation.\n",
            "INFO:ludwig.features.text_feature:Max length of feature 'None': 752 (without start and stop symbols)\n",
            "INFO:ludwig.features.text_feature:Setting max length using dataset: 754 (including start and stop symbols)\n",
            "INFO:ludwig.features.text_feature:max sequence length is 754 for feature 'None'\n",
            "INFO:ludwig.utils.tokenizers:Loaded HuggingFace implementation of HuggingFaceH4/zephyr-7b-beta tokenizer\n",
            "Asking to truncate to max_length but no maximum length is provided and the model has no predefined maximum length. Default to no truncation.\n",
            "INFO:ludwig.features.text_feature:Max length of feature 'task_type': 4 (without start and stop symbols)\n",
            "INFO:ludwig.features.text_feature:Setting max length using dataset: 6 (including start and stop symbols)\n",
            "INFO:ludwig.features.text_feature:max sequence length is 6 for feature 'task_type'\n",
            "INFO:ludwig.utils.tokenizers:Loaded HuggingFace implementation of HuggingFaceH4/zephyr-7b-beta tokenizer\n",
            "Asking to truncate to max_length but no maximum length is provided and the model has no predefined maximum length. Default to no truncation.\n",
            "INFO:ludwig.utils.tokenizers:Loaded HuggingFace implementation of HuggingFaceH4/zephyr-7b-beta tokenizer\n",
            "Asking to truncate to max_length but no maximum length is provided and the model has no predefined maximum length. Default to no truncation.\n",
            "INFO:ludwig.data.preprocessing:Building dataset: DONE\n",
            "INFO:ludwig.data.cache.manager:Writing preprocessed training set cache to /content/87a26e32959111eea49e0242ac1c000c.training.hdf5\n",
            "INFO:ludwig.data.cache.manager:Writing preprocessed validation set cache to /content/87a26e32959111eea49e0242ac1c000c.validation.hdf5\n",
            "INFO:ludwig.data.cache.manager:Writing preprocessed test set cache to /content/87a26e32959111eea49e0242ac1c000c.test.hdf5\n",
            "INFO:ludwig.data.cache.manager:Writing train set metadata to /content/87a26e32959111eea49e0242ac1c000c.meta.json\n",
            "INFO:ludwig.api:\n",
            "Dataset Statistics\n",
            "INFO:ludwig.api:╒════════════╤═══════════════╤════════════════════╕\n",
            "│ Dataset    │   Size (Rows) │ Size (In Memory)   │\n",
            "╞════════════╪═══════════════╪════════════════════╡\n",
            "│ Training   │           700 │ 164.19 Kb          │\n",
            "├────────────┼───────────────┼────────────────────┤\n",
            "│ Validation │           200 │ 47.00 Kb           │\n",
            "├────────────┼───────────────┼────────────────────┤\n",
            "│ Test       │           100 │ 23.56 Kb           │\n",
            "╘════════════╧═══════════════╧════════════════════╛\n",
            "INFO:ludwig.utils.print_utils:\n",
            "INFO:ludwig.utils.print_utils:╒═══════╕\n",
            "INFO:ludwig.utils.print_utils:│ MODEL │\n",
            "INFO:ludwig.utils.print_utils:╘═══════╛\n",
            "INFO:ludwig.utils.print_utils:\n",
            "INFO:ludwig.api:Warnings and other logs:\n",
            "INFO:ludwig.models.llm:Loading large language model...\n"
          ]
        },
        {
          "output_type": "display_data",
          "data": {
            "text/plain": [
              "Loading checkpoint shards:   0%|          | 0/8 [00:00<?, ?it/s]"
            ],
            "application/vnd.jupyter.widget-view+json": {
              "version_major": 2,
              "version_minor": 0,
              "model_id": "bf384fa270094348a4d0a69ce3543f2f"
            }
          },
          "metadata": {}
        },
        {
          "output_type": "stream",
          "name": "stderr",
          "text": [
            "INFO:ludwig.models.llm:Done.\n",
            "INFO:ludwig.utils.tokenizers:Loaded HuggingFace implementation of HuggingFaceH4/zephyr-7b-beta tokenizer\n",
            "INFO:ludwig.models.llm:==================================================\n",
            "INFO:ludwig.models.llm:Trainable Parameter Summary For Fine-Tuning\n",
            "INFO:ludwig.models.llm:Fine-tuning with adapter: lora\n",
            "INFO:ludwig.models.llm:==================================================\n",
            "INFO:ludwig.trainers.trainer:Gradient checkpointing enabled for training.\n",
            "INFO:ludwig.utils.print_utils:\n",
            "INFO:ludwig.utils.print_utils:╒══════════╕\n",
            "INFO:ludwig.utils.print_utils:│ TRAINING │\n",
            "INFO:ludwig.utils.print_utils:╘══════════╛\n",
            "INFO:ludwig.utils.print_utils:\n"
          ]
        },
        {
          "output_type": "stream",
          "name": "stdout",
          "text": [
            "trainable params: 3,407,872 || all params: 7,245,139,968 || trainable%: 0.04703666202518836\n"
          ]
        },
        {
          "output_type": "stream",
          "name": "stderr",
          "text": [
            "INFO:ludwig.trainers.trainer:Creating fresh model training run.\n",
            "INFO:ludwig.trainers.trainer:Training for 3500 step(s), approximately 5 epoch(s).\n",
            "INFO:ludwig.trainers.trainer:Early stopping policy: 5 round(s) of evaluation, or 3500 step(s), approximately 5 epoch(s).\n",
            "\n",
            "INFO:ludwig.trainers.trainer:Starting with step 0, epoch: 0\n"
          ]
        },
        {
          "output_type": "stream",
          "name": "stdout",
          "text": [
            "\rTraining:   0%|          | 0/3500 [00:00<?, ?it/s]"
          ]
        },
        {
          "output_type": "stream",
          "name": "stderr",
          "text": [
            "`use_cache=True` is incompatible with gradient checkpointing. Setting `use_cache=False`...\n",
            "/usr/local/lib/python3.10/dist-packages/torch/utils/checkpoint.py:429: UserWarning: torch.utils.checkpoint: please pass in use_reentrant=True or use_reentrant=False explicitly. The default value of use_reentrant will be updated to be False in the future. To maintain current behavior, pass use_reentrant=True. It is recommended that you use use_reentrant=False. Refer to docs for more details on the differences between the two variants.\n",
            "  warnings.warn(\n"
          ]
        },
        {
          "output_type": "stream",
          "name": "stdout",
          "text": [
            "Training:  20%|██        | 700/3500 [16:53<1:03:52,  1.37s/it, loss=1.73e-5]"
          ]
        },
        {
          "output_type": "stream",
          "name": "stderr",
          "text": [
            "INFO:ludwig.trainers.trainer:\n",
            "Running evaluation for step: 700, epoch: 0\n"
          ]
        },
        {
          "output_type": "stream",
          "name": "stdout",
          "text": [
            "Evaluation valid: 100%|██████████| 100/100 [01:28<00:00,  1.13it/s]\n",
            "Evaluation test : 100%|██████████| 50/50 [00:44<00:00,  1.12it/s]"
          ]
        },
        {
          "output_type": "stream",
          "name": "stderr",
          "text": [
            "INFO:ludwig.trainers.trainer:Evaluation took 2m 13.1147s\n",
            "\n",
            "INFO:ludwig.utils.metrics_printed_table:╒═══════════════════════╤════════════╤══════════════╤════════════╕\n",
            "│                       │      train │   validation │       test │\n",
            "╞═══════════════════════╪════════════╪══════════════╪════════════╡\n",
            "│ bleu                  │     0.0000 │       0.0000 │     0.0000 │\n",
            "├───────────────────────┼────────────┼──────────────┼────────────┤\n",
            "│ char_error_rate       │    78.5040 │      85.9090 │    87.9338 │\n",
            "├───────────────────────┼────────────┼──────────────┼────────────┤\n",
            "│ loss                  │     2.0574 │       0.0674 │     0.0916 │\n",
            "├───────────────────────┼────────────┼──────────────┼────────────┤\n",
            "│ next_token_perplexity │ 15014.2695 │   12100.1748 │ 12230.1523 │\n",
            "├───────────────────────┼────────────┼──────────────┼────────────┤\n",
            "│ perplexity            │ 31973.4023 │   31957.1230 │ 31957.7656 │\n",
            "├───────────────────────┼────────────┼──────────────┼────────────┤\n",
            "│ rouge1_fmeasure       │     0.0250 │       0.0252 │     0.0246 │\n",
            "├───────────────────────┼────────────┼──────────────┼────────────┤\n",
            "│ rouge1_precision      │     0.0127 │       0.0128 │     0.0124 │\n",
            "├───────────────────────┼────────────┼──────────────┼────────────┤\n",
            "│ rouge1_recall         │     0.9545 │       0.9842 │     0.9867 │\n",
            "├───────────────────────┼────────────┼──────────────┼────────────┤\n",
            "│ rouge2_fmeasure       │     0.0127 │       0.0133 │     0.0124 │\n",
            "├───────────────────────┼────────────┼──────────────┼────────────┤\n",
            "│ rouge2_precision      │     0.0064 │       0.0067 │     0.0063 │\n",
            "├───────────────────────┼────────────┼──────────────┼────────────┤\n",
            "│ rouge2_recall         │     0.8182 │       0.9625 │     0.9450 │\n",
            "├───────────────────────┼────────────┼──────────────┼────────────┤\n",
            "│ rougeL_fmeasure       │     0.0250 │       0.0251 │     0.0246 │\n",
            "├───────────────────────┼────────────┼──────────────┼────────────┤\n",
            "│ rougeL_precision      │     0.0127 │       0.0127 │     0.0124 │\n",
            "├───────────────────────┼────────────┼──────────────┼────────────┤\n",
            "│ rougeL_recall         │     0.9545 │       0.9817 │     0.9867 │\n",
            "├───────────────────────┼────────────┼──────────────┼────────────┤\n",
            "│ rougeLsum_fmeasure    │     0.0250 │       0.0252 │     0.0246 │\n",
            "├───────────────────────┼────────────┼──────────────┼────────────┤\n",
            "│ rougeLsum_precision   │     0.0127 │       0.0128 │     0.0124 │\n",
            "├───────────────────────┼────────────┼──────────────┼────────────┤\n",
            "│ rougeLsum_recall      │     0.9545 │       0.9842 │     0.9867 │\n",
            "├───────────────────────┼────────────┼──────────────┼────────────┤\n",
            "│ sequence_accuracy     │     0.0000 │       0.0000 │     0.0000 │\n",
            "├───────────────────────┼────────────┼──────────────┼────────────┤\n",
            "│ token_accuracy        │     0.0000 │       0.0000 │     0.0000 │\n",
            "├───────────────────────┼────────────┼──────────────┼────────────┤\n",
            "│ word_error_rate       │    82.4536 │      80.0423 │    82.8469 │\n",
            "├───────────────────────┼────────────┼──────────────┼────────────┤\n",
            "│ combined_loss         │     2.0574 │       0.0674 │     0.0916 │\n",
            "╘═══════════════════════╧════════════╧══════════════╧════════════╛\n",
            "INFO:ludwig.trainers.trainer:Evaluation validation metric: 'task_type' 'loss' improved.\n",
            "INFO:ludwig.trainers.trainer:'task_type' 'loss' decreased by inf.\n",
            "INFO:ludwig.trainers.trainer:New best model saved.\n",
            "\n"
          ]
        },
        {
          "output_type": "stream",
          "name": "stdout",
          "text": [
            "\n"
          ]
        },
        {
          "output_type": "stream",
          "name": "stderr",
          "text": [
            "/usr/local/lib/python3.10/dist-packages/torch/utils/checkpoint.py:429: UserWarning: torch.utils.checkpoint: please pass in use_reentrant=True or use_reentrant=False explicitly. The default value of use_reentrant will be updated to be False in the future. To maintain current behavior, pass use_reentrant=True. It is recommended that you use use_reentrant=False. Refer to docs for more details on the differences between the two variants.\n",
            "  warnings.warn(\n"
          ]
        },
        {
          "output_type": "stream",
          "name": "stdout",
          "text": [
            "Training:  40%|████      | 1400/3500 [35:46<50:20,  1.44s/it, loss=1.52e-5]"
          ]
        },
        {
          "output_type": "stream",
          "name": "stderr",
          "text": [
            "INFO:ludwig.trainers.trainer:\n",
            "Running evaluation for step: 1400, epoch: 1\n"
          ]
        },
        {
          "output_type": "stream",
          "name": "stdout",
          "text": [
            "Evaluation valid: 100%|██████████| 100/100 [01:28<00:00,  1.13it/s]\n",
            "Evaluation test : 100%|██████████| 50/50 [00:44<00:00,  1.13it/s]"
          ]
        },
        {
          "output_type": "stream",
          "name": "stderr",
          "text": [
            "INFO:ludwig.trainers.trainer:Evaluation took 2m 12.7103s\n",
            "\n",
            "INFO:ludwig.utils.metrics_printed_table:╒═══════════════════════╤════════════╤══════════════╤════════════╕\n",
            "│                       │      train │   validation │       test │\n",
            "╞═══════════════════════╪════════════╪══════════════╪════════════╡\n",
            "│ bleu                  │     0.0000 │       0.0000 │     0.0000 │\n",
            "├───────────────────────┼────────────┼──────────────┼────────────┤\n",
            "│ char_error_rate       │    82.8108 │      83.8800 │    86.1392 │\n",
            "├───────────────────────┼────────────┼──────────────┼────────────┤\n",
            "│ loss                  │     0.0007 │       0.0773 │     0.0897 │\n",
            "├───────────────────────┼────────────┼──────────────┼────────────┤\n",
            "│ next_token_perplexity │ 11780.9473 │   12201.2070 │ 12260.6875 │\n",
            "├───────────────────────┼────────────┼──────────────┼────────────┤\n",
            "│ perplexity            │ 31991.6738 │   31918.0156 │ 31892.6992 │\n",
            "├───────────────────────┼────────────┼──────────────┼────────────┤\n",
            "│ rouge1_fmeasure       │     0.0235 │       0.0253 │     0.0245 │\n",
            "├───────────────────────┼────────────┼──────────────┼────────────┤\n",
            "│ rouge1_precision      │     0.0119 │       0.0128 │     0.0124 │\n",
            "├───────────────────────┼────────────┼──────────────┼────────────┤\n",
            "│ rouge1_recall         │     1.0000 │       0.9833 │     0.9750 │\n",
            "├───────────────────────┼────────────┼──────────────┼────────────┤\n",
            "│ rouge2_fmeasure       │     0.0121 │       0.0127 │     0.0122 │\n",
            "├───────────────────────┼────────────┼──────────────┼────────────┤\n",
            "│ rouge2_precision      │     0.0061 │       0.0064 │     0.0062 │\n",
            "├───────────────────────┼────────────┼──────────────┼────────────┤\n",
            "│ rouge2_recall         │     1.0000 │       0.9375 │     0.9250 │\n",
            "├───────────────────────┼────────────┼──────────────┼────────────┤\n",
            "│ rougeL_fmeasure       │     0.0235 │       0.0253 │     0.0245 │\n",
            "├───────────────────────┼────────────┼──────────────┼────────────┤\n",
            "│ rougeL_precision      │     0.0119 │       0.0128 │     0.0124 │\n",
            "├───────────────────────┼────────────┼──────────────┼────────────┤\n",
            "│ rougeL_recall         │     1.0000 │       0.9833 │     0.9750 │\n",
            "├───────────────────────┼────────────┼──────────────┼────────────┤\n",
            "│ rougeLsum_fmeasure    │     0.0235 │       0.0253 │     0.0245 │\n",
            "├───────────────────────┼────────────┼──────────────┼────────────┤\n",
            "│ rougeLsum_precision   │     0.0119 │       0.0128 │     0.0124 │\n",
            "├───────────────────────┼────────────┼──────────────┼────────────┤\n",
            "│ rougeLsum_recall      │     1.0000 │       0.9833 │     0.9750 │\n",
            "├───────────────────────┼────────────┼──────────────┼────────────┤\n",
            "│ sequence_accuracy     │     0.0000 │       0.0000 │     0.0000 │\n",
            "├───────────────────────┼────────────┼──────────────┼────────────┤\n",
            "│ token_accuracy        │     0.0000 │       0.0000 │     0.0000 │\n",
            "├───────────────────────┼────────────┼──────────────┼────────────┤\n",
            "│ word_error_rate       │    86.5056 │      79.2864 │    82.0526 │\n",
            "├───────────────────────┼────────────┼──────────────┼────────────┤\n",
            "│ combined_loss         │     0.0007 │       0.0773 │     0.0897 │\n",
            "╘═══════════════════════╧════════════╧══════════════╧════════════╛\n",
            "INFO:ludwig.trainers.trainer:Last improvement of task_type validation loss happened 700 step(s) ago.\n",
            "\n"
          ]
        },
        {
          "output_type": "stream",
          "name": "stdout",
          "text": [
            "\n"
          ]
        },
        {
          "output_type": "stream",
          "name": "stderr",
          "text": [
            "/usr/local/lib/python3.10/dist-packages/torch/utils/checkpoint.py:429: UserWarning: torch.utils.checkpoint: please pass in use_reentrant=True or use_reentrant=False explicitly. The default value of use_reentrant will be updated to be False in the future. To maintain current behavior, pass use_reentrant=True. It is recommended that you use use_reentrant=False. Refer to docs for more details on the differences between the two variants.\n",
            "  warnings.warn(\n"
          ]
        },
        {
          "output_type": "stream",
          "name": "stdout",
          "text": [
            "Training:  60%|██████    | 2100/3500 [54:38<35:01,  1.50s/it, loss=6e-6]"
          ]
        },
        {
          "output_type": "stream",
          "name": "stderr",
          "text": [
            "INFO:ludwig.trainers.trainer:\n",
            "Running evaluation for step: 2100, epoch: 2\n"
          ]
        },
        {
          "output_type": "stream",
          "name": "stdout",
          "text": [
            "Evaluation valid: 100%|██████████| 100/100 [01:27<00:00,  1.14it/s]\n",
            "Evaluation test : 100%|██████████| 50/50 [00:44<00:00,  1.13it/s]"
          ]
        },
        {
          "output_type": "stream",
          "name": "stderr",
          "text": [
            "INFO:ludwig.trainers.trainer:Evaluation took 2m 12.6134s\n",
            "\n",
            "INFO:ludwig.utils.metrics_printed_table:╒═══════════════════════╤════════════╤══════════════╤════════════╕\n",
            "│                       │      train │   validation │       test │\n",
            "╞═══════════════════════╪════════════╪══════════════╪════════════╡\n",
            "│ bleu                  │     0.0000 │       0.0000 │     0.0000 │\n",
            "├───────────────────────┼────────────┼──────────────┼────────────┤\n",
            "│ char_error_rate       │    70.8771 │      85.1113 │    86.9142 │\n",
            "├───────────────────────┼────────────┼──────────────┼────────────┤\n",
            "│ loss                  │     0.0003 │       0.0379 │     0.0628 │\n",
            "├───────────────────────┼────────────┼──────────────┼────────────┤\n",
            "│ next_token_perplexity │ 11776.5850 │   12016.7754 │ 12132.3623 │\n",
            "├───────────────────────┼────────────┼──────────────┼────────────┤\n",
            "│ perplexity            │ 31983.0098 │   31940.0625 │ 31922.9766 │\n",
            "├───────────────────────┼────────────┼──────────────┼────────────┤\n",
            "│ rouge1_fmeasure       │     0.0271 │       0.0255 │     0.0250 │\n",
            "├───────────────────────┼────────────┼──────────────┼────────────┤\n",
            "│ rouge1_precision      │     0.0138 │       0.0129 │     0.0126 │\n",
            "├───────────────────────┼────────────┼──────────────┼────────────┤\n",
            "│ rouge1_recall         │     1.0000 │       0.9925 │     0.9950 │\n",
            "├───────────────────────┼────────────┼──────────────┼────────────┤\n",
            "│ rouge2_fmeasure       │     0.0151 │       0.0136 │     0.0128 │\n",
            "├───────────────────────┼────────────┼──────────────┼────────────┤\n",
            "│ rouge2_precision      │     0.0076 │       0.0068 │     0.0064 │\n",
            "├───────────────────────┼────────────┼──────────────┼────────────┤\n",
            "│ rouge2_recall         │     1.0000 │       0.9750 │     0.9600 │\n",
            "├───────────────────────┼────────────┼──────────────┼────────────┤\n",
            "│ rougeL_fmeasure       │     0.0271 │       0.0255 │     0.0250 │\n",
            "├───────────────────────┼────────────┼──────────────┼────────────┤\n",
            "│ rougeL_precision      │     0.0138 │       0.0129 │     0.0126 │\n",
            "├───────────────────────┼────────────┼──────────────┼────────────┤\n",
            "│ rougeL_recall         │     1.0000 │       0.9925 │     0.9950 │\n",
            "├───────────────────────┼────────────┼──────────────┼────────────┤\n",
            "│ rougeLsum_fmeasure    │     0.0271 │       0.0255 │     0.0250 │\n",
            "├───────────────────────┼────────────┼──────────────┼────────────┤\n",
            "│ rougeLsum_precision   │     0.0138 │       0.0129 │     0.0126 │\n",
            "├───────────────────────┼────────────┼──────────────┼────────────┤\n",
            "│ rougeLsum_recall      │     1.0000 │       0.9925 │     0.9950 │\n",
            "├───────────────────────┼────────────┼──────────────┼────────────┤\n",
            "│ sequence_accuracy     │     0.0000 │       0.0000 │     0.0000 │\n",
            "├───────────────────────┼────────────┼──────────────┼────────────┤\n",
            "│ token_accuracy        │     0.0000 │       0.0000 │     0.0001 │\n",
            "├───────────────────────┼────────────┼──────────────┼────────────┤\n",
            "│ word_error_rate       │    76.3750 │      79.7911 │    82.3636 │\n",
            "├───────────────────────┼────────────┼──────────────┼────────────┤\n",
            "│ combined_loss         │     0.0003 │       0.0379 │     0.0628 │\n",
            "╘═══════════════════════╧════════════╧══════════════╧════════════╛\n",
            "INFO:ludwig.trainers.trainer:Evaluation validation metric: 'task_type' 'loss' improved.\n",
            "INFO:ludwig.trainers.trainer:'task_type' 'loss' decreased by 0.03.\n",
            "INFO:ludwig.trainers.trainer:New best model saved.\n",
            "\n"
          ]
        },
        {
          "output_type": "stream",
          "name": "stdout",
          "text": [
            "\n"
          ]
        },
        {
          "output_type": "stream",
          "name": "stderr",
          "text": [
            "/usr/local/lib/python3.10/dist-packages/torch/utils/checkpoint.py:429: UserWarning: torch.utils.checkpoint: please pass in use_reentrant=True or use_reentrant=False explicitly. The default value of use_reentrant will be updated to be False in the future. To maintain current behavior, pass use_reentrant=True. It is recommended that you use use_reentrant=False. Refer to docs for more details on the differences between the two variants.\n",
            "  warnings.warn(\n"
          ]
        },
        {
          "output_type": "stream",
          "name": "stdout",
          "text": [
            "Training:  80%|████████  | 2800/3500 [1:13:28<16:45,  1.44s/it, loss=1.46e-5]"
          ]
        },
        {
          "output_type": "stream",
          "name": "stderr",
          "text": [
            "INFO:ludwig.trainers.trainer:\n",
            "Running evaluation for step: 2800, epoch: 3\n"
          ]
        },
        {
          "output_type": "stream",
          "name": "stdout",
          "text": [
            "Evaluation valid: 100%|██████████| 100/100 [01:27<00:00,  1.14it/s]\n",
            "Evaluation test : 100%|██████████| 50/50 [00:44<00:00,  1.13it/s]"
          ]
        },
        {
          "output_type": "stream",
          "name": "stderr",
          "text": [
            "INFO:ludwig.trainers.trainer:Evaluation took 2m 12.3010s\n",
            "\n",
            "INFO:ludwig.utils.metrics_printed_table:╒═══════════════════════╤════════════╤══════════════╤════════════╕\n",
            "│                       │      train │   validation │       test │\n",
            "╞═══════════════════════╪════════════╪══════════════╪════════════╡\n",
            "│ bleu                  │     0.0000 │       0.0000 │     0.0000 │\n",
            "├───────────────────────┼────────────┼──────────────┼────────────┤\n",
            "│ char_error_rate       │    83.0305 │      84.5641 │    86.4191 │\n",
            "├───────────────────────┼────────────┼──────────────┼────────────┤\n",
            "│ loss                  │     0.0002 │       0.0400 │     0.0779 │\n",
            "├───────────────────────┼────────────┼──────────────┼────────────┤\n",
            "│ next_token_perplexity │ 11775.1445 │   12004.2539 │ 12166.4121 │\n",
            "├───────────────────────┼────────────┼──────────────┼────────────┤\n",
            "│ perplexity            │ 31970.2031 │   31923.1602 │ 31896.9297 │\n",
            "├───────────────────────┼────────────┼──────────────┼────────────┤\n",
            "│ rouge1_fmeasure       │     0.0249 │       0.0254 │     0.0248 │\n",
            "├───────────────────────┼────────────┼──────────────┼────────────┤\n",
            "│ rouge1_precision      │     0.0126 │       0.0129 │     0.0126 │\n",
            "├───────────────────────┼────────────┼──────────────┼────────────┤\n",
            "│ rouge1_recall         │     1.0000 │       0.9900 │     0.9900 │\n",
            "├───────────────────────┼────────────┼──────────────┼────────────┤\n",
            "│ rouge2_fmeasure       │     0.0134 │       0.0134 │     0.0126 │\n",
            "├───────────────────────┼────────────┼──────────────┼────────────┤\n",
            "│ rouge2_precision      │     0.0067 │       0.0068 │     0.0064 │\n",
            "├───────────────────────┼────────────┼──────────────┼────────────┤\n",
            "│ rouge2_recall         │     1.0000 │       0.9700 │     0.9500 │\n",
            "├───────────────────────┼────────────┼──────────────┼────────────┤\n",
            "│ rougeL_fmeasure       │     0.0249 │       0.0254 │     0.0248 │\n",
            "├───────────────────────┼────────────┼──────────────┼────────────┤\n",
            "│ rougeL_precision      │     0.0126 │       0.0129 │     0.0126 │\n",
            "├───────────────────────┼────────────┼──────────────┼────────────┤\n",
            "│ rougeL_recall         │     1.0000 │       0.9900 │     0.9900 │\n",
            "├───────────────────────┼────────────┼──────────────┼────────────┤\n",
            "│ rougeLsum_fmeasure    │     0.0249 │       0.0253 │     0.0248 │\n",
            "├───────────────────────┼────────────┼──────────────┼────────────┤\n",
            "│ rougeLsum_precision   │     0.0126 │       0.0128 │     0.0126 │\n",
            "├───────────────────────┼────────────┼──────────────┼────────────┤\n",
            "│ rougeLsum_recall      │     1.0000 │       0.9883 │     0.9900 │\n",
            "├───────────────────────┼────────────┼──────────────┼────────────┤\n",
            "│ sequence_accuracy     │     0.0000 │       0.0000 │     0.0000 │\n",
            "├───────────────────────┼────────────┼──────────────┼────────────┤\n",
            "│ token_accuracy        │     0.0000 │       0.0000 │     0.0001 │\n",
            "├───────────────────────┼────────────┼──────────────┼────────────┤\n",
            "│ word_error_rate       │    83.3226 │      79.6643 │    82.2632 │\n",
            "├───────────────────────┼────────────┼──────────────┼────────────┤\n",
            "│ combined_loss         │     0.0002 │       0.0400 │     0.0779 │\n",
            "╘═══════════════════════╧════════════╧══════════════╧════════════╛\n",
            "INFO:ludwig.trainers.trainer:Last improvement of task_type validation loss happened 700 step(s) ago.\n",
            "\n"
          ]
        },
        {
          "output_type": "stream",
          "name": "stdout",
          "text": [
            "\n"
          ]
        },
        {
          "output_type": "stream",
          "name": "stderr",
          "text": [
            "/usr/local/lib/python3.10/dist-packages/torch/utils/checkpoint.py:429: UserWarning: torch.utils.checkpoint: please pass in use_reentrant=True or use_reentrant=False explicitly. The default value of use_reentrant will be updated to be False in the future. To maintain current behavior, pass use_reentrant=True. It is recommended that you use use_reentrant=False. Refer to docs for more details on the differences between the two variants.\n",
            "  warnings.warn(\n"
          ]
        },
        {
          "output_type": "stream",
          "name": "stdout",
          "text": [
            "Training: 100%|██████████| 3500/3500 [1:32:17<00:00,  1.35s/it, loss=9.96e-6]"
          ]
        },
        {
          "output_type": "stream",
          "name": "stderr",
          "text": [
            "INFO:ludwig.trainers.trainer:\n",
            "Running evaluation for step: 3500, epoch: 4\n"
          ]
        },
        {
          "output_type": "stream",
          "name": "stdout",
          "text": [
            "Evaluation valid: 100%|██████████| 100/100 [01:27<00:00,  1.14it/s]\n",
            "Evaluation test : 100%|██████████| 50/50 [00:44<00:00,  1.13it/s]"
          ]
        },
        {
          "output_type": "stream",
          "name": "stderr",
          "text": [
            "INFO:ludwig.trainers.trainer:Evaluation took 2m 12.4247s\n",
            "\n",
            "INFO:ludwig.utils.metrics_printed_table:╒═══════════════════════╤════════════╤══════════════╤════════════╕\n",
            "│                       │      train │   validation │       test │\n",
            "╞═══════════════════════╪════════════╪══════════════╪════════════╡\n",
            "│ bleu                  │     0.0000 │       0.0000 │     0.0000 │\n",
            "├───────────────────────┼────────────┼──────────────┼────────────┤\n",
            "│ char_error_rate       │    73.0442 │      82.7405 │    84.5350 │\n",
            "├───────────────────────┼────────────┼──────────────┼────────────┤\n",
            "│ loss                  │     0.0002 │       0.0580 │     0.0959 │\n",
            "├───────────────────────┼────────────┼──────────────┼────────────┤\n",
            "│ next_token_perplexity │ 11774.8164 │   12101.4697 │ 12232.5479 │\n",
            "├───────────────────────┼────────────┼──────────────┼────────────┤\n",
            "│ perplexity            │ 31950.2988 │   31768.3027 │ 31747.7363 │\n",
            "├───────────────────────┼────────────┼──────────────┼────────────┤\n",
            "│ rouge1_fmeasure       │     0.0272 │       0.0257 │     0.0249 │\n",
            "├───────────────────────┼────────────┼──────────────┼────────────┤\n",
            "│ rouge1_precision      │     0.0138 │       0.0130 │     0.0126 │\n",
            "├───────────────────────┼────────────┼──────────────┼────────────┤\n",
            "│ rouge1_recall         │     1.0000 │       0.9883 │     0.9800 │\n",
            "├───────────────────────┼────────────┼──────────────┼────────────┤\n",
            "│ rouge2_fmeasure       │     0.0148 │       0.0130 │     0.0121 │\n",
            "├───────────────────────┼────────────┼──────────────┼────────────┤\n",
            "│ rouge2_precision      │     0.0075 │       0.0066 │     0.0061 │\n",
            "├───────────────────────┼────────────┼──────────────┼────────────┤\n",
            "│ rouge2_recall         │     1.0000 │       0.9400 │     0.9050 │\n",
            "├───────────────────────┼────────────┼──────────────┼────────────┤\n",
            "│ rougeL_fmeasure       │     0.0272 │       0.0257 │     0.0249 │\n",
            "├───────────────────────┼────────────┼──────────────┼────────────┤\n",
            "│ rougeL_precision      │     0.0138 │       0.0130 │     0.0126 │\n",
            "├───────────────────────┼────────────┼──────────────┼────────────┤\n",
            "│ rougeL_recall         │     1.0000 │       0.9883 │     0.9800 │\n",
            "├───────────────────────┼────────────┼──────────────┼────────────┤\n",
            "│ rougeLsum_fmeasure    │     0.0272 │       0.0257 │     0.0249 │\n",
            "├───────────────────────┼────────────┼──────────────┼────────────┤\n",
            "│ rougeLsum_precision   │     0.0138 │       0.0130 │     0.0126 │\n",
            "├───────────────────────┼────────────┼──────────────┼────────────┤\n",
            "│ rougeLsum_recall      │     1.0000 │       0.9883 │     0.9800 │\n",
            "├───────────────────────┼────────────┼──────────────┼────────────┤\n",
            "│ sequence_accuracy     │     0.0000 │       0.0000 │     0.0000 │\n",
            "├───────────────────────┼────────────┼──────────────┼────────────┤\n",
            "│ token_accuracy        │     0.0000 │       0.0001 │     0.0002 │\n",
            "├───────────────────────┼────────────┼──────────────┼────────────┤\n",
            "│ word_error_rate       │    75.6809 │      76.8052 │    79.5024 │\n",
            "├───────────────────────┼────────────┼──────────────┼────────────┤\n",
            "│ combined_loss         │     0.0002 │       0.0580 │     0.0959 │\n",
            "╘═══════════════════════╧════════════╧══════════════╧════════════╛\n",
            "INFO:ludwig.trainers.trainer:Last improvement of task_type validation loss happened 1400 step(s) ago.\n",
            "\n"
          ]
        },
        {
          "output_type": "stream",
          "name": "stdout",
          "text": [
            "\n",
            "Training: 100%|██████████| 3500/3500 [1:34:30<00:00,  1.62s/it, loss=9.96e-6]"
          ]
        },
        {
          "output_type": "stream",
          "name": "stderr",
          "text": [
            "INFO:ludwig.utils.print_utils:\n",
            "INFO:ludwig.utils.print_utils:╒═════════════════╕\n",
            "INFO:ludwig.utils.print_utils:│ TRAINING REPORT │\n",
            "INFO:ludwig.utils.print_utils:╘═════════════════╛\n",
            "INFO:ludwig.utils.print_utils:\n",
            "INFO:ludwig.api:╒══════════════════════════════╤══════════════════════╕\n",
            "│ Validation feature           │ task_type            │\n",
            "├──────────────────────────────┼──────────────────────┤\n",
            "│ Validation metric            │ loss                 │\n",
            "├──────────────────────────────┼──────────────────────┤\n",
            "│ Best model step              │ 2100                 │\n",
            "├──────────────────────────────┼──────────────────────┤\n",
            "│ Best model epoch             │ 3                    │\n",
            "├──────────────────────────────┼──────────────────────┤\n",
            "│ Best model's validation loss │ 0.037884775549173355 │\n",
            "├──────────────────────────────┼──────────────────────┤\n",
            "│ Best model's test loss       │ 0.06276746839284897  │\n",
            "╘══════════════════════════════╧══════════════════════╛\n",
            "INFO:ludwig.api:\n",
            "Finished: api_experiment_run\n",
            "INFO:ludwig.api:Saved to: /content/results/api_experiment_run\n",
            "INFO:ludwig.utils.print_utils:\n",
            "INFO:ludwig.utils.print_utils:╒══════════╕\n",
            "INFO:ludwig.utils.print_utils:│ FINISHED │\n",
            "INFO:ludwig.utils.print_utils:╘══════════╛\n",
            "INFO:ludwig.utils.print_utils:\n"
          ]
        },
        {
          "output_type": "stream",
          "name": "stdout",
          "text": [
            "\n"
          ]
        }
      ]
    },
    {
      "cell_type": "code",
      "source": [],
      "metadata": {
        "id": "NwfpJqFTATmC"
      },
      "execution_count": null,
      "outputs": []
    },
    {
      "cell_type": "code",
      "source": [],
      "metadata": {
        "id": "D2Clph9V9AXg"
      },
      "execution_count": null,
      "outputs": []
    },
    {
      "cell_type": "code",
      "source": [],
      "metadata": {
        "id": "jNCW85tmT2Qw"
      },
      "execution_count": null,
      "outputs": []
    },
    {
      "cell_type": "markdown",
      "source": [
        "#### Perform Inference\n",
        "\n",
        "We can now use the model we finetuned above to make predictions on some test examples to see whether finetuning the large language model improve its ability to follow instructions/the tasks we're asking it to perform."
      ],
      "metadata": {
        "id": "1YkjcqMFMkwT"
      }
    },
    {
      "cell_type": "code",
      "source": [
        "predictions_and_probabilities: tuple[pd.DataFrame, pd.DataFrame] = model.predict(df_evaluation)"
      ],
      "metadata": {
        "id": "5sQXLxvoMuIq",
        "colab": {
          "base_uri": "https://localhost:8080/",
          "height": 1000
        },
        "outputId": "6039234e-8d8a-4e3e-9899-ced927bc3344"
      },
      "execution_count": null,
      "outputs": [
        {
          "output_type": "display_data",
          "data": {
            "text/plain": [
              "<IPython.core.display.HTML object>"
            ],
            "text/html": [
              "\n",
              "  <style>\n",
              "    pre {\n",
              "        white-space: pre-wrap;\n",
              "    }\n",
              "  </style>\n",
              "  "
            ]
          },
          "metadata": {}
        },
        {
          "output_type": "stream",
          "name": "stderr",
          "text": [
            "WARNING:ludwig.data.preprocessing:Specified split column split for fixed split strategy was not found in dataset.\n",
            "INFO:ludwig.utils.tokenizers:Loaded HuggingFace implementation of HuggingFaceH4/zephyr-7b-beta tokenizer\n",
            "Asking to truncate to max_length but no maximum length is provided and the model has no predefined maximum length. Default to no truncation.\n",
            "/usr/local/lib/python3.10/dist-packages/ludwig/data/preprocessing.py:1308: UserWarning: column: 'split' is required by the dataset splitter with params: {'type': 'fixed', 'column': 'split'}, but 'split' is not present in the `dataset_df` with columns: Index(['transcript', 'task_type'], dtype='object'). This is acceptable during serving setting where dataset splitting is irrelevant. You may see this warning if, for example, the model was trained with a configuration that used a stratified split on the target column, but for live predictions, a value for the target column is not to be provided.\n",
            "  warnings.warn(\n"
          ]
        },
        {
          "output_type": "stream",
          "name": "stdout",
          "text": [
            "\rPrediction:   0%|          | 0/1 [00:00<?, ?it/s]"
          ]
        },
        {
          "output_type": "stream",
          "name": "stderr",
          "text": [
            "INFO:ludwig.models.llm:Decoded text inputs for the first example in batch: consider the case of a customer contacting the support center. the term \"task type\" refers to the reason for why the customer contacted support.\n",
            "### the possible task types are: ###   - replace card - transfer money - check balance - order checks - pay bill - reset password - schedule appointment - get branch hours - none of the above\n",
            "summarize the issue/question/reason that drove the customer to contact support:\n",
            "### transcript: <agent> hello this is harper valley national bank my name is james how can i help you today <caller> [noise] <caller> hi my name is michael garcia i would like to pay a bill <agent> [noise] <agent> what's the company name <caller> fossil gas <agent> [noise] <agent> [noise] <agent> [noise] <agent> and what is the company address <caller> the address is one ninety main street <caller> forest ranch <caller> oregon <agent> [noise] <caller> seven five seven four two <agent> and what's the bill amount <caller> the amount of the bill is fifty dollars <agent> uhm we will send your payment to fossil gas fo fifty dollars is there anything else i can help you with today <caller> no <agent> okay thank you for calling have a great day\n",
            "### task type:\n",
            "INFO:ludwig.models.llm:Decoded generated output for the first example in batch: consider the case of a customer contacting the support center. the term \"task type\" refers to the reason for why the customer contacted support.\n",
            "### the possible task types are: ###   - replace card - transfer money - check balance - order checks - pay bill - reset password - schedule appointment - get branch hours - none of the above\n",
            "summarize the issue/question/reason that drove the customer to contact support:\n",
            "### transcript: <agent> hello this is harper valley national bank my name is james how can i help you today <caller> [noise] <caller> hi my name is michael garcia i would like to pay a bill <agent> [noise] <agent> what's the company name <caller> fossil gas <agent> [noise] <agent> [noise] <agent> [noise] <agent> and what is the company address <caller> the address is one ninety main street <caller> forest ranch <caller> oregon <agent> [noise] <caller> seven five seven four two <agent> and what's the bill amount <caller> the amount of the bill is fifty dollars <agent> uhm we will send your payment to fossil gas fo fifty dollars is there anything else i can help you with today <caller> no <agent> okay thank you for calling have a great day\n",
            "### task type: pay bill\n",
            "INFO:ludwig.models.llm:Decoded text inputs for the first example in batch: consider the case of a customer contacting the support center. the term \"task type\" refers to the reason for why the customer contacted support.\n",
            "### the possible task types are: ###   - replace card - transfer money - check balance - order checks - pay bill - reset password - schedule appointment - get branch hours - none of the above\n",
            "summarize the issue/question/reason that drove the customer to contact support:\n",
            "### transcript: <agent> hello this is harper valley national bank my name is michael how can i help you today <caller> hi my name is robert jones <caller> what are the local branch hours <agent> hi robert um the branch hours are nine thirty a m until five p m <caller> [noise] <caller> [noise] <caller> [noise] <agent> is there anything else <caller> no that's gonna be it thank you <agent> okay you're welcome have a good day\n",
            "### task type:\n",
            "INFO:ludwig.models.llm:Decoded generated output for the first example in batch: consider the case of a customer contacting the support center. the term \"task type\" refers to the reason for why the customer contacted support.\n",
            "### the possible task types are: ###   - replace card - transfer money - check balance - order checks - pay bill - reset password - schedule appointment - get branch hours - none of the above\n",
            "summarize the issue/question/reason that drove the customer to contact support:\n",
            "### transcript: <agent> hello this is harper valley national bank my name is michael how can i help you today <caller> hi my name is robert jones <caller> what are the local branch hours <agent> hi robert um the branch hours are nine thirty a m until five p m <caller> [noise] <caller> [noise] <caller> [noise] <agent> is there anything else <caller> no that's gonna be it thank you <agent> okay you're welcome have a good day\n",
            "### task type: get branch hours\n",
            "INFO:ludwig.models.llm:Decoded text inputs for the first example in batch: consider the case of a customer contacting the support center. the term \"task type\" refers to the reason for why the customer contacted support.\n",
            "### the possible task types are: ###   - replace card - transfer money - check balance - order checks - pay bill - reset password - schedule appointment - get branch hours - none of the above\n",
            "summarize the issue/question/reason that drove the customer to contact support:\n",
            "### transcript: <agent> [noise] hello this is harper valley national bank my name is michael how can i help you today <caller> hi my name is mary garcia <caller> i would like to transfer money between my accounts <agent> what is the transfer amount <caller> a hundred and eleven dollars <agent> what is the source account <caller> my savings account <agent> what is the destination account <caller> to my checking account <agent> one hundred and eleven dollars has been transferred from your savings account to your checking account is there anything else i can help you with <caller> no thank you <agent> thank you for calling have a great day <caller> [noise] bye <agent> [noise]\n",
            "### task type:\n",
            "INFO:ludwig.models.llm:Decoded generated output for the first example in batch: consider the case of a customer contacting the support center. the term \"task type\" refers to the reason for why the customer contacted support.\n",
            "### the possible task types are: ###   - replace card - transfer money - check balance - order checks - pay bill - reset password - schedule appointment - get branch hours - none of the above\n",
            "summarize the issue/question/reason that drove the customer to contact support:\n",
            "### transcript: <agent> [noise] hello this is harper valley national bank my name is michael how can i help you today <caller> hi my name is mary garcia <caller> i would like to transfer money between my accounts <agent> what is the transfer amount <caller> a hundred and eleven dollars <agent> what is the source account <caller> my savings account <agent> what is the destination account <caller> to my checking account <agent> one hundred and eleven dollars has been transferred from your savings account to your checking account is there anything else i can help you with <caller> no thank you <agent> thank you for calling have a great day <caller> [noise] bye <agent> [noise]\n",
            "### task type: transfer money\n",
            "INFO:ludwig.models.llm:Decoded text inputs for the first example in batch: consider the case of a customer contacting the support center. the term \"task type\" refers to the reason for why the customer contacted support.\n",
            "### the possible task types are: ###   - replace card - transfer money - check balance - order checks - pay bill - reset password - schedule appointment - get branch hours - none of the above\n",
            "summarize the issue/question/reason that drove the customer to contact support:\n",
            "### transcript: <caller> [noise] hello my name is elizabeth williams i'd like to reset my password today <caller>  <agent> alright hello this is harper valley national bank my name is linda and how can i help you today <agent>  <caller> so my phone number whenever you're ready <agent> yeah what is your phone number <caller> three seven two ten <caller> six nine seven one <agent>  <caller> [noise] <agent> can you repeat the phone number <caller> [noise] <caller> three seven two ten six nine seven one and that's all i'll be needing today <agent> hmm <agent> okay that was three seven two ten six nine seven one <caller> that is correct <agent> your password reset link has been sent to your phone <agent> thank you for calling have great day <caller> thanks <caller> \n",
            "### task type:\n",
            "INFO:ludwig.models.llm:Decoded generated output for the first example in batch: consider the case of a customer contacting the support center. the term \"task type\" refers to the reason for why the customer contacted support.\n",
            "### the possible task types are: ###   - replace card - transfer money - check balance - order checks - pay bill - reset password - schedule appointment - get branch hours - none of the above\n",
            "summarize the issue/question/reason that drove the customer to contact support:\n",
            "### transcript: <caller> [noise] hello my name is elizabeth williams i'd like to reset my password today <caller>  <agent> alright hello this is harper valley national bank my name is linda and how can i help you today <agent>  <caller> so my phone number whenever you're ready <agent> yeah what is your phone number <caller> three seven two ten <caller> six nine seven one <agent>  <caller> [noise] <agent> can you repeat the phone number <caller> [noise] <caller> three seven two ten six nine seven one and that's all i'll be needing today <agent> hmm <agent> okay that was three seven two ten six nine seven one <caller> that is correct <agent> your password reset link has been sent to your phone <agent> thank you for calling have great day <caller> thanks <caller> \n",
            "### task type: reset password\n",
            "INFO:ludwig.models.llm:Decoded text inputs for the first example in batch: consider the case of a customer contacting the support center. the term \"task type\" refers to the reason for why the customer contacted support.\n",
            "### the possible task types are: ###   - replace card - transfer money - check balance - order checks - pay bill - reset password - schedule appointment - get branch hours - none of the above\n",
            "summarize the issue/question/reason that drove the customer to contact support:\n",
            "### transcript: <agent> [noise] hello this is harper valley national bank my name is elizabeth how can i help you today <caller> hi my name is john jones and i would like to reset my password <agent> what is your phone number <caller> it's two seven nine <caller> four two one <caller> seven eight nine three <agent> your password reset link has been sent to your phone is there anything else i can help you with <caller> nope that's all i needed thank you <agent> thank you for calling have a great day <caller> thank you you too <agent> [noise]\n",
            "### task type:\n",
            "INFO:ludwig.models.llm:Decoded generated output for the first example in batch: consider the case of a customer contacting the support center. the term \"task type\" refers to the reason for why the customer contacted support.\n",
            "### the possible task types are: ###   - replace card - transfer money - check balance - order checks - pay bill - reset password - schedule appointment - get branch hours - none of the above\n",
            "summarize the issue/question/reason that drove the customer to contact support:\n",
            "### transcript: <agent> [noise] hello this is harper valley national bank my name is elizabeth how can i help you today <caller> hi my name is john jones and i would like to reset my password <agent> what is your phone number <caller> it's two seven nine <caller> four two one <caller> seven eight nine three <agent> your password reset link has been sent to your phone is there anything else i can help you with <caller> nope that's all i needed thank you <agent> thank you for calling have a great day <caller> thank you you too <agent> [noise]\n",
            "### task type: reset password\n",
            "INFO:ludwig.models.llm:Decoded text inputs for the first example in batch: consider the case of a customer contacting the support center. the term \"task type\" refers to the reason for why the customer contacted support.\n",
            "### the possible task types are: ###   - replace card - transfer money - check balance - order checks - pay bill - reset password - schedule appointment - get branch hours - none of the above\n",
            "summarize the issue/question/reason that drove the customer to contact support:\n",
            "### transcript: <agent> hello this is harper valley national bank my name is elizabeth <agent> how can i help you today <caller> hi elizabeth my name is patricia miller i was wondering if uh what your local branch hours are <agent> the branch hours are nine thirty a m to five o'clock p m <caller> wonderful thank you <agent> is there anything else i can help you with <caller> nope that would be it <agent> okay thank you for calling have a great day <caller> you too thank you bye bye <agent> bye\n",
            "### task type:\n",
            "INFO:ludwig.models.llm:Decoded generated output for the first example in batch: consider the case of a customer contacting the support center. the term \"task type\" refers to the reason for why the customer contacted support.\n",
            "### the possible task types are: ###   - replace card - transfer money - check balance - order checks - pay bill - reset password - schedule appointment - get branch hours - none of the above\n",
            "summarize the issue/question/reason that drove the customer to contact support:\n",
            "### transcript: <agent> hello this is harper valley national bank my name is elizabeth <agent> how can i help you today <caller> hi elizabeth my name is patricia miller i was wondering if uh what your local branch hours are <agent> the branch hours are nine thirty a m to five o'clock p m <caller> wonderful thank you <agent> is there anything else i can help you with <caller> nope that would be it <agent> okay thank you for calling have a great day <caller> you too thank you bye bye <agent> bye\n",
            "### task type: get branch hours\n",
            "INFO:ludwig.models.llm:Decoded text inputs for the first example in batch: consider the case of a customer contacting the support center. the term \"task type\" refers to the reason for why the customer contacted support.\n",
            "### the possible task types are: ###   - replace card - transfer money - check balance - order checks - pay bill - reset password - schedule appointment - get branch hours - none of the above\n",
            "summarize the issue/question/reason that drove the customer to contact support:\n",
            "### transcript: <agent> [noise] <agent> [noise] hello this is harper valley national bank my name is linda how can i help you today <caller> hi my name is michael jones <caller> and i was wondering what the local branch hours are <agent> for local branch hours are nine thirty a m to five p m <agent> [noise] <caller> nine thirty a m to five p m <caller> okay <agent> is there anything else i can help you with <caller> nope that is all i needed thank you <agent> thank you for calling have a great day <agent> [noise] <caller> you as well <agent> [dogs] <caller> [noise]\n",
            "### task type:\n",
            "INFO:ludwig.models.llm:Decoded generated output for the first example in batch: consider the case of a customer contacting the support center. the term \"task type\" refers to the reason for why the customer contacted support.\n",
            "### the possible task types are: ###   - replace card - transfer money - check balance - order checks - pay bill - reset password - schedule appointment - get branch hours - none of the above\n",
            "summarize the issue/question/reason that drove the customer to contact support:\n",
            "### transcript: <agent> [noise] <agent> [noise] hello this is harper valley national bank my name is linda how can i help you today <caller> hi my name is michael jones <caller> and i was wondering what the local branch hours are <agent> for local branch hours are nine thirty a m to five p m <agent> [noise] <caller> nine thirty a m to five p m <caller> okay <agent> is there anything else i can help you with <caller> nope that is all i needed thank you <agent> thank you for calling have a great day <agent> [noise] <caller> you as well <agent> [dogs] <caller> [noise]\n",
            "### task type: get branch hours\n",
            "INFO:ludwig.models.llm:Decoded text inputs for the first example in batch: consider the case of a customer contacting the support center. the term \"task type\" refers to the reason for why the customer contacted support.\n",
            "### the possible task types are: ###   - replace card - transfer money - check balance - order checks - pay bill - reset password - schedule appointment - get branch hours - none of the above\n",
            "summarize the issue/question/reason that drove the customer to contact support:\n",
            "### transcript: <agent> hello this is harper valley national bank my name is elizabeth how can i help you today <caller>  <caller> hi my name is jennifer johnson i would like to reset my password <agent> sure what is your phone number <caller> my phone number is seven zero six <caller> zero eight five <caller> six eight eight nine <agent> okay that's seven zero six zero eight five six eight eight nine <caller> correct <agent> your password reset link has been sent to your phone is there anything else i can help you with <caller> that'll be all thank you <agent> you're welcome thank you for calling have a great day\n",
            "### task type:\n",
            "INFO:ludwig.models.llm:Decoded generated output for the first example in batch: consider the case of a customer contacting the support center. the term \"task type\" refers to the reason for why the customer contacted support.\n",
            "### the possible task types are: ###   - replace card - transfer money - check balance - order checks - pay bill - reset password - schedule appointment - get branch hours - none of the above\n",
            "summarize the issue/question/reason that drove the customer to contact support:\n",
            "### transcript: <agent> hello this is harper valley national bank my name is elizabeth how can i help you today <caller>  <caller> hi my name is jennifer johnson i would like to reset my password <agent> sure what is your phone number <caller> my phone number is seven zero six <caller> zero eight five <caller> six eight eight nine <agent> okay that's seven zero six zero eight five six eight eight nine <caller> correct <agent> your password reset link has been sent to your phone is there anything else i can help you with <caller> that'll be all thank you <agent> you're welcome thank you for calling have a great day\n",
            "### task type: reset password\n",
            "INFO:ludwig.models.llm:Decoded text inputs for the first example in batch: consider the case of a customer contacting the support center. the term \"task type\" refers to the reason for why the customer contacted support.\n",
            "### the possible task types are: ###   - replace card - transfer money - check balance - order checks - pay bill - reset password - schedule appointment - get branch hours - none of the above\n",
            "summarize the issue/question/reason that drove the customer to contact support:\n",
            "### transcript: <agent> [noise] hello this is harper valley national bank my name is patricia how can i help you today <caller> hi my name is michael jones i need to check my account balance <agent> which account would you like to check <caller> my savings account <agent> your savings account balance is eighty one dollars is there anything else i can help you with <caller> that's all <agent> thank you for calling have a great day\n",
            "### task type:\n",
            "INFO:ludwig.models.llm:Decoded generated output for the first example in batch: consider the case of a customer contacting the support center. the term \"task type\" refers to the reason for why the customer contacted support.\n",
            "### the possible task types are: ###   - replace card - transfer money - check balance - order checks - pay bill - reset password - schedule appointment - get branch hours - none of the above\n",
            "summarize the issue/question/reason that drove the customer to contact support:\n",
            "### transcript: <agent> [noise] hello this is harper valley national bank my name is patricia how can i help you today <caller> hi my name is michael jones i need to check my account balance <agent> which account would you like to check <caller> my savings account <agent> your savings account balance is eighty one dollars is there anything else i can help you with <caller> that's all <agent> thank you for calling have a great day\n",
            "### task type: check balance\n",
            "INFO:ludwig.models.llm:Decoded text inputs for the first example in batch: consider the case of a customer contacting the support center. the term \"task type\" refers to the reason for why the customer contacted support.\n",
            "### the possible task types are: ###   - replace card - transfer money - check balance - order checks - pay bill - reset password - schedule appointment - get branch hours - none of the above\n",
            "summarize the issue/question/reason that drove the customer to contact support:\n",
            "### transcript: <agent> hello this is harper valley national bank my name is mary how can i help you today <caller> hi my name is robert miller and i would like to schedule an appointment <agent> what day would you like for your appointment <caller> [noise] <caller> monday <agent> and what time would you like for your appointment <caller> hmm two fifteen <agent> your appointment has been scheduled for monday at two fifteen p m is there anything else i can help you with <caller> mmm that's all <agent> thank you for calling have a great day <caller> thank you  \n",
            "### task type:\n",
            "INFO:ludwig.models.llm:Decoded generated output for the first example in batch: consider the case of a customer contacting the support center. the term \"task type\" refers to the reason for why the customer contacted support.\n",
            "### the possible task types are: ###   - replace card - transfer money - check balance - order checks - pay bill - reset password - schedule appointment - get branch hours - none of the above\n",
            "summarize the issue/question/reason that drove the customer to contact support:\n",
            "### transcript: <agent> hello this is harper valley national bank my name is mary how can i help you today <caller> hi my name is robert miller and i would like to schedule an appointment <agent> what day would you like for your appointment <caller> [noise] <caller> monday <agent> and what time would you like for your appointment <caller> hmm two fifteen <agent> your appointment has been scheduled for monday at two fifteen p m is there anything else i can help you with <caller> mmm that's all <agent> thank you for calling have a great day <caller> thank you  \n",
            "### task type: schedule appointment\n"
          ]
        },
        {
          "output_type": "stream",
          "name": "stdout",
          "text": [
            "Prediction: 100%|██████████| 1/1 [00:09<00:00,  9.68s/it]\n"
          ]
        },
        {
          "output_type": "stream",
          "name": "stderr",
          "text": [
            "INFO:ludwig.utils.tokenizers:Loaded HuggingFace implementation of HuggingFaceH4/zephyr-7b-beta tokenizer\n",
            "/usr/local/lib/python3.10/dist-packages/ludwig/features/feature_utils.py:102: RuntimeWarning: divide by zero encountered in log\n",
            "  return np.sum(np.log(sequence_probabilities))\n"
          ]
        }
      ]
    },
    {
      "cell_type": "code",
      "source": [
        "df_predictions: pd.DataFrame = predictions_and_probabilities[0]"
      ],
      "metadata": {
        "id": "d9Ri3EUzM6D4",
        "colab": {
          "base_uri": "https://localhost:8080/",
          "height": 17
        },
        "outputId": "848c7649-6b72-460c-dc7b-b6b7b8ed5d15"
      },
      "execution_count": null,
      "outputs": [
        {
          "output_type": "display_data",
          "data": {
            "text/plain": [
              "<IPython.core.display.HTML object>"
            ],
            "text/html": [
              "\n",
              "  <style>\n",
              "    pre {\n",
              "        white-space: pre-wrap;\n",
              "    }\n",
              "  </style>\n",
              "  "
            ]
          },
          "metadata": {}
        }
      ]
    },
    {
      "cell_type": "code",
      "source": [
        "df_predictions.columns"
      ],
      "metadata": {
        "id": "uaBlVTVRNElt",
        "colab": {
          "base_uri": "https://localhost:8080/",
          "height": 71
        },
        "outputId": "04ba0bf1-8915-4d09-9244-ee3df1df8dce"
      },
      "execution_count": null,
      "outputs": [
        {
          "output_type": "display_data",
          "data": {
            "text/plain": [
              "<IPython.core.display.HTML object>"
            ],
            "text/html": [
              "\n",
              "  <style>\n",
              "    pre {\n",
              "        white-space: pre-wrap;\n",
              "    }\n",
              "  </style>\n",
              "  "
            ]
          },
          "metadata": {}
        },
        {
          "output_type": "execute_result",
          "data": {
            "text/plain": [
              "Index(['task_type_predictions', 'task_type_probabilities',\n",
              "       'task_type_response', 'task_type_probability'],\n",
              "      dtype='object')"
            ]
          },
          "metadata": {},
          "execution_count": 102
        }
      ]
    },
    {
      "cell_type": "code",
      "source": [
        "print(\"\\n\\n\")\n",
        "for transcript_with_task_type in zip(df_evaluation['transcript'], df_predictions['task_type_response']):\n",
        "  print(f\"Transcript:\\n{transcript_with_task_type[0]}\")\n",
        "  print(f\"Generated Task_Type:\\n{transcript_with_task_type[1][0]}\")\n",
        "  print(\"\\n\\n\")"
      ],
      "metadata": {
        "id": "0dqwZyHLrkRb",
        "colab": {
          "base_uri": "https://localhost:8080/",
          "height": 1000
        },
        "outputId": "19561f47-63de-4366-ce05-142dd7cef4e8"
      },
      "execution_count": null,
      "outputs": [
        {
          "output_type": "display_data",
          "data": {
            "text/plain": [
              "<IPython.core.display.HTML object>"
            ],
            "text/html": [
              "\n",
              "  <style>\n",
              "    pre {\n",
              "        white-space: pre-wrap;\n",
              "    }\n",
              "  </style>\n",
              "  "
            ]
          },
          "metadata": {}
        },
        {
          "output_type": "stream",
          "name": "stdout",
          "text": [
            "\n",
            "\n",
            "\n",
            "Transcript:\n",
            "<agent> hello this is harper valley national bank my name is james how can i help you today <caller> [noise] <caller> hi my name is michael garcia i would like to pay a bill <agent> [noise] <agent> what's the company name <caller> fossil gas <agent> [noise] <agent> [noise] <agent> [noise] <agent> and what is the company address <caller> the address is one ninety main street <caller> forest ranch <caller> oregon <agent> [noise] <caller> seven five seven four two <agent> and what's the bill amount <caller> the amount of the bill is fifty dollars <agent> uhm we will send your payment to fossil gas fo fifty dollars is there anything else i can help you with today <caller> no <agent> okay thank you for calling have a great day\n",
            "Generated Task_Type:\n",
            "pay bill\n",
            "\n",
            "\n",
            "\n",
            "Transcript:\n",
            "<agent> hello this is harper valley national bank my name is michael how can i help you today <caller> hi my name is robert jones <caller> what are the local branch hours <agent> hi robert um the branch hours are nine thirty a m until five p m <caller> [noise] <caller> [noise] <caller> [noise] <agent> is there anything else <caller> no that's gonna be it thank you <agent> okay you're welcome have a good day\n",
            "Generated Task_Type:\n",
            "get branch hours\n",
            "\n",
            "\n",
            "\n",
            "Transcript:\n",
            "<agent> [noise] hello this is harper valley national bank my name is michael how can i help you today <caller> hi my name is mary garcia <caller> i would like to transfer money between my accounts <agent> what is the transfer amount <caller> a hundred and eleven dollars <agent> what is the source account <caller> my savings account <agent> what is the destination account <caller> to my checking account <agent> one hundred and eleven dollars has been transferred from your savings account to your checking account is there anything else i can help you with <caller> no thank you <agent> thank you for calling have a great day <caller> [noise] bye <agent> [noise]\n",
            "Generated Task_Type:\n",
            "transfer money\n",
            "\n",
            "\n",
            "\n",
            "Transcript:\n",
            "<caller> [noise] hello my name is elizabeth williams i'd like to reset my password today <caller>  <agent> alright hello this is harper valley national bank my name is linda and how can i help you today <agent>  <caller> so my phone number whenever you're ready <agent> yeah what is your phone number <caller> three seven two ten <caller> six nine seven one <agent>  <caller> [noise] <agent> can you repeat the phone number <caller> [noise] <caller> three seven two ten six nine seven one and that's all i'll be needing today <agent> hmm <agent> okay that was three seven two ten six nine seven one <caller> that is correct <agent> your password reset link has been sent to your phone <agent> thank you for calling have great day <caller> thanks <caller> \n",
            "Generated Task_Type:\n",
            "reset password\n",
            "\n",
            "\n",
            "\n",
            "Transcript:\n",
            "<agent> [noise] hello this is harper valley national bank my name is elizabeth how can i help you today <caller> hi my name is john jones and i would like to reset my password <agent> what is your phone number <caller> it's two seven nine <caller> four two one <caller> seven eight nine three <agent> your password reset link has been sent to your phone is there anything else i can help you with <caller> nope that's all i needed thank you <agent> thank you for calling have a great day <caller> thank you you too <agent> [noise]\n",
            "Generated Task_Type:\n",
            "reset password\n",
            "\n",
            "\n",
            "\n",
            "Transcript:\n",
            "<agent> hello this is harper valley national bank my name is elizabeth <agent> how can i help you today <caller> hi elizabeth my name is patricia miller i was wondering if uh what your local branch hours are <agent> the branch hours are nine thirty a m to five o'clock p m <caller> wonderful thank you <agent> is there anything else i can help you with <caller> nope that would be it <agent> okay thank you for calling have a great day <caller> you too thank you bye bye <agent> bye\n",
            "Generated Task_Type:\n",
            "get branch hours\n",
            "\n",
            "\n",
            "\n",
            "Transcript:\n",
            "<agent> [noise] <agent> [noise] hello this is harper valley national bank my name is linda how can i help you today <caller> hi my name is michael jones <caller> and i was wondering what the local branch hours are <agent> for local branch hours are nine thirty a m to five p m <agent> [noise] <caller> nine thirty a m to five p m <caller> okay <agent> is there anything else i can help you with <caller> nope that is all i needed thank you <agent> thank you for calling have a great day <agent> [noise] <caller> you as well <agent> [dogs] <caller> [noise]\n",
            "Generated Task_Type:\n",
            "get branch hours\n",
            "\n",
            "\n",
            "\n",
            "Transcript:\n",
            "<agent> hello this is harper valley national bank my name is elizabeth how can i help you today <caller>  <caller> hi my name is jennifer johnson i would like to reset my password <agent> sure what is your phone number <caller> my phone number is seven zero six <caller> zero eight five <caller> six eight eight nine <agent> okay that's seven zero six zero eight five six eight eight nine <caller> correct <agent> your password reset link has been sent to your phone is there anything else i can help you with <caller> that'll be all thank you <agent> you're welcome thank you for calling have a great day\n",
            "Generated Task_Type:\n",
            "reset password\n",
            "\n",
            "\n",
            "\n",
            "Transcript:\n",
            "<agent> [noise] hello this is harper valley national bank my name is patricia how can i help you today <caller> hi my name is michael jones i need to check my account balance <agent> which account would you like to check <caller> my savings account <agent> your savings account balance is eighty one dollars is there anything else i can help you with <caller> that's all <agent> thank you for calling have a great day\n",
            "Generated Task_Type:\n",
            "check balance\n",
            "\n",
            "\n",
            "\n",
            "Transcript:\n",
            "<agent> hello this is harper valley national bank my name is mary how can i help you today <caller> hi my name is robert miller and i would like to schedule an appointment <agent> what day would you like for your appointment <caller> [noise] <caller> monday <agent> and what time would you like for your appointment <caller> hmm two fifteen <agent> your appointment has been scheduled for monday at two fifteen p m is there anything else i can help you with <caller> mmm that's all <agent> thank you for calling have a great day <caller> thank you <unk>\n",
            "Generated Task_Type:\n",
            "schedule appointment\n",
            "\n",
            "\n",
            "\n"
          ]
        }
      ]
    },
    {
      "cell_type": "code",
      "source": [
        "df_control_example: pd.DataFrame = pd.DataFrame(\n",
        "    data={\n",
        "      \"transcript\": [test_transcript,],\n",
        "    }\n",
        ")\n",
        "df_control_example"
      ],
      "metadata": {
        "id": "vLP6o23ggNFi",
        "colab": {
          "base_uri": "https://localhost:8080/",
          "height": 193
        },
        "outputId": "7a23554e-74bd-44ab-e83f-8468e742caca"
      },
      "execution_count": null,
      "outputs": [
        {
          "output_type": "display_data",
          "data": {
            "text/plain": [
              "<IPython.core.display.HTML object>"
            ],
            "text/html": [
              "\n",
              "  <style>\n",
              "    pre {\n",
              "        white-space: pre-wrap;\n",
              "    }\n",
              "  </style>\n",
              "  "
            ]
          },
          "metadata": {}
        },
        {
          "output_type": "execute_result",
          "data": {
            "text/plain": [
              "                                          transcript\n",
              "0  \\n<caller> hello <agent> hello this is [uninte..."
            ],
            "text/html": [
              "\n",
              "  <div id=\"df-42dd0a52-2e48-4ef9-b0c3-8a0b6a3ad13b\" class=\"colab-df-container\">\n",
              "    <div>\n",
              "<style scoped>\n",
              "    .dataframe tbody tr th:only-of-type {\n",
              "        vertical-align: middle;\n",
              "    }\n",
              "\n",
              "    .dataframe tbody tr th {\n",
              "        vertical-align: top;\n",
              "    }\n",
              "\n",
              "    .dataframe thead th {\n",
              "        text-align: right;\n",
              "    }\n",
              "</style>\n",
              "<table border=\"1\" class=\"dataframe\">\n",
              "  <thead>\n",
              "    <tr style=\"text-align: right;\">\n",
              "      <th></th>\n",
              "      <th>transcript</th>\n",
              "    </tr>\n",
              "  </thead>\n",
              "  <tbody>\n",
              "    <tr>\n",
              "      <th>0</th>\n",
              "      <td>\\n&lt;caller&gt; hello &lt;agent&gt; hello this is [uninte...</td>\n",
              "    </tr>\n",
              "  </tbody>\n",
              "</table>\n",
              "</div>\n",
              "    <div class=\"colab-df-buttons\">\n",
              "\n",
              "  <div class=\"colab-df-container\">\n",
              "    <button class=\"colab-df-convert\" onclick=\"convertToInteractive('df-42dd0a52-2e48-4ef9-b0c3-8a0b6a3ad13b')\"\n",
              "            title=\"Convert this dataframe to an interactive table.\"\n",
              "            style=\"display:none;\">\n",
              "\n",
              "  <svg xmlns=\"http://www.w3.org/2000/svg\" height=\"24px\" viewBox=\"0 -960 960 960\">\n",
              "    <path d=\"M120-120v-720h720v720H120Zm60-500h600v-160H180v160Zm220 220h160v-160H400v160Zm0 220h160v-160H400v160ZM180-400h160v-160H180v160Zm440 0h160v-160H620v160ZM180-180h160v-160H180v160Zm440 0h160v-160H620v160Z\"/>\n",
              "  </svg>\n",
              "    </button>\n",
              "\n",
              "  <style>\n",
              "    .colab-df-container {\n",
              "      display:flex;\n",
              "      gap: 12px;\n",
              "    }\n",
              "\n",
              "    .colab-df-convert {\n",
              "      background-color: #E8F0FE;\n",
              "      border: none;\n",
              "      border-radius: 50%;\n",
              "      cursor: pointer;\n",
              "      display: none;\n",
              "      fill: #1967D2;\n",
              "      height: 32px;\n",
              "      padding: 0 0 0 0;\n",
              "      width: 32px;\n",
              "    }\n",
              "\n",
              "    .colab-df-convert:hover {\n",
              "      background-color: #E2EBFA;\n",
              "      box-shadow: 0px 1px 2px rgba(60, 64, 67, 0.3), 0px 1px 3px 1px rgba(60, 64, 67, 0.15);\n",
              "      fill: #174EA6;\n",
              "    }\n",
              "\n",
              "    .colab-df-buttons div {\n",
              "      margin-bottom: 4px;\n",
              "    }\n",
              "\n",
              "    [theme=dark] .colab-df-convert {\n",
              "      background-color: #3B4455;\n",
              "      fill: #D2E3FC;\n",
              "    }\n",
              "\n",
              "    [theme=dark] .colab-df-convert:hover {\n",
              "      background-color: #434B5C;\n",
              "      box-shadow: 0px 1px 3px 1px rgba(0, 0, 0, 0.15);\n",
              "      filter: drop-shadow(0px 1px 2px rgba(0, 0, 0, 0.3));\n",
              "      fill: #FFFFFF;\n",
              "    }\n",
              "  </style>\n",
              "\n",
              "    <script>\n",
              "      const buttonEl =\n",
              "        document.querySelector('#df-42dd0a52-2e48-4ef9-b0c3-8a0b6a3ad13b button.colab-df-convert');\n",
              "      buttonEl.style.display =\n",
              "        google.colab.kernel.accessAllowed ? 'block' : 'none';\n",
              "\n",
              "      async function convertToInteractive(key) {\n",
              "        const element = document.querySelector('#df-42dd0a52-2e48-4ef9-b0c3-8a0b6a3ad13b');\n",
              "        const dataTable =\n",
              "          await google.colab.kernel.invokeFunction('convertToInteractive',\n",
              "                                                    [key], {});\n",
              "        if (!dataTable) return;\n",
              "\n",
              "        const docLinkHtml = 'Like what you see? Visit the ' +\n",
              "          '<a target=\"_blank\" href=https://colab.research.google.com/notebooks/data_table.ipynb>data table notebook</a>'\n",
              "          + ' to learn more about interactive tables.';\n",
              "        element.innerHTML = '';\n",
              "        dataTable['output_type'] = 'display_data';\n",
              "        await google.colab.output.renderOutput(dataTable, element);\n",
              "        const docLink = document.createElement('div');\n",
              "        docLink.innerHTML = docLinkHtml;\n",
              "        element.appendChild(docLink);\n",
              "      }\n",
              "    </script>\n",
              "  </div>\n",
              "\n",
              "    </div>\n",
              "  </div>\n"
            ],
            "application/vnd.google.colaboratory.module+javascript": "\n      import \"https://ssl.gstatic.com/colaboratory/data_table/881c4a0d49046431/data_table.js\";\n\n      const table = window.createDataTable({\n        data: [[{\n            'v': 0,\n            'f': \"0\",\n        },\n\"\\n<caller> hello <agent> hello this is [unintelligible] national bank my name is jennifer <agent> how can i help you today <caller> hi my name is james william <caller> i lost my debit card <caller> can you send me a new one <agent> yes <agent> uh which card or would you like to replace <caller> my debit card <agent> okay i've ordered your replacement debit card is there anything else i can help you with today <caller> no that's gonna be all for me today <agent> [noise] <agent> alright thank you for calling have a great day <caller> you too bye <agent> [noise] <agent> [noise]\\n\"]],\n        columns: [[\"number\", \"index\"], [\"string\", \"transcript\"]],\n        columnOptions: [{\"width\": \"1px\", \"className\": \"index_column\"}],\n        rowsPerPage: 25,\n        helpUrl: \"https://colab.research.google.com/notebooks/data_table.ipynb\",\n        suppressOutputScrolling: true,\n        minimumWidth: undefined,\n      });\n\n      function appendQuickchartButton(parentElement) {\n        let quickchartButtonContainerElement = document.createElement('div');\n        quickchartButtonContainerElement.innerHTML = `\n<div id=\"df-9d23e35e-a3a7-40c8-9565-b5665670f3f4\">\n  <button class=\"colab-df-quickchart\" onclick=\"quickchart('df-9d23e35e-a3a7-40c8-9565-b5665670f3f4')\"\n            title=\"Suggest charts\"\n            style=\"display:none;\">\n    \n<svg xmlns=\"http://www.w3.org/2000/svg\" height=\"24px\"viewBox=\"0 0 24 24\"\n     width=\"24px\">\n    <g>\n        <path d=\"M19 3H5c-1.1 0-2 .9-2 2v14c0 1.1.9 2 2 2h14c1.1 0 2-.9 2-2V5c0-1.1-.9-2-2-2zM9 17H7v-7h2v7zm4 0h-2V7h2v10zm4 0h-2v-4h2v4z\"/>\n    </g>\n</svg>\n  </button>\n  \n<style>\n  .colab-df-quickchart {\n      --bg-color: #E8F0FE;\n      --fill-color: #1967D2;\n      --hover-bg-color: #E2EBFA;\n      --hover-fill-color: #174EA6;\n      --disabled-fill-color: #AAA;\n      --disabled-bg-color: #DDD;\n  }\n\n  [theme=dark] .colab-df-quickchart {\n      --bg-color: #3B4455;\n      --fill-color: #D2E3FC;\n      --hover-bg-color: #434B5C;\n      --hover-fill-color: #FFFFFF;\n      --disabled-bg-color: #3B4455;\n      --disabled-fill-color: #666;\n  }\n\n  .colab-df-quickchart {\n    background-color: var(--bg-color);\n    border: none;\n    border-radius: 50%;\n    cursor: pointer;\n    display: none;\n    fill: var(--fill-color);\n    height: 32px;\n    padding: 0;\n    width: 32px;\n  }\n\n  .colab-df-quickchart:hover {\n    background-color: var(--hover-bg-color);\n    box-shadow: 0 1px 2px rgba(60, 64, 67, 0.3), 0 1px 3px 1px rgba(60, 64, 67, 0.15);\n    fill: var(--button-hover-fill-color);\n  }\n\n  .colab-df-quickchart-complete:disabled,\n  .colab-df-quickchart-complete:disabled:hover {\n    background-color: var(--disabled-bg-color);\n    fill: var(--disabled-fill-color);\n    box-shadow: none;\n  }\n\n  .colab-df-spinner {\n    border: 2px solid var(--fill-color);\n    border-color: transparent;\n    border-bottom-color: var(--fill-color);\n    animation:\n      spin 1s steps(1) infinite;\n  }\n\n  @keyframes spin {\n    0% {\n      border-color: transparent;\n      border-bottom-color: var(--fill-color);\n      border-left-color: var(--fill-color);\n    }\n    20% {\n      border-color: transparent;\n      border-left-color: var(--fill-color);\n      border-top-color: var(--fill-color);\n    }\n    30% {\n      border-color: transparent;\n      border-left-color: var(--fill-color);\n      border-top-color: var(--fill-color);\n      border-right-color: var(--fill-color);\n    }\n    40% {\n      border-color: transparent;\n      border-right-color: var(--fill-color);\n      border-top-color: var(--fill-color);\n    }\n    60% {\n      border-color: transparent;\n      border-right-color: var(--fill-color);\n    }\n    80% {\n      border-color: transparent;\n      border-right-color: var(--fill-color);\n      border-bottom-color: var(--fill-color);\n    }\n    90% {\n      border-color: transparent;\n      border-bottom-color: var(--fill-color);\n    }\n  }\n</style>\n\n  <script>\n    async function quickchart(key) {\n      const quickchartButtonEl =\n        document.querySelector('#' + key + ' button');\n      quickchartButtonEl.disabled = true;  // To prevent multiple clicks.\n      quickchartButtonEl.classList.add('colab-df-spinner');\n      try {\n        const charts = await google.colab.kernel.invokeFunction(\n            'suggestCharts', [key], {});\n      } catch (error) {\n        console.error('Error during call to suggestCharts:', error);\n      }\n      quickchartButtonEl.classList.remove('colab-df-spinner');\n      quickchartButtonEl.classList.add('colab-df-quickchart-complete');\n    }\n    (() => {\n      let quickchartButtonEl =\n        document.querySelector('#df-9d23e35e-a3a7-40c8-9565-b5665670f3f4 button');\n      quickchartButtonEl.style.display =\n        google.colab.kernel.accessAllowed ? 'block' : 'none';\n    })();\n  </script>\n</div>`;\n        parentElement.appendChild(quickchartButtonContainerElement);\n      }\n\n      appendQuickchartButton(table);\n    "
          },
          "metadata": {},
          "execution_count": 104
        }
      ]
    },
    {
      "cell_type": "code",
      "source": [
        "predictions: list[list[str]] = predict(model=model, df_test=df_control_example)"
      ],
      "metadata": {
        "id": "IWq96fOff6E0",
        "colab": {
          "base_uri": "https://localhost:8080/",
          "height": 821
        },
        "outputId": "3a4ebf39-a8a8-4bab-c52e-5de647eab601"
      },
      "execution_count": null,
      "outputs": [
        {
          "output_type": "display_data",
          "data": {
            "text/plain": [
              "<IPython.core.display.HTML object>"
            ],
            "text/html": [
              "\n",
              "  <style>\n",
              "    pre {\n",
              "        white-space: pre-wrap;\n",
              "    }\n",
              "  </style>\n",
              "  "
            ]
          },
          "metadata": {}
        },
        {
          "output_type": "stream",
          "name": "stderr",
          "text": [
            "WARNING:ludwig.data.preprocessing:Specified split column split for fixed split strategy was not found in dataset.\n",
            "INFO:ludwig.utils.tokenizers:Loaded HuggingFace implementation of HuggingFaceH4/zephyr-7b-beta tokenizer\n",
            "Asking to truncate to max_length but no maximum length is provided and the model has no predefined maximum length. Default to no truncation.\n",
            "/usr/local/lib/python3.10/dist-packages/ludwig/data/preprocessing.py:1308: UserWarning: column: 'split' is required by the dataset splitter with params: {'type': 'fixed', 'column': 'split'}, but 'split' is not present in the `dataset_df` with columns: Index(['transcript'], dtype='object'). This is acceptable during serving setting where dataset splitting is irrelevant. You may see this warning if, for example, the model was trained with a configuration that used a stratified split on the target column, but for live predictions, a value for the target column is not to be provided.\n",
            "  warnings.warn(\n"
          ]
        },
        {
          "output_type": "stream",
          "name": "stdout",
          "text": [
            "\rPrediction:   0%|          | 0/1 [00:00<?, ?it/s]"
          ]
        },
        {
          "output_type": "stream",
          "name": "stderr",
          "text": [
            "INFO:ludwig.models.llm:Decoded text inputs for the first example in batch: consider the case of a customer contacting the support center. the term \"task type\" refers to the reason for why the customer contacted support.\n",
            "### the possible task types are: ###   - replace card - transfer money - check balance - order checks - pay bill - reset password - schedule appointment - get branch hours - none of the above\n",
            "summarize the issue/question/reason that drove the customer to contact support:\n",
            "### transcript: \n",
            "<caller> hello <agent> hello this is [unintelligible] national bank my name is jennifer <agent> how can i help you today <caller> hi my name is james william <caller> i lost my debit card <caller> can you send me a new one <agent> yes <agent> uh which card or would you like to replace <caller> my debit card <agent> okay i've ordered your replacement debit card is there anything else i can help you with today <caller> no that's gonna be all for me today <agent> [noise] <agent> alright thank you for calling have a great day <caller> you too bye <agent> [noise] <agent> [noise]\n",
            "\n",
            "### task type:\n",
            "INFO:ludwig.models.llm:Decoded generated output for the first example in batch: consider the case of a customer contacting the support center. the term \"task type\" refers to the reason for why the customer contacted support.\n",
            "### the possible task types are: ###   - replace card - transfer money - check balance - order checks - pay bill - reset password - schedule appointment - get branch hours - none of the above\n",
            "summarize the issue/question/reason that drove the customer to contact support:\n",
            "### transcript: \n",
            "<caller> hello <agent> hello this is [unintelligible] national bank my name is jennifer <agent> how can i help you today <caller> hi my name is james william <caller> i lost my debit card <caller> can you send me a new one <agent> yes <agent> uh which card or would you like to replace <caller> my debit card <agent> okay i've ordered your replacement debit card is there anything else i can help you with today <caller> no that's gonna be all for me today <agent> [noise] <agent> alright thank you for calling have a great day <caller> you too bye <agent> [noise] <agent> [noise]\n",
            "\n",
            "### task type: replace card\n"
          ]
        },
        {
          "output_type": "stream",
          "name": "stdout",
          "text": [
            "Prediction: 100%|██████████| 1/1 [00:00<00:00,  1.11it/s]\n"
          ]
        },
        {
          "output_type": "stream",
          "name": "stderr",
          "text": [
            "INFO:ludwig.utils.tokenizers:Loaded HuggingFace implementation of HuggingFaceH4/zephyr-7b-beta tokenizer\n",
            "/usr/local/lib/python3.10/dist-packages/ludwig/features/feature_utils.py:102: RuntimeWarning: divide by zero encountered in log\n",
            "  return np.sum(np.log(sequence_probabilities))\n"
          ]
        }
      ]
    },
    {
      "cell_type": "code",
      "source": [
        "one_prediction: str = predictions[0][0]\n",
        "print(f'\\n[GENERATED_TEXT] PREDICTION:\\n{one_prediction}')"
      ],
      "metadata": {
        "id": "b6zapjrAz-d_",
        "colab": {
          "base_uri": "https://localhost:8080/",
          "height": 71
        },
        "outputId": "520eba5a-dc4e-4b87-fd58-f556af7c4b56"
      },
      "execution_count": null,
      "outputs": [
        {
          "output_type": "display_data",
          "data": {
            "text/plain": [
              "<IPython.core.display.HTML object>"
            ],
            "text/html": [
              "\n",
              "  <style>\n",
              "    pre {\n",
              "        white-space: pre-wrap;\n",
              "    }\n",
              "  </style>\n",
              "  "
            ]
          },
          "metadata": {}
        },
        {
          "output_type": "stream",
          "name": "stdout",
          "text": [
            "\n",
            "[GENERATED_TEXT] PREDICTION:\n",
            "replace card\n"
          ]
        }
      ]
    },
    {
      "cell_type": "markdown",
      "source": [
        "# **Upload Trained Model Artifacts To HuggingFace** 🤗\n",
        "\n",
        "Now that we have a fine-tuned model, we can export the model weights to HuggingFace hub so we can use them in downstream tasks or in production. Ludwig supports uploading model weights directly to HuggingFace Hub via the `upload` Ludwig command.\n",
        "\n",
        "```\n",
        "!ludwig upload hf_hub --repo_id <hf_user_name>/<repo_name> --model_path <top_level_model_directory>\n",
        "```\n",
        "\n",
        "The `model-path` can be seen at the end of training/fine-tuning, as seen in this screenshot.\n",
        "\n",
        "<br>\n",
        "\n",
        "![Screenshot 2023-08-15 at 2.20.00 PM.png](data:image/png;base64,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)"
      ],
      "metadata": {
        "id": "LWxotc5kGcBD"
      }
    },
    {
      "cell_type": "code",
      "source": [
        "!ludwig upload hf_hub --repo_id \"alexsherstinsky/zephyr-7B-beta-based-finetuned-using-ludwig-with-harper_valley-T4-sharded-4bit-notmerged\" --model_path /content/results/api_experiment_run"
      ],
      "metadata": {
        "id": "-Y71BStbCQ1A",
        "colab": {
          "base_uri": "https://localhost:8080/",
          "height": 535
        },
        "outputId": "2839e098-83e2-44c5-9679-9024528f0061"
      },
      "execution_count": null,
      "outputs": [
        {
          "output_type": "display_data",
          "data": {
            "text/plain": [
              "<IPython.core.display.HTML object>"
            ],
            "text/html": [
              "\n",
              "  <style>\n",
              "    pre {\n",
              "        white-space: pre-wrap;\n",
              "    }\n",
              "  </style>\n",
              "  "
            ]
          },
          "metadata": {}
        },
        {
          "output_type": "stream",
          "name": "stdout",
          "text": [
            "\radapter_model.safetensors:   0% 0.00/13.6M [00:00<?, ?B/s]\n",
            "\rUpload 2 LFS files:   0% 0/2 [00:00<?, ?it/s]\u001b[A\n",
            "\n",
            "\radapter_model.safetensors:   0% 0.00/13.6M [00:00<?, ?B/s]\u001b[A\u001b[A\n",
            "\n",
            "adapter_model.safetensors:   0% 16.4k/13.6M [00:00<02:21, 96.3kB/s]\n",
            "\n",
            "adapter_model.safetensors:  77% 10.5M/13.6M [00:00<00:00, 30.2MB/s]\n",
            "\n",
            "adapter_model.safetensors: 100% 13.6M/13.6M [00:01<00:00, 12.0MB/s]\n",
            "\n",
            "\n",
            "adapter_model.safetensors:  22% 2.95M/13.6M [00:01<00:05, 1.92MB/s]\u001b[A\u001b[A\n",
            "\n",
            "adapter_model.safetensors:  36% 4.93M/13.6M [00:01<00:02, 4.13MB/s]\u001b[A\u001b[A\n",
            "\n",
            "adapter_model.safetensors:  44% 5.96M/13.6M [00:01<00:01, 4.92MB/s]\u001b[A\u001b[A\n",
            "Upload 2 LFS files:  50% 1/2 [00:01<00:01,  1.54s/it]\u001b[A\n",
            "\n",
            "adapter_model.safetensors:  59% 8.11M/13.6M [00:01<00:00, 7.16MB/s]\u001b[A\u001b[A\n",
            "\n",
            "adapter_model.safetensors:  73% 9.98M/13.6M [00:01<00:00, 9.08MB/s]\u001b[A\u001b[A\n",
            "\n",
            "adapter_model.safetensors: 100% 13.6M/13.6M [00:02<00:00, 5.32MB/s]\n",
            "\n",
            "Upload 2 LFS files: 100% 2/2 [00:02<00:00,  1.45s/it]\n",
            "Model uploaded to `https://huggingface.co/alexsherstinsky/zephyr-7B-beta-based-finetuned-using-ludwig-with-harper_valley-T4-sharded-4bit-notmerged/tree/main/` with repository name `alexsherstinsky/zephyr-7B-beta-based-finetuned-using-ludwig-with-harper_valley-T4-sharded-4bit-notmerged`\n"
          ]
        }
      ]
    },
    {
      "cell_type": "code",
      "source": [],
      "metadata": {
        "id": "PfJjc-ZW74S7"
      },
      "execution_count": null,
      "outputs": []
    },
    {
      "cell_type": "code",
      "source": [],
      "metadata": {
        "id": "8nUWrubnpANI"
      },
      "execution_count": null,
      "outputs": []
    },
    {
      "cell_type": "code",
      "source": [
        "harper_valley_fine_tuned_model_name: str = \"alexsherstinsky/zephyr-7B-beta-based-finetuned-using-ludwig-with-harper_valley-T4-sharded-4bit-notmerged\""
      ],
      "metadata": {
        "id": "SCH8OyED_ZEY",
        "colab": {
          "base_uri": "https://localhost:8080/",
          "height": 17
        },
        "outputId": "cc63d71f-4064-4bac-8199-a31864f75525"
      },
      "execution_count": null,
      "outputs": [
        {
          "output_type": "display_data",
          "data": {
            "text/plain": [
              "<IPython.core.display.HTML object>"
            ],
            "text/html": [
              "\n",
              "  <style>\n",
              "    pre {\n",
              "        white-space: pre-wrap;\n",
              "    }\n",
              "  </style>\n",
              "  "
            ]
          },
          "metadata": {}
        }
      ]
    },
    {
      "cell_type": "code",
      "source": [],
      "metadata": {
        "id": "fubNdP6Yqpdw"
      },
      "execution_count": null,
      "outputs": []
    },
    {
      "cell_type": "code",
      "source": [],
      "metadata": {
        "id": "TwVmKFKojLSu"
      },
      "execution_count": null,
      "outputs": []
    },
    {
      "cell_type": "code",
      "source": [],
      "metadata": {
        "id": "mXF8mn9QpAf3"
      },
      "execution_count": null,
      "outputs": []
    },
    {
      "cell_type": "code",
      "source": [],
      "metadata": {
        "id": "v1mjIXRrEIcs"
      },
      "execution_count": null,
      "outputs": []
    },
    {
      "cell_type": "code",
      "source": [
        "gc.collect()"
      ],
      "metadata": {
        "id": "4YT5UXXvEH9-",
        "colab": {
          "base_uri": "https://localhost:8080/",
          "height": 35
        },
        "outputId": "812b1220-adda-47f1-d726-e9915ca81263"
      },
      "execution_count": null,
      "outputs": [
        {
          "output_type": "display_data",
          "data": {
            "text/plain": [
              "<IPython.core.display.HTML object>"
            ],
            "text/html": [
              "\n",
              "  <style>\n",
              "    pre {\n",
              "        white-space: pre-wrap;\n",
              "    }\n",
              "  </style>\n",
              "  "
            ]
          },
          "metadata": {}
        },
        {
          "output_type": "execute_result",
          "data": {
            "text/plain": [
              "224"
            ]
          },
          "metadata": {},
          "execution_count": 121
        }
      ]
    },
    {
      "cell_type": "code",
      "source": [],
      "metadata": {
        "id": "YVxHFguz68Ib"
      },
      "execution_count": null,
      "outputs": []
    },
    {
      "cell_type": "code",
      "source": [],
      "metadata": {
        "id": "Dw0BnWVW677N"
      },
      "execution_count": null,
      "outputs": []
    },
    {
      "cell_type": "code",
      "source": [
        "print(f'\\n[LOADING_MODEL] FINE_TUNED_AND_NOT_MERGED:\\n{harper_valley_fine_tuned_model_name}')\n",
        "harper_valley_tokenizer = base_model_tokenizer\n",
        "harper_valley_model: PeftModelForCausalLM = PeftModel.from_pretrained(model=base_model, model_id=harper_valley_fine_tuned_model_name)"
      ],
      "metadata": {
        "colab": {
          "base_uri": "https://localhost:8080/",
          "height": 135,
          "referenced_widgets": [
            "ad9326f364fb4b9fb28e9f4f4158f22a",
            "0bfb6231160943f7afe8dd568bef3eac",
            "83a2e350ca31401bb34143b8bbfa744f",
            "b74d272785024e53af5ddd355b9dc463",
            "3bb8305da1854d72a88119246f6ac02a",
            "aadc073680bd42618793259eaf5d9df1",
            "63e562835b114ceeaf263c08fcc0ea4e",
            "5e99331eb38140a1b1f84107411f6935",
            "aa4d32276ee642e49ac1a40a75829a0a",
            "5811258fe62249df9c4a14150a411b33",
            "ecee7c3113704339ab3b590ffe170c52",
            "6ee89ceef16e4bb48914dbc4f8a5c49f",
            "c2c86630cb244197981b03ab1504edca",
            "487a971c484246f3b973ae0800fec53c",
            "442682a487f34f19b57af54bf57d6db4",
            "d690a26d12854883ad989bb5c1cd687c",
            "613b4a50809b4f65892d7654db7cbf47",
            "b158979a336a444baa82d6a0428e927c",
            "ed6da05402694864b84dd614ed58ac0e",
            "9aaa4c0198244b5a8d75edb368748832",
            "a26585429f614ba098a8e49df32b556c",
            "b5ee8ab0c0d04392b8315b95bd411e4e"
          ]
        },
        "id": "bJY75vo7XOwA",
        "outputId": "abb26a96-b669-41cd-a50a-e0e5cdd58e8e"
      },
      "execution_count": null,
      "outputs": [
        {
          "output_type": "display_data",
          "data": {
            "text/plain": [
              "<IPython.core.display.HTML object>"
            ],
            "text/html": [
              "\n",
              "  <style>\n",
              "    pre {\n",
              "        white-space: pre-wrap;\n",
              "    }\n",
              "  </style>\n",
              "  "
            ]
          },
          "metadata": {}
        },
        {
          "output_type": "stream",
          "name": "stdout",
          "text": [
            "\n",
            "[LOADING_MODEL] FINE_TUNED_AND_NOT_MERGED:\n",
            "alexsherstinsky/zephyr-7B-beta-based-finetuned-using-ludwig-with-harper_valley-T4-sharded-4bit-notmerged\n"
          ]
        },
        {
          "output_type": "display_data",
          "data": {
            "text/plain": [
              "adapter_config.json:   0%|          | 0.00/580 [00:00<?, ?B/s]"
            ],
            "application/vnd.jupyter.widget-view+json": {
              "version_major": 2,
              "version_minor": 0,
              "model_id": "ad9326f364fb4b9fb28e9f4f4158f22a"
            }
          },
          "metadata": {}
        },
        {
          "output_type": "display_data",
          "data": {
            "text/plain": [
              "adapter_model.safetensors:   0%|          | 0.00/13.6M [00:00<?, ?B/s]"
            ],
            "application/vnd.jupyter.widget-view+json": {
              "version_major": 2,
              "version_minor": 0,
              "model_id": "6ee89ceef16e4bb48914dbc4f8a5c49f"
            }
          },
          "metadata": {}
        }
      ]
    },
    {
      "cell_type": "code",
      "source": [],
      "metadata": {
        "id": "7IN-YAqjOVFz"
      },
      "execution_count": null,
      "outputs": []
    },
    {
      "cell_type": "code",
      "source": [],
      "metadata": {
        "id": "Vl6plG8pOVKf"
      },
      "execution_count": null,
      "outputs": []
    },
    {
      "cell_type": "code",
      "source": [
        "gc.collect()"
      ],
      "metadata": {
        "id": "iPoQC0z0OVO7",
        "colab": {
          "base_uri": "https://localhost:8080/",
          "height": 35
        },
        "outputId": "f1e47dcb-41ba-4758-8a36-22a9ae7da25e"
      },
      "execution_count": null,
      "outputs": [
        {
          "output_type": "display_data",
          "data": {
            "text/plain": [
              "<IPython.core.display.HTML object>"
            ],
            "text/html": [
              "\n",
              "  <style>\n",
              "    pre {\n",
              "        white-space: pre-wrap;\n",
              "    }\n",
              "  </style>\n",
              "  "
            ]
          },
          "metadata": {}
        },
        {
          "output_type": "execute_result",
          "data": {
            "text/plain": [
              "0"
            ]
          },
          "metadata": {},
          "execution_count": 123
        }
      ]
    },
    {
      "cell_type": "code",
      "source": [],
      "metadata": {
        "id": "KRmyHTkp-a7E"
      },
      "execution_count": null,
      "outputs": []
    },
    {
      "cell_type": "code",
      "source": [],
      "metadata": {
        "id": "Eu9o1PFE-Vyo"
      },
      "execution_count": null,
      "outputs": []
    },
    {
      "cell_type": "code",
      "source": [
        "harper_valley_sequences_generator: TextGenerationPipeline = transformers.pipeline(\n",
        "    task=\"text-generation\",\n",
        "    tokenizer=harper_valley_tokenizer,\n",
        "    model=harper_valley_model,\n",
        "    torch_dtype=torch.float16,\n",
        "    device_map=\"auto\",\n",
        ")"
      ],
      "metadata": {
        "id": "ce4yrJVCY7_U",
        "colab": {
          "base_uri": "https://localhost:8080/",
          "height": 267
        },
        "outputId": "d5167352-841c-403a-b6dc-3ae420355ed9"
      },
      "execution_count": null,
      "outputs": [
        {
          "output_type": "display_data",
          "data": {
            "text/plain": [
              "<IPython.core.display.HTML object>"
            ],
            "text/html": [
              "\n",
              "  <style>\n",
              "    pre {\n",
              "        white-space: pre-wrap;\n",
              "    }\n",
              "  </style>\n",
              "  "
            ]
          },
          "metadata": {}
        },
        {
          "output_type": "stream",
          "name": "stderr",
          "text": [
            "The model 'PeftModelForCausalLM' is not supported for text-generation. Supported models are ['BartForCausalLM', 'BertLMHeadModel', 'BertGenerationDecoder', 'BigBirdForCausalLM', 'BigBirdPegasusForCausalLM', 'BioGptForCausalLM', 'BlenderbotForCausalLM', 'BlenderbotSmallForCausalLM', 'BloomForCausalLM', 'CamembertForCausalLM', 'LlamaForCausalLM', 'CodeGenForCausalLM', 'CpmAntForCausalLM', 'CTRLLMHeadModel', 'Data2VecTextForCausalLM', 'ElectraForCausalLM', 'ErnieForCausalLM', 'FalconForCausalLM', 'FuyuForCausalLM', 'GitForCausalLM', 'GPT2LMHeadModel', 'GPT2LMHeadModel', 'GPTBigCodeForCausalLM', 'GPTNeoForCausalLM', 'GPTNeoXForCausalLM', 'GPTNeoXJapaneseForCausalLM', 'GPTJForCausalLM', 'LlamaForCausalLM', 'MarianForCausalLM', 'MBartForCausalLM', 'MegaForCausalLM', 'MegatronBertForCausalLM', 'MistralForCausalLM', 'MptForCausalLM', 'MusicgenForCausalLM', 'MvpForCausalLM', 'OpenLlamaForCausalLM', 'OpenAIGPTLMHeadModel', 'OPTForCausalLM', 'PegasusForCausalLM', 'PersimmonForCausalLM', 'PLBartForCausalLM', 'ProphetNetForCausalLM', 'QDQBertLMHeadModel', 'ReformerModelWithLMHead', 'RemBertForCausalLM', 'RobertaForCausalLM', 'RobertaPreLayerNormForCausalLM', 'RoCBertForCausalLM', 'RoFormerForCausalLM', 'RwkvForCausalLM', 'Speech2Text2ForCausalLM', 'TransfoXLLMHeadModel', 'TrOCRForCausalLM', 'WhisperForCausalLM', 'XGLMForCausalLM', 'XLMWithLMHeadModel', 'XLMProphetNetForCausalLM', 'XLMRobertaForCausalLM', 'XLMRobertaXLForCausalLM', 'XLNetLMHeadModel', 'XmodForCausalLM'].\n"
          ]
        }
      ]
    },
    {
      "cell_type": "code",
      "source": [],
      "metadata": {
        "id": "7Vq6v-xxC03q"
      },
      "execution_count": null,
      "outputs": []
    },
    {
      "cell_type": "code",
      "source": [
        "harper_valley_sequences: list[dict] | list[list[dict]] = harper_valley_sequences_generator(\n",
        "    text_inputs=test_prompt,\n",
        "    do_sample=True,\n",
        "    top_k=50,\n",
        "    num_return_sequences=1,\n",
        "    eos_token_id=harper_valley_tokenizer.eos_token_id,\n",
        "    max_length=512,\n",
        "    return_text=True,\n",
        ")"
      ],
      "metadata": {
        "id": "gw2ahnKNZ9BR",
        "colab": {
          "base_uri": "https://localhost:8080/",
          "height": 17
        },
        "outputId": "86616510-3b1d-4da3-f090-3eff81b94864"
      },
      "execution_count": null,
      "outputs": [
        {
          "output_type": "display_data",
          "data": {
            "text/plain": [
              "<IPython.core.display.HTML object>"
            ],
            "text/html": [
              "\n",
              "  <style>\n",
              "    pre {\n",
              "        white-space: pre-wrap;\n",
              "    }\n",
              "  </style>\n",
              "  "
            ]
          },
          "metadata": {}
        }
      ]
    },
    {
      "cell_type": "code",
      "source": [
        "harper_valley_sequence: dict = harper_valley_sequences[0]"
      ],
      "metadata": {
        "id": "OHp1QhUZY8CL",
        "colab": {
          "base_uri": "https://localhost:8080/",
          "height": 17
        },
        "outputId": "300b7723-14db-4b58-b052-984a1d1e5946"
      },
      "execution_count": null,
      "outputs": [
        {
          "output_type": "display_data",
          "data": {
            "text/plain": [
              "<IPython.core.display.HTML object>"
            ],
            "text/html": [
              "\n",
              "  <style>\n",
              "    pre {\n",
              "        white-space: pre-wrap;\n",
              "    }\n",
              "  </style>\n",
              "  "
            ]
          },
          "metadata": {}
        }
      ]
    },
    {
      "cell_type": "code",
      "source": [
        "print(f'\\n[GENERATED_TEXT] FINE_TUNED_MODEL_PREDICTION:\\n{harper_valley_sequence[\"generated_text\"]} ; TYPE: {str(type(harper_valley_sequence[\"generated_text\"]))}')"
      ],
      "metadata": {
        "id": "DNIJBIBVY8FU",
        "colab": {
          "base_uri": "https://localhost:8080/",
          "height": 553
        },
        "outputId": "65d3bc2f-5dd8-430a-b442-3ac67a09b924"
      },
      "execution_count": null,
      "outputs": [
        {
          "output_type": "display_data",
          "data": {
            "text/plain": [
              "<IPython.core.display.HTML object>"
            ],
            "text/html": [
              "\n",
              "  <style>\n",
              "    pre {\n",
              "        white-space: pre-wrap;\n",
              "    }\n",
              "  </style>\n",
              "  "
            ]
          },
          "metadata": {}
        },
        {
          "output_type": "stream",
          "name": "stdout",
          "text": [
            "\n",
            "[GENERATED_TEXT] FINE_TUNED_MODEL_PREDICTION:\n",
            "\n",
            "Consider the case of a customer contacting the support center.\n",
            "The term \"task type\" refers to the reason for why the customer contacted support.\n",
            "\n",
            "### The possible task types are: ###  \n",
            "- replace card\n",
            "- transfer money\n",
            "- check balance\n",
            "- order checks\n",
            "- pay bill\n",
            "- reset password\n",
            "- schedule appointment\n",
            "- get branch hours\n",
            "- none of the above\n",
            "\n",
            "Summarize the issue/question/reason that drove the customer to contact support:\n",
            "\n",
            "### Transcript: \n",
            "<caller> hello <agent> hello this is [unintelligible] national bank my name is jennifer <agent> how can i help you today <caller> hi my name is james william <caller> i lost my debit card <caller> can you send me a new one <agent> yes <agent> uh which card or would you like to replace <caller> my debit card <agent> okay i've ordered your replacement debit card is there anything else i can help you with today <caller> no that's gonna be all for me today <agent> [noise] <agent> alright thank you for calling have a great day <caller> you too bye <agent> [noise] <agent> [noise]\n",
            "\n",
            "\n",
            "### Task Type:\n",
            " replace card ; TYPE: <class 'str'>\n"
          ]
        }
      ]
    },
    {
      "cell_type": "code",
      "source": [],
      "metadata": {
        "id": "MhjUYgzLit5T"
      },
      "execution_count": null,
      "outputs": []
    },
    {
      "cell_type": "code",
      "source": [],
      "metadata": {
        "id": "nN1ztfu6D9yW"
      },
      "execution_count": null,
      "outputs": []
    },
    {
      "cell_type": "code",
      "source": [
        "gc.collect()"
      ],
      "metadata": {
        "id": "GmlEWKz1D9yW",
        "colab": {
          "base_uri": "https://localhost:8080/",
          "height": 35
        },
        "outputId": "c8218b92-c87e-45f6-8ecb-4c464d53fc66"
      },
      "execution_count": null,
      "outputs": [
        {
          "output_type": "display_data",
          "data": {
            "text/plain": [
              "<IPython.core.display.HTML object>"
            ],
            "text/html": [
              "\n",
              "  <style>\n",
              "    pre {\n",
              "        white-space: pre-wrap;\n",
              "    }\n",
              "  </style>\n",
              "  "
            ]
          },
          "metadata": {}
        },
        {
          "output_type": "execute_result",
          "data": {
            "text/plain": [
              "18"
            ]
          },
          "metadata": {},
          "execution_count": 128
        }
      ]
    },
    {
      "cell_type": "code",
      "source": [],
      "metadata": {
        "id": "2IlJMGIHa8Gl"
      },
      "execution_count": null,
      "outputs": []
    },
    {
      "cell_type": "code",
      "source": [],
      "metadata": {
        "id": "r7NRj-eFa75l"
      },
      "execution_count": null,
      "outputs": []
    },
    {
      "cell_type": "code",
      "source": [
        "df_harper_valley_evaluation: pd.DataFrame = df_evaluation.copy()"
      ],
      "metadata": {
        "id": "m6MoKuHxCk4c",
        "colab": {
          "base_uri": "https://localhost:8080/",
          "height": 17
        },
        "outputId": "353ba414-04d0-4d07-eb47-316445e40488"
      },
      "execution_count": null,
      "outputs": [
        {
          "output_type": "display_data",
          "data": {
            "text/plain": [
              "<IPython.core.display.HTML object>"
            ],
            "text/html": [
              "\n",
              "  <style>\n",
              "    pre {\n",
              "        white-space: pre-wrap;\n",
              "    }\n",
              "  </style>\n",
              "  "
            ]
          },
          "metadata": {}
        }
      ]
    },
    {
      "cell_type": "code",
      "source": [
        "df_harper_valley_evaluation[\"prompt\"] = df_harper_valley_evaluation[\"transcript\"].apply(lambda x: prompt_template.format(**{\"transcript\": x}))"
      ],
      "metadata": {
        "id": "vT-Z_9pdDFgl",
        "colab": {
          "base_uri": "https://localhost:8080/",
          "height": 17
        },
        "outputId": "f2693a8b-4010-499f-81b3-b8cf07aa4786"
      },
      "execution_count": null,
      "outputs": [
        {
          "output_type": "display_data",
          "data": {
            "text/plain": [
              "<IPython.core.display.HTML object>"
            ],
            "text/html": [
              "\n",
              "  <style>\n",
              "    pre {\n",
              "        white-space: pre-wrap;\n",
              "    }\n",
              "  </style>\n",
              "  "
            ]
          },
          "metadata": {}
        }
      ]
    },
    {
      "cell_type": "code",
      "source": [
        "harper_valley_sequences: list[dict] | list[list[dict]] = harper_valley_sequences_generator(\n",
        "    text_inputs=df_harper_valley_evaluation[\"prompt\"].to_list(),\n",
        "    do_sample=True,\n",
        "    top_k=50,\n",
        "    num_return_sequences=1,\n",
        "    eos_token_id=harper_valley_tokenizer.eos_token_id,\n",
        "    max_length=512,\n",
        "    return_text=True,\n",
        ")"
      ],
      "metadata": {
        "id": "fW2wlr4dDfHN",
        "colab": {
          "base_uri": "https://localhost:8080/",
          "height": 17
        },
        "outputId": "55ab4666-1701-4ae7-b33a-f6506f99a59c"
      },
      "execution_count": null,
      "outputs": [
        {
          "output_type": "display_data",
          "data": {
            "text/plain": [
              "<IPython.core.display.HTML object>"
            ],
            "text/html": [
              "\n",
              "  <style>\n",
              "    pre {\n",
              "        white-space: pre-wrap;\n",
              "    }\n",
              "  </style>\n",
              "  "
            ]
          },
          "metadata": {}
        }
      ]
    },
    {
      "cell_type": "code",
      "source": [],
      "metadata": {
        "id": "dVW5tNRK5J6c"
      },
      "execution_count": null,
      "outputs": []
    },
    {
      "cell_type": "code",
      "source": [
        "print(f'\\n[FINE_TUNED_MODEL_EVALUATION_BEGIN]')\n",
        "idx: int = 0\n",
        "print(f'\\n[=============EXAMPLE_{idx}_BEGIN=============]')\n",
        "for transcript, task_type in zip(df_harper_valley_evaluation[\"transcript\"].to_list(), harper_valley_sequences):\n",
        "  print(f'\\n[FINE_TUNED_MODEL_EVALUATION] GENERATED_TASK_TYPE:\\n{task_type[0][\"generated_text\"]}')\n",
        "  print(f'\\n[=============EXAMPLE_{idx}_END=============]')\n",
        "  idx += 1\n",
        "\n",
        "print(f'\\n[FINE_TUNED_MODEL_EVALUATION_END]')"
      ],
      "metadata": {
        "id": "W1e56lBUaW7I",
        "colab": {
          "base_uri": "https://localhost:8080/",
          "height": 1000
        },
        "outputId": "5ba38733-02eb-4efc-bbcf-d286b6ae7950"
      },
      "execution_count": null,
      "outputs": [
        {
          "output_type": "display_data",
          "data": {
            "text/plain": [
              "<IPython.core.display.HTML object>"
            ],
            "text/html": [
              "\n",
              "  <style>\n",
              "    pre {\n",
              "        white-space: pre-wrap;\n",
              "    }\n",
              "  </style>\n",
              "  "
            ]
          },
          "metadata": {}
        },
        {
          "output_type": "stream",
          "name": "stdout",
          "text": [
            "\n",
            "[FINE_TUNED_MODEL_EVALUATION_BEGIN]\n",
            "\n",
            "[=============EXAMPLE_0_BEGIN=============]\n",
            "\n",
            "[FINE_TUNED_MODEL_EVALUATION] GENERATED_TASK_TYPE:\n",
            "\n",
            "Consider the case of a customer contacting the support center.\n",
            "The term \"task type\" refers to the reason for why the customer contacted support.\n",
            "\n",
            "### The possible task types are: ###  \n",
            "- replace card\n",
            "- transfer money\n",
            "- check balance\n",
            "- order checks\n",
            "- pay bill\n",
            "- reset password\n",
            "- schedule appointment\n",
            "- get branch hours\n",
            "- none of the above\n",
            "\n",
            "Summarize the issue/question/reason that drove the customer to contact support:\n",
            "\n",
            "### Transcript: <agent> hello this is harper valley national bank my name is james how can i help you today <caller> [noise] <caller> hi my name is michael garcia i would like to pay a bill <agent> [noise] <agent> what's the company name <caller> fossil gas <agent> [noise] <agent> [noise] <agent> [noise] <agent> and what is the company address <caller> the address is one ninety main street <caller> forest ranch <caller> oregon <agent> [noise] <caller> seven five seven four two <agent> and what's the bill amount <caller> the amount of the bill is fifty dollars <agent> uhm we will send your payment to fossil gas fo fifty dollars is there anything else i can help you with today <caller> no <agent> okay thank you for calling have a great day\n",
            "\n",
            "### Task Type:\n",
            " pay bill\n",
            "\n",
            "[=============EXAMPLE_0_END=============]\n",
            "\n",
            "[FINE_TUNED_MODEL_EVALUATION] GENERATED_TASK_TYPE:\n",
            "\n",
            "Consider the case of a customer contacting the support center.\n",
            "The term \"task type\" refers to the reason for why the customer contacted support.\n",
            "\n",
            "### The possible task types are: ###  \n",
            "- replace card\n",
            "- transfer money\n",
            "- check balance\n",
            "- order checks\n",
            "- pay bill\n",
            "- reset password\n",
            "- schedule appointment\n",
            "- get branch hours\n",
            "- none of the above\n",
            "\n",
            "Summarize the issue/question/reason that drove the customer to contact support:\n",
            "\n",
            "### Transcript: <agent> hello this is harper valley national bank my name is michael how can i help you today <caller> hi my name is robert jones <caller> what are the local branch hours <agent> hi robert um the branch hours are nine thirty a m until five p m <caller> [noise] <caller> [noise] <caller> [noise] <agent> is there anything else <caller> no that's gonna be it thank you <agent> okay you're welcome have a good day\n",
            "\n",
            "### Task Type:\n",
            " get branch hours\n",
            "\n",
            "[=============EXAMPLE_1_END=============]\n",
            "\n",
            "[FINE_TUNED_MODEL_EVALUATION] GENERATED_TASK_TYPE:\n",
            "\n",
            "Consider the case of a customer contacting the support center.\n",
            "The term \"task type\" refers to the reason for why the customer contacted support.\n",
            "\n",
            "### The possible task types are: ###  \n",
            "- replace card\n",
            "- transfer money\n",
            "- check balance\n",
            "- order checks\n",
            "- pay bill\n",
            "- reset password\n",
            "- schedule appointment\n",
            "- get branch hours\n",
            "- none of the above\n",
            "\n",
            "Summarize the issue/question/reason that drove the customer to contact support:\n",
            "\n",
            "### Transcript: <agent> [noise] hello this is harper valley national bank my name is michael how can i help you today <caller> hi my name is mary garcia <caller> i would like to transfer money between my accounts <agent> what is the transfer amount <caller> a hundred and eleven dollars <agent> what is the source account <caller> my savings account <agent> what is the destination account <caller> to my checking account <agent> one hundred and eleven dollars has been transferred from your savings account to your checking account is there anything else i can help you with <caller> no thank you <agent> thank you for calling have a great day <caller> [noise] bye <agent> [noise]\n",
            "\n",
            "### Task Type:\n",
            "Transfer money\n",
            "\n",
            "[=============EXAMPLE_2_END=============]\n",
            "\n",
            "[FINE_TUNED_MODEL_EVALUATION] GENERATED_TASK_TYPE:\n",
            "\n",
            "Consider the case of a customer contacting the support center.\n",
            "The term \"task type\" refers to the reason for why the customer contacted support.\n",
            "\n",
            "### The possible task types are: ###  \n",
            "- replace card\n",
            "- transfer money\n",
            "- check balance\n",
            "- order checks\n",
            "- pay bill\n",
            "- reset password\n",
            "- schedule appointment\n",
            "- get branch hours\n",
            "- none of the above\n",
            "\n",
            "Summarize the issue/question/reason that drove the customer to contact support:\n",
            "\n",
            "### Transcript: <caller> [noise] hello my name is elizabeth williams i'd like to reset my password today <caller>  <agent> alright hello this is harper valley national bank my name is linda and how can i help you today <agent>  <caller> so my phone number whenever you're ready <agent> yeah what is your phone number <caller> three seven two ten <caller> six nine seven one <agent>  <caller> [noise] <agent> can you repeat the phone number <caller> [noise] <caller> three seven two ten six nine seven one and that's all i'll be needing today <agent> hmm <agent> okay that was three seven two ten six nine seven one <caller> that is correct <agent> your password reset link has been sent to your phone <agent> thank you for calling have great day <caller> thanks <caller> \n",
            "\n",
            "### Task Type:\n",
            " Reset password\n",
            "\n",
            "[=============EXAMPLE_3_END=============]\n",
            "\n",
            "[FINE_TUNED_MODEL_EVALUATION] GENERATED_TASK_TYPE:\n",
            "\n",
            "Consider the case of a customer contacting the support center.\n",
            "The term \"task type\" refers to the reason for why the customer contacted support.\n",
            "\n",
            "### The possible task types are: ###  \n",
            "- replace card\n",
            "- transfer money\n",
            "- check balance\n",
            "- order checks\n",
            "- pay bill\n",
            "- reset password\n",
            "- schedule appointment\n",
            "- get branch hours\n",
            "- none of the above\n",
            "\n",
            "Summarize the issue/question/reason that drove the customer to contact support:\n",
            "\n",
            "### Transcript: <agent> [noise] hello this is harper valley national bank my name is elizabeth how can i help you today <caller> hi my name is john jones and i would like to reset my password <agent> what is your phone number <caller> it's two seven nine <caller> four two one <caller> seven eight nine three <agent> your password reset link has been sent to your phone is there anything else i can help you with <caller> nope that's all i needed thank you <agent> thank you for calling have a great day <caller> thank you you too <agent> [noise]\n",
            "\n",
            "### Task Type:\n",
            "reset password\n",
            "\n",
            "[=============EXAMPLE_4_END=============]\n",
            "\n",
            "[FINE_TUNED_MODEL_EVALUATION] GENERATED_TASK_TYPE:\n",
            "\n",
            "Consider the case of a customer contacting the support center.\n",
            "The term \"task type\" refers to the reason for why the customer contacted support.\n",
            "\n",
            "### The possible task types are: ###  \n",
            "- replace card\n",
            "- transfer money\n",
            "- check balance\n",
            "- order checks\n",
            "- pay bill\n",
            "- reset password\n",
            "- schedule appointment\n",
            "- get branch hours\n",
            "- none of the above\n",
            "\n",
            "Summarize the issue/question/reason that drove the customer to contact support:\n",
            "\n",
            "### Transcript: <agent> hello this is harper valley national bank my name is elizabeth <agent> how can i help you today <caller> hi elizabeth my name is patricia miller i was wondering if uh what your local branch hours are <agent> the branch hours are nine thirty a m to five o'clock p m <caller> wonderful thank you <agent> is there anything else i can help you with <caller> nope that would be it <agent> okay thank you for calling have a great day <caller> you too thank you bye bye <agent> bye\n",
            "\n",
            "### Task Type:\n",
            " get branch hours\n",
            "\n",
            "[=============EXAMPLE_5_END=============]\n",
            "\n",
            "[FINE_TUNED_MODEL_EVALUATION] GENERATED_TASK_TYPE:\n",
            "\n",
            "Consider the case of a customer contacting the support center.\n",
            "The term \"task type\" refers to the reason for why the customer contacted support.\n",
            "\n",
            "### The possible task types are: ###  \n",
            "- replace card\n",
            "- transfer money\n",
            "- check balance\n",
            "- order checks\n",
            "- pay bill\n",
            "- reset password\n",
            "- schedule appointment\n",
            "- get branch hours\n",
            "- none of the above\n",
            "\n",
            "Summarize the issue/question/reason that drove the customer to contact support:\n",
            "\n",
            "### Transcript: <agent> [noise] <agent> [noise] hello this is harper valley national bank my name is linda how can i help you today <caller> hi my name is michael jones <caller> and i was wondering what the local branch hours are <agent> for local branch hours are nine thirty a m to five p m <agent> [noise] <caller> nine thirty a m to five p m <caller> okay <agent> is there anything else i can help you with <caller> nope that is all i needed thank you <agent> thank you for calling have a great day <agent> [noise] <caller> you as well <agent> [dogs] <caller> [noise]\n",
            "\n",
            "### Task Type:\n",
            " get branch hours\n",
            "\n",
            "[=============EXAMPLE_6_END=============]\n",
            "\n",
            "[FINE_TUNED_MODEL_EVALUATION] GENERATED_TASK_TYPE:\n",
            "\n",
            "Consider the case of a customer contacting the support center.\n",
            "The term \"task type\" refers to the reason for why the customer contacted support.\n",
            "\n",
            "### The possible task types are: ###  \n",
            "- replace card\n",
            "- transfer money\n",
            "- check balance\n",
            "- order checks\n",
            "- pay bill\n",
            "- reset password\n",
            "- schedule appointment\n",
            "- get branch hours\n",
            "- none of the above\n",
            "\n",
            "Summarize the issue/question/reason that drove the customer to contact support:\n",
            "\n",
            "### Transcript: <agent> hello this is harper valley national bank my name is elizabeth how can i help you today <caller>  <caller> hi my name is jennifer johnson i would like to reset my password <agent> sure what is your phone number <caller> my phone number is seven zero six <caller> zero eight five <caller> six eight eight nine <agent> okay that's seven zero six zero eight five six eight eight nine <caller> correct <agent> your password reset link has been sent to your phone is there anything else i can help you with <caller> that'll be all thank you <agent> you're welcome thank you for calling have a great day\n",
            "\n",
            "### Task Type:\n",
            " reset password\n",
            "\n",
            "[=============EXAMPLE_7_END=============]\n",
            "\n",
            "[FINE_TUNED_MODEL_EVALUATION] GENERATED_TASK_TYPE:\n",
            "\n",
            "Consider the case of a customer contacting the support center.\n",
            "The term \"task type\" refers to the reason for why the customer contacted support.\n",
            "\n",
            "### The possible task types are: ###  \n",
            "- replace card\n",
            "- transfer money\n",
            "- check balance\n",
            "- order checks\n",
            "- pay bill\n",
            "- reset password\n",
            "- schedule appointment\n",
            "- get branch hours\n",
            "- none of the above\n",
            "\n",
            "Summarize the issue/question/reason that drove the customer to contact support:\n",
            "\n",
            "### Transcript: <agent> [noise] hello this is harper valley national bank my name is patricia how can i help you today <caller> hi my name is michael jones i need to check my account balance <agent> which account would you like to check <caller> my savings account <agent> your savings account balance is eighty one dollars is there anything else i can help you with <caller> that's all <agent> thank you for calling have a great day\n",
            "\n",
            "### Task Type:\n",
            " check balance\n",
            "\n",
            "[=============EXAMPLE_8_END=============]\n",
            "\n",
            "[FINE_TUNED_MODEL_EVALUATION] GENERATED_TASK_TYPE:\n",
            "\n",
            "Consider the case of a customer contacting the support center.\n",
            "The term \"task type\" refers to the reason for why the customer contacted support.\n",
            "\n",
            "### The possible task types are: ###  \n",
            "- replace card\n",
            "- transfer money\n",
            "- check balance\n",
            "- order checks\n",
            "- pay bill\n",
            "- reset password\n",
            "- schedule appointment\n",
            "- get branch hours\n",
            "- none of the above\n",
            "\n",
            "Summarize the issue/question/reason that drove the customer to contact support:\n",
            "\n",
            "### Transcript: <agent> hello this is harper valley national bank my name is mary how can i help you today <caller> hi my name is robert miller and i would like to schedule an appointment <agent> what day would you like for your appointment <caller> [noise] <caller> monday <agent> and what time would you like for your appointment <caller> hmm two fifteen <agent> your appointment has been scheduled for monday at two fifteen p m is there anything else i can help you with <caller> mmm that's all <agent> thank you for calling have a great day <caller> thank you <unk>\n",
            "\n",
            "### Task Type:\n",
            " schedule appointment\n",
            "\n",
            "[=============EXAMPLE_9_END=============]\n",
            "\n",
            "[FINE_TUNED_MODEL_EVALUATION_END]\n"
          ]
        }
      ]
    },
    {
      "cell_type": "code",
      "source": [],
      "metadata": {
        "id": "9rwBdAruD0NC"
      },
      "execution_count": null,
      "outputs": []
    }
  ]
}